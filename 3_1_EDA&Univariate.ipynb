{
  "nbformat": 4,
  "nbformat_minor": 0,
  "metadata": {
    "colab": {
      "name": "3.1_EDA&Univariate.ipynb",
      "provenance": [],
      "collapsed_sections": [],
      "include_colab_link": true
    },
    "kernelspec": {
      "display_name": "Python 3",
      "name": "python3"
    }
  },
  "cells": [
    {
      "cell_type": "markdown",
      "metadata": {
        "id": "view-in-github",
        "colab_type": "text"
      },
      "source": [
        "<a href=\"https://colab.research.google.com/github/Sakshi1007/MLnow_2.0/blob/main/3_1_EDA%26Univariate.ipynb\" target=\"_parent\"><img src=\"https://colab.research.google.com/assets/colab-badge.svg\" alt=\"Open In Colab\"/></a>"
      ]
    },
    {
      "cell_type": "markdown",
      "metadata": {
        "id": "q_569ugy6lyY"
      },
      "source": [
        "> This notebook was created for code illustration of the `ML.now()` course\n",
        "\n",
        "\n",
        "**`Univariate Linear Regression`**\n",
        "\n",
        "[Link to Download the dataset](https://www.kaggle.com/hesh97/titanicdataset-traincsv)\n",
        "\n",
        "**Date Created**: June 8, 2021\n",
        "\n",
        "**Author**:\n",
        "Sakshi Singh\n",
        "\n",
        "[[Course Repository](https://https://github.com/Sakshi1007/MLnow_2.0)]\n",
        "\n"
      ]
    },
    {
      "cell_type": "markdown",
      "metadata": {
        "id": "KmW9S6zjaauQ"
      },
      "source": [
        "## Setup"
      ]
    },
    {
      "cell_type": "code",
      "metadata": {
        "colab": {
          "base_uri": "https://localhost:8080/"
        },
        "id": "oX_QibhWsnnX",
        "outputId": "8e34d963-0bee-4a85-c136-3a378461446f"
      },
      "source": [
        "from google.colab import drive\n",
        "drive.mount('/content/drive')"
      ],
      "execution_count": 300,
      "outputs": [
        {
          "output_type": "stream",
          "text": [
            "Drive already mounted at /content/drive; to attempt to forcibly remount, call drive.mount(\"/content/drive\", force_remount=True).\n"
          ],
          "name": "stdout"
        }
      ]
    },
    {
      "cell_type": "code",
      "metadata": {
        "colab": {
          "base_uri": "https://localhost:8080/"
        },
        "id": "wYuNn17Isvml",
        "outputId": "2c7f77a5-aeee-4150-8c4e-399fd9d4d88b"
      },
      "source": [
        "cd '/content/drive/MyDrive/ColabNotebooks/MLnow()'"
      ],
      "execution_count": 301,
      "outputs": [
        {
          "output_type": "stream",
          "text": [
            "/content/drive/MyDrive/ColabNotebooks/MLnow()\n"
          ],
          "name": "stdout"
        }
      ]
    },
    {
      "cell_type": "code",
      "metadata": {
        "colab": {
          "base_uri": "https://localhost:8080/"
        },
        "id": "oR69jwALs-uP",
        "outputId": "ab8f6cfa-983c-42b0-b9a2-fec1e5b8dc11"
      },
      "source": [
        "ls"
      ],
      "execution_count": 302,
      "outputs": [
        {
          "output_type": "stream",
          "text": [
            "ClaenMathData.csv  train.csv  univariate_MathData_2.csv\n"
          ],
          "name": "stdout"
        }
      ]
    },
    {
      "cell_type": "code",
      "metadata": {
        "id": "0rYwvbeMtPJg"
      },
      "source": [
        "import os"
      ],
      "execution_count": 303,
      "outputs": []
    },
    {
      "cell_type": "code",
      "metadata": {
        "id": "cnGQRbmes_tZ"
      },
      "source": [
        "import pandas as pd #working with csv or excel files\n",
        "import numpy as np #working with numbers/ arrays/ tensors\n",
        "import tensorflow as tf #framework\n",
        "from tensorflow import keras #API / library \n",
        "import os #using os commands between the python language"
      ],
      "execution_count": 304,
      "outputs": []
    },
    {
      "cell_type": "code",
      "metadata": {
        "id": "VV-Ps6dJtX6B"
      },
      "source": [
        "mathData = pd.DataFrame(pd.read_csv('train.csv'))#load the csv file as dataframe\n"
      ],
      "execution_count": 305,
      "outputs": []
    },
    {
      "cell_type": "code",
      "metadata": {
        "colab": {
          "base_uri": "https://localhost:8080/",
          "height": 359
        },
        "id": "2_KId_bptr05",
        "outputId": "db3586ef-8077-46f9-9b41-03f72454708d"
      },
      "source": [
        "mathData.head(10) #print the first ten rows of the dataframe"
      ],
      "execution_count": 306,
      "outputs": [
        {
          "output_type": "execute_result",
          "data": {
            "text/html": [
              "<div>\n",
              "<style scoped>\n",
              "    .dataframe tbody tr th:only-of-type {\n",
              "        vertical-align: middle;\n",
              "    }\n",
              "\n",
              "    .dataframe tbody tr th {\n",
              "        vertical-align: top;\n",
              "    }\n",
              "\n",
              "    .dataframe thead th {\n",
              "        text-align: right;\n",
              "    }\n",
              "</style>\n",
              "<table border=\"1\" class=\"dataframe\">\n",
              "  <thead>\n",
              "    <tr style=\"text-align: right;\">\n",
              "      <th></th>\n",
              "      <th>PassengerId</th>\n",
              "      <th>Survived</th>\n",
              "      <th>Pclass</th>\n",
              "      <th>Name</th>\n",
              "      <th>Sex</th>\n",
              "      <th>Age</th>\n",
              "      <th>SibSp</th>\n",
              "      <th>Parch</th>\n",
              "      <th>Ticket</th>\n",
              "      <th>Fare</th>\n",
              "      <th>Cabin</th>\n",
              "      <th>Embarked</th>\n",
              "    </tr>\n",
              "  </thead>\n",
              "  <tbody>\n",
              "    <tr>\n",
              "      <th>0</th>\n",
              "      <td>1</td>\n",
              "      <td>0</td>\n",
              "      <td>3</td>\n",
              "      <td>Braund, Mr. Owen Harris</td>\n",
              "      <td>male</td>\n",
              "      <td>22.0</td>\n",
              "      <td>1</td>\n",
              "      <td>0</td>\n",
              "      <td>A/5 21171</td>\n",
              "      <td>7.2500</td>\n",
              "      <td>NaN</td>\n",
              "      <td>S</td>\n",
              "    </tr>\n",
              "    <tr>\n",
              "      <th>1</th>\n",
              "      <td>2</td>\n",
              "      <td>1</td>\n",
              "      <td>1</td>\n",
              "      <td>Cumings, Mrs. John Bradley (Florence Briggs Th...</td>\n",
              "      <td>female</td>\n",
              "      <td>38.0</td>\n",
              "      <td>1</td>\n",
              "      <td>0</td>\n",
              "      <td>PC 17599</td>\n",
              "      <td>71.2833</td>\n",
              "      <td>C85</td>\n",
              "      <td>C</td>\n",
              "    </tr>\n",
              "    <tr>\n",
              "      <th>2</th>\n",
              "      <td>3</td>\n",
              "      <td>1</td>\n",
              "      <td>3</td>\n",
              "      <td>Heikkinen, Miss. Laina</td>\n",
              "      <td>female</td>\n",
              "      <td>26.0</td>\n",
              "      <td>0</td>\n",
              "      <td>0</td>\n",
              "      <td>STON/O2. 3101282</td>\n",
              "      <td>7.9250</td>\n",
              "      <td>NaN</td>\n",
              "      <td>S</td>\n",
              "    </tr>\n",
              "    <tr>\n",
              "      <th>3</th>\n",
              "      <td>4</td>\n",
              "      <td>1</td>\n",
              "      <td>1</td>\n",
              "      <td>Futrelle, Mrs. Jacques Heath (Lily May Peel)</td>\n",
              "      <td>female</td>\n",
              "      <td>35.0</td>\n",
              "      <td>1</td>\n",
              "      <td>0</td>\n",
              "      <td>113803</td>\n",
              "      <td>53.1000</td>\n",
              "      <td>C123</td>\n",
              "      <td>S</td>\n",
              "    </tr>\n",
              "    <tr>\n",
              "      <th>4</th>\n",
              "      <td>5</td>\n",
              "      <td>0</td>\n",
              "      <td>3</td>\n",
              "      <td>Allen, Mr. William Henry</td>\n",
              "      <td>male</td>\n",
              "      <td>35.0</td>\n",
              "      <td>0</td>\n",
              "      <td>0</td>\n",
              "      <td>373450</td>\n",
              "      <td>8.0500</td>\n",
              "      <td>NaN</td>\n",
              "      <td>S</td>\n",
              "    </tr>\n",
              "    <tr>\n",
              "      <th>5</th>\n",
              "      <td>6</td>\n",
              "      <td>0</td>\n",
              "      <td>3</td>\n",
              "      <td>Moran, Mr. James</td>\n",
              "      <td>male</td>\n",
              "      <td>NaN</td>\n",
              "      <td>0</td>\n",
              "      <td>0</td>\n",
              "      <td>330877</td>\n",
              "      <td>8.4583</td>\n",
              "      <td>NaN</td>\n",
              "      <td>Q</td>\n",
              "    </tr>\n",
              "    <tr>\n",
              "      <th>6</th>\n",
              "      <td>7</td>\n",
              "      <td>0</td>\n",
              "      <td>1</td>\n",
              "      <td>McCarthy, Mr. Timothy J</td>\n",
              "      <td>male</td>\n",
              "      <td>54.0</td>\n",
              "      <td>0</td>\n",
              "      <td>0</td>\n",
              "      <td>17463</td>\n",
              "      <td>51.8625</td>\n",
              "      <td>E46</td>\n",
              "      <td>S</td>\n",
              "    </tr>\n",
              "    <tr>\n",
              "      <th>7</th>\n",
              "      <td>8</td>\n",
              "      <td>0</td>\n",
              "      <td>3</td>\n",
              "      <td>Palsson, Master. Gosta Leonard</td>\n",
              "      <td>male</td>\n",
              "      <td>2.0</td>\n",
              "      <td>3</td>\n",
              "      <td>1</td>\n",
              "      <td>349909</td>\n",
              "      <td>21.0750</td>\n",
              "      <td>NaN</td>\n",
              "      <td>S</td>\n",
              "    </tr>\n",
              "    <tr>\n",
              "      <th>8</th>\n",
              "      <td>9</td>\n",
              "      <td>1</td>\n",
              "      <td>3</td>\n",
              "      <td>Johnson, Mrs. Oscar W (Elisabeth Vilhelmina Berg)</td>\n",
              "      <td>female</td>\n",
              "      <td>27.0</td>\n",
              "      <td>0</td>\n",
              "      <td>2</td>\n",
              "      <td>347742</td>\n",
              "      <td>11.1333</td>\n",
              "      <td>NaN</td>\n",
              "      <td>S</td>\n",
              "    </tr>\n",
              "    <tr>\n",
              "      <th>9</th>\n",
              "      <td>10</td>\n",
              "      <td>1</td>\n",
              "      <td>2</td>\n",
              "      <td>Nasser, Mrs. Nicholas (Adele Achem)</td>\n",
              "      <td>female</td>\n",
              "      <td>14.0</td>\n",
              "      <td>1</td>\n",
              "      <td>0</td>\n",
              "      <td>237736</td>\n",
              "      <td>30.0708</td>\n",
              "      <td>NaN</td>\n",
              "      <td>C</td>\n",
              "    </tr>\n",
              "  </tbody>\n",
              "</table>\n",
              "</div>"
            ],
            "text/plain": [
              "   PassengerId  Survived  Pclass  ...     Fare Cabin  Embarked\n",
              "0            1         0       3  ...   7.2500   NaN         S\n",
              "1            2         1       1  ...  71.2833   C85         C\n",
              "2            3         1       3  ...   7.9250   NaN         S\n",
              "3            4         1       1  ...  53.1000  C123         S\n",
              "4            5         0       3  ...   8.0500   NaN         S\n",
              "5            6         0       3  ...   8.4583   NaN         Q\n",
              "6            7         0       1  ...  51.8625   E46         S\n",
              "7            8         0       3  ...  21.0750   NaN         S\n",
              "8            9         1       3  ...  11.1333   NaN         S\n",
              "9           10         1       2  ...  30.0708   NaN         C\n",
              "\n",
              "[10 rows x 12 columns]"
            ]
          },
          "metadata": {
            "tags": []
          },
          "execution_count": 306
        }
      ]
    },
    {
      "cell_type": "code",
      "metadata": {
        "colab": {
          "base_uri": "https://localhost:8080/"
        },
        "id": "Uzuy7kS1u6nI",
        "outputId": "4f481a7e-ff8c-4066-8f92-8d7407e2a2fc"
      },
      "source": [
        "mathData.shape"
      ],
      "execution_count": 307,
      "outputs": [
        {
          "output_type": "execute_result",
          "data": {
            "text/plain": [
              "(891, 12)"
            ]
          },
          "metadata": {
            "tags": []
          },
          "execution_count": 307
        }
      ]
    },
    {
      "cell_type": "code",
      "metadata": {
        "colab": {
          "base_uri": "https://localhost:8080/"
        },
        "id": "Jj7DReukvCp3",
        "outputId": "ef9f1664-0bf3-4db7-a89c-67812cc32d5c"
      },
      "source": [
        "mathData.isnull().sum()"
      ],
      "execution_count": 308,
      "outputs": [
        {
          "output_type": "execute_result",
          "data": {
            "text/plain": [
              "PassengerId      0\n",
              "Survived         0\n",
              "Pclass           0\n",
              "Name             0\n",
              "Sex              0\n",
              "Age            177\n",
              "SibSp            0\n",
              "Parch            0\n",
              "Ticket           0\n",
              "Fare             0\n",
              "Cabin          687\n",
              "Embarked         2\n",
              "dtype: int64"
            ]
          },
          "metadata": {
            "tags": []
          },
          "execution_count": 308
        }
      ]
    },
    {
      "cell_type": "markdown",
      "metadata": {
        "id": "bHW7RIq9vPUj"
      },
      "source": [
        "**Drop the column which are not necessary during prediction as well as it have ore than 35% Null values**"
      ]
    },
    {
      "cell_type": "code",
      "metadata": {
        "colab": {
          "base_uri": "https://localhost:8080/"
        },
        "id": "2Y2qJkiuvJ6C",
        "outputId": "eeaa0eb6-51cc-4259-d77c-ab083111188c"
      },
      "source": [
        "drop_column=mathData.isnull().sum()[mathData.isnull().sum()>(35/100*mathData.shape[0])]\n",
        "drop_column"
      ],
      "execution_count": 309,
      "outputs": [
        {
          "output_type": "execute_result",
          "data": {
            "text/plain": [
              "Cabin    687\n",
              "dtype: int64"
            ]
          },
          "metadata": {
            "tags": []
          },
          "execution_count": 309
        }
      ]
    },
    {
      "cell_type": "markdown",
      "metadata": {
        "id": "JA-r0RKfv6jy"
      },
      "source": [
        "**Cabin will doesn't matter to know that whether person will survive or not, So we will drop this column**"
      ]
    },
    {
      "cell_type": "code",
      "metadata": {
        "colab": {
          "base_uri": "https://localhost:8080/"
        },
        "id": "cOpT55IcwIjT",
        "outputId": "89173771-5690-429a-efed-e2dad7e89f35"
      },
      "source": [
        "drop_column.index"
      ],
      "execution_count": 310,
      "outputs": [
        {
          "output_type": "execute_result",
          "data": {
            "text/plain": [
              "Index(['Cabin'], dtype='object')"
            ]
          },
          "metadata": {
            "tags": []
          },
          "execution_count": 310
        }
      ]
    },
    {
      "cell_type": "code",
      "metadata": {
        "colab": {
          "base_uri": "https://localhost:8080/"
        },
        "id": "yWyYNsY0wVji",
        "outputId": "ea327044-b9b3-4b6c-8a5f-69c333021dc5"
      },
      "source": [
        "mathData.drop(drop_column.index,axis=1,inplace=True)\n",
        "mathData.isnull().sum()"
      ],
      "execution_count": 311,
      "outputs": [
        {
          "output_type": "execute_result",
          "data": {
            "text/plain": [
              "PassengerId      0\n",
              "Survived         0\n",
              "Pclass           0\n",
              "Name             0\n",
              "Sex              0\n",
              "Age            177\n",
              "SibSp            0\n",
              "Parch            0\n",
              "Ticket           0\n",
              "Fare             0\n",
              "Embarked         2\n",
              "dtype: int64"
            ]
          },
          "metadata": {
            "tags": []
          },
          "execution_count": 311
        }
      ]
    },
    {
      "cell_type": "code",
      "metadata": {
        "colab": {
          "base_uri": "https://localhost:8080/"
        },
        "id": "Uz9rjL7dBSGG",
        "outputId": "03e15e13-bdd5-431c-d89e-ce7edb7eb2ce"
      },
      "source": [
        "mathData.fillna(mathData.mean(),inplace=True)\n",
        "mathData.isnull().sum()"
      ],
      "execution_count": 312,
      "outputs": [
        {
          "output_type": "execute_result",
          "data": {
            "text/plain": [
              "PassengerId    0\n",
              "Survived       0\n",
              "Pclass         0\n",
              "Name           0\n",
              "Sex            0\n",
              "Age            0\n",
              "SibSp          0\n",
              "Parch          0\n",
              "Ticket         0\n",
              "Fare           0\n",
              "Embarked       2\n",
              "dtype: int64"
            ]
          },
          "metadata": {
            "tags": []
          },
          "execution_count": 312
        }
      ]
    },
    {
      "cell_type": "code",
      "metadata": {
        "colab": {
          "base_uri": "https://localhost:8080/"
        },
        "id": "jKC9JUqVBSDF",
        "outputId": "38cd6eb6-7aed-4a5e-ca9e-d1dffc3f4018"
      },
      "source": [
        "mathData['Embarked'].describe()"
      ],
      "execution_count": 313,
      "outputs": [
        {
          "output_type": "execute_result",
          "data": {
            "text/plain": [
              "count     889\n",
              "unique      3\n",
              "top         S\n",
              "freq      644\n",
              "Name: Embarked, dtype: object"
            ]
          },
          "metadata": {
            "tags": []
          },
          "execution_count": 313
        }
      ]
    },
    {
      "cell_type": "code",
      "metadata": {
        "id": "Ih7Ad-msCATU"
      },
      "source": [
        "mathData['Embarked'].fillna('S',inplace=True)"
      ],
      "execution_count": 314,
      "outputs": []
    },
    {
      "cell_type": "code",
      "metadata": {
        "colab": {
          "base_uri": "https://localhost:8080/"
        },
        "id": "WIt8jj3LCP3s",
        "outputId": "8d3ae7d0-afbe-44c2-c7e7-907291e29f71"
      },
      "source": [
        "mathData.isnull().sum()"
      ],
      "execution_count": 315,
      "outputs": [
        {
          "output_type": "execute_result",
          "data": {
            "text/plain": [
              "PassengerId    0\n",
              "Survived       0\n",
              "Pclass         0\n",
              "Name           0\n",
              "Sex            0\n",
              "Age            0\n",
              "SibSp          0\n",
              "Parch          0\n",
              "Ticket         0\n",
              "Fare           0\n",
              "Embarked       0\n",
              "dtype: int64"
            ]
          },
          "metadata": {
            "tags": []
          },
          "execution_count": 315
        }
      ]
    },
    {
      "cell_type": "code",
      "metadata": {
        "colab": {
          "base_uri": "https://localhost:8080/"
        },
        "id": "tZAwtLATEI2M",
        "outputId": "93fe9ea2-6e9c-4567-cef8-55e8a20f4bb8"
      },
      "source": [
        "#unique classes/categories in every column \n",
        "\n",
        "# variable.column.unique() --> all {column} values from the {variable} dataframe and print out the unique ones. \n",
        "\n",
        "\n",
        "print(f'Survived: {mathData.Survived.unique()}')\n",
        "print(f'SEX: {mathData.Sex.unique()}')\n",
        "print(f'Pclass: {mathData.Pclass.unique()}')\n",
        "print(f'SibSP: {mathData.SibSp.unique()}')\n",
        "print(f'Parch: {mathData.Parch.unique()}')\n",
        "print(f'Embarked: {mathData.Embarked.unique()}')"
      ],
      "execution_count": 316,
      "outputs": [
        {
          "output_type": "stream",
          "text": [
            "Survived: [0 1]\n",
            "SEX: ['male' 'female']\n",
            "Pclass: [3 1 2]\n",
            "SibSP: [1 0 3 4 2 5 8]\n",
            "Parch: [0 1 2 5 3 4 6]\n",
            "Embarked: ['S' 'C' 'Q']\n"
          ],
          "name": "stdout"
        }
      ]
    },
    {
      "cell_type": "code",
      "metadata": {
        "colab": {
          "base_uri": "https://localhost:8080/",
          "height": 266
        },
        "id": "mhJDmq_PCi2u",
        "outputId": "a43dcab8-306b-441e-ebcc-bbc4e9133974"
      },
      "source": [
        "mathData.corr()"
      ],
      "execution_count": 317,
      "outputs": [
        {
          "output_type": "execute_result",
          "data": {
            "text/html": [
              "<div>\n",
              "<style scoped>\n",
              "    .dataframe tbody tr th:only-of-type {\n",
              "        vertical-align: middle;\n",
              "    }\n",
              "\n",
              "    .dataframe tbody tr th {\n",
              "        vertical-align: top;\n",
              "    }\n",
              "\n",
              "    .dataframe thead th {\n",
              "        text-align: right;\n",
              "    }\n",
              "</style>\n",
              "<table border=\"1\" class=\"dataframe\">\n",
              "  <thead>\n",
              "    <tr style=\"text-align: right;\">\n",
              "      <th></th>\n",
              "      <th>PassengerId</th>\n",
              "      <th>Survived</th>\n",
              "      <th>Pclass</th>\n",
              "      <th>Age</th>\n",
              "      <th>SibSp</th>\n",
              "      <th>Parch</th>\n",
              "      <th>Fare</th>\n",
              "    </tr>\n",
              "  </thead>\n",
              "  <tbody>\n",
              "    <tr>\n",
              "      <th>PassengerId</th>\n",
              "      <td>1.000000</td>\n",
              "      <td>-0.005007</td>\n",
              "      <td>-0.035144</td>\n",
              "      <td>0.033207</td>\n",
              "      <td>-0.057527</td>\n",
              "      <td>-0.001652</td>\n",
              "      <td>0.012658</td>\n",
              "    </tr>\n",
              "    <tr>\n",
              "      <th>Survived</th>\n",
              "      <td>-0.005007</td>\n",
              "      <td>1.000000</td>\n",
              "      <td>-0.338481</td>\n",
              "      <td>-0.069809</td>\n",
              "      <td>-0.035322</td>\n",
              "      <td>0.081629</td>\n",
              "      <td>0.257307</td>\n",
              "    </tr>\n",
              "    <tr>\n",
              "      <th>Pclass</th>\n",
              "      <td>-0.035144</td>\n",
              "      <td>-0.338481</td>\n",
              "      <td>1.000000</td>\n",
              "      <td>-0.331339</td>\n",
              "      <td>0.083081</td>\n",
              "      <td>0.018443</td>\n",
              "      <td>-0.549500</td>\n",
              "    </tr>\n",
              "    <tr>\n",
              "      <th>Age</th>\n",
              "      <td>0.033207</td>\n",
              "      <td>-0.069809</td>\n",
              "      <td>-0.331339</td>\n",
              "      <td>1.000000</td>\n",
              "      <td>-0.232625</td>\n",
              "      <td>-0.179191</td>\n",
              "      <td>0.091566</td>\n",
              "    </tr>\n",
              "    <tr>\n",
              "      <th>SibSp</th>\n",
              "      <td>-0.057527</td>\n",
              "      <td>-0.035322</td>\n",
              "      <td>0.083081</td>\n",
              "      <td>-0.232625</td>\n",
              "      <td>1.000000</td>\n",
              "      <td>0.414838</td>\n",
              "      <td>0.159651</td>\n",
              "    </tr>\n",
              "    <tr>\n",
              "      <th>Parch</th>\n",
              "      <td>-0.001652</td>\n",
              "      <td>0.081629</td>\n",
              "      <td>0.018443</td>\n",
              "      <td>-0.179191</td>\n",
              "      <td>0.414838</td>\n",
              "      <td>1.000000</td>\n",
              "      <td>0.216225</td>\n",
              "    </tr>\n",
              "    <tr>\n",
              "      <th>Fare</th>\n",
              "      <td>0.012658</td>\n",
              "      <td>0.257307</td>\n",
              "      <td>-0.549500</td>\n",
              "      <td>0.091566</td>\n",
              "      <td>0.159651</td>\n",
              "      <td>0.216225</td>\n",
              "      <td>1.000000</td>\n",
              "    </tr>\n",
              "  </tbody>\n",
              "</table>\n",
              "</div>"
            ],
            "text/plain": [
              "             PassengerId  Survived    Pclass  ...     SibSp     Parch      Fare\n",
              "PassengerId     1.000000 -0.005007 -0.035144  ... -0.057527 -0.001652  0.012658\n",
              "Survived       -0.005007  1.000000 -0.338481  ... -0.035322  0.081629  0.257307\n",
              "Pclass         -0.035144 -0.338481  1.000000  ...  0.083081  0.018443 -0.549500\n",
              "Age             0.033207 -0.069809 -0.331339  ... -0.232625 -0.179191  0.091566\n",
              "SibSp          -0.057527 -0.035322  0.083081  ...  1.000000  0.414838  0.159651\n",
              "Parch          -0.001652  0.081629  0.018443  ...  0.414838  1.000000  0.216225\n",
              "Fare            0.012658  0.257307 -0.549500  ...  0.159651  0.216225  1.000000\n",
              "\n",
              "[7 rows x 7 columns]"
            ]
          },
          "metadata": {
            "tags": []
          },
          "execution_count": 317
        }
      ]
    },
    {
      "cell_type": "code",
      "metadata": {
        "colab": {
          "base_uri": "https://localhost:8080/",
          "height": 235
        },
        "id": "fg3auyuUC308",
        "outputId": "678da961-a82f-4355-c037-0acf5eb893b7"
      },
      "source": [
        "mathData['FamilySize']=mathData['SibSp']+mathData['Parch']\n",
        "mathData.drop(['SibSp','Parch'],axis=1,inplace=True)\n",
        "mathData.corr()"
      ],
      "execution_count": 318,
      "outputs": [
        {
          "output_type": "execute_result",
          "data": {
            "text/html": [
              "<div>\n",
              "<style scoped>\n",
              "    .dataframe tbody tr th:only-of-type {\n",
              "        vertical-align: middle;\n",
              "    }\n",
              "\n",
              "    .dataframe tbody tr th {\n",
              "        vertical-align: top;\n",
              "    }\n",
              "\n",
              "    .dataframe thead th {\n",
              "        text-align: right;\n",
              "    }\n",
              "</style>\n",
              "<table border=\"1\" class=\"dataframe\">\n",
              "  <thead>\n",
              "    <tr style=\"text-align: right;\">\n",
              "      <th></th>\n",
              "      <th>PassengerId</th>\n",
              "      <th>Survived</th>\n",
              "      <th>Pclass</th>\n",
              "      <th>Age</th>\n",
              "      <th>Fare</th>\n",
              "      <th>FamilySize</th>\n",
              "    </tr>\n",
              "  </thead>\n",
              "  <tbody>\n",
              "    <tr>\n",
              "      <th>PassengerId</th>\n",
              "      <td>1.000000</td>\n",
              "      <td>-0.005007</td>\n",
              "      <td>-0.035144</td>\n",
              "      <td>0.033207</td>\n",
              "      <td>0.012658</td>\n",
              "      <td>-0.040143</td>\n",
              "    </tr>\n",
              "    <tr>\n",
              "      <th>Survived</th>\n",
              "      <td>-0.005007</td>\n",
              "      <td>1.000000</td>\n",
              "      <td>-0.338481</td>\n",
              "      <td>-0.069809</td>\n",
              "      <td>0.257307</td>\n",
              "      <td>0.016639</td>\n",
              "    </tr>\n",
              "    <tr>\n",
              "      <th>Pclass</th>\n",
              "      <td>-0.035144</td>\n",
              "      <td>-0.338481</td>\n",
              "      <td>1.000000</td>\n",
              "      <td>-0.331339</td>\n",
              "      <td>-0.549500</td>\n",
              "      <td>0.065997</td>\n",
              "    </tr>\n",
              "    <tr>\n",
              "      <th>Age</th>\n",
              "      <td>0.033207</td>\n",
              "      <td>-0.069809</td>\n",
              "      <td>-0.331339</td>\n",
              "      <td>1.000000</td>\n",
              "      <td>0.091566</td>\n",
              "      <td>-0.248512</td>\n",
              "    </tr>\n",
              "    <tr>\n",
              "      <th>Fare</th>\n",
              "      <td>0.012658</td>\n",
              "      <td>0.257307</td>\n",
              "      <td>-0.549500</td>\n",
              "      <td>0.091566</td>\n",
              "      <td>1.000000</td>\n",
              "      <td>0.217138</td>\n",
              "    </tr>\n",
              "    <tr>\n",
              "      <th>FamilySize</th>\n",
              "      <td>-0.040143</td>\n",
              "      <td>0.016639</td>\n",
              "      <td>0.065997</td>\n",
              "      <td>-0.248512</td>\n",
              "      <td>0.217138</td>\n",
              "      <td>1.000000</td>\n",
              "    </tr>\n",
              "  </tbody>\n",
              "</table>\n",
              "</div>"
            ],
            "text/plain": [
              "             PassengerId  Survived    Pclass       Age      Fare  FamilySize\n",
              "PassengerId     1.000000 -0.005007 -0.035144  0.033207  0.012658   -0.040143\n",
              "Survived       -0.005007  1.000000 -0.338481 -0.069809  0.257307    0.016639\n",
              "Pclass         -0.035144 -0.338481  1.000000 -0.331339 -0.549500    0.065997\n",
              "Age             0.033207 -0.069809 -0.331339  1.000000  0.091566   -0.248512\n",
              "Fare            0.012658  0.257307 -0.549500  0.091566  1.000000    0.217138\n",
              "FamilySize     -0.040143  0.016639  0.065997 -0.248512  0.217138    1.000000"
            ]
          },
          "metadata": {
            "tags": []
          },
          "execution_count": 318
        }
      ]
    },
    {
      "cell_type": "code",
      "metadata": {
        "colab": {
          "base_uri": "https://localhost:8080/",
          "height": 359
        },
        "id": "7i9zpPSdUWHM",
        "outputId": "a367836b-488a-4a10-fb6a-245e2945c048"
      },
      "source": [
        "mathData['FamilySize'] = mathData['FamilySize'].apply({1:1, 0:0, 4:1, 2:1, 6:1, 5:1, 3:1, 7:1, 10:1}.get)\n",
        "mathData.head(10)"
      ],
      "execution_count": 319,
      "outputs": [
        {
          "output_type": "execute_result",
          "data": {
            "text/html": [
              "<div>\n",
              "<style scoped>\n",
              "    .dataframe tbody tr th:only-of-type {\n",
              "        vertical-align: middle;\n",
              "    }\n",
              "\n",
              "    .dataframe tbody tr th {\n",
              "        vertical-align: top;\n",
              "    }\n",
              "\n",
              "    .dataframe thead th {\n",
              "        text-align: right;\n",
              "    }\n",
              "</style>\n",
              "<table border=\"1\" class=\"dataframe\">\n",
              "  <thead>\n",
              "    <tr style=\"text-align: right;\">\n",
              "      <th></th>\n",
              "      <th>PassengerId</th>\n",
              "      <th>Survived</th>\n",
              "      <th>Pclass</th>\n",
              "      <th>Name</th>\n",
              "      <th>Sex</th>\n",
              "      <th>Age</th>\n",
              "      <th>Ticket</th>\n",
              "      <th>Fare</th>\n",
              "      <th>Embarked</th>\n",
              "      <th>FamilySize</th>\n",
              "    </tr>\n",
              "  </thead>\n",
              "  <tbody>\n",
              "    <tr>\n",
              "      <th>0</th>\n",
              "      <td>1</td>\n",
              "      <td>0</td>\n",
              "      <td>3</td>\n",
              "      <td>Braund, Mr. Owen Harris</td>\n",
              "      <td>male</td>\n",
              "      <td>22.000000</td>\n",
              "      <td>A/5 21171</td>\n",
              "      <td>7.2500</td>\n",
              "      <td>S</td>\n",
              "      <td>1</td>\n",
              "    </tr>\n",
              "    <tr>\n",
              "      <th>1</th>\n",
              "      <td>2</td>\n",
              "      <td>1</td>\n",
              "      <td>1</td>\n",
              "      <td>Cumings, Mrs. John Bradley (Florence Briggs Th...</td>\n",
              "      <td>female</td>\n",
              "      <td>38.000000</td>\n",
              "      <td>PC 17599</td>\n",
              "      <td>71.2833</td>\n",
              "      <td>C</td>\n",
              "      <td>1</td>\n",
              "    </tr>\n",
              "    <tr>\n",
              "      <th>2</th>\n",
              "      <td>3</td>\n",
              "      <td>1</td>\n",
              "      <td>3</td>\n",
              "      <td>Heikkinen, Miss. Laina</td>\n",
              "      <td>female</td>\n",
              "      <td>26.000000</td>\n",
              "      <td>STON/O2. 3101282</td>\n",
              "      <td>7.9250</td>\n",
              "      <td>S</td>\n",
              "      <td>0</td>\n",
              "    </tr>\n",
              "    <tr>\n",
              "      <th>3</th>\n",
              "      <td>4</td>\n",
              "      <td>1</td>\n",
              "      <td>1</td>\n",
              "      <td>Futrelle, Mrs. Jacques Heath (Lily May Peel)</td>\n",
              "      <td>female</td>\n",
              "      <td>35.000000</td>\n",
              "      <td>113803</td>\n",
              "      <td>53.1000</td>\n",
              "      <td>S</td>\n",
              "      <td>1</td>\n",
              "    </tr>\n",
              "    <tr>\n",
              "      <th>4</th>\n",
              "      <td>5</td>\n",
              "      <td>0</td>\n",
              "      <td>3</td>\n",
              "      <td>Allen, Mr. William Henry</td>\n",
              "      <td>male</td>\n",
              "      <td>35.000000</td>\n",
              "      <td>373450</td>\n",
              "      <td>8.0500</td>\n",
              "      <td>S</td>\n",
              "      <td>0</td>\n",
              "    </tr>\n",
              "    <tr>\n",
              "      <th>5</th>\n",
              "      <td>6</td>\n",
              "      <td>0</td>\n",
              "      <td>3</td>\n",
              "      <td>Moran, Mr. James</td>\n",
              "      <td>male</td>\n",
              "      <td>29.699118</td>\n",
              "      <td>330877</td>\n",
              "      <td>8.4583</td>\n",
              "      <td>Q</td>\n",
              "      <td>0</td>\n",
              "    </tr>\n",
              "    <tr>\n",
              "      <th>6</th>\n",
              "      <td>7</td>\n",
              "      <td>0</td>\n",
              "      <td>1</td>\n",
              "      <td>McCarthy, Mr. Timothy J</td>\n",
              "      <td>male</td>\n",
              "      <td>54.000000</td>\n",
              "      <td>17463</td>\n",
              "      <td>51.8625</td>\n",
              "      <td>S</td>\n",
              "      <td>0</td>\n",
              "    </tr>\n",
              "    <tr>\n",
              "      <th>7</th>\n",
              "      <td>8</td>\n",
              "      <td>0</td>\n",
              "      <td>3</td>\n",
              "      <td>Palsson, Master. Gosta Leonard</td>\n",
              "      <td>male</td>\n",
              "      <td>2.000000</td>\n",
              "      <td>349909</td>\n",
              "      <td>21.0750</td>\n",
              "      <td>S</td>\n",
              "      <td>1</td>\n",
              "    </tr>\n",
              "    <tr>\n",
              "      <th>8</th>\n",
              "      <td>9</td>\n",
              "      <td>1</td>\n",
              "      <td>3</td>\n",
              "      <td>Johnson, Mrs. Oscar W (Elisabeth Vilhelmina Berg)</td>\n",
              "      <td>female</td>\n",
              "      <td>27.000000</td>\n",
              "      <td>347742</td>\n",
              "      <td>11.1333</td>\n",
              "      <td>S</td>\n",
              "      <td>1</td>\n",
              "    </tr>\n",
              "    <tr>\n",
              "      <th>9</th>\n",
              "      <td>10</td>\n",
              "      <td>1</td>\n",
              "      <td>2</td>\n",
              "      <td>Nasser, Mrs. Nicholas (Adele Achem)</td>\n",
              "      <td>female</td>\n",
              "      <td>14.000000</td>\n",
              "      <td>237736</td>\n",
              "      <td>30.0708</td>\n",
              "      <td>C</td>\n",
              "      <td>1</td>\n",
              "    </tr>\n",
              "  </tbody>\n",
              "</table>\n",
              "</div>"
            ],
            "text/plain": [
              "   PassengerId  Survived  Pclass  ...     Fare Embarked  FamilySize\n",
              "0            1         0       3  ...   7.2500        S           1\n",
              "1            2         1       1  ...  71.2833        C           1\n",
              "2            3         1       3  ...   7.9250        S           0\n",
              "3            4         1       1  ...  53.1000        S           1\n",
              "4            5         0       3  ...   8.0500        S           0\n",
              "5            6         0       3  ...   8.4583        Q           0\n",
              "6            7         0       1  ...  51.8625        S           0\n",
              "7            8         0       3  ...  21.0750        S           1\n",
              "8            9         1       3  ...  11.1333        S           1\n",
              "9           10         1       2  ...  30.0708        C           1\n",
              "\n",
              "[10 rows x 10 columns]"
            ]
          },
          "metadata": {
            "tags": []
          },
          "execution_count": 319
        }
      ]
    },
    {
      "cell_type": "code",
      "metadata": {
        "colab": {
          "base_uri": "https://localhost:8080/",
          "height": 359
        },
        "id": "IFxN-58tTRwi",
        "outputId": "6b3d60f5-66f2-4c10-8dd1-0833c4417caa"
      },
      "source": [
        "mathData['Alone']=[0 if mathData['FamilySize'][i]<=0 else 1 for i in mathData.index]\n",
        "mathData.head(10)\n"
      ],
      "execution_count": 320,
      "outputs": [
        {
          "output_type": "execute_result",
          "data": {
            "text/html": [
              "<div>\n",
              "<style scoped>\n",
              "    .dataframe tbody tr th:only-of-type {\n",
              "        vertical-align: middle;\n",
              "    }\n",
              "\n",
              "    .dataframe tbody tr th {\n",
              "        vertical-align: top;\n",
              "    }\n",
              "\n",
              "    .dataframe thead th {\n",
              "        text-align: right;\n",
              "    }\n",
              "</style>\n",
              "<table border=\"1\" class=\"dataframe\">\n",
              "  <thead>\n",
              "    <tr style=\"text-align: right;\">\n",
              "      <th></th>\n",
              "      <th>PassengerId</th>\n",
              "      <th>Survived</th>\n",
              "      <th>Pclass</th>\n",
              "      <th>Name</th>\n",
              "      <th>Sex</th>\n",
              "      <th>Age</th>\n",
              "      <th>Ticket</th>\n",
              "      <th>Fare</th>\n",
              "      <th>Embarked</th>\n",
              "      <th>FamilySize</th>\n",
              "      <th>Alone</th>\n",
              "    </tr>\n",
              "  </thead>\n",
              "  <tbody>\n",
              "    <tr>\n",
              "      <th>0</th>\n",
              "      <td>1</td>\n",
              "      <td>0</td>\n",
              "      <td>3</td>\n",
              "      <td>Braund, Mr. Owen Harris</td>\n",
              "      <td>male</td>\n",
              "      <td>22.000000</td>\n",
              "      <td>A/5 21171</td>\n",
              "      <td>7.2500</td>\n",
              "      <td>S</td>\n",
              "      <td>1</td>\n",
              "      <td>1</td>\n",
              "    </tr>\n",
              "    <tr>\n",
              "      <th>1</th>\n",
              "      <td>2</td>\n",
              "      <td>1</td>\n",
              "      <td>1</td>\n",
              "      <td>Cumings, Mrs. John Bradley (Florence Briggs Th...</td>\n",
              "      <td>female</td>\n",
              "      <td>38.000000</td>\n",
              "      <td>PC 17599</td>\n",
              "      <td>71.2833</td>\n",
              "      <td>C</td>\n",
              "      <td>1</td>\n",
              "      <td>1</td>\n",
              "    </tr>\n",
              "    <tr>\n",
              "      <th>2</th>\n",
              "      <td>3</td>\n",
              "      <td>1</td>\n",
              "      <td>3</td>\n",
              "      <td>Heikkinen, Miss. Laina</td>\n",
              "      <td>female</td>\n",
              "      <td>26.000000</td>\n",
              "      <td>STON/O2. 3101282</td>\n",
              "      <td>7.9250</td>\n",
              "      <td>S</td>\n",
              "      <td>0</td>\n",
              "      <td>0</td>\n",
              "    </tr>\n",
              "    <tr>\n",
              "      <th>3</th>\n",
              "      <td>4</td>\n",
              "      <td>1</td>\n",
              "      <td>1</td>\n",
              "      <td>Futrelle, Mrs. Jacques Heath (Lily May Peel)</td>\n",
              "      <td>female</td>\n",
              "      <td>35.000000</td>\n",
              "      <td>113803</td>\n",
              "      <td>53.1000</td>\n",
              "      <td>S</td>\n",
              "      <td>1</td>\n",
              "      <td>1</td>\n",
              "    </tr>\n",
              "    <tr>\n",
              "      <th>4</th>\n",
              "      <td>5</td>\n",
              "      <td>0</td>\n",
              "      <td>3</td>\n",
              "      <td>Allen, Mr. William Henry</td>\n",
              "      <td>male</td>\n",
              "      <td>35.000000</td>\n",
              "      <td>373450</td>\n",
              "      <td>8.0500</td>\n",
              "      <td>S</td>\n",
              "      <td>0</td>\n",
              "      <td>0</td>\n",
              "    </tr>\n",
              "    <tr>\n",
              "      <th>5</th>\n",
              "      <td>6</td>\n",
              "      <td>0</td>\n",
              "      <td>3</td>\n",
              "      <td>Moran, Mr. James</td>\n",
              "      <td>male</td>\n",
              "      <td>29.699118</td>\n",
              "      <td>330877</td>\n",
              "      <td>8.4583</td>\n",
              "      <td>Q</td>\n",
              "      <td>0</td>\n",
              "      <td>0</td>\n",
              "    </tr>\n",
              "    <tr>\n",
              "      <th>6</th>\n",
              "      <td>7</td>\n",
              "      <td>0</td>\n",
              "      <td>1</td>\n",
              "      <td>McCarthy, Mr. Timothy J</td>\n",
              "      <td>male</td>\n",
              "      <td>54.000000</td>\n",
              "      <td>17463</td>\n",
              "      <td>51.8625</td>\n",
              "      <td>S</td>\n",
              "      <td>0</td>\n",
              "      <td>0</td>\n",
              "    </tr>\n",
              "    <tr>\n",
              "      <th>7</th>\n",
              "      <td>8</td>\n",
              "      <td>0</td>\n",
              "      <td>3</td>\n",
              "      <td>Palsson, Master. Gosta Leonard</td>\n",
              "      <td>male</td>\n",
              "      <td>2.000000</td>\n",
              "      <td>349909</td>\n",
              "      <td>21.0750</td>\n",
              "      <td>S</td>\n",
              "      <td>1</td>\n",
              "      <td>1</td>\n",
              "    </tr>\n",
              "    <tr>\n",
              "      <th>8</th>\n",
              "      <td>9</td>\n",
              "      <td>1</td>\n",
              "      <td>3</td>\n",
              "      <td>Johnson, Mrs. Oscar W (Elisabeth Vilhelmina Berg)</td>\n",
              "      <td>female</td>\n",
              "      <td>27.000000</td>\n",
              "      <td>347742</td>\n",
              "      <td>11.1333</td>\n",
              "      <td>S</td>\n",
              "      <td>1</td>\n",
              "      <td>1</td>\n",
              "    </tr>\n",
              "    <tr>\n",
              "      <th>9</th>\n",
              "      <td>10</td>\n",
              "      <td>1</td>\n",
              "      <td>2</td>\n",
              "      <td>Nasser, Mrs. Nicholas (Adele Achem)</td>\n",
              "      <td>female</td>\n",
              "      <td>14.000000</td>\n",
              "      <td>237736</td>\n",
              "      <td>30.0708</td>\n",
              "      <td>C</td>\n",
              "      <td>1</td>\n",
              "      <td>1</td>\n",
              "    </tr>\n",
              "  </tbody>\n",
              "</table>\n",
              "</div>"
            ],
            "text/plain": [
              "   PassengerId  Survived  Pclass  ... Embarked FamilySize  Alone\n",
              "0            1         0       3  ...        S          1      1\n",
              "1            2         1       1  ...        C          1      1\n",
              "2            3         1       3  ...        S          0      0\n",
              "3            4         1       1  ...        S          1      1\n",
              "4            5         0       3  ...        S          0      0\n",
              "5            6         0       3  ...        Q          0      0\n",
              "6            7         0       1  ...        S          0      0\n",
              "7            8         0       3  ...        S          1      1\n",
              "8            9         1       3  ...        S          1      1\n",
              "9           10         1       2  ...        C          1      1\n",
              "\n",
              "[10 rows x 11 columns]"
            ]
          },
          "metadata": {
            "tags": []
          },
          "execution_count": 320
        }
      ]
    },
    {
      "cell_type": "code",
      "metadata": {
        "colab": {
          "base_uri": "https://localhost:8080/"
        },
        "id": "MzJRzr1VDZhh",
        "outputId": "dc783b69-a2f1-4e54-ebc0-194f37af1a60"
      },
      "source": [
        "mathData.groupby(['Alone'])['Survived'].mean()"
      ],
      "execution_count": 321,
      "outputs": [
        {
          "output_type": "execute_result",
          "data": {
            "text/plain": [
              "Alone\n",
              "0    0.303538\n",
              "1    0.505650\n",
              "Name: Survived, dtype: float64"
            ]
          },
          "metadata": {
            "tags": []
          },
          "execution_count": 321
        }
      ]
    },
    {
      "cell_type": "code",
      "metadata": {
        "colab": {
          "base_uri": "https://localhost:8080/",
          "height": 111
        },
        "id": "F3OwOChXDc9G",
        "outputId": "47ab5628-8e86-4cb9-c010-cbcd82eac73b"
      },
      "source": [
        "mathData[['Alone','Fare']].corr()"
      ],
      "execution_count": 322,
      "outputs": [
        {
          "output_type": "execute_result",
          "data": {
            "text/html": [
              "<div>\n",
              "<style scoped>\n",
              "    .dataframe tbody tr th:only-of-type {\n",
              "        vertical-align: middle;\n",
              "    }\n",
              "\n",
              "    .dataframe tbody tr th {\n",
              "        vertical-align: top;\n",
              "    }\n",
              "\n",
              "    .dataframe thead th {\n",
              "        text-align: right;\n",
              "    }\n",
              "</style>\n",
              "<table border=\"1\" class=\"dataframe\">\n",
              "  <thead>\n",
              "    <tr style=\"text-align: right;\">\n",
              "      <th></th>\n",
              "      <th>Alone</th>\n",
              "      <th>Fare</th>\n",
              "    </tr>\n",
              "  </thead>\n",
              "  <tbody>\n",
              "    <tr>\n",
              "      <th>Alone</th>\n",
              "      <td>1.000000</td>\n",
              "      <td>0.271832</td>\n",
              "    </tr>\n",
              "    <tr>\n",
              "      <th>Fare</th>\n",
              "      <td>0.271832</td>\n",
              "      <td>1.000000</td>\n",
              "    </tr>\n",
              "  </tbody>\n",
              "</table>\n",
              "</div>"
            ],
            "text/plain": [
              "          Alone      Fare\n",
              "Alone  1.000000  0.271832\n",
              "Fare   0.271832  1.000000"
            ]
          },
          "metadata": {
            "tags": []
          },
          "execution_count": 322
        }
      ]
    },
    {
      "cell_type": "code",
      "metadata": {
        "colab": {
          "base_uri": "https://localhost:8080/",
          "height": 359
        },
        "id": "4eTIkqTzJy3Q",
        "outputId": "f948de33-3864-4623-8e2c-349eaed0c53a"
      },
      "source": [
        "mathData['Sex'] = mathData['Sex'].apply({'male':1, 'female':0}.get)\n",
        "mathData['Embarked'] = mathData['Embarked'].apply({'S':1, 'C':2, 'Q':3}.get)\n",
        "mathData.head(10)"
      ],
      "execution_count": 323,
      "outputs": [
        {
          "output_type": "execute_result",
          "data": {
            "text/html": [
              "<div>\n",
              "<style scoped>\n",
              "    .dataframe tbody tr th:only-of-type {\n",
              "        vertical-align: middle;\n",
              "    }\n",
              "\n",
              "    .dataframe tbody tr th {\n",
              "        vertical-align: top;\n",
              "    }\n",
              "\n",
              "    .dataframe thead th {\n",
              "        text-align: right;\n",
              "    }\n",
              "</style>\n",
              "<table border=\"1\" class=\"dataframe\">\n",
              "  <thead>\n",
              "    <tr style=\"text-align: right;\">\n",
              "      <th></th>\n",
              "      <th>PassengerId</th>\n",
              "      <th>Survived</th>\n",
              "      <th>Pclass</th>\n",
              "      <th>Name</th>\n",
              "      <th>Sex</th>\n",
              "      <th>Age</th>\n",
              "      <th>Ticket</th>\n",
              "      <th>Fare</th>\n",
              "      <th>Embarked</th>\n",
              "      <th>FamilySize</th>\n",
              "      <th>Alone</th>\n",
              "    </tr>\n",
              "  </thead>\n",
              "  <tbody>\n",
              "    <tr>\n",
              "      <th>0</th>\n",
              "      <td>1</td>\n",
              "      <td>0</td>\n",
              "      <td>3</td>\n",
              "      <td>Braund, Mr. Owen Harris</td>\n",
              "      <td>1</td>\n",
              "      <td>22.000000</td>\n",
              "      <td>A/5 21171</td>\n",
              "      <td>7.2500</td>\n",
              "      <td>1</td>\n",
              "      <td>1</td>\n",
              "      <td>1</td>\n",
              "    </tr>\n",
              "    <tr>\n",
              "      <th>1</th>\n",
              "      <td>2</td>\n",
              "      <td>1</td>\n",
              "      <td>1</td>\n",
              "      <td>Cumings, Mrs. John Bradley (Florence Briggs Th...</td>\n",
              "      <td>0</td>\n",
              "      <td>38.000000</td>\n",
              "      <td>PC 17599</td>\n",
              "      <td>71.2833</td>\n",
              "      <td>2</td>\n",
              "      <td>1</td>\n",
              "      <td>1</td>\n",
              "    </tr>\n",
              "    <tr>\n",
              "      <th>2</th>\n",
              "      <td>3</td>\n",
              "      <td>1</td>\n",
              "      <td>3</td>\n",
              "      <td>Heikkinen, Miss. Laina</td>\n",
              "      <td>0</td>\n",
              "      <td>26.000000</td>\n",
              "      <td>STON/O2. 3101282</td>\n",
              "      <td>7.9250</td>\n",
              "      <td>1</td>\n",
              "      <td>0</td>\n",
              "      <td>0</td>\n",
              "    </tr>\n",
              "    <tr>\n",
              "      <th>3</th>\n",
              "      <td>4</td>\n",
              "      <td>1</td>\n",
              "      <td>1</td>\n",
              "      <td>Futrelle, Mrs. Jacques Heath (Lily May Peel)</td>\n",
              "      <td>0</td>\n",
              "      <td>35.000000</td>\n",
              "      <td>113803</td>\n",
              "      <td>53.1000</td>\n",
              "      <td>1</td>\n",
              "      <td>1</td>\n",
              "      <td>1</td>\n",
              "    </tr>\n",
              "    <tr>\n",
              "      <th>4</th>\n",
              "      <td>5</td>\n",
              "      <td>0</td>\n",
              "      <td>3</td>\n",
              "      <td>Allen, Mr. William Henry</td>\n",
              "      <td>1</td>\n",
              "      <td>35.000000</td>\n",
              "      <td>373450</td>\n",
              "      <td>8.0500</td>\n",
              "      <td>1</td>\n",
              "      <td>0</td>\n",
              "      <td>0</td>\n",
              "    </tr>\n",
              "    <tr>\n",
              "      <th>5</th>\n",
              "      <td>6</td>\n",
              "      <td>0</td>\n",
              "      <td>3</td>\n",
              "      <td>Moran, Mr. James</td>\n",
              "      <td>1</td>\n",
              "      <td>29.699118</td>\n",
              "      <td>330877</td>\n",
              "      <td>8.4583</td>\n",
              "      <td>3</td>\n",
              "      <td>0</td>\n",
              "      <td>0</td>\n",
              "    </tr>\n",
              "    <tr>\n",
              "      <th>6</th>\n",
              "      <td>7</td>\n",
              "      <td>0</td>\n",
              "      <td>1</td>\n",
              "      <td>McCarthy, Mr. Timothy J</td>\n",
              "      <td>1</td>\n",
              "      <td>54.000000</td>\n",
              "      <td>17463</td>\n",
              "      <td>51.8625</td>\n",
              "      <td>1</td>\n",
              "      <td>0</td>\n",
              "      <td>0</td>\n",
              "    </tr>\n",
              "    <tr>\n",
              "      <th>7</th>\n",
              "      <td>8</td>\n",
              "      <td>0</td>\n",
              "      <td>3</td>\n",
              "      <td>Palsson, Master. Gosta Leonard</td>\n",
              "      <td>1</td>\n",
              "      <td>2.000000</td>\n",
              "      <td>349909</td>\n",
              "      <td>21.0750</td>\n",
              "      <td>1</td>\n",
              "      <td>1</td>\n",
              "      <td>1</td>\n",
              "    </tr>\n",
              "    <tr>\n",
              "      <th>8</th>\n",
              "      <td>9</td>\n",
              "      <td>1</td>\n",
              "      <td>3</td>\n",
              "      <td>Johnson, Mrs. Oscar W (Elisabeth Vilhelmina Berg)</td>\n",
              "      <td>0</td>\n",
              "      <td>27.000000</td>\n",
              "      <td>347742</td>\n",
              "      <td>11.1333</td>\n",
              "      <td>1</td>\n",
              "      <td>1</td>\n",
              "      <td>1</td>\n",
              "    </tr>\n",
              "    <tr>\n",
              "      <th>9</th>\n",
              "      <td>10</td>\n",
              "      <td>1</td>\n",
              "      <td>2</td>\n",
              "      <td>Nasser, Mrs. Nicholas (Adele Achem)</td>\n",
              "      <td>0</td>\n",
              "      <td>14.000000</td>\n",
              "      <td>237736</td>\n",
              "      <td>30.0708</td>\n",
              "      <td>2</td>\n",
              "      <td>1</td>\n",
              "      <td>1</td>\n",
              "    </tr>\n",
              "  </tbody>\n",
              "</table>\n",
              "</div>"
            ],
            "text/plain": [
              "   PassengerId  Survived  Pclass  ... Embarked  FamilySize  Alone\n",
              "0            1         0       3  ...        1           1      1\n",
              "1            2         1       1  ...        2           1      1\n",
              "2            3         1       3  ...        1           0      0\n",
              "3            4         1       1  ...        1           1      1\n",
              "4            5         0       3  ...        1           0      0\n",
              "5            6         0       3  ...        3           0      0\n",
              "6            7         0       1  ...        1           0      0\n",
              "7            8         0       3  ...        1           1      1\n",
              "8            9         1       3  ...        1           1      1\n",
              "9           10         1       2  ...        2           1      1\n",
              "\n",
              "[10 rows x 11 columns]"
            ]
          },
          "metadata": {
            "tags": []
          },
          "execution_count": 323
        }
      ]
    },
    {
      "cell_type": "code",
      "metadata": {
        "colab": {
          "base_uri": "https://localhost:8080/"
        },
        "id": "1-FXv97xDtge",
        "outputId": "473d2c8a-c8e1-4122-a501-832543cfa403"
      },
      "source": [
        "mathData.groupby(['Sex'])['Survived'].mean()"
      ],
      "execution_count": 324,
      "outputs": [
        {
          "output_type": "execute_result",
          "data": {
            "text/plain": [
              "Sex\n",
              "0    0.742038\n",
              "1    0.188908\n",
              "Name: Survived, dtype: float64"
            ]
          },
          "metadata": {
            "tags": []
          },
          "execution_count": 324
        }
      ]
    },
    {
      "cell_type": "code",
      "metadata": {
        "colab": {
          "base_uri": "https://localhost:8080/"
        },
        "id": "STeUsHahD0in",
        "outputId": "9b2c5d91-e5d2-494c-d06e-796c58aa2932"
      },
      "source": [
        "mathData.groupby(['Embarked'])['Survived'].mean()"
      ],
      "execution_count": 325,
      "outputs": [
        {
          "output_type": "execute_result",
          "data": {
            "text/plain": [
              "Embarked\n",
              "1    0.339009\n",
              "2    0.553571\n",
              "3    0.389610\n",
              "Name: Survived, dtype: float64"
            ]
          },
          "metadata": {
            "tags": []
          },
          "execution_count": 325
        }
      ]
    },
    {
      "cell_type": "code",
      "metadata": {
        "colab": {
          "base_uri": "https://localhost:8080/",
          "height": 359
        },
        "id": "bVG1B4HmD5zJ",
        "outputId": "4cf27e67-c235-408b-8101-9cb0ff00be3f"
      },
      "source": [
        "mathData.head(10)"
      ],
      "execution_count": 326,
      "outputs": [
        {
          "output_type": "execute_result",
          "data": {
            "text/html": [
              "<div>\n",
              "<style scoped>\n",
              "    .dataframe tbody tr th:only-of-type {\n",
              "        vertical-align: middle;\n",
              "    }\n",
              "\n",
              "    .dataframe tbody tr th {\n",
              "        vertical-align: top;\n",
              "    }\n",
              "\n",
              "    .dataframe thead th {\n",
              "        text-align: right;\n",
              "    }\n",
              "</style>\n",
              "<table border=\"1\" class=\"dataframe\">\n",
              "  <thead>\n",
              "    <tr style=\"text-align: right;\">\n",
              "      <th></th>\n",
              "      <th>PassengerId</th>\n",
              "      <th>Survived</th>\n",
              "      <th>Pclass</th>\n",
              "      <th>Name</th>\n",
              "      <th>Sex</th>\n",
              "      <th>Age</th>\n",
              "      <th>Ticket</th>\n",
              "      <th>Fare</th>\n",
              "      <th>Embarked</th>\n",
              "      <th>FamilySize</th>\n",
              "      <th>Alone</th>\n",
              "    </tr>\n",
              "  </thead>\n",
              "  <tbody>\n",
              "    <tr>\n",
              "      <th>0</th>\n",
              "      <td>1</td>\n",
              "      <td>0</td>\n",
              "      <td>3</td>\n",
              "      <td>Braund, Mr. Owen Harris</td>\n",
              "      <td>1</td>\n",
              "      <td>22.000000</td>\n",
              "      <td>A/5 21171</td>\n",
              "      <td>7.2500</td>\n",
              "      <td>1</td>\n",
              "      <td>1</td>\n",
              "      <td>1</td>\n",
              "    </tr>\n",
              "    <tr>\n",
              "      <th>1</th>\n",
              "      <td>2</td>\n",
              "      <td>1</td>\n",
              "      <td>1</td>\n",
              "      <td>Cumings, Mrs. John Bradley (Florence Briggs Th...</td>\n",
              "      <td>0</td>\n",
              "      <td>38.000000</td>\n",
              "      <td>PC 17599</td>\n",
              "      <td>71.2833</td>\n",
              "      <td>2</td>\n",
              "      <td>1</td>\n",
              "      <td>1</td>\n",
              "    </tr>\n",
              "    <tr>\n",
              "      <th>2</th>\n",
              "      <td>3</td>\n",
              "      <td>1</td>\n",
              "      <td>3</td>\n",
              "      <td>Heikkinen, Miss. Laina</td>\n",
              "      <td>0</td>\n",
              "      <td>26.000000</td>\n",
              "      <td>STON/O2. 3101282</td>\n",
              "      <td>7.9250</td>\n",
              "      <td>1</td>\n",
              "      <td>0</td>\n",
              "      <td>0</td>\n",
              "    </tr>\n",
              "    <tr>\n",
              "      <th>3</th>\n",
              "      <td>4</td>\n",
              "      <td>1</td>\n",
              "      <td>1</td>\n",
              "      <td>Futrelle, Mrs. Jacques Heath (Lily May Peel)</td>\n",
              "      <td>0</td>\n",
              "      <td>35.000000</td>\n",
              "      <td>113803</td>\n",
              "      <td>53.1000</td>\n",
              "      <td>1</td>\n",
              "      <td>1</td>\n",
              "      <td>1</td>\n",
              "    </tr>\n",
              "    <tr>\n",
              "      <th>4</th>\n",
              "      <td>5</td>\n",
              "      <td>0</td>\n",
              "      <td>3</td>\n",
              "      <td>Allen, Mr. William Henry</td>\n",
              "      <td>1</td>\n",
              "      <td>35.000000</td>\n",
              "      <td>373450</td>\n",
              "      <td>8.0500</td>\n",
              "      <td>1</td>\n",
              "      <td>0</td>\n",
              "      <td>0</td>\n",
              "    </tr>\n",
              "    <tr>\n",
              "      <th>5</th>\n",
              "      <td>6</td>\n",
              "      <td>0</td>\n",
              "      <td>3</td>\n",
              "      <td>Moran, Mr. James</td>\n",
              "      <td>1</td>\n",
              "      <td>29.699118</td>\n",
              "      <td>330877</td>\n",
              "      <td>8.4583</td>\n",
              "      <td>3</td>\n",
              "      <td>0</td>\n",
              "      <td>0</td>\n",
              "    </tr>\n",
              "    <tr>\n",
              "      <th>6</th>\n",
              "      <td>7</td>\n",
              "      <td>0</td>\n",
              "      <td>1</td>\n",
              "      <td>McCarthy, Mr. Timothy J</td>\n",
              "      <td>1</td>\n",
              "      <td>54.000000</td>\n",
              "      <td>17463</td>\n",
              "      <td>51.8625</td>\n",
              "      <td>1</td>\n",
              "      <td>0</td>\n",
              "      <td>0</td>\n",
              "    </tr>\n",
              "    <tr>\n",
              "      <th>7</th>\n",
              "      <td>8</td>\n",
              "      <td>0</td>\n",
              "      <td>3</td>\n",
              "      <td>Palsson, Master. Gosta Leonard</td>\n",
              "      <td>1</td>\n",
              "      <td>2.000000</td>\n",
              "      <td>349909</td>\n",
              "      <td>21.0750</td>\n",
              "      <td>1</td>\n",
              "      <td>1</td>\n",
              "      <td>1</td>\n",
              "    </tr>\n",
              "    <tr>\n",
              "      <th>8</th>\n",
              "      <td>9</td>\n",
              "      <td>1</td>\n",
              "      <td>3</td>\n",
              "      <td>Johnson, Mrs. Oscar W (Elisabeth Vilhelmina Berg)</td>\n",
              "      <td>0</td>\n",
              "      <td>27.000000</td>\n",
              "      <td>347742</td>\n",
              "      <td>11.1333</td>\n",
              "      <td>1</td>\n",
              "      <td>1</td>\n",
              "      <td>1</td>\n",
              "    </tr>\n",
              "    <tr>\n",
              "      <th>9</th>\n",
              "      <td>10</td>\n",
              "      <td>1</td>\n",
              "      <td>2</td>\n",
              "      <td>Nasser, Mrs. Nicholas (Adele Achem)</td>\n",
              "      <td>0</td>\n",
              "      <td>14.000000</td>\n",
              "      <td>237736</td>\n",
              "      <td>30.0708</td>\n",
              "      <td>2</td>\n",
              "      <td>1</td>\n",
              "      <td>1</td>\n",
              "    </tr>\n",
              "  </tbody>\n",
              "</table>\n",
              "</div>"
            ],
            "text/plain": [
              "   PassengerId  Survived  Pclass  ... Embarked  FamilySize  Alone\n",
              "0            1         0       3  ...        1           1      1\n",
              "1            2         1       1  ...        2           1      1\n",
              "2            3         1       3  ...        1           0      0\n",
              "3            4         1       1  ...        1           1      1\n",
              "4            5         0       3  ...        1           0      0\n",
              "5            6         0       3  ...        3           0      0\n",
              "6            7         0       1  ...        1           0      0\n",
              "7            8         0       3  ...        1           1      1\n",
              "8            9         1       3  ...        1           1      1\n",
              "9           10         1       2  ...        2           1      1\n",
              "\n",
              "[10 rows x 11 columns]"
            ]
          },
          "metadata": {
            "tags": []
          },
          "execution_count": 326
        }
      ]
    },
    {
      "cell_type": "code",
      "metadata": {
        "colab": {
          "base_uri": "https://localhost:8080/"
        },
        "id": "g_8U4QXtG2nt",
        "outputId": "4f6b0bea-c53e-41c8-c545-ff2be798f0cd"
      },
      "source": [
        "print(f'Survived: {mathData.Survived.unique()}')\n",
        "print(f'SEX: {mathData.Sex.unique()}')\n",
        "print(f'Pclass: {mathData.Pclass.unique()}')\n",
        "print(f'Alone: {mathData.Alone.unique()}')\n",
        "print(f'FamilySize: {mathData.FamilySize.unique()}')\n",
        "print(f'Embarked: {mathData.Embarked.unique()}')"
      ],
      "execution_count": 327,
      "outputs": [
        {
          "output_type": "stream",
          "text": [
            "Survived: [0 1]\n",
            "SEX: [1 0]\n",
            "Pclass: [3 1 2]\n",
            "Alone: [1 0]\n",
            "FamilySize: [1 0]\n",
            "Embarked: [1 2 3]\n"
          ],
          "name": "stdout"
        }
      ]
    },
    {
      "cell_type": "markdown",
      "metadata": {
        "id": "gAIZTqWPwINV"
      },
      "source": [
        ""
      ]
    },
    {
      "cell_type": "code",
      "metadata": {
        "colab": {
          "base_uri": "https://localhost:8080/",
          "height": 359
        },
        "id": "mW997avtsetr",
        "outputId": "406e199c-9fe3-43cf-b542-b0749ab37130"
      },
      "source": [
        "#columns to be considered\n",
        "mathData=mathData[['PassengerId','Survived','Pclass','Name','Sex','Fare','FamilySize','Alone']]\n",
        "mathData.head(10)"
      ],
      "execution_count": 328,
      "outputs": [
        {
          "output_type": "execute_result",
          "data": {
            "text/html": [
              "<div>\n",
              "<style scoped>\n",
              "    .dataframe tbody tr th:only-of-type {\n",
              "        vertical-align: middle;\n",
              "    }\n",
              "\n",
              "    .dataframe tbody tr th {\n",
              "        vertical-align: top;\n",
              "    }\n",
              "\n",
              "    .dataframe thead th {\n",
              "        text-align: right;\n",
              "    }\n",
              "</style>\n",
              "<table border=\"1\" class=\"dataframe\">\n",
              "  <thead>\n",
              "    <tr style=\"text-align: right;\">\n",
              "      <th></th>\n",
              "      <th>PassengerId</th>\n",
              "      <th>Survived</th>\n",
              "      <th>Pclass</th>\n",
              "      <th>Name</th>\n",
              "      <th>Sex</th>\n",
              "      <th>Fare</th>\n",
              "      <th>FamilySize</th>\n",
              "      <th>Alone</th>\n",
              "    </tr>\n",
              "  </thead>\n",
              "  <tbody>\n",
              "    <tr>\n",
              "      <th>0</th>\n",
              "      <td>1</td>\n",
              "      <td>0</td>\n",
              "      <td>3</td>\n",
              "      <td>Braund, Mr. Owen Harris</td>\n",
              "      <td>1</td>\n",
              "      <td>7.2500</td>\n",
              "      <td>1</td>\n",
              "      <td>1</td>\n",
              "    </tr>\n",
              "    <tr>\n",
              "      <th>1</th>\n",
              "      <td>2</td>\n",
              "      <td>1</td>\n",
              "      <td>1</td>\n",
              "      <td>Cumings, Mrs. John Bradley (Florence Briggs Th...</td>\n",
              "      <td>0</td>\n",
              "      <td>71.2833</td>\n",
              "      <td>1</td>\n",
              "      <td>1</td>\n",
              "    </tr>\n",
              "    <tr>\n",
              "      <th>2</th>\n",
              "      <td>3</td>\n",
              "      <td>1</td>\n",
              "      <td>3</td>\n",
              "      <td>Heikkinen, Miss. Laina</td>\n",
              "      <td>0</td>\n",
              "      <td>7.9250</td>\n",
              "      <td>0</td>\n",
              "      <td>0</td>\n",
              "    </tr>\n",
              "    <tr>\n",
              "      <th>3</th>\n",
              "      <td>4</td>\n",
              "      <td>1</td>\n",
              "      <td>1</td>\n",
              "      <td>Futrelle, Mrs. Jacques Heath (Lily May Peel)</td>\n",
              "      <td>0</td>\n",
              "      <td>53.1000</td>\n",
              "      <td>1</td>\n",
              "      <td>1</td>\n",
              "    </tr>\n",
              "    <tr>\n",
              "      <th>4</th>\n",
              "      <td>5</td>\n",
              "      <td>0</td>\n",
              "      <td>3</td>\n",
              "      <td>Allen, Mr. William Henry</td>\n",
              "      <td>1</td>\n",
              "      <td>8.0500</td>\n",
              "      <td>0</td>\n",
              "      <td>0</td>\n",
              "    </tr>\n",
              "    <tr>\n",
              "      <th>5</th>\n",
              "      <td>6</td>\n",
              "      <td>0</td>\n",
              "      <td>3</td>\n",
              "      <td>Moran, Mr. James</td>\n",
              "      <td>1</td>\n",
              "      <td>8.4583</td>\n",
              "      <td>0</td>\n",
              "      <td>0</td>\n",
              "    </tr>\n",
              "    <tr>\n",
              "      <th>6</th>\n",
              "      <td>7</td>\n",
              "      <td>0</td>\n",
              "      <td>1</td>\n",
              "      <td>McCarthy, Mr. Timothy J</td>\n",
              "      <td>1</td>\n",
              "      <td>51.8625</td>\n",
              "      <td>0</td>\n",
              "      <td>0</td>\n",
              "    </tr>\n",
              "    <tr>\n",
              "      <th>7</th>\n",
              "      <td>8</td>\n",
              "      <td>0</td>\n",
              "      <td>3</td>\n",
              "      <td>Palsson, Master. Gosta Leonard</td>\n",
              "      <td>1</td>\n",
              "      <td>21.0750</td>\n",
              "      <td>1</td>\n",
              "      <td>1</td>\n",
              "    </tr>\n",
              "    <tr>\n",
              "      <th>8</th>\n",
              "      <td>9</td>\n",
              "      <td>1</td>\n",
              "      <td>3</td>\n",
              "      <td>Johnson, Mrs. Oscar W (Elisabeth Vilhelmina Berg)</td>\n",
              "      <td>0</td>\n",
              "      <td>11.1333</td>\n",
              "      <td>1</td>\n",
              "      <td>1</td>\n",
              "    </tr>\n",
              "    <tr>\n",
              "      <th>9</th>\n",
              "      <td>10</td>\n",
              "      <td>1</td>\n",
              "      <td>2</td>\n",
              "      <td>Nasser, Mrs. Nicholas (Adele Achem)</td>\n",
              "      <td>0</td>\n",
              "      <td>30.0708</td>\n",
              "      <td>1</td>\n",
              "      <td>1</td>\n",
              "    </tr>\n",
              "  </tbody>\n",
              "</table>\n",
              "</div>"
            ],
            "text/plain": [
              "   PassengerId  Survived  Pclass  ...     Fare  FamilySize  Alone\n",
              "0            1         0       3  ...   7.2500           1      1\n",
              "1            2         1       1  ...  71.2833           1      1\n",
              "2            3         1       3  ...   7.9250           0      0\n",
              "3            4         1       1  ...  53.1000           1      1\n",
              "4            5         0       3  ...   8.0500           0      0\n",
              "5            6         0       3  ...   8.4583           0      0\n",
              "6            7         0       1  ...  51.8625           0      0\n",
              "7            8         0       3  ...  21.0750           1      1\n",
              "8            9         1       3  ...  11.1333           1      1\n",
              "9           10         1       2  ...  30.0708           1      1\n",
              "\n",
              "[10 rows x 8 columns]"
            ]
          },
          "metadata": {
            "tags": []
          },
          "execution_count": 328
        }
      ]
    },
    {
      "cell_type": "code",
      "metadata": {
        "id": "fqYvemxUXEiq"
      },
      "source": [
        "mathData.to_csv('ClaenMathData.csv') #exporting the file"
      ],
      "execution_count": 329,
      "outputs": []
    },
    {
      "cell_type": "code",
      "metadata": {
        "colab": {
          "base_uri": "https://localhost:8080/"
        },
        "id": "_Rv8EuE2XVTU",
        "outputId": "2efb15b7-9264-4a87-9eff-3aa6eeb086f0"
      },
      "source": [
        "ls"
      ],
      "execution_count": 330,
      "outputs": [
        {
          "output_type": "stream",
          "text": [
            "ClaenMathData.csv  train.csv  univariate_MathData_2.csv\n"
          ],
          "name": "stdout"
        }
      ]
    },
    {
      "cell_type": "markdown",
      "metadata": {
        "id": "g9elFaqSXYH3"
      },
      "source": [
        "**VISUALIZATION**"
      ]
    },
    {
      "cell_type": "code",
      "metadata": {
        "colab": {
          "base_uri": "https://localhost:8080/",
          "height": 153
        },
        "id": "eNFZZvHXXVQY",
        "outputId": "e4980880-c88e-470d-9d42-768cb2075c5e"
      },
      "source": [
        "import seaborn as sns\n",
        "sns.palplot(sns.color_palette('PuOr')) #Purple to Orange colors\n",
        "pal = sns.color_palette('PuOr', 6) #print 6 color shades from Purple to Orange\n",
        "pal.as_hex() #set hex code values for colors\n",
        "\n",
        "import matplotlib.pyplot as plt\n",
        "plt.style.use(['seaborn'])\n",
        "sns_colors = ['#c6690c', '#664697'] #orange Purple hex codes\n",
        "sns.set_palette(sns_colors) #set the palette as sns_colors \n",
        "sns.palplot(sns.color_palette(sns_colors)) #plot the color codes"
      ],
      "execution_count": 331,
      "outputs": [
        {
          "output_type": "display_data",
          "data": {
            "image/png": "[encoded data removed]",
            "text/plain": [
              "<Figure size 432x72 with 1 Axes>"
            ]
          },
          "metadata": {
            "tags": []
          }
        },
        {
          "output_type": "display_data",
          "data": {
            "image/png": "[encoded data removed]",
            "text/plain": [
              "<Figure size 144x72 with 1 Axes>"
            ]
          },
          "metadata": {
            "tags": []
          }
        }
      ]
    },
    {
      "cell_type": "code",
      "metadata": {
        "colab": {
          "base_uri": "https://localhost:8080/"
        },
        "id": "kW8slP-9Xxh9",
        "outputId": "8763ae10-e6b5-46d1-d33d-abbcc0de2167"
      },
      "source": [
        "print(f'''There are {len(mathData.columns)} columns in the dataframe mathData namely,\n",
        "\n",
        "{mathData.columns}''') #columns in the dataframe"
      ],
      "execution_count": 332,
      "outputs": [
        {
          "output_type": "stream",
          "text": [
            "There are 8 columns in the dataframe mathData namely,\n",
            "\n",
            "Index(['PassengerId', 'Survived', 'Pclass', 'Name', 'Sex', 'Fare',\n",
            "       'FamilySize', 'Alone'],\n",
            "      dtype='object')\n"
          ],
          "name": "stdout"
        }
      ]
    },
    {
      "cell_type": "markdown",
      "metadata": {
        "id": "r2ZxB4rBYCpf"
      },
      "source": [
        "A pairplot is a plot where the `x` axis and `y` axis will have all the columns you specify it with"
      ]
    },
    {
      "cell_type": "code",
      "metadata": {
        "colab": {
          "base_uri": "https://localhost:8080/",
          "height": 567
        },
        "id": "eCKtPd1GaRfo",
        "outputId": "96e15d53-9172-4731-df1a-9a814af8d6c3"
      },
      "source": [
        "sns.pairplot(mathData,\n",
        "             x_vars = [ 'Sex','Alone','Fare', 'Pclass' ],\n",
        "             y_vars = [ 'Survived','Sex','Alone'],\n",
        "       diag_kind='kde', hue='Survived'\n",
        "             )"
      ],
      "execution_count": 333,
      "outputs": [
        {
          "output_type": "execute_result",
          "data": {
            "text/plain": [
              "<seaborn.axisgrid.PairGrid at 0x7f9eb25b3f50>"
            ]
          },
          "metadata": {
            "tags": []
          },
          "execution_count": 333
        },
        {
          "output_type": "display_data",
          "data": {
            "image/png": "[encoded data removed]",
            "text/plain": [
              "<Figure size 766.75x540 with 14 Axes>"
            ]
          },
          "metadata": {
            "tags": []
          }
        }
      ]
    },
    {
      "cell_type": "code",
      "metadata": {
        "colab": {
          "base_uri": "https://localhost:8080/",
          "height": 988
        },
        "id": "oSUcHtQNXxup",
        "outputId": "11178451-849c-4d69-f927-6573b8070e10"
      },
      "source": [
        "sns.pairplot(mathData,\n",
        "             x_vars = [ 'Survived','Sex','Alone','Fare', 'Pclass' ],\n",
        "             y_vars = [ 'Survived','Sex','Alone','Fare', 'Pclass'],\n",
        "       diag_kind='kde', hue='Survived'\n",
        "             )"
      ],
      "execution_count": 334,
      "outputs": [
        {
          "output_type": "stream",
          "text": [
            "/usr/local/lib/python3.7/dist-packages/seaborn/distributions.py:306: UserWarning: Dataset has 0 variance; skipping density estimate.\n",
            "  warnings.warn(msg, UserWarning)\n",
            "/usr/local/lib/python3.7/dist-packages/seaborn/distributions.py:306: UserWarning: Dataset has 0 variance; skipping density estimate.\n",
            "  warnings.warn(msg, UserWarning)\n"
          ],
          "name": "stderr"
        },
        {
          "output_type": "execute_result",
          "data": {
            "text/plain": [
              "<seaborn.axisgrid.PairGrid at 0x7f9eabf86ed0>"
            ]
          },
          "metadata": {
            "tags": []
          },
          "execution_count": 334
        },
        {
          "output_type": "display_data",
          "data": {
            "image/png": "[encoded data removed]",
            "text/plain": [
              "<Figure size 946.75x900 with 30 Axes>"
            ]
          },
          "metadata": {
            "tags": []
          }
        }
      ]
    },
    {
      "cell_type": "code",
      "metadata": {
        "colab": {
          "base_uri": "https://localhost:8080/",
          "height": 378
        },
        "id": "5L_UwtnbYDV9",
        "outputId": "ba3a362e-ae55-4fd3-8f12-338946f7719d"
      },
      "source": [
        "sns.stripplot(y='Fare', x='Survived', data=mathData)"
      ],
      "execution_count": 335,
      "outputs": [
        {
          "output_type": "execute_result",
          "data": {
            "text/plain": [
              "<matplotlib.axes._subplots.AxesSubplot at 0x7f9eb2642a10>"
            ]
          },
          "metadata": {
            "tags": []
          },
          "execution_count": 335
        },
        {
          "output_type": "display_data",
          "data": {
            "image/png": "[encoded data removed]",
            "text/plain": [
              "<Figure size 576x396 with 1 Axes>"
            ]
          },
          "metadata": {
            "tags": []
          }
        }
      ]
    },
    {
      "cell_type": "code",
      "metadata": {
        "colab": {
          "base_uri": "https://localhost:8080/",
          "height": 1000
        },
        "id": "Ek88ETGiXx0o",
        "outputId": "a0a7ef7a-ce5b-40c3-89b8-18c16c0d050a"
      },
      "source": [
        "fig, axarr = plt.subplots(2,2, figsize=(20,20))\n",
        "\n",
        "#three rows and 2 columns all starting from (0,0)\n",
        "\n",
        "sns.stripplot(y='Fare', x='Survived', data=mathData, hue=None, ax=axarr[0][0])\n",
        "sns.stripplot(y='Sex', x='Survived', data=mathData, hue=None, ax=axarr[1][0])\n",
        "sns.stripplot(y='Alone', x='Survived', data=mathData, hue=None, ax=axarr[0][1])"
      ],
      "execution_count": 336,
      "outputs": [
        {
          "output_type": "execute_result",
          "data": {
            "text/plain": [
              "<matplotlib.axes._subplots.AxesSubplot at 0x7f9eb2a77d10>"
            ]
          },
          "metadata": {
            "tags": []
          },
          "execution_count": 336
        },
        {
          "output_type": "display_data",
          "data": {
            "image/png": "[encoded data removed]",
            "text/plain": [
              "<Figure size 1440x1440 with 4 Axes>"
            ]
          },
          "metadata": {
            "tags": []
          }
        }
      ]
    },
    {
      "cell_type": "code",
      "metadata": {
        "colab": {
          "base_uri": "https://localhost:8080/",
          "height": 204
        },
        "id": "x_EGw1qxDOpS",
        "outputId": "742a58f1-2a4c-4960-fc21-0f7f0e6ec761"
      },
      "source": [
        "uniMathData = mathData[['Fare', 'Survived']]\n",
        "\n",
        "uniMathData.head(5)\n"
      ],
      "execution_count": 337,
      "outputs": [
        {
          "output_type": "execute_result",
          "data": {
            "text/html": [
              "<div>\n",
              "<style scoped>\n",
              "    .dataframe tbody tr th:only-of-type {\n",
              "        vertical-align: middle;\n",
              "    }\n",
              "\n",
              "    .dataframe tbody tr th {\n",
              "        vertical-align: top;\n",
              "    }\n",
              "\n",
              "    .dataframe thead th {\n",
              "        text-align: right;\n",
              "    }\n",
              "</style>\n",
              "<table border=\"1\" class=\"dataframe\">\n",
              "  <thead>\n",
              "    <tr style=\"text-align: right;\">\n",
              "      <th></th>\n",
              "      <th>Fare</th>\n",
              "      <th>Survived</th>\n",
              "    </tr>\n",
              "  </thead>\n",
              "  <tbody>\n",
              "    <tr>\n",
              "      <th>0</th>\n",
              "      <td>7.2500</td>\n",
              "      <td>0</td>\n",
              "    </tr>\n",
              "    <tr>\n",
              "      <th>1</th>\n",
              "      <td>71.2833</td>\n",
              "      <td>1</td>\n",
              "    </tr>\n",
              "    <tr>\n",
              "      <th>2</th>\n",
              "      <td>7.9250</td>\n",
              "      <td>1</td>\n",
              "    </tr>\n",
              "    <tr>\n",
              "      <th>3</th>\n",
              "      <td>53.1000</td>\n",
              "      <td>1</td>\n",
              "    </tr>\n",
              "    <tr>\n",
              "      <th>4</th>\n",
              "      <td>8.0500</td>\n",
              "      <td>0</td>\n",
              "    </tr>\n",
              "  </tbody>\n",
              "</table>\n",
              "</div>"
            ],
            "text/plain": [
              "      Fare  Survived\n",
              "0   7.2500         0\n",
              "1  71.2833         1\n",
              "2   7.9250         1\n",
              "3  53.1000         1\n",
              "4   8.0500         0"
            ]
          },
          "metadata": {
            "tags": []
          },
          "execution_count": 337
        }
      ]
    },
    {
      "cell_type": "code",
      "metadata": {
        "colab": {
          "base_uri": "https://localhost:8080/",
          "height": 391
        },
        "id": "gcfCSInuDViP",
        "outputId": "71c5ef11-df78-4f9e-b78b-08689098d298"
      },
      "source": [
        "sns.pairplot(uniMathData,\n",
        "             x_vars = ['Fare', 'Survived'],\n",
        "             y_vars =  ['Fare', 'Survived'],\n",
        "             \n",
        "       diag_kind='kde'\n",
        "             )"
      ],
      "execution_count": 338,
      "outputs": [
        {
          "output_type": "execute_result",
          "data": {
            "text/plain": [
              "<seaborn.axisgrid.PairGrid at 0x7f9eab4569d0>"
            ]
          },
          "metadata": {
            "tags": []
          },
          "execution_count": 338
        },
        {
          "output_type": "display_data",
          "data": {
            "image/png": "[encoded data removed]",
            "text/plain": [
              "<Figure size 360x360 with 6 Axes>"
            ]
          },
          "metadata": {
            "tags": []
          }
        }
      ]
    },
    {
      "cell_type": "code",
      "metadata": {
        "id": "mFSxVaeJDVdM"
      },
      "source": [
        "uniMathData.to_csv('univariate_MathData_2.csv')"
      ],
      "execution_count": 339,
      "outputs": []
    },
    {
      "cell_type": "code",
      "metadata": {
        "colab": {
          "base_uri": "https://localhost:8080/"
        },
        "id": "WixTa--pEBNo",
        "outputId": "65416a0c-9026-46a4-8679-22c7b37dd448"
      },
      "source": [
        "ls"
      ],
      "execution_count": 340,
      "outputs": [
        {
          "output_type": "stream",
          "text": [
            "ClaenMathData.csv  train.csv  univariate_MathData_2.csv\n"
          ],
          "name": "stdout"
        }
      ]
    },
    {
      "cell_type": "markdown",
      "metadata": {
        "id": "Bi2I84b9Xx4H"
      },
      "source": [
        "**DATA SPLIT**\n"
      ]
    },
    {
      "cell_type": "code",
      "metadata": {
        "colab": {
          "base_uri": "https://localhost:8080/"
        },
        "id": "an0q1DK2XVKi",
        "outputId": "adb8609e-6ebe-4c66-a20d-bf9a457b3ebc"
      },
      "source": [
        "trainDataset = uniMathData.sample(frac=0.8, random_state=0) \n",
        "testDataset = uniMathData.drop(trainDataset.index)\n",
        "\n",
        "print(trainDataset.head())\n",
        "print(testDataset.head())"
      ],
      "execution_count": 341,
      "outputs": [
        {
          "output_type": "stream",
          "text": [
            "         Fare  Survived\n",
            "495   14.4583         0\n",
            "648    7.5500         0\n",
            "278   29.1250         0\n",
            "31   146.5208         1\n",
            "255   15.2458         1\n",
            "       Fare  Survived\n",
            "9   30.0708         1\n",
            "11  26.5500         1\n",
            "19   7.2250         1\n",
            "23  35.5000         1\n",
            "28   7.8792         1\n"
          ],
          "name": "stdout"
        }
      ]
    },
    {
      "cell_type": "code",
      "metadata": {
        "colab": {
          "base_uri": "https://localhost:8080/"
        },
        "id": "BZ-Kj5tHpFJs",
        "outputId": "0c8a2424-8c97-4834-aba3-5772e4663387"
      },
      "source": [
        "print(trainDataset.shape)\n",
        "print(testDataset.shape)"
      ],
      "execution_count": 342,
      "outputs": [
        {
          "output_type": "stream",
          "text": [
            "(713, 2)\n",
            "(178, 2)\n"
          ],
          "name": "stdout"
        }
      ]
    },
    {
      "cell_type": "code",
      "metadata": {
        "colab": {
          "base_uri": "https://localhost:8080/"
        },
        "id": "tvAD3_q7pFUJ",
        "outputId": "9be70290-81ec-42cd-8656-646f4e16c6a2"
      },
      "source": [
        "trainFeatures = trainDataset.copy()\n",
        "testFeatures = testDataset.copy()\n",
        "\n",
        "print(trainFeatures.head())\n",
        "print(testFeatures.head())"
      ],
      "execution_count": 343,
      "outputs": [
        {
          "output_type": "stream",
          "text": [
            "         Fare  Survived\n",
            "495   14.4583         0\n",
            "648    7.5500         0\n",
            "278   29.1250         0\n",
            "31   146.5208         1\n",
            "255   15.2458         1\n",
            "       Fare  Survived\n",
            "9   30.0708         1\n",
            "11  26.5500         1\n",
            "19   7.2250         1\n",
            "23  35.5000         1\n",
            "28   7.8792         1\n"
          ],
          "name": "stdout"
        }
      ]
    },
    {
      "cell_type": "code",
      "metadata": {
        "colab": {
          "base_uri": "https://localhost:8080/"
        },
        "id": "81EyMI6kpFYi",
        "outputId": "9ca6666a-c1e0-48d0-f36a-8626cf2d37dc"
      },
      "source": [
        "\n",
        "trainLabels = trainFeatures.pop('Fare')\n",
        "testLabels = testFeatures.pop('Fare')\n",
        "\n",
        "print(trainLabels.head())\n",
        "print(testLabels.head())"
      ],
      "execution_count": 344,
      "outputs": [
        {
          "output_type": "stream",
          "text": [
            "495     14.4583\n",
            "648      7.5500\n",
            "278     29.1250\n",
            "31     146.5208\n",
            "255     15.2458\n",
            "Name: Fare, dtype: float64\n",
            "9     30.0708\n",
            "11    26.5500\n",
            "19     7.2250\n",
            "23    35.5000\n",
            "28     7.8792\n",
            "Name: Fare, dtype: float64\n"
          ],
          "name": "stdout"
        }
      ]
    },
    {
      "cell_type": "code",
      "metadata": {
        "colab": {
          "base_uri": "https://localhost:8080/"
        },
        "id": "2NerNgOkpFcY",
        "outputId": "add1fd0d-0ecd-4127-8f55-0b45c078c768"
      },
      "source": [
        "print(trainFeatures.head())\n",
        "print(testFeatures.head())"
      ],
      "execution_count": 345,
      "outputs": [
        {
          "output_type": "stream",
          "text": [
            "     Survived\n",
            "495         0\n",
            "648         0\n",
            "278         0\n",
            "31          1\n",
            "255         1\n",
            "    Survived\n",
            "9          1\n",
            "11         1\n",
            "19         1\n",
            "23         1\n",
            "28         1\n"
          ],
          "name": "stdout"
        }
      ]
    },
    {
      "cell_type": "code",
      "metadata": {
        "colab": {
          "base_uri": "https://localhost:8080/"
        },
        "id": "xO8EkHCzpp45",
        "outputId": "e836b476-7898-4a5c-c5f0-fd119092430b"
      },
      "source": [
        "print(testFeatures.shape)"
      ],
      "execution_count": 346,
      "outputs": [
        {
          "output_type": "stream",
          "text": [
            "(178, 1)\n"
          ],
          "name": "stdout"
        }
      ]
    },
    {
      "cell_type": "code",
      "metadata": {
        "colab": {
          "base_uri": "https://localhost:8080/"
        },
        "id": "UGPyjgz5pq8m",
        "outputId": "7ab80317-6f9d-4a37-80e2-535dec3e2356"
      },
      "source": [
        "uniMathData.columns"
      ],
      "execution_count": 347,
      "outputs": [
        {
          "output_type": "execute_result",
          "data": {
            "text/plain": [
              "Index(['Fare', 'Survived'], dtype='object')"
            ]
          },
          "metadata": {
            "tags": []
          },
          "execution_count": 347
        }
      ]
    },
    {
      "cell_type": "code",
      "metadata": {
        "id": "ysx02DxXqPes"
      },
      "source": [
        "model = tf.keras.Sequential([tf.keras.layers.Dense(1)])"
      ],
      "execution_count": 348,
      "outputs": []
    },
    {
      "cell_type": "code",
      "metadata": {
        "id": "0tEd9s0qqP0n"
      },
      "source": [
        "model.compile(\n",
        "    loss='mean_absolute_error',\n",
        "    optimizer= tf.keras.optimizers.SGD(learning_rate=0.01,momentum=0.1,nesterov=False,name=\"SGD\"),\n",
        "    metrics=['mae','mse']\n",
        ")"
      ],
      "execution_count": 349,
      "outputs": []
    },
    {
      "cell_type": "code",
      "metadata": {
        "colab": {
          "base_uri": "https://localhost:8080/"
        },
        "id": "3LSqh-O5HANO",
        "outputId": "20f324d7-dcf2-44c0-a946-542e722f5cf7"
      },
      "source": [
        "uniMathData.shape"
      ],
      "execution_count": 350,
      "outputs": [
        {
          "output_type": "execute_result",
          "data": {
            "text/plain": [
              "(891, 2)"
            ]
          },
          "metadata": {
            "tags": []
          },
          "execution_count": 350
        }
      ]
    },
    {
      "cell_type": "code",
      "metadata": {
        "colab": {
          "base_uri": "https://localhost:8080/"
        },
        "id": "p_wWlx-dqQIP",
        "outputId": "3b3a2025-b358-464f-a706-ef42ad2acdb2"
      },
      "source": [
        "numEpochs = 600\n",
        "history = model.fit(x = trainFeatures, y = trainLabels, validation_data = (testFeatures, testLabels), epochs = numEpochs)"
      ],
      "execution_count": 351,
      "outputs": [
        {
          "output_type": "stream",
          "text": [
            "Epoch 1/600\n",
            "23/23 [==============================] - 0s 7ms/step - loss: 31.4760 - mae: 31.4760 - mse: 3702.5186 - val_loss: 31.4561 - val_mae: 31.4561 - val_mse: 2379.3091\n",
            "Epoch 2/600\n",
            "23/23 [==============================] - 0s 3ms/step - loss: 31.2049 - mae: 31.2049 - mse: 3683.2893 - val_loss: 31.1729 - val_mae: 31.1729 - val_mse: 2360.4253\n",
            "Epoch 3/600\n",
            "23/23 [==============================] - 0s 2ms/step - loss: 30.9337 - mae: 30.9337 - mse: 3664.6536 - val_loss: 30.8895 - val_mae: 30.8895 - val_mse: 2341.6860\n",
            "Epoch 4/600\n",
            "23/23 [==============================] - 0s 3ms/step - loss: 30.6622 - mae: 30.6622 - mse: 3645.9944 - val_loss: 30.6074 - val_mae: 30.6074 - val_mse: 2323.2065\n",
            "Epoch 5/600\n",
            "23/23 [==============================] - 0s 2ms/step - loss: 30.3924 - mae: 30.3924 - mse: 3627.9895 - val_loss: 30.3255 - val_mae: 30.3255 - val_mse: 2304.9294\n",
            "Epoch 6/600\n",
            "23/23 [==============================] - 0s 2ms/step - loss: 30.1222 - mae: 30.1222 - mse: 3610.4150 - val_loss: 30.0433 - val_mae: 30.0433 - val_mse: 2286.7952\n",
            "Epoch 7/600\n",
            "23/23 [==============================] - 0s 2ms/step - loss: 29.8517 - mae: 29.8517 - mse: 3591.9258 - val_loss: 29.7618 - val_mae: 29.7618 - val_mse: 2268.8660\n",
            "Epoch 8/600\n",
            "23/23 [==============================] - 0s 3ms/step - loss: 29.5822 - mae: 29.5822 - mse: 3574.4456 - val_loss: 29.4789 - val_mae: 29.4789 - val_mse: 2251.0203\n",
            "Epoch 9/600\n",
            "23/23 [==============================] - 0s 3ms/step - loss: 29.3110 - mae: 29.3110 - mse: 3556.8696 - val_loss: 29.1954 - val_mae: 29.1954 - val_mse: 2233.3042\n",
            "Epoch 10/600\n",
            "23/23 [==============================] - 0s 2ms/step - loss: 29.0396 - mae: 29.0396 - mse: 3539.7419 - val_loss: 28.9115 - val_mae: 28.9115 - val_mse: 2215.7297\n",
            "Epoch 11/600\n",
            "23/23 [==============================] - 0s 2ms/step - loss: 28.7677 - mae: 28.7677 - mse: 3523.0308 - val_loss: 28.6273 - val_mae: 28.6273 - val_mse: 2198.2957\n",
            "Epoch 12/600\n",
            "23/23 [==============================] - 0s 3ms/step - loss: 28.4956 - mae: 28.4956 - mse: 3505.5083 - val_loss: 28.3443 - val_mae: 28.3443 - val_mse: 2181.1331\n",
            "Epoch 13/600\n",
            "23/23 [==============================] - 0s 3ms/step - loss: 28.2247 - mae: 28.2247 - mse: 3488.5762 - val_loss: 28.0613 - val_mae: 28.0613 - val_mse: 2164.1353\n",
            "Epoch 14/600\n",
            "23/23 [==============================] - 0s 2ms/step - loss: 27.9536 - mae: 27.9536 - mse: 3472.2395 - val_loss: 27.7778 - val_mae: 27.7778 - val_mse: 2147.2754\n",
            "Epoch 15/600\n",
            "23/23 [==============================] - 0s 2ms/step - loss: 27.6821 - mae: 27.6821 - mse: 3455.2236 - val_loss: 27.4950 - val_mae: 27.4950 - val_mse: 2130.6348\n",
            "Epoch 16/600\n",
            "23/23 [==============================] - 0s 2ms/step - loss: 27.4112 - mae: 27.4112 - mse: 3437.7402 - val_loss: 27.2119 - val_mae: 27.2119 - val_mse: 2114.1460\n",
            "Epoch 17/600\n",
            "23/23 [==============================] - 0s 2ms/step - loss: 27.1405 - mae: 27.1405 - mse: 3421.5059 - val_loss: 26.9335 - val_mae: 26.9335 - val_mse: 2097.8381\n",
            "Epoch 18/600\n",
            "23/23 [==============================] - 0s 2ms/step - loss: 26.8775 - mae: 26.8775 - mse: 3405.7390 - val_loss: 26.6708 - val_mae: 26.6708 - val_mse: 2082.2412\n",
            "Epoch 19/600\n",
            "23/23 [==============================] - 0s 2ms/step - loss: 26.6269 - mae: 26.6269 - mse: 3390.9287 - val_loss: 26.4271 - val_mae: 26.4271 - val_mse: 2067.0815\n",
            "Epoch 20/600\n",
            "23/23 [==============================] - 0s 3ms/step - loss: 26.4066 - mae: 26.4066 - mse: 3376.8462 - val_loss: 26.2265 - val_mae: 26.2265 - val_mse: 2053.5837\n",
            "Epoch 21/600\n",
            "23/23 [==============================] - 0s 2ms/step - loss: 26.2098 - mae: 26.2098 - mse: 3363.1631 - val_loss: 26.0343 - val_mae: 26.0343 - val_mse: 2040.6764\n",
            "Epoch 22/600\n",
            "23/23 [==============================] - 0s 2ms/step - loss: 26.0194 - mae: 26.0194 - mse: 3350.2651 - val_loss: 25.8435 - val_mae: 25.8435 - val_mse: 2027.9370\n",
            "Epoch 23/600\n",
            "23/23 [==============================] - 0s 2ms/step - loss: 25.8298 - mae: 25.8298 - mse: 3337.5837 - val_loss: 25.6535 - val_mae: 25.6535 - val_mse: 2015.1866\n",
            "Epoch 24/600\n",
            "23/23 [==============================] - 0s 3ms/step - loss: 25.6385 - mae: 25.6385 - mse: 3324.8232 - val_loss: 25.4634 - val_mae: 25.4634 - val_mse: 2002.5493\n",
            "Epoch 25/600\n",
            "23/23 [==============================] - 0s 2ms/step - loss: 25.4474 - mae: 25.4474 - mse: 3312.8232 - val_loss: 25.2743 - val_mae: 25.2743 - val_mse: 1990.0573\n",
            "Epoch 26/600\n",
            "23/23 [==============================] - 0s 3ms/step - loss: 25.2593 - mae: 25.2593 - mse: 3300.4148 - val_loss: 25.0896 - val_mae: 25.0896 - val_mse: 1977.8298\n",
            "Epoch 27/600\n",
            "23/23 [==============================] - 0s 2ms/step - loss: 25.0730 - mae: 25.0730 - mse: 3288.0276 - val_loss: 24.9082 - val_mae: 24.9082 - val_mse: 1965.7255\n",
            "Epoch 28/600\n",
            "23/23 [==============================] - 0s 3ms/step - loss: 24.8877 - mae: 24.8877 - mse: 3276.5632 - val_loss: 24.7298 - val_mae: 24.7298 - val_mse: 1953.8842\n",
            "Epoch 29/600\n",
            "23/23 [==============================] - 0s 2ms/step - loss: 24.7073 - mae: 24.7073 - mse: 3264.7405 - val_loss: 24.5577 - val_mae: 24.5577 - val_mse: 1942.2505\n",
            "Epoch 30/600\n",
            "23/23 [==============================] - 0s 2ms/step - loss: 24.5342 - mae: 24.5342 - mse: 3253.1526 - val_loss: 24.3956 - val_mae: 24.3956 - val_mse: 1931.0133\n",
            "Epoch 31/600\n",
            "23/23 [==============================] - 0s 2ms/step - loss: 24.3660 - mae: 24.3660 - mse: 3241.8435 - val_loss: 24.2412 - val_mae: 24.2412 - val_mse: 1920.1367\n",
            "Epoch 32/600\n",
            "23/23 [==============================] - 0s 3ms/step - loss: 24.2165 - mae: 24.2165 - mse: 3231.4302 - val_loss: 24.1153 - val_mae: 24.1153 - val_mse: 1910.4724\n",
            "Epoch 33/600\n",
            "23/23 [==============================] - 0s 3ms/step - loss: 24.0924 - mae: 24.0924 - mse: 3222.6360 - val_loss: 24.0010 - val_mae: 24.0010 - val_mse: 1901.4171\n",
            "Epoch 34/600\n",
            "23/23 [==============================] - 0s 2ms/step - loss: 23.9749 - mae: 23.9749 - mse: 3213.3560 - val_loss: 23.8876 - val_mae: 23.8876 - val_mse: 1892.3276\n",
            "Epoch 35/600\n",
            "23/23 [==============================] - 0s 3ms/step - loss: 23.8627 - mae: 23.8627 - mse: 3204.1880 - val_loss: 23.7951 - val_mae: 23.7951 - val_mse: 1883.9584\n",
            "Epoch 36/600\n",
            "23/23 [==============================] - 0s 2ms/step - loss: 23.7801 - mae: 23.7801 - mse: 3196.6824 - val_loss: 23.7383 - val_mae: 23.7383 - val_mse: 1877.4967\n",
            "Epoch 37/600\n",
            "23/23 [==============================] - 0s 2ms/step - loss: 23.7272 - mae: 23.7272 - mse: 3190.5613 - val_loss: 23.6943 - val_mae: 23.6943 - val_mse: 1871.8101\n",
            "Epoch 38/600\n",
            "23/23 [==============================] - 0s 2ms/step - loss: 23.6872 - mae: 23.6872 - mse: 3185.5227 - val_loss: 23.6616 - val_mae: 23.6616 - val_mse: 1866.7902\n",
            "Epoch 39/600\n",
            "23/23 [==============================] - 0s 2ms/step - loss: 23.6531 - mae: 23.6531 - mse: 3180.5649 - val_loss: 23.6307 - val_mae: 23.6307 - val_mse: 1861.9071\n",
            "Epoch 40/600\n",
            "23/23 [==============================] - 0s 2ms/step - loss: 23.6217 - mae: 23.6217 - mse: 3175.7605 - val_loss: 23.6012 - val_mae: 23.6012 - val_mse: 1857.2256\n",
            "Epoch 41/600\n",
            "23/23 [==============================] - 0s 3ms/step - loss: 23.5916 - mae: 23.5916 - mse: 3171.0740 - val_loss: 23.5737 - val_mae: 23.5737 - val_mse: 1852.8851\n",
            "Epoch 42/600\n",
            "23/23 [==============================] - 0s 2ms/step - loss: 23.5641 - mae: 23.5641 - mse: 3166.8567 - val_loss: 23.5461 - val_mae: 23.5461 - val_mse: 1848.4680\n",
            "Epoch 43/600\n",
            "23/23 [==============================] - 0s 2ms/step - loss: 23.5361 - mae: 23.5361 - mse: 3162.5239 - val_loss: 23.5224 - val_mae: 23.5224 - val_mse: 1844.3757\n",
            "Epoch 44/600\n",
            "23/23 [==============================] - 0s 2ms/step - loss: 23.5143 - mae: 23.5143 - mse: 3158.2903 - val_loss: 23.5043 - val_mae: 23.5043 - val_mse: 1840.7443\n",
            "Epoch 45/600\n",
            "23/23 [==============================] - 0s 2ms/step - loss: 23.4942 - mae: 23.4942 - mse: 3154.9990 - val_loss: 23.4851 - val_mae: 23.4851 - val_mse: 1836.9287\n",
            "Epoch 46/600\n",
            "23/23 [==============================] - 0s 3ms/step - loss: 23.4737 - mae: 23.4737 - mse: 3150.9404 - val_loss: 23.4681 - val_mae: 23.4681 - val_mse: 1833.5063\n",
            "Epoch 47/600\n",
            "23/23 [==============================] - 0s 2ms/step - loss: 23.4571 - mae: 23.4571 - mse: 3147.8269 - val_loss: 23.4514 - val_mae: 23.4514 - val_mse: 1830.1482\n",
            "Epoch 48/600\n",
            "23/23 [==============================] - 0s 2ms/step - loss: 23.4407 - mae: 23.4407 - mse: 3144.2517 - val_loss: 23.4361 - val_mae: 23.4361 - val_mse: 1827.0854\n",
            "Epoch 49/600\n",
            "23/23 [==============================] - 0s 2ms/step - loss: 23.4261 - mae: 23.4261 - mse: 3141.3872 - val_loss: 23.4209 - val_mae: 23.4209 - val_mse: 1824.0116\n",
            "Epoch 50/600\n",
            "23/23 [==============================] - 0s 2ms/step - loss: 23.4113 - mae: 23.4113 - mse: 3138.2822 - val_loss: 23.4054 - val_mae: 23.4054 - val_mse: 1820.9187\n",
            "Epoch 51/600\n",
            "23/23 [==============================] - 0s 2ms/step - loss: 23.3966 - mae: 23.3966 - mse: 3134.9775 - val_loss: 23.3894 - val_mae: 23.3894 - val_mse: 1817.7192\n",
            "Epoch 52/600\n",
            "23/23 [==============================] - 0s 2ms/step - loss: 23.3812 - mae: 23.3812 - mse: 3132.0754 - val_loss: 23.3738 - val_mae: 23.3738 - val_mse: 1814.5574\n",
            "Epoch 53/600\n",
            "23/23 [==============================] - 0s 2ms/step - loss: 23.3665 - mae: 23.3665 - mse: 3128.9954 - val_loss: 23.3603 - val_mae: 23.3603 - val_mse: 1811.8105\n",
            "Epoch 54/600\n",
            "23/23 [==============================] - 0s 3ms/step - loss: 23.3544 - mae: 23.3544 - mse: 3126.1172 - val_loss: 23.3463 - val_mae: 23.3463 - val_mse: 1808.9087\n",
            "Epoch 55/600\n",
            "23/23 [==============================] - 0s 3ms/step - loss: 23.3410 - mae: 23.3410 - mse: 3123.4697 - val_loss: 23.3318 - val_mae: 23.3318 - val_mse: 1805.9122\n",
            "Epoch 56/600\n",
            "23/23 [==============================] - 0s 2ms/step - loss: 23.3272 - mae: 23.3272 - mse: 3120.1191 - val_loss: 23.3183 - val_mae: 23.3183 - val_mse: 1803.1431\n",
            "Epoch 57/600\n",
            "23/23 [==============================] - 0s 2ms/step - loss: 23.3147 - mae: 23.3147 - mse: 3117.6262 - val_loss: 23.3039 - val_mae: 23.3039 - val_mse: 1800.2020\n",
            "Epoch 58/600\n",
            "23/23 [==============================] - 0s 2ms/step - loss: 23.3015 - mae: 23.3015 - mse: 3114.5103 - val_loss: 23.2898 - val_mae: 23.2898 - val_mse: 1797.3481\n",
            "Epoch 59/600\n",
            "23/23 [==============================] - 0s 3ms/step - loss: 23.2887 - mae: 23.2887 - mse: 3111.8696 - val_loss: 23.2765 - val_mae: 23.2765 - val_mse: 1794.6357\n",
            "Epoch 60/600\n",
            "23/23 [==============================] - 0s 2ms/step - loss: 23.2768 - mae: 23.2768 - mse: 3108.9365 - val_loss: 23.2640 - val_mae: 23.2640 - val_mse: 1792.1317\n",
            "Epoch 61/600\n",
            "23/23 [==============================] - 0s 3ms/step - loss: 23.2658 - mae: 23.2658 - mse: 3106.5110 - val_loss: 23.2518 - val_mae: 23.2518 - val_mse: 1789.3889\n",
            "Epoch 62/600\n",
            "23/23 [==============================] - 0s 3ms/step - loss: 23.2535 - mae: 23.2535 - mse: 3103.6221 - val_loss: 23.2401 - val_mae: 23.2401 - val_mse: 1786.7064\n",
            "Epoch 63/600\n",
            "23/23 [==============================] - 0s 3ms/step - loss: 23.2423 - mae: 23.2423 - mse: 3101.1028 - val_loss: 23.2287 - val_mae: 23.2287 - val_mse: 1784.1399\n",
            "Epoch 64/600\n",
            "23/23 [==============================] - 0s 2ms/step - loss: 23.2321 - mae: 23.2321 - mse: 3098.5371 - val_loss: 23.2185 - val_mae: 23.2185 - val_mse: 1781.8779\n",
            "Epoch 65/600\n",
            "23/23 [==============================] - 0s 3ms/step - loss: 23.2232 - mae: 23.2232 - mse: 3096.4954 - val_loss: 23.2082 - val_mae: 23.2082 - val_mse: 1779.6010\n",
            "Epoch 66/600\n",
            "23/23 [==============================] - 0s 2ms/step - loss: 23.2141 - mae: 23.2141 - mse: 3093.7334 - val_loss: 23.1982 - val_mae: 23.1982 - val_mse: 1777.4220\n",
            "Epoch 67/600\n",
            "23/23 [==============================] - 0s 2ms/step - loss: 23.2053 - mae: 23.2053 - mse: 3091.7224 - val_loss: 23.1883 - val_mae: 23.1883 - val_mse: 1775.2227\n",
            "Epoch 68/600\n",
            "23/23 [==============================] - 0s 2ms/step - loss: 23.1963 - mae: 23.1963 - mse: 3089.8149 - val_loss: 23.1780 - val_mae: 23.1780 - val_mse: 1772.9648\n",
            "Epoch 69/600\n",
            "23/23 [==============================] - 0s 2ms/step - loss: 23.1873 - mae: 23.1873 - mse: 3087.5046 - val_loss: 23.1672 - val_mae: 23.1672 - val_mse: 1770.5934\n",
            "Epoch 70/600\n",
            "23/23 [==============================] - 0s 3ms/step - loss: 23.1776 - mae: 23.1776 - mse: 3084.6753 - val_loss: 23.1572 - val_mae: 23.1572 - val_mse: 1768.3774\n",
            "Epoch 71/600\n",
            "23/23 [==============================] - 0s 2ms/step - loss: 23.1688 - mae: 23.1688 - mse: 3082.5520 - val_loss: 23.1471 - val_mae: 23.1471 - val_mse: 1766.1750\n",
            "Epoch 72/600\n",
            "23/23 [==============================] - 0s 2ms/step - loss: 23.1601 - mae: 23.1601 - mse: 3080.3933 - val_loss: 23.1379 - val_mae: 23.1379 - val_mse: 1764.0704\n",
            "Epoch 73/600\n",
            "23/23 [==============================] - 0s 2ms/step - loss: 23.1525 - mae: 23.1525 - mse: 3078.1421 - val_loss: 23.1289 - val_mae: 23.1289 - val_mse: 1761.9724\n",
            "Epoch 74/600\n",
            "23/23 [==============================] - 0s 2ms/step - loss: 23.1446 - mae: 23.1446 - mse: 3076.2603 - val_loss: 23.1208 - val_mae: 23.1208 - val_mse: 1760.1094\n",
            "Epoch 75/600\n",
            "23/23 [==============================] - 0s 2ms/step - loss: 23.1376 - mae: 23.1376 - mse: 3074.2554 - val_loss: 23.1120 - val_mae: 23.1120 - val_mse: 1758.0845\n",
            "Epoch 76/600\n",
            "23/23 [==============================] - 0s 3ms/step - loss: 23.1300 - mae: 23.1300 - mse: 3072.4460 - val_loss: 23.1041 - val_mae: 23.1041 - val_mse: 1756.2786\n",
            "Epoch 77/600\n",
            "23/23 [==============================] - 0s 2ms/step - loss: 23.1240 - mae: 23.1240 - mse: 3070.5054 - val_loss: 23.0965 - val_mae: 23.0965 - val_mse: 1754.5361\n",
            "Epoch 78/600\n",
            "23/23 [==============================] - 0s 3ms/step - loss: 23.1178 - mae: 23.1178 - mse: 3068.6719 - val_loss: 23.0889 - val_mae: 23.0889 - val_mse: 1752.7883\n",
            "Epoch 79/600\n",
            "23/23 [==============================] - 0s 2ms/step - loss: 23.1115 - mae: 23.1115 - mse: 3066.8770 - val_loss: 23.0811 - val_mae: 23.0811 - val_mse: 1751.0060\n",
            "Epoch 80/600\n",
            "23/23 [==============================] - 0s 3ms/step - loss: 23.1052 - mae: 23.1052 - mse: 3065.1968 - val_loss: 23.0727 - val_mae: 23.0727 - val_mse: 1749.1257\n",
            "Epoch 81/600\n",
            "23/23 [==============================] - 0s 2ms/step - loss: 23.0989 - mae: 23.0989 - mse: 3063.4929 - val_loss: 23.0649 - val_mae: 23.0649 - val_mse: 1747.3254\n",
            "Epoch 82/600\n",
            "23/23 [==============================] - 0s 3ms/step - loss: 23.0930 - mae: 23.0930 - mse: 3061.4043 - val_loss: 23.0571 - val_mae: 23.0571 - val_mse: 1745.5634\n",
            "Epoch 83/600\n",
            "23/23 [==============================] - 0s 3ms/step - loss: 23.0876 - mae: 23.0876 - mse: 3059.7603 - val_loss: 23.0498 - val_mae: 23.0498 - val_mse: 1743.8821\n",
            "Epoch 84/600\n",
            "23/23 [==============================] - 0s 3ms/step - loss: 23.0826 - mae: 23.0826 - mse: 3058.2666 - val_loss: 23.0425 - val_mae: 23.0425 - val_mse: 1742.2031\n",
            "Epoch 85/600\n",
            "23/23 [==============================] - 0s 2ms/step - loss: 23.0779 - mae: 23.0779 - mse: 3056.3691 - val_loss: 23.0356 - val_mae: 23.0356 - val_mse: 1740.6603\n",
            "Epoch 86/600\n",
            "23/23 [==============================] - 0s 2ms/step - loss: 23.0736 - mae: 23.0736 - mse: 3054.7297 - val_loss: 23.0292 - val_mae: 23.0292 - val_mse: 1739.1810\n",
            "Epoch 87/600\n",
            "23/23 [==============================] - 0s 2ms/step - loss: 23.0694 - mae: 23.0694 - mse: 3053.3857 - val_loss: 23.0226 - val_mae: 23.0226 - val_mse: 1737.6692\n",
            "Epoch 88/600\n",
            "23/23 [==============================] - 0s 3ms/step - loss: 23.0652 - mae: 23.0652 - mse: 3051.9390 - val_loss: 23.0170 - val_mae: 23.0170 - val_mse: 1736.3188\n",
            "Epoch 89/600\n",
            "23/23 [==============================] - 0s 2ms/step - loss: 23.0614 - mae: 23.0614 - mse: 3050.5183 - val_loss: 23.0113 - val_mae: 23.0113 - val_mse: 1734.9432\n",
            "Epoch 90/600\n",
            "23/23 [==============================] - 0s 3ms/step - loss: 23.0577 - mae: 23.0577 - mse: 3049.2878 - val_loss: 23.0054 - val_mae: 23.0054 - val_mse: 1733.5133\n",
            "Epoch 91/600\n",
            "23/23 [==============================] - 0s 2ms/step - loss: 23.0535 - mae: 23.0535 - mse: 3047.7466 - val_loss: 22.9993 - val_mae: 22.9993 - val_mse: 1732.0305\n",
            "Epoch 92/600\n",
            "23/23 [==============================] - 0s 2ms/step - loss: 23.0494 - mae: 23.0494 - mse: 3046.2417 - val_loss: 22.9936 - val_mae: 22.9936 - val_mse: 1730.6445\n",
            "Epoch 93/600\n",
            "23/23 [==============================] - 0s 2ms/step - loss: 23.0457 - mae: 23.0457 - mse: 3044.7830 - val_loss: 22.9875 - val_mae: 22.9875 - val_mse: 1729.1592\n",
            "Epoch 94/600\n",
            "23/23 [==============================] - 0s 2ms/step - loss: 23.0415 - mae: 23.0415 - mse: 3043.3330 - val_loss: 22.9813 - val_mae: 22.9813 - val_mse: 1727.6771\n",
            "Epoch 95/600\n",
            "23/23 [==============================] - 0s 2ms/step - loss: 23.0373 - mae: 23.0373 - mse: 3041.9565 - val_loss: 22.9751 - val_mae: 22.9751 - val_mse: 1726.1708\n",
            "Epoch 96/600\n",
            "23/23 [==============================] - 0s 2ms/step - loss: 23.0333 - mae: 23.0333 - mse: 3040.2615 - val_loss: 22.9686 - val_mae: 22.9686 - val_mse: 1724.5857\n",
            "Epoch 97/600\n",
            "23/23 [==============================] - 0s 2ms/step - loss: 23.0295 - mae: 23.0295 - mse: 3038.8735 - val_loss: 22.9642 - val_mae: 22.9642 - val_mse: 1723.4611\n",
            "Epoch 98/600\n",
            "23/23 [==============================] - 0s 2ms/step - loss: 23.0271 - mae: 23.0271 - mse: 3037.7036 - val_loss: 22.9600 - val_mae: 22.9600 - val_mse: 1722.4203\n",
            "Epoch 99/600\n",
            "23/23 [==============================] - 0s 2ms/step - loss: 23.0246 - mae: 23.0246 - mse: 3036.6719 - val_loss: 22.9562 - val_mae: 22.9562 - val_mse: 1721.5088\n",
            "Epoch 100/600\n",
            "23/23 [==============================] - 0s 3ms/step - loss: 23.0224 - mae: 23.0224 - mse: 3035.6638 - val_loss: 22.9518 - val_mae: 22.9518 - val_mse: 1720.3673\n",
            "Epoch 101/600\n",
            "23/23 [==============================] - 0s 2ms/step - loss: 23.0198 - mae: 23.0198 - mse: 3034.5588 - val_loss: 22.9476 - val_mae: 22.9476 - val_mse: 1719.3615\n",
            "Epoch 102/600\n",
            "23/23 [==============================] - 0s 2ms/step - loss: 23.0175 - mae: 23.0175 - mse: 3033.5635 - val_loss: 22.9441 - val_mae: 22.9441 - val_mse: 1718.5292\n",
            "Epoch 103/600\n",
            "23/23 [==============================] - 0s 3ms/step - loss: 23.0157 - mae: 23.0157 - mse: 3033.0007 - val_loss: 22.9396 - val_mae: 22.9396 - val_mse: 1717.4233\n",
            "Epoch 104/600\n",
            "23/23 [==============================] - 0s 2ms/step - loss: 23.0132 - mae: 23.0132 - mse: 3031.5063 - val_loss: 22.9358 - val_mae: 22.9358 - val_mse: 1716.4586\n",
            "Epoch 105/600\n",
            "23/23 [==============================] - 0s 3ms/step - loss: 23.0111 - mae: 23.0111 - mse: 3030.5161 - val_loss: 22.9325 - val_mae: 22.9325 - val_mse: 1715.7164\n",
            "Epoch 106/600\n",
            "23/23 [==============================] - 0s 2ms/step - loss: 23.0095 - mae: 23.0095 - mse: 3029.8679 - val_loss: 22.9294 - val_mae: 22.9294 - val_mse: 1714.9871\n",
            "Epoch 107/600\n",
            "23/23 [==============================] - 0s 3ms/step - loss: 23.0078 - mae: 23.0078 - mse: 3029.1826 - val_loss: 22.9258 - val_mae: 22.9258 - val_mse: 1714.0829\n",
            "Epoch 108/600\n",
            "23/23 [==============================] - 0s 2ms/step - loss: 23.0058 - mae: 23.0058 - mse: 3028.0039 - val_loss: 22.9223 - val_mae: 22.9223 - val_mse: 1713.2288\n",
            "Epoch 109/600\n",
            "23/23 [==============================] - 0s 2ms/step - loss: 23.0039 - mae: 23.0039 - mse: 3027.5813 - val_loss: 22.9184 - val_mae: 22.9184 - val_mse: 1712.2953\n",
            "Epoch 110/600\n",
            "23/23 [==============================] - 0s 2ms/step - loss: 23.0019 - mae: 23.0019 - mse: 3026.3579 - val_loss: 22.9148 - val_mae: 22.9148 - val_mse: 1711.4210\n",
            "Epoch 111/600\n",
            "23/23 [==============================] - 0s 3ms/step - loss: 23.0000 - mae: 23.0000 - mse: 3025.6577 - val_loss: 22.9105 - val_mae: 22.9105 - val_mse: 1710.3734\n",
            "Epoch 112/600\n",
            "23/23 [==============================] - 0s 3ms/step - loss: 22.9978 - mae: 22.9978 - mse: 3024.1807 - val_loss: 22.9069 - val_mae: 22.9069 - val_mse: 1709.5400\n",
            "Epoch 113/600\n",
            "23/23 [==============================] - 0s 2ms/step - loss: 22.9958 - mae: 22.9958 - mse: 3023.5662 - val_loss: 22.9031 - val_mae: 22.9031 - val_mse: 1708.5782\n",
            "Epoch 114/600\n",
            "23/23 [==============================] - 0s 2ms/step - loss: 22.9937 - mae: 22.9937 - mse: 3022.3081 - val_loss: 22.8991 - val_mae: 22.8991 - val_mse: 1707.6085\n",
            "Epoch 115/600\n",
            "23/23 [==============================] - 0s 2ms/step - loss: 22.9915 - mae: 22.9915 - mse: 3021.6616 - val_loss: 22.8951 - val_mae: 22.8951 - val_mse: 1706.6071\n",
            "Epoch 116/600\n",
            "23/23 [==============================] - 0s 3ms/step - loss: 22.9893 - mae: 22.9893 - mse: 3020.4685 - val_loss: 22.8911 - val_mae: 22.8911 - val_mse: 1705.6542\n",
            "Epoch 117/600\n",
            "23/23 [==============================] - 0s 2ms/step - loss: 22.9873 - mae: 22.9873 - mse: 3019.4294 - val_loss: 22.8875 - val_mae: 22.8875 - val_mse: 1704.7886\n",
            "Epoch 118/600\n",
            "23/23 [==============================] - 0s 3ms/step - loss: 22.9854 - mae: 22.9854 - mse: 3018.8928 - val_loss: 22.8841 - val_mae: 22.8841 - val_mse: 1703.9731\n",
            "Epoch 119/600\n",
            "23/23 [==============================] - 0s 2ms/step - loss: 22.9837 - mae: 22.9837 - mse: 3018.1279 - val_loss: 22.8807 - val_mae: 22.8807 - val_mse: 1703.1836\n",
            "Epoch 120/600\n",
            "23/23 [==============================] - 0s 2ms/step - loss: 22.9818 - mae: 22.9818 - mse: 3017.2244 - val_loss: 22.8769 - val_mae: 22.8769 - val_mse: 1702.2668\n",
            "Epoch 121/600\n",
            "23/23 [==============================] - 0s 2ms/step - loss: 22.9798 - mae: 22.9798 - mse: 3016.3674 - val_loss: 22.8737 - val_mae: 22.8737 - val_mse: 1701.5773\n",
            "Epoch 122/600\n",
            "23/23 [==============================] - 0s 2ms/step - loss: 22.9781 - mae: 22.9781 - mse: 3015.6731 - val_loss: 22.8702 - val_mae: 22.8702 - val_mse: 1700.7725\n",
            "Epoch 123/600\n",
            "23/23 [==============================] - 0s 2ms/step - loss: 22.9762 - mae: 22.9762 - mse: 3014.7671 - val_loss: 22.8662 - val_mae: 22.8662 - val_mse: 1699.7777\n",
            "Epoch 124/600\n",
            "23/23 [==============================] - 0s 3ms/step - loss: 22.9739 - mae: 22.9739 - mse: 3013.4951 - val_loss: 22.8625 - val_mae: 22.8625 - val_mse: 1698.9442\n",
            "Epoch 125/600\n",
            "23/23 [==============================] - 0s 2ms/step - loss: 22.9721 - mae: 22.9721 - mse: 3012.9331 - val_loss: 22.8585 - val_mae: 22.8585 - val_mse: 1697.8425\n",
            "Epoch 126/600\n",
            "23/23 [==============================] - 0s 3ms/step - loss: 22.9696 - mae: 22.9696 - mse: 3011.5210 - val_loss: 22.8549 - val_mae: 22.8549 - val_mse: 1696.8806\n",
            "Epoch 127/600\n",
            "23/23 [==============================] - 0s 2ms/step - loss: 22.9676 - mae: 22.9676 - mse: 3010.7710 - val_loss: 22.8516 - val_mae: 22.8516 - val_mse: 1695.9865\n",
            "Epoch 128/600\n",
            "23/23 [==============================] - 0s 2ms/step - loss: 22.9656 - mae: 22.9656 - mse: 3009.5505 - val_loss: 22.8483 - val_mae: 22.8483 - val_mse: 1695.1752\n",
            "Epoch 129/600\n",
            "23/23 [==============================] - 0s 2ms/step - loss: 22.9637 - mae: 22.9637 - mse: 3008.9734 - val_loss: 22.8450 - val_mae: 22.8450 - val_mse: 1694.3214\n",
            "Epoch 130/600\n",
            "23/23 [==============================] - 0s 2ms/step - loss: 22.9617 - mae: 22.9617 - mse: 3008.0854 - val_loss: 22.8420 - val_mae: 22.8420 - val_mse: 1693.5309\n",
            "Epoch 131/600\n",
            "23/23 [==============================] - 0s 2ms/step - loss: 22.9600 - mae: 22.9600 - mse: 3007.1907 - val_loss: 22.8382 - val_mae: 22.8382 - val_mse: 1692.4927\n",
            "Epoch 132/600\n",
            "23/23 [==============================] - 0s 2ms/step - loss: 22.9577 - mae: 22.9577 - mse: 3006.1028 - val_loss: 22.8345 - val_mae: 22.8345 - val_mse: 1691.4915\n",
            "Epoch 133/600\n",
            "23/23 [==============================] - 0s 2ms/step - loss: 22.9555 - mae: 22.9555 - mse: 3005.1128 - val_loss: 22.8313 - val_mae: 22.8313 - val_mse: 1690.6514\n",
            "Epoch 134/600\n",
            "23/23 [==============================] - 0s 2ms/step - loss: 22.9538 - mae: 22.9538 - mse: 3004.2969 - val_loss: 22.8277 - val_mae: 22.8277 - val_mse: 1689.7256\n",
            "Epoch 135/600\n",
            "23/23 [==============================] - 0s 2ms/step - loss: 22.9516 - mae: 22.9516 - mse: 3003.2676 - val_loss: 22.8244 - val_mae: 22.8244 - val_mse: 1688.8354\n",
            "Epoch 136/600\n",
            "23/23 [==============================] - 0s 3ms/step - loss: 22.9496 - mae: 22.9496 - mse: 3002.1143 - val_loss: 22.8214 - val_mae: 22.8214 - val_mse: 1688.0674\n",
            "Epoch 137/600\n",
            "23/23 [==============================] - 0s 2ms/step - loss: 22.9478 - mae: 22.9478 - mse: 3001.7771 - val_loss: 22.8176 - val_mae: 22.8176 - val_mse: 1687.0446\n",
            "Epoch 138/600\n",
            "23/23 [==============================] - 0s 2ms/step - loss: 22.9455 - mae: 22.9455 - mse: 3000.5291 - val_loss: 22.8140 - val_mae: 22.8140 - val_mse: 1686.0657\n",
            "Epoch 139/600\n",
            "23/23 [==============================] - 0s 3ms/step - loss: 22.9434 - mae: 22.9434 - mse: 2999.3818 - val_loss: 22.8106 - val_mae: 22.8106 - val_mse: 1685.2367\n",
            "Epoch 140/600\n",
            "23/23 [==============================] - 0s 3ms/step - loss: 22.9416 - mae: 22.9416 - mse: 2998.8716 - val_loss: 22.8076 - val_mae: 22.8076 - val_mse: 1684.5004\n",
            "Epoch 141/600\n",
            "23/23 [==============================] - 0s 2ms/step - loss: 22.9398 - mae: 22.9398 - mse: 2997.9556 - val_loss: 22.8049 - val_mae: 22.8049 - val_mse: 1683.8302\n",
            "Epoch 142/600\n",
            "23/23 [==============================] - 0s 2ms/step - loss: 22.9383 - mae: 22.9383 - mse: 2997.2998 - val_loss: 22.8013 - val_mae: 22.8013 - val_mse: 1682.8973\n",
            "Epoch 143/600\n",
            "23/23 [==============================] - 0s 2ms/step - loss: 22.9360 - mae: 22.9360 - mse: 2996.5007 - val_loss: 22.7978 - val_mae: 22.7978 - val_mse: 1681.9736\n",
            "Epoch 144/600\n",
            "23/23 [==============================] - 0s 3ms/step - loss: 22.9339 - mae: 22.9339 - mse: 2995.5393 - val_loss: 22.7942 - val_mae: 22.7942 - val_mse: 1681.0065\n",
            "Epoch 145/600\n",
            "23/23 [==============================] - 0s 3ms/step - loss: 22.9319 - mae: 22.9319 - mse: 2994.1262 - val_loss: 22.7906 - val_mae: 22.7906 - val_mse: 1680.0492\n",
            "Epoch 146/600\n",
            "23/23 [==============================] - 0s 3ms/step - loss: 22.9296 - mae: 22.9296 - mse: 2993.2878 - val_loss: 22.7874 - val_mae: 22.7874 - val_mse: 1679.2616\n",
            "Epoch 147/600\n",
            "23/23 [==============================] - 0s 2ms/step - loss: 22.9278 - mae: 22.9278 - mse: 2992.4480 - val_loss: 22.7840 - val_mae: 22.7840 - val_mse: 1678.4106\n",
            "Epoch 148/600\n",
            "23/23 [==============================] - 0s 2ms/step - loss: 22.9258 - mae: 22.9258 - mse: 2991.8608 - val_loss: 22.7807 - val_mae: 22.7807 - val_mse: 1677.6221\n",
            "Epoch 149/600\n",
            "23/23 [==============================] - 0s 2ms/step - loss: 22.9239 - mae: 22.9239 - mse: 2991.0667 - val_loss: 22.7771 - val_mae: 22.7771 - val_mse: 1676.7148\n",
            "Epoch 150/600\n",
            "23/23 [==============================] - 0s 2ms/step - loss: 22.9218 - mae: 22.9218 - mse: 2989.8860 - val_loss: 22.7731 - val_mae: 22.7731 - val_mse: 1675.6254\n",
            "Epoch 151/600\n",
            "23/23 [==============================] - 0s 2ms/step - loss: 22.9194 - mae: 22.9194 - mse: 2988.6292 - val_loss: 22.7698 - val_mae: 22.7698 - val_mse: 1674.7786\n",
            "Epoch 152/600\n",
            "23/23 [==============================] - 0s 3ms/step - loss: 22.9174 - mae: 22.9174 - mse: 2987.9292 - val_loss: 22.7661 - val_mae: 22.7661 - val_mse: 1673.8032\n",
            "Epoch 153/600\n",
            "23/23 [==============================] - 0s 2ms/step - loss: 22.9152 - mae: 22.9152 - mse: 2987.0449 - val_loss: 22.7627 - val_mae: 22.7627 - val_mse: 1672.9584\n",
            "Epoch 154/600\n",
            "23/23 [==============================] - 0s 3ms/step - loss: 22.9133 - mae: 22.9133 - mse: 2986.1777 - val_loss: 22.7593 - val_mae: 22.7593 - val_mse: 1672.1073\n",
            "Epoch 155/600\n",
            "23/23 [==============================] - 0s 2ms/step - loss: 22.9113 - mae: 22.9113 - mse: 2985.2224 - val_loss: 22.7562 - val_mae: 22.7562 - val_mse: 1671.3574\n",
            "Epoch 156/600\n",
            "23/23 [==============================] - 0s 3ms/step - loss: 22.9094 - mae: 22.9094 - mse: 2984.4299 - val_loss: 22.7526 - val_mae: 22.7526 - val_mse: 1670.4648\n",
            "Epoch 157/600\n",
            "23/23 [==============================] - 0s 2ms/step - loss: 22.9074 - mae: 22.9074 - mse: 2983.3916 - val_loss: 22.7495 - val_mae: 22.7495 - val_mse: 1669.7080\n",
            "Epoch 158/600\n",
            "23/23 [==============================] - 0s 2ms/step - loss: 22.9056 - mae: 22.9056 - mse: 2982.9287 - val_loss: 22.7464 - val_mae: 22.7464 - val_mse: 1668.9607\n",
            "Epoch 159/600\n",
            "23/23 [==============================] - 0s 2ms/step - loss: 22.9037 - mae: 22.9037 - mse: 2981.8821 - val_loss: 22.7434 - val_mae: 22.7434 - val_mse: 1668.2292\n",
            "Epoch 160/600\n",
            "23/23 [==============================] - 0s 2ms/step - loss: 22.9019 - mae: 22.9019 - mse: 2981.1206 - val_loss: 22.7402 - val_mae: 22.7402 - val_mse: 1667.4294\n",
            "Epoch 161/600\n",
            "23/23 [==============================] - 0s 3ms/step - loss: 22.9001 - mae: 22.9001 - mse: 2980.2888 - val_loss: 22.7368 - val_mae: 22.7368 - val_mse: 1666.5636\n",
            "Epoch 162/600\n",
            "23/23 [==============================] - 0s 2ms/step - loss: 22.8980 - mae: 22.8980 - mse: 2979.5693 - val_loss: 22.7330 - val_mae: 22.7330 - val_mse: 1665.5665\n",
            "Epoch 163/600\n",
            "23/23 [==============================] - 0s 2ms/step - loss: 22.8957 - mae: 22.8957 - mse: 2978.3748 - val_loss: 22.7297 - val_mae: 22.7297 - val_mse: 1664.7655\n",
            "Epoch 164/600\n",
            "23/23 [==============================] - 0s 3ms/step - loss: 22.8938 - mae: 22.8938 - mse: 2977.6445 - val_loss: 22.7260 - val_mae: 22.7260 - val_mse: 1663.8225\n",
            "Epoch 165/600\n",
            "23/23 [==============================] - 0s 3ms/step - loss: 22.8918 - mae: 22.8918 - mse: 2976.6658 - val_loss: 22.7219 - val_mae: 22.7219 - val_mse: 1662.7642\n",
            "Epoch 166/600\n",
            "23/23 [==============================] - 0s 3ms/step - loss: 22.8892 - mae: 22.8892 - mse: 2975.4614 - val_loss: 22.7180 - val_mae: 22.7180 - val_mse: 1661.7601\n",
            "Epoch 167/600\n",
            "23/23 [==============================] - 0s 3ms/step - loss: 22.8870 - mae: 22.8870 - mse: 2974.5850 - val_loss: 22.7145 - val_mae: 22.7145 - val_mse: 1660.8971\n",
            "Epoch 168/600\n",
            "23/23 [==============================] - 0s 2ms/step - loss: 22.8850 - mae: 22.8850 - mse: 2973.7832 - val_loss: 22.7111 - val_mae: 22.7111 - val_mse: 1660.0502\n",
            "Epoch 169/600\n",
            "23/23 [==============================] - 0s 3ms/step - loss: 22.8834 - mae: 22.8834 - mse: 2972.8398 - val_loss: 22.7083 - val_mae: 22.7083 - val_mse: 1659.3821\n",
            "Epoch 170/600\n",
            "23/23 [==============================] - 0s 2ms/step - loss: 22.8820 - mae: 22.8820 - mse: 2972.2366 - val_loss: 22.7057 - val_mae: 22.7057 - val_mse: 1658.7561\n",
            "Epoch 171/600\n",
            "23/23 [==============================] - 0s 2ms/step - loss: 22.8809 - mae: 22.8809 - mse: 2971.4937 - val_loss: 22.7026 - val_mae: 22.7026 - val_mse: 1657.9767\n",
            "Epoch 172/600\n",
            "23/23 [==============================] - 0s 2ms/step - loss: 22.8793 - mae: 22.8793 - mse: 2970.7075 - val_loss: 22.7000 - val_mae: 22.7000 - val_mse: 1657.3467\n",
            "Epoch 173/600\n",
            "23/23 [==============================] - 0s 2ms/step - loss: 22.8780 - mae: 22.8780 - mse: 2970.2280 - val_loss: 22.6969 - val_mae: 22.6969 - val_mse: 1656.5698\n",
            "Epoch 174/600\n",
            "23/23 [==============================] - 0s 2ms/step - loss: 22.8765 - mae: 22.8765 - mse: 2969.2090 - val_loss: 22.6941 - val_mae: 22.6941 - val_mse: 1655.8541\n",
            "Epoch 175/600\n",
            "23/23 [==============================] - 0s 3ms/step - loss: 22.8751 - mae: 22.8751 - mse: 2968.3125 - val_loss: 22.6916 - val_mae: 22.6916 - val_mse: 1655.2751\n",
            "Epoch 176/600\n",
            "23/23 [==============================] - 0s 3ms/step - loss: 22.8740 - mae: 22.8740 - mse: 2967.8496 - val_loss: 22.6888 - val_mae: 22.6888 - val_mse: 1654.5586\n",
            "Epoch 177/600\n",
            "23/23 [==============================] - 0s 3ms/step - loss: 22.8725 - mae: 22.8725 - mse: 2967.2275 - val_loss: 22.6859 - val_mae: 22.6859 - val_mse: 1653.8370\n",
            "Epoch 178/600\n",
            "23/23 [==============================] - 0s 2ms/step - loss: 22.8710 - mae: 22.8710 - mse: 2966.4084 - val_loss: 22.6830 - val_mae: 22.6830 - val_mse: 1653.1714\n",
            "Epoch 179/600\n",
            "23/23 [==============================] - 0s 3ms/step - loss: 22.8697 - mae: 22.8697 - mse: 2965.7485 - val_loss: 22.6809 - val_mae: 22.6809 - val_mse: 1652.7203\n",
            "Epoch 180/600\n",
            "23/23 [==============================] - 0s 2ms/step - loss: 22.8687 - mae: 22.8687 - mse: 2965.4065 - val_loss: 22.6786 - val_mae: 22.6786 - val_mse: 1652.1439\n",
            "Epoch 181/600\n",
            "23/23 [==============================] - 0s 2ms/step - loss: 22.8678 - mae: 22.8678 - mse: 2964.8486 - val_loss: 22.6758 - val_mae: 22.6758 - val_mse: 1651.5060\n",
            "Epoch 182/600\n",
            "23/23 [==============================] - 0s 2ms/step - loss: 22.8664 - mae: 22.8664 - mse: 2964.1924 - val_loss: 22.6723 - val_mae: 22.6723 - val_mse: 1650.6710\n",
            "Epoch 183/600\n",
            "23/23 [==============================] - 0s 2ms/step - loss: 22.8648 - mae: 22.8648 - mse: 2963.2112 - val_loss: 22.6695 - val_mae: 22.6695 - val_mse: 1650.0192\n",
            "Epoch 184/600\n",
            "23/23 [==============================] - 0s 2ms/step - loss: 22.8636 - mae: 22.8636 - mse: 2962.4717 - val_loss: 22.6668 - val_mae: 22.6668 - val_mse: 1649.4376\n",
            "Epoch 185/600\n",
            "23/23 [==============================] - 0s 2ms/step - loss: 22.8623 - mae: 22.8623 - mse: 2962.0361 - val_loss: 22.6640 - val_mae: 22.6640 - val_mse: 1648.8104\n",
            "Epoch 186/600\n",
            "23/23 [==============================] - 0s 2ms/step - loss: 22.8611 - mae: 22.8611 - mse: 2961.4084 - val_loss: 22.6610 - val_mae: 22.6610 - val_mse: 1648.0839\n",
            "Epoch 187/600\n",
            "23/23 [==============================] - 0s 2ms/step - loss: 22.8597 - mae: 22.8597 - mse: 2960.4705 - val_loss: 22.6590 - val_mae: 22.6590 - val_mse: 1647.7131\n",
            "Epoch 188/600\n",
            "23/23 [==============================] - 0s 2ms/step - loss: 22.8588 - mae: 22.8588 - mse: 2960.1833 - val_loss: 22.6571 - val_mae: 22.6571 - val_mse: 1647.3165\n",
            "Epoch 189/600\n",
            "23/23 [==============================] - 0s 2ms/step - loss: 22.8580 - mae: 22.8580 - mse: 2959.8716 - val_loss: 22.6553 - val_mae: 22.6553 - val_mse: 1646.8208\n",
            "Epoch 190/600\n",
            "23/23 [==============================] - 0s 2ms/step - loss: 22.8571 - mae: 22.8571 - mse: 2959.5120 - val_loss: 22.6535 - val_mae: 22.6535 - val_mse: 1646.3390\n",
            "Epoch 191/600\n",
            "23/23 [==============================] - 0s 3ms/step - loss: 22.8561 - mae: 22.8561 - mse: 2958.8611 - val_loss: 22.6519 - val_mae: 22.6519 - val_mse: 1645.9865\n",
            "Epoch 192/600\n",
            "23/23 [==============================] - 0s 3ms/step - loss: 22.8552 - mae: 22.8552 - mse: 2958.3604 - val_loss: 22.6501 - val_mae: 22.6501 - val_mse: 1645.5100\n",
            "Epoch 193/600\n",
            "23/23 [==============================] - 0s 2ms/step - loss: 22.8544 - mae: 22.8544 - mse: 2957.9028 - val_loss: 22.6478 - val_mae: 22.6478 - val_mse: 1644.8411\n",
            "Epoch 194/600\n",
            "23/23 [==============================] - 0s 3ms/step - loss: 22.8532 - mae: 22.8532 - mse: 2957.3337 - val_loss: 22.6459 - val_mae: 22.6459 - val_mse: 1644.2645\n",
            "Epoch 195/600\n",
            "23/23 [==============================] - 0s 2ms/step - loss: 22.8523 - mae: 22.8523 - mse: 2956.5352 - val_loss: 22.6438 - val_mae: 22.6438 - val_mse: 1643.6207\n",
            "Epoch 196/600\n",
            "23/23 [==============================] - 0s 2ms/step - loss: 22.8511 - mae: 22.8511 - mse: 2955.9460 - val_loss: 22.6418 - val_mae: 22.6418 - val_mse: 1643.0336\n",
            "Epoch 197/600\n",
            "23/23 [==============================] - 0s 3ms/step - loss: 22.8502 - mae: 22.8502 - mse: 2955.2234 - val_loss: 22.6398 - val_mae: 22.6398 - val_mse: 1642.4783\n",
            "Epoch 198/600\n",
            "23/23 [==============================] - 0s 3ms/step - loss: 22.8492 - mae: 22.8492 - mse: 2954.6567 - val_loss: 22.6380 - val_mae: 22.6380 - val_mse: 1642.0123\n",
            "Epoch 199/600\n",
            "23/23 [==============================] - 0s 2ms/step - loss: 22.8482 - mae: 22.8482 - mse: 2954.3845 - val_loss: 22.6360 - val_mae: 22.6360 - val_mse: 1641.4747\n",
            "Epoch 200/600\n",
            "23/23 [==============================] - 0s 2ms/step - loss: 22.8473 - mae: 22.8473 - mse: 2953.7202 - val_loss: 22.6343 - val_mae: 22.6343 - val_mse: 1641.1066\n",
            "Epoch 201/600\n",
            "23/23 [==============================] - 0s 2ms/step - loss: 22.8465 - mae: 22.8465 - mse: 2953.2766 - val_loss: 22.6325 - val_mae: 22.6325 - val_mse: 1640.6846\n",
            "Epoch 202/600\n",
            "23/23 [==============================] - 0s 2ms/step - loss: 22.8457 - mae: 22.8457 - mse: 2952.9500 - val_loss: 22.6309 - val_mae: 22.6309 - val_mse: 1640.3401\n",
            "Epoch 203/600\n",
            "23/23 [==============================] - 0s 3ms/step - loss: 22.8449 - mae: 22.8449 - mse: 2952.6287 - val_loss: 22.6290 - val_mae: 22.6290 - val_mse: 1639.7817\n",
            "Epoch 204/600\n",
            "23/23 [==============================] - 0s 2ms/step - loss: 22.8441 - mae: 22.8441 - mse: 2952.0771 - val_loss: 22.6274 - val_mae: 22.6274 - val_mse: 1639.3774\n",
            "Epoch 205/600\n",
            "23/23 [==============================] - 0s 2ms/step - loss: 22.8432 - mae: 22.8432 - mse: 2951.4463 - val_loss: 22.6259 - val_mae: 22.6259 - val_mse: 1639.0181\n",
            "Epoch 206/600\n",
            "23/23 [==============================] - 0s 2ms/step - loss: 22.8427 - mae: 22.8427 - mse: 2951.1470 - val_loss: 22.6245 - val_mae: 22.6245 - val_mse: 1638.7373\n",
            "Epoch 207/600\n",
            "23/23 [==============================] - 0s 2ms/step - loss: 22.8419 - mae: 22.8419 - mse: 2950.9829 - val_loss: 22.6227 - val_mae: 22.6227 - val_mse: 1638.2572\n",
            "Epoch 208/600\n",
            "23/23 [==============================] - 0s 3ms/step - loss: 22.8411 - mae: 22.8411 - mse: 2950.3696 - val_loss: 22.6214 - val_mae: 22.6214 - val_mse: 1637.9484\n",
            "Epoch 209/600\n",
            "23/23 [==============================] - 0s 3ms/step - loss: 22.8405 - mae: 22.8405 - mse: 2950.0059 - val_loss: 22.6199 - val_mae: 22.6199 - val_mse: 1637.5913\n",
            "Epoch 210/600\n",
            "23/23 [==============================] - 0s 2ms/step - loss: 22.8397 - mae: 22.8397 - mse: 2949.8191 - val_loss: 22.6179 - val_mae: 22.6179 - val_mse: 1637.0145\n",
            "Epoch 211/600\n",
            "23/23 [==============================] - 0s 2ms/step - loss: 22.8389 - mae: 22.8389 - mse: 2949.0942 - val_loss: 22.6163 - val_mae: 22.6163 - val_mse: 1636.6257\n",
            "Epoch 212/600\n",
            "23/23 [==============================] - 0s 3ms/step - loss: 22.8382 - mae: 22.8382 - mse: 2948.5906 - val_loss: 22.6148 - val_mae: 22.6148 - val_mse: 1636.2557\n",
            "Epoch 213/600\n",
            "23/23 [==============================] - 0s 2ms/step - loss: 22.8375 - mae: 22.8375 - mse: 2948.4897 - val_loss: 22.6133 - val_mae: 22.6133 - val_mse: 1635.8651\n",
            "Epoch 214/600\n",
            "23/23 [==============================] - 0s 2ms/step - loss: 22.8369 - mae: 22.8369 - mse: 2947.8931 - val_loss: 22.6121 - val_mae: 22.6121 - val_mse: 1635.6121\n",
            "Epoch 215/600\n",
            "23/23 [==============================] - 0s 2ms/step - loss: 22.8362 - mae: 22.8362 - mse: 2947.5786 - val_loss: 22.6108 - val_mae: 22.6108 - val_mse: 1635.3779\n",
            "Epoch 216/600\n",
            "23/23 [==============================] - 0s 3ms/step - loss: 22.8356 - mae: 22.8356 - mse: 2947.5007 - val_loss: 22.6092 - val_mae: 22.6092 - val_mse: 1634.9955\n",
            "Epoch 217/600\n",
            "23/23 [==============================] - 0s 3ms/step - loss: 22.8348 - mae: 22.8348 - mse: 2947.1118 - val_loss: 22.6074 - val_mae: 22.6074 - val_mse: 1634.5155\n",
            "Epoch 218/600\n",
            "23/23 [==============================] - 0s 2ms/step - loss: 22.8341 - mae: 22.8341 - mse: 2946.4270 - val_loss: 22.6057 - val_mae: 22.6057 - val_mse: 1634.0966\n",
            "Epoch 219/600\n",
            "23/23 [==============================] - 0s 3ms/step - loss: 22.8332 - mae: 22.8332 - mse: 2945.9951 - val_loss: 22.6039 - val_mae: 22.6039 - val_mse: 1633.6366\n",
            "Epoch 220/600\n",
            "23/23 [==============================] - 0s 2ms/step - loss: 22.8325 - mae: 22.8325 - mse: 2945.5986 - val_loss: 22.6022 - val_mae: 22.6022 - val_mse: 1633.2019\n",
            "Epoch 221/600\n",
            "23/23 [==============================] - 0s 3ms/step - loss: 22.8317 - mae: 22.8317 - mse: 2945.0750 - val_loss: 22.6009 - val_mae: 22.6009 - val_mse: 1632.9066\n",
            "Epoch 222/600\n",
            "23/23 [==============================] - 0s 3ms/step - loss: 22.8311 - mae: 22.8311 - mse: 2944.8738 - val_loss: 22.5992 - val_mae: 22.5992 - val_mse: 1632.4679\n",
            "Epoch 223/600\n",
            "23/23 [==============================] - 0s 3ms/step - loss: 22.8303 - mae: 22.8303 - mse: 2944.3081 - val_loss: 22.5978 - val_mae: 22.5978 - val_mse: 1632.1890\n",
            "Epoch 224/600\n",
            "23/23 [==============================] - 0s 2ms/step - loss: 22.8296 - mae: 22.8296 - mse: 2943.9573 - val_loss: 22.5965 - val_mae: 22.5965 - val_mse: 1631.9558\n",
            "Epoch 225/600\n",
            "23/23 [==============================] - 0s 2ms/step - loss: 22.8290 - mae: 22.8290 - mse: 2943.7598 - val_loss: 22.5955 - val_mae: 22.5955 - val_mse: 1631.8464\n",
            "Epoch 226/600\n",
            "23/23 [==============================] - 0s 2ms/step - loss: 22.8286 - mae: 22.8286 - mse: 2943.5725 - val_loss: 22.5936 - val_mae: 22.5936 - val_mse: 1631.3140\n",
            "Epoch 227/600\n",
            "23/23 [==============================] - 0s 3ms/step - loss: 22.8275 - mae: 22.8275 - mse: 2943.1123 - val_loss: 22.5921 - val_mae: 22.5921 - val_mse: 1630.9801\n",
            "Epoch 228/600\n",
            "23/23 [==============================] - 0s 3ms/step - loss: 22.8270 - mae: 22.8270 - mse: 2942.8079 - val_loss: 22.5906 - val_mae: 22.5906 - val_mse: 1630.5867\n",
            "Epoch 229/600\n",
            "23/23 [==============================] - 0s 3ms/step - loss: 22.8262 - mae: 22.8262 - mse: 2942.3174 - val_loss: 22.5887 - val_mae: 22.5887 - val_mse: 1630.0773\n",
            "Epoch 230/600\n",
            "23/23 [==============================] - 0s 3ms/step - loss: 22.8253 - mae: 22.8253 - mse: 2941.8193 - val_loss: 22.5866 - val_mae: 22.5866 - val_mse: 1629.4340\n",
            "Epoch 231/600\n",
            "23/23 [==============================] - 0s 3ms/step - loss: 22.8243 - mae: 22.8243 - mse: 2941.0669 - val_loss: 22.5848 - val_mae: 22.5848 - val_mse: 1628.9727\n",
            "Epoch 232/600\n",
            "23/23 [==============================] - 0s 2ms/step - loss: 22.8237 - mae: 22.8237 - mse: 2940.7700 - val_loss: 22.5834 - val_mae: 22.5834 - val_mse: 1628.6501\n",
            "Epoch 233/600\n",
            "23/23 [==============================] - 0s 3ms/step - loss: 22.8230 - mae: 22.8230 - mse: 2940.3696 - val_loss: 22.5823 - val_mae: 22.5823 - val_mse: 1628.4423\n",
            "Epoch 234/600\n",
            "23/23 [==============================] - 0s 2ms/step - loss: 22.8225 - mae: 22.8225 - mse: 2940.1807 - val_loss: 22.5801 - val_mae: 22.5801 - val_mse: 1627.7944\n",
            "Epoch 235/600\n",
            "23/23 [==============================] - 0s 3ms/step - loss: 22.8214 - mae: 22.8214 - mse: 2939.1316 - val_loss: 22.5790 - val_mae: 22.5790 - val_mse: 1627.5811\n",
            "Epoch 236/600\n",
            "23/23 [==============================] - 0s 2ms/step - loss: 22.8210 - mae: 22.8210 - mse: 2939.2229 - val_loss: 22.5776 - val_mae: 22.5776 - val_mse: 1627.2997\n",
            "Epoch 237/600\n",
            "23/23 [==============================] - 0s 2ms/step - loss: 22.8203 - mae: 22.8203 - mse: 2938.8611 - val_loss: 22.5758 - val_mae: 22.5758 - val_mse: 1626.8070\n",
            "Epoch 238/600\n",
            "23/23 [==============================] - 0s 3ms/step - loss: 22.8195 - mae: 22.8195 - mse: 2938.4504 - val_loss: 22.5740 - val_mae: 22.5740 - val_mse: 1626.3522\n",
            "Epoch 239/600\n",
            "23/23 [==============================] - 0s 2ms/step - loss: 22.8186 - mae: 22.8186 - mse: 2937.9265 - val_loss: 22.5724 - val_mae: 22.5724 - val_mse: 1625.9607\n",
            "Epoch 240/600\n",
            "23/23 [==============================] - 0s 2ms/step - loss: 22.8179 - mae: 22.8179 - mse: 2937.4685 - val_loss: 22.5705 - val_mae: 22.5705 - val_mse: 1625.4579\n",
            "Epoch 241/600\n",
            "23/23 [==============================] - 0s 3ms/step - loss: 22.8170 - mae: 22.8170 - mse: 2937.0303 - val_loss: 22.5685 - val_mae: 22.5685 - val_mse: 1624.8877\n",
            "Epoch 242/600\n",
            "23/23 [==============================] - 0s 3ms/step - loss: 22.8161 - mae: 22.8161 - mse: 2936.1711 - val_loss: 22.5670 - val_mae: 22.5670 - val_mse: 1624.5593\n",
            "Epoch 243/600\n",
            "23/23 [==============================] - 0s 3ms/step - loss: 22.8156 - mae: 22.8156 - mse: 2935.9758 - val_loss: 22.5657 - val_mae: 22.5657 - val_mse: 1624.2745\n",
            "Epoch 244/600\n",
            "23/23 [==============================] - 0s 2ms/step - loss: 22.8148 - mae: 22.8148 - mse: 2935.7490 - val_loss: 22.5642 - val_mae: 22.5642 - val_mse: 1623.8495\n",
            "Epoch 245/600\n",
            "23/23 [==============================] - 0s 3ms/step - loss: 22.8142 - mae: 22.8142 - mse: 2935.2751 - val_loss: 22.5626 - val_mae: 22.5626 - val_mse: 1623.4948\n",
            "Epoch 246/600\n",
            "23/23 [==============================] - 0s 3ms/step - loss: 22.8135 - mae: 22.8135 - mse: 2935.1023 - val_loss: 22.5612 - val_mae: 22.5612 - val_mse: 1623.2595\n",
            "Epoch 247/600\n",
            "23/23 [==============================] - 0s 2ms/step - loss: 22.8128 - mae: 22.8128 - mse: 2934.8584 - val_loss: 22.5599 - val_mae: 22.5599 - val_mse: 1622.9631\n",
            "Epoch 248/600\n",
            "23/23 [==============================] - 0s 2ms/step - loss: 22.8123 - mae: 22.8123 - mse: 2934.4534 - val_loss: 22.5586 - val_mae: 22.5586 - val_mse: 1622.7415\n",
            "Epoch 249/600\n",
            "23/23 [==============================] - 0s 2ms/step - loss: 22.8119 - mae: 22.8119 - mse: 2934.0315 - val_loss: 22.5572 - val_mae: 22.5572 - val_mse: 1622.4180\n",
            "Epoch 250/600\n",
            "23/23 [==============================] - 0s 3ms/step - loss: 22.8110 - mae: 22.8110 - mse: 2933.9104 - val_loss: 22.5553 - val_mae: 22.5553 - val_mse: 1621.9399\n",
            "Epoch 251/600\n",
            "23/23 [==============================] - 0s 3ms/step - loss: 22.8103 - mae: 22.8103 - mse: 2933.5601 - val_loss: 22.5537 - val_mae: 22.5537 - val_mse: 1621.4911\n",
            "Epoch 252/600\n",
            "23/23 [==============================] - 0s 2ms/step - loss: 22.8097 - mae: 22.8097 - mse: 2932.7041 - val_loss: 22.5518 - val_mae: 22.5518 - val_mse: 1620.9626\n",
            "Epoch 253/600\n",
            "23/23 [==============================] - 0s 3ms/step - loss: 22.8087 - mae: 22.8087 - mse: 2932.3120 - val_loss: 22.5505 - val_mae: 22.5505 - val_mse: 1620.6763\n",
            "Epoch 254/600\n",
            "23/23 [==============================] - 0s 4ms/step - loss: 22.8082 - mae: 22.8082 - mse: 2931.9038 - val_loss: 22.5491 - val_mae: 22.5491 - val_mse: 1620.3418\n",
            "Epoch 255/600\n",
            "23/23 [==============================] - 0s 2ms/step - loss: 22.8076 - mae: 22.8076 - mse: 2931.6931 - val_loss: 22.5479 - val_mae: 22.5479 - val_mse: 1620.0830\n",
            "Epoch 256/600\n",
            "23/23 [==============================] - 0s 3ms/step - loss: 22.8072 - mae: 22.8072 - mse: 2931.3740 - val_loss: 22.5463 - val_mae: 22.5463 - val_mse: 1619.7031\n",
            "Epoch 257/600\n",
            "23/23 [==============================] - 0s 3ms/step - loss: 22.8064 - mae: 22.8064 - mse: 2930.8767 - val_loss: 22.5448 - val_mae: 22.5448 - val_mse: 1619.3534\n",
            "Epoch 258/600\n",
            "23/23 [==============================] - 0s 2ms/step - loss: 22.8057 - mae: 22.8057 - mse: 2930.6147 - val_loss: 22.5432 - val_mae: 22.5432 - val_mse: 1618.9608\n",
            "Epoch 259/600\n",
            "23/23 [==============================] - 0s 3ms/step - loss: 22.8050 - mae: 22.8050 - mse: 2930.0872 - val_loss: 22.5419 - val_mae: 22.5419 - val_mse: 1618.6577\n",
            "Epoch 260/600\n",
            "23/23 [==============================] - 0s 3ms/step - loss: 22.8044 - mae: 22.8044 - mse: 2929.9407 - val_loss: 22.5403 - val_mae: 22.5403 - val_mse: 1618.2592\n",
            "Epoch 261/600\n",
            "23/23 [==============================] - 0s 2ms/step - loss: 22.8038 - mae: 22.8038 - mse: 2929.3074 - val_loss: 22.5387 - val_mae: 22.5387 - val_mse: 1617.8365\n",
            "Epoch 262/600\n",
            "23/23 [==============================] - 0s 3ms/step - loss: 22.8032 - mae: 22.8032 - mse: 2929.0312 - val_loss: 22.5376 - val_mae: 22.5376 - val_mse: 1617.6699\n",
            "Epoch 263/600\n",
            "23/23 [==============================] - 0s 2ms/step - loss: 22.8026 - mae: 22.8026 - mse: 2928.8613 - val_loss: 22.5363 - val_mae: 22.5363 - val_mse: 1617.3743\n",
            "Epoch 264/600\n",
            "23/23 [==============================] - 0s 2ms/step - loss: 22.8021 - mae: 22.8021 - mse: 2928.7000 - val_loss: 22.5351 - val_mae: 22.5351 - val_mse: 1617.0526\n",
            "Epoch 265/600\n",
            "23/23 [==============================] - 0s 3ms/step - loss: 22.8015 - mae: 22.8015 - mse: 2928.2217 - val_loss: 22.5339 - val_mae: 22.5339 - val_mse: 1616.7286\n",
            "Epoch 266/600\n",
            "23/23 [==============================] - 0s 3ms/step - loss: 22.8010 - mae: 22.8010 - mse: 2927.9553 - val_loss: 22.5323 - val_mae: 22.5323 - val_mse: 1616.2030\n",
            "Epoch 267/600\n",
            "23/23 [==============================] - 0s 3ms/step - loss: 22.8003 - mae: 22.8003 - mse: 2927.3418 - val_loss: 22.5309 - val_mae: 22.5309 - val_mse: 1615.7998\n",
            "Epoch 268/600\n",
            "23/23 [==============================] - 0s 2ms/step - loss: 22.7997 - mae: 22.7997 - mse: 2926.8672 - val_loss: 22.5297 - val_mae: 22.5297 - val_mse: 1615.5601\n",
            "Epoch 269/600\n",
            "23/23 [==============================] - 0s 2ms/step - loss: 22.7992 - mae: 22.7992 - mse: 2926.6760 - val_loss: 22.5289 - val_mae: 22.5289 - val_mse: 1615.3618\n",
            "Epoch 270/600\n",
            "23/23 [==============================] - 0s 2ms/step - loss: 22.7989 - mae: 22.7989 - mse: 2926.2505 - val_loss: 22.5279 - val_mae: 22.5279 - val_mse: 1615.1378\n",
            "Epoch 271/600\n",
            "23/23 [==============================] - 0s 2ms/step - loss: 22.7983 - mae: 22.7983 - mse: 2926.2585 - val_loss: 22.5267 - val_mae: 22.5267 - val_mse: 1614.8622\n",
            "Epoch 272/600\n",
            "23/23 [==============================] - 0s 2ms/step - loss: 22.7980 - mae: 22.7980 - mse: 2925.8069 - val_loss: 22.5255 - val_mae: 22.5255 - val_mse: 1614.5973\n",
            "Epoch 273/600\n",
            "23/23 [==============================] - 0s 2ms/step - loss: 22.7973 - mae: 22.7973 - mse: 2925.6514 - val_loss: 22.5245 - val_mae: 22.5245 - val_mse: 1614.3116\n",
            "Epoch 274/600\n",
            "23/23 [==============================] - 0s 3ms/step - loss: 22.7969 - mae: 22.7969 - mse: 2925.1421 - val_loss: 22.5231 - val_mae: 22.5231 - val_mse: 1613.9619\n",
            "Epoch 275/600\n",
            "23/23 [==============================] - 0s 2ms/step - loss: 22.7962 - mae: 22.7962 - mse: 2924.9268 - val_loss: 22.5219 - val_mae: 22.5219 - val_mse: 1613.6868\n",
            "Epoch 276/600\n",
            "23/23 [==============================] - 0s 2ms/step - loss: 22.7958 - mae: 22.7958 - mse: 2924.8113 - val_loss: 22.5206 - val_mae: 22.5206 - val_mse: 1613.3406\n",
            "Epoch 277/600\n",
            "23/23 [==============================] - 0s 2ms/step - loss: 22.7953 - mae: 22.7953 - mse: 2924.1943 - val_loss: 22.5194 - val_mae: 22.5194 - val_mse: 1613.0642\n",
            "Epoch 278/600\n",
            "23/23 [==============================] - 0s 3ms/step - loss: 22.7947 - mae: 22.7947 - mse: 2923.9741 - val_loss: 22.5185 - val_mae: 22.5185 - val_mse: 1612.9342\n",
            "Epoch 279/600\n",
            "23/23 [==============================] - 0s 3ms/step - loss: 22.7945 - mae: 22.7945 - mse: 2923.7988 - val_loss: 22.5173 - val_mae: 22.5173 - val_mse: 1612.6398\n",
            "Epoch 280/600\n",
            "23/23 [==============================] - 0s 3ms/step - loss: 22.7937 - mae: 22.7937 - mse: 2923.6016 - val_loss: 22.5164 - val_mae: 22.5164 - val_mse: 1612.4502\n",
            "Epoch 281/600\n",
            "23/23 [==============================] - 0s 3ms/step - loss: 22.7933 - mae: 22.7933 - mse: 2923.2751 - val_loss: 22.5153 - val_mae: 22.5153 - val_mse: 1612.2504\n",
            "Epoch 282/600\n",
            "23/23 [==============================] - 0s 3ms/step - loss: 22.7928 - mae: 22.7928 - mse: 2923.2146 - val_loss: 22.5144 - val_mae: 22.5144 - val_mse: 1612.0426\n",
            "Epoch 283/600\n",
            "23/23 [==============================] - 0s 3ms/step - loss: 22.7925 - mae: 22.7925 - mse: 2923.1287 - val_loss: 22.5132 - val_mae: 22.5132 - val_mse: 1611.7205\n",
            "Epoch 284/600\n",
            "23/23 [==============================] - 0s 2ms/step - loss: 22.7919 - mae: 22.7919 - mse: 2922.4033 - val_loss: 22.5120 - val_mae: 22.5120 - val_mse: 1611.3767\n",
            "Epoch 285/600\n",
            "23/23 [==============================] - 0s 2ms/step - loss: 22.7914 - mae: 22.7914 - mse: 2922.2217 - val_loss: 22.5108 - val_mae: 22.5108 - val_mse: 1611.0164\n",
            "Epoch 286/600\n",
            "23/23 [==============================] - 0s 3ms/step - loss: 22.7908 - mae: 22.7908 - mse: 2921.8596 - val_loss: 22.5095 - val_mae: 22.5095 - val_mse: 1610.7255\n",
            "Epoch 287/600\n",
            "23/23 [==============================] - 0s 3ms/step - loss: 22.7904 - mae: 22.7904 - mse: 2921.4324 - val_loss: 22.5087 - val_mae: 22.5087 - val_mse: 1610.6074\n",
            "Epoch 288/600\n",
            "23/23 [==============================] - 0s 2ms/step - loss: 22.7899 - mae: 22.7899 - mse: 2921.3423 - val_loss: 22.5076 - val_mae: 22.5076 - val_mse: 1610.3546\n",
            "Epoch 289/600\n",
            "23/23 [==============================] - 0s 2ms/step - loss: 22.7893 - mae: 22.7893 - mse: 2921.0710 - val_loss: 22.5066 - val_mae: 22.5066 - val_mse: 1610.1715\n",
            "Epoch 290/600\n",
            "23/23 [==============================] - 0s 2ms/step - loss: 22.7890 - mae: 22.7890 - mse: 2921.1780 - val_loss: 22.5052 - val_mae: 22.5052 - val_mse: 1609.7561\n",
            "Epoch 291/600\n",
            "23/23 [==============================] - 0s 3ms/step - loss: 22.7884 - mae: 22.7884 - mse: 2920.4558 - val_loss: 22.5041 - val_mae: 22.5041 - val_mse: 1609.4839\n",
            "Epoch 292/600\n",
            "23/23 [==============================] - 0s 3ms/step - loss: 22.7879 - mae: 22.7879 - mse: 2920.2634 - val_loss: 22.5032 - val_mae: 22.5032 - val_mse: 1609.2692\n",
            "Epoch 293/600\n",
            "23/23 [==============================] - 0s 3ms/step - loss: 22.7876 - mae: 22.7876 - mse: 2920.0100 - val_loss: 22.5024 - val_mae: 22.5024 - val_mse: 1609.1968\n",
            "Epoch 294/600\n",
            "23/23 [==============================] - 0s 2ms/step - loss: 22.7871 - mae: 22.7871 - mse: 2919.8953 - val_loss: 22.5010 - val_mae: 22.5010 - val_mse: 1608.7837\n",
            "Epoch 295/600\n",
            "23/23 [==============================] - 0s 3ms/step - loss: 22.7865 - mae: 22.7865 - mse: 2919.4817 - val_loss: 22.5000 - val_mae: 22.5000 - val_mse: 1608.5745\n",
            "Epoch 296/600\n",
            "23/23 [==============================] - 0s 2ms/step - loss: 22.7861 - mae: 22.7861 - mse: 2919.0095 - val_loss: 22.4990 - val_mae: 22.4990 - val_mse: 1608.3911\n",
            "Epoch 297/600\n",
            "23/23 [==============================] - 0s 3ms/step - loss: 22.7856 - mae: 22.7856 - mse: 2918.9841 - val_loss: 22.4979 - val_mae: 22.4979 - val_mse: 1608.1405\n",
            "Epoch 298/600\n",
            "23/23 [==============================] - 0s 3ms/step - loss: 22.7851 - mae: 22.7851 - mse: 2918.7815 - val_loss: 22.4972 - val_mae: 22.4972 - val_mse: 1608.0558\n",
            "Epoch 299/600\n",
            "23/23 [==============================] - 0s 2ms/step - loss: 22.7848 - mae: 22.7848 - mse: 2918.7502 - val_loss: 22.4964 - val_mae: 22.4964 - val_mse: 1607.9067\n",
            "Epoch 300/600\n",
            "23/23 [==============================] - 0s 2ms/step - loss: 22.7844 - mae: 22.7844 - mse: 2918.5208 - val_loss: 22.4954 - val_mae: 22.4954 - val_mse: 1607.7230\n",
            "Epoch 301/600\n",
            "23/23 [==============================] - 0s 2ms/step - loss: 22.7839 - mae: 22.7839 - mse: 2918.4463 - val_loss: 22.4946 - val_mae: 22.4946 - val_mse: 1607.5709\n",
            "Epoch 302/600\n",
            "23/23 [==============================] - 0s 3ms/step - loss: 22.7835 - mae: 22.7835 - mse: 2918.0632 - val_loss: 22.4937 - val_mae: 22.4937 - val_mse: 1607.3843\n",
            "Epoch 303/600\n",
            "23/23 [==============================] - 0s 3ms/step - loss: 22.7832 - mae: 22.7832 - mse: 2917.9414 - val_loss: 22.4933 - val_mae: 22.4933 - val_mse: 1607.3690\n",
            "Epoch 304/600\n",
            "23/23 [==============================] - 0s 2ms/step - loss: 22.7830 - mae: 22.7830 - mse: 2917.8916 - val_loss: 22.4927 - val_mae: 22.4927 - val_mse: 1607.3538\n",
            "Epoch 305/600\n",
            "23/23 [==============================] - 0s 3ms/step - loss: 22.7827 - mae: 22.7827 - mse: 2917.9102 - val_loss: 22.4915 - val_mae: 22.4915 - val_mse: 1607.0236\n",
            "Epoch 306/600\n",
            "23/23 [==============================] - 0s 2ms/step - loss: 22.7822 - mae: 22.7822 - mse: 2917.5046 - val_loss: 22.4903 - val_mae: 22.4903 - val_mse: 1606.7144\n",
            "Epoch 307/600\n",
            "23/23 [==============================] - 0s 3ms/step - loss: 22.7817 - mae: 22.7817 - mse: 2917.3330 - val_loss: 22.4889 - val_mae: 22.4889 - val_mse: 1606.3158\n",
            "Epoch 308/600\n",
            "23/23 [==============================] - 0s 2ms/step - loss: 22.7813 - mae: 22.7813 - mse: 2916.7944 - val_loss: 22.4880 - val_mae: 22.4880 - val_mse: 1606.1635\n",
            "Epoch 309/600\n",
            "23/23 [==============================] - 0s 3ms/step - loss: 22.7809 - mae: 22.7809 - mse: 2916.6777 - val_loss: 22.4871 - val_mae: 22.4871 - val_mse: 1605.9528\n",
            "Epoch 310/600\n",
            "23/23 [==============================] - 0s 2ms/step - loss: 22.7805 - mae: 22.7805 - mse: 2916.5078 - val_loss: 22.4861 - val_mae: 22.4861 - val_mse: 1605.7465\n",
            "Epoch 311/600\n",
            "23/23 [==============================] - 0s 2ms/step - loss: 22.7801 - mae: 22.7801 - mse: 2916.2920 - val_loss: 22.4850 - val_mae: 22.4850 - val_mse: 1605.5067\n",
            "Epoch 312/600\n",
            "23/23 [==============================] - 0s 3ms/step - loss: 22.7796 - mae: 22.7796 - mse: 2915.9082 - val_loss: 22.4841 - val_mae: 22.4841 - val_mse: 1605.3120\n",
            "Epoch 313/600\n",
            "23/23 [==============================] - 0s 3ms/step - loss: 22.7793 - mae: 22.7793 - mse: 2915.7686 - val_loss: 22.4826 - val_mae: 22.4826 - val_mse: 1604.8813\n",
            "Epoch 314/600\n",
            "23/23 [==============================] - 0s 2ms/step - loss: 22.7789 - mae: 22.7789 - mse: 2915.3679 - val_loss: 22.4812 - val_mae: 22.4812 - val_mse: 1604.4392\n",
            "Epoch 315/600\n",
            "23/23 [==============================] - 0s 2ms/step - loss: 22.7785 - mae: 22.7785 - mse: 2914.9299 - val_loss: 22.4806 - val_mae: 22.4806 - val_mse: 1604.3649\n",
            "Epoch 316/600\n",
            "23/23 [==============================] - 0s 3ms/step - loss: 22.7781 - mae: 22.7781 - mse: 2914.8391 - val_loss: 22.4800 - val_mae: 22.4800 - val_mse: 1604.3336\n",
            "Epoch 317/600\n",
            "23/23 [==============================] - 0s 3ms/step - loss: 22.7779 - mae: 22.7779 - mse: 2914.8357 - val_loss: 22.4791 - val_mae: 22.4791 - val_mse: 1604.1832\n",
            "Epoch 318/600\n",
            "23/23 [==============================] - 0s 3ms/step - loss: 22.7775 - mae: 22.7775 - mse: 2914.4570 - val_loss: 22.4783 - val_mae: 22.4783 - val_mse: 1604.0649\n",
            "Epoch 319/600\n",
            "23/23 [==============================] - 0s 3ms/step - loss: 22.7772 - mae: 22.7772 - mse: 2914.3840 - val_loss: 22.4776 - val_mae: 22.4776 - val_mse: 1603.9347\n",
            "Epoch 320/600\n",
            "23/23 [==============================] - 0s 3ms/step - loss: 22.7768 - mae: 22.7768 - mse: 2914.4119 - val_loss: 22.4761 - val_mae: 22.4761 - val_mse: 1603.4979\n",
            "Epoch 321/600\n",
            "23/23 [==============================] - 0s 4ms/step - loss: 22.7763 - mae: 22.7763 - mse: 2913.8503 - val_loss: 22.4754 - val_mae: 22.4754 - val_mse: 1603.4154\n",
            "Epoch 322/600\n",
            "23/23 [==============================] - 0s 3ms/step - loss: 22.7760 - mae: 22.7760 - mse: 2913.8584 - val_loss: 22.4747 - val_mae: 22.4747 - val_mse: 1603.2839\n",
            "Epoch 323/600\n",
            "23/23 [==============================] - 0s 3ms/step - loss: 22.7757 - mae: 22.7757 - mse: 2913.6182 - val_loss: 22.4735 - val_mae: 22.4735 - val_mse: 1603.0237\n",
            "Epoch 324/600\n",
            "23/23 [==============================] - 0s 3ms/step - loss: 22.7754 - mae: 22.7754 - mse: 2913.2041 - val_loss: 22.4728 - val_mae: 22.4728 - val_mse: 1602.9045\n",
            "Epoch 325/600\n",
            "23/23 [==============================] - 0s 5ms/step - loss: 22.7749 - mae: 22.7749 - mse: 2913.3320 - val_loss: 22.4720 - val_mae: 22.4720 - val_mse: 1602.7272\n",
            "Epoch 326/600\n",
            "23/23 [==============================] - 0s 3ms/step - loss: 22.7747 - mae: 22.7747 - mse: 2913.2739 - val_loss: 22.4711 - val_mae: 22.4711 - val_mse: 1602.5933\n",
            "Epoch 327/600\n",
            "23/23 [==============================] - 0s 3ms/step - loss: 22.7742 - mae: 22.7742 - mse: 2912.8987 - val_loss: 22.4703 - val_mae: 22.4703 - val_mse: 1602.4294\n",
            "Epoch 328/600\n",
            "23/23 [==============================] - 0s 4ms/step - loss: 22.7740 - mae: 22.7740 - mse: 2912.9248 - val_loss: 22.4690 - val_mae: 22.4690 - val_mse: 1602.1187\n",
            "Epoch 329/600\n",
            "23/23 [==============================] - 0s 3ms/step - loss: 22.7734 - mae: 22.7734 - mse: 2912.2861 - val_loss: 22.4684 - val_mae: 22.4684 - val_mse: 1602.0565\n",
            "Epoch 330/600\n",
            "23/23 [==============================] - 0s 4ms/step - loss: 22.7732 - mae: 22.7732 - mse: 2912.4419 - val_loss: 22.4676 - val_mae: 22.4676 - val_mse: 1601.9248\n",
            "Epoch 331/600\n",
            "23/23 [==============================] - 0s 3ms/step - loss: 22.7728 - mae: 22.7728 - mse: 2912.1658 - val_loss: 22.4669 - val_mae: 22.4669 - val_mse: 1601.8608\n",
            "Epoch 332/600\n",
            "23/23 [==============================] - 0s 3ms/step - loss: 22.7725 - mae: 22.7725 - mse: 2912.1240 - val_loss: 22.4661 - val_mae: 22.4661 - val_mse: 1601.7107\n",
            "Epoch 333/600\n",
            "23/23 [==============================] - 0s 3ms/step - loss: 22.7722 - mae: 22.7722 - mse: 2911.7502 - val_loss: 22.4653 - val_mae: 22.4653 - val_mse: 1601.5720\n",
            "Epoch 334/600\n",
            "23/23 [==============================] - 0s 3ms/step - loss: 22.7719 - mae: 22.7719 - mse: 2911.9624 - val_loss: 22.4643 - val_mae: 22.4643 - val_mse: 1601.3458\n",
            "Epoch 335/600\n",
            "23/23 [==============================] - 0s 3ms/step - loss: 22.7717 - mae: 22.7717 - mse: 2911.8179 - val_loss: 22.4632 - val_mae: 22.4632 - val_mse: 1601.0386\n",
            "Epoch 336/600\n",
            "23/23 [==============================] - 0s 3ms/step - loss: 22.7711 - mae: 22.7711 - mse: 2911.2056 - val_loss: 22.4623 - val_mae: 22.4623 - val_mse: 1600.8657\n",
            "Epoch 337/600\n",
            "23/23 [==============================] - 0s 3ms/step - loss: 22.7708 - mae: 22.7708 - mse: 2911.1509 - val_loss: 22.4615 - val_mae: 22.4615 - val_mse: 1600.7373\n",
            "Epoch 338/600\n",
            "23/23 [==============================] - 0s 3ms/step - loss: 22.7703 - mae: 22.7703 - mse: 2910.9312 - val_loss: 22.4606 - val_mae: 22.4606 - val_mse: 1600.5752\n",
            "Epoch 339/600\n",
            "23/23 [==============================] - 0s 2ms/step - loss: 22.7699 - mae: 22.7699 - mse: 2910.6223 - val_loss: 22.4598 - val_mae: 22.4598 - val_mse: 1600.4574\n",
            "Epoch 340/600\n",
            "23/23 [==============================] - 0s 3ms/step - loss: 22.7695 - mae: 22.7695 - mse: 2910.6245 - val_loss: 22.4585 - val_mae: 22.4585 - val_mse: 1600.1064\n",
            "Epoch 341/600\n",
            "23/23 [==============================] - 0s 3ms/step - loss: 22.7692 - mae: 22.7692 - mse: 2910.4878 - val_loss: 22.4574 - val_mae: 22.4574 - val_mse: 1599.7954\n",
            "Epoch 342/600\n",
            "23/23 [==============================] - 0s 2ms/step - loss: 22.7687 - mae: 22.7687 - mse: 2909.9585 - val_loss: 22.4562 - val_mae: 22.4562 - val_mse: 1599.4807\n",
            "Epoch 343/600\n",
            "23/23 [==============================] - 0s 3ms/step - loss: 22.7684 - mae: 22.7684 - mse: 2909.6626 - val_loss: 22.4551 - val_mae: 22.4551 - val_mse: 1599.2292\n",
            "Epoch 344/600\n",
            "23/23 [==============================] - 0s 3ms/step - loss: 22.7679 - mae: 22.7679 - mse: 2909.3438 - val_loss: 22.4543 - val_mae: 22.4543 - val_mse: 1599.1511\n",
            "Epoch 345/600\n",
            "23/23 [==============================] - 0s 3ms/step - loss: 22.7676 - mae: 22.7676 - mse: 2909.2188 - val_loss: 22.4534 - val_mae: 22.4534 - val_mse: 1598.9528\n",
            "Epoch 346/600\n",
            "23/23 [==============================] - 0s 3ms/step - loss: 22.7672 - mae: 22.7672 - mse: 2909.1055 - val_loss: 22.4523 - val_mae: 22.4523 - val_mse: 1598.6492\n",
            "Epoch 347/600\n",
            "23/23 [==============================] - 0s 3ms/step - loss: 22.7668 - mae: 22.7668 - mse: 2908.4656 - val_loss: 22.4511 - val_mae: 22.4511 - val_mse: 1598.3324\n",
            "Epoch 348/600\n",
            "23/23 [==============================] - 0s 5ms/step - loss: 22.7666 - mae: 22.7666 - mse: 2908.6147 - val_loss: 22.4501 - val_mae: 22.4501 - val_mse: 1598.1122\n",
            "Epoch 349/600\n",
            "23/23 [==============================] - 0s 3ms/step - loss: 22.7661 - mae: 22.7661 - mse: 2908.2148 - val_loss: 22.4493 - val_mae: 22.4493 - val_mse: 1597.9419\n",
            "Epoch 350/600\n",
            "23/23 [==============================] - 0s 3ms/step - loss: 22.7656 - mae: 22.7656 - mse: 2907.8774 - val_loss: 22.4482 - val_mae: 22.4482 - val_mse: 1597.6963\n",
            "Epoch 351/600\n",
            "23/23 [==============================] - 0s 3ms/step - loss: 22.7652 - mae: 22.7652 - mse: 2907.7224 - val_loss: 22.4471 - val_mae: 22.4471 - val_mse: 1597.4392\n",
            "Epoch 352/600\n",
            "23/23 [==============================] - 0s 3ms/step - loss: 22.7649 - mae: 22.7649 - mse: 2907.3823 - val_loss: 22.4461 - val_mae: 22.4461 - val_mse: 1597.2114\n",
            "Epoch 353/600\n",
            "23/23 [==============================] - 0s 3ms/step - loss: 22.7645 - mae: 22.7645 - mse: 2907.1436 - val_loss: 22.4449 - val_mae: 22.4449 - val_mse: 1596.9431\n",
            "Epoch 354/600\n",
            "23/23 [==============================] - 0s 3ms/step - loss: 22.7641 - mae: 22.7641 - mse: 2906.9419 - val_loss: 22.4437 - val_mae: 22.4437 - val_mse: 1596.6213\n",
            "Epoch 355/600\n",
            "23/23 [==============================] - 0s 3ms/step - loss: 22.7636 - mae: 22.7636 - mse: 2906.6187 - val_loss: 22.4427 - val_mae: 22.4427 - val_mse: 1596.4318\n",
            "Epoch 356/600\n",
            "23/23 [==============================] - 0s 3ms/step - loss: 22.7632 - mae: 22.7632 - mse: 2906.3901 - val_loss: 22.4416 - val_mae: 22.4416 - val_mse: 1596.1385\n",
            "Epoch 357/600\n",
            "23/23 [==============================] - 0s 3ms/step - loss: 22.7630 - mae: 22.7630 - mse: 2906.1689 - val_loss: 22.4408 - val_mae: 22.4408 - val_mse: 1596.0173\n",
            "Epoch 358/600\n",
            "23/23 [==============================] - 0s 3ms/step - loss: 22.7625 - mae: 22.7625 - mse: 2905.7754 - val_loss: 22.4400 - val_mae: 22.4400 - val_mse: 1595.8627\n",
            "Epoch 359/600\n",
            "23/23 [==============================] - 0s 3ms/step - loss: 22.7622 - mae: 22.7622 - mse: 2905.7227 - val_loss: 22.4391 - val_mae: 22.4391 - val_mse: 1595.7329\n",
            "Epoch 360/600\n",
            "23/23 [==============================] - 0s 3ms/step - loss: 22.7619 - mae: 22.7619 - mse: 2905.5283 - val_loss: 22.4384 - val_mae: 22.4384 - val_mse: 1595.6858\n",
            "Epoch 361/600\n",
            "23/23 [==============================] - 0s 3ms/step - loss: 22.7615 - mae: 22.7615 - mse: 2905.6577 - val_loss: 22.4374 - val_mae: 22.4374 - val_mse: 1595.4623\n",
            "Epoch 362/600\n",
            "23/23 [==============================] - 0s 3ms/step - loss: 22.7610 - mae: 22.7610 - mse: 2905.2380 - val_loss: 22.4363 - val_mae: 22.4363 - val_mse: 1595.2205\n",
            "Epoch 363/600\n",
            "23/23 [==============================] - 0s 3ms/step - loss: 22.7605 - mae: 22.7605 - mse: 2905.1445 - val_loss: 22.4354 - val_mae: 22.4354 - val_mse: 1594.9957\n",
            "Epoch 364/600\n",
            "23/23 [==============================] - 0s 5ms/step - loss: 22.7603 - mae: 22.7603 - mse: 2904.7249 - val_loss: 22.4346 - val_mae: 22.4346 - val_mse: 1594.8188\n",
            "Epoch 365/600\n",
            "23/23 [==============================] - 0s 3ms/step - loss: 22.7601 - mae: 22.7601 - mse: 2904.7795 - val_loss: 22.4339 - val_mae: 22.4339 - val_mse: 1594.6831\n",
            "Epoch 366/600\n",
            "23/23 [==============================] - 0s 3ms/step - loss: 22.7597 - mae: 22.7597 - mse: 2904.2976 - val_loss: 22.4330 - val_mae: 22.4330 - val_mse: 1594.4390\n",
            "Epoch 367/600\n",
            "23/23 [==============================] - 0s 3ms/step - loss: 22.7593 - mae: 22.7593 - mse: 2904.2273 - val_loss: 22.4321 - val_mae: 22.4321 - val_mse: 1594.2825\n",
            "Epoch 368/600\n",
            "23/23 [==============================] - 0s 3ms/step - loss: 22.7590 - mae: 22.7590 - mse: 2904.0291 - val_loss: 22.4309 - val_mae: 22.4309 - val_mse: 1594.0276\n",
            "Epoch 369/600\n",
            "23/23 [==============================] - 0s 3ms/step - loss: 22.7585 - mae: 22.7585 - mse: 2903.6240 - val_loss: 22.4302 - val_mae: 22.4302 - val_mse: 1593.9617\n",
            "Epoch 370/600\n",
            "23/23 [==============================] - 0s 4ms/step - loss: 22.7582 - mae: 22.7582 - mse: 2903.8354 - val_loss: 22.4294 - val_mae: 22.4294 - val_mse: 1593.8309\n",
            "Epoch 371/600\n",
            "23/23 [==============================] - 0s 3ms/step - loss: 22.7578 - mae: 22.7578 - mse: 2903.5415 - val_loss: 22.4283 - val_mae: 22.4283 - val_mse: 1593.5762\n",
            "Epoch 372/600\n",
            "23/23 [==============================] - 0s 3ms/step - loss: 22.7574 - mae: 22.7574 - mse: 2903.1958 - val_loss: 22.4272 - val_mae: 22.4272 - val_mse: 1593.3671\n",
            "Epoch 373/600\n",
            "23/23 [==============================] - 0s 3ms/step - loss: 22.7570 - mae: 22.7570 - mse: 2902.9539 - val_loss: 22.4261 - val_mae: 22.4261 - val_mse: 1593.0862\n",
            "Epoch 374/600\n",
            "23/23 [==============================] - 0s 3ms/step - loss: 22.7567 - mae: 22.7567 - mse: 2902.7217 - val_loss: 22.4253 - val_mae: 22.4253 - val_mse: 1592.9175\n",
            "Epoch 375/600\n",
            "23/23 [==============================] - 0s 3ms/step - loss: 22.7563 - mae: 22.7563 - mse: 2902.6746 - val_loss: 22.4240 - val_mae: 22.4240 - val_mse: 1592.6145\n",
            "Epoch 376/600\n",
            "23/23 [==============================] - 0s 3ms/step - loss: 22.7558 - mae: 22.7558 - mse: 2902.2761 - val_loss: 22.4231 - val_mae: 22.4231 - val_mse: 1592.3936\n",
            "Epoch 377/600\n",
            "23/23 [==============================] - 0s 3ms/step - loss: 22.7555 - mae: 22.7555 - mse: 2901.8186 - val_loss: 22.4222 - val_mae: 22.4222 - val_mse: 1592.1747\n",
            "Epoch 378/600\n",
            "23/23 [==============================] - 0s 3ms/step - loss: 22.7551 - mae: 22.7551 - mse: 2901.8430 - val_loss: 22.4211 - val_mae: 22.4211 - val_mse: 1591.8922\n",
            "Epoch 379/600\n",
            "23/23 [==============================] - 0s 4ms/step - loss: 22.7547 - mae: 22.7547 - mse: 2901.4270 - val_loss: 22.4202 - val_mae: 22.4202 - val_mse: 1591.7114\n",
            "Epoch 380/600\n",
            "23/23 [==============================] - 0s 4ms/step - loss: 22.7544 - mae: 22.7544 - mse: 2901.3076 - val_loss: 22.4191 - val_mae: 22.4191 - val_mse: 1591.4695\n",
            "Epoch 381/600\n",
            "23/23 [==============================] - 0s 3ms/step - loss: 22.7540 - mae: 22.7540 - mse: 2900.8108 - val_loss: 22.4180 - val_mae: 22.4180 - val_mse: 1591.2635\n",
            "Epoch 382/600\n",
            "23/23 [==============================] - 0s 3ms/step - loss: 22.7536 - mae: 22.7536 - mse: 2901.0127 - val_loss: 22.4167 - val_mae: 22.4167 - val_mse: 1590.9419\n",
            "Epoch 383/600\n",
            "23/23 [==============================] - 0s 4ms/step - loss: 22.7531 - mae: 22.7531 - mse: 2900.3000 - val_loss: 22.4157 - val_mae: 22.4157 - val_mse: 1590.7712\n",
            "Epoch 384/600\n",
            "23/23 [==============================] - 0s 4ms/step - loss: 22.7527 - mae: 22.7527 - mse: 2900.3145 - val_loss: 22.4145 - val_mae: 22.4145 - val_mse: 1590.4520\n",
            "Epoch 385/600\n",
            "23/23 [==============================] - 0s 3ms/step - loss: 22.7523 - mae: 22.7523 - mse: 2899.9839 - val_loss: 22.4136 - val_mae: 22.4136 - val_mse: 1590.2140\n",
            "Epoch 386/600\n",
            "23/23 [==============================] - 0s 3ms/step - loss: 22.7519 - mae: 22.7519 - mse: 2899.3909 - val_loss: 22.4125 - val_mae: 22.4125 - val_mse: 1589.9635\n",
            "Epoch 387/600\n",
            "23/23 [==============================] - 0s 4ms/step - loss: 22.7515 - mae: 22.7515 - mse: 2899.4912 - val_loss: 22.4115 - val_mae: 22.4115 - val_mse: 1589.7399\n",
            "Epoch 388/600\n",
            "23/23 [==============================] - 0s 3ms/step - loss: 22.7511 - mae: 22.7511 - mse: 2899.2764 - val_loss: 22.4104 - val_mae: 22.4104 - val_mse: 1589.4929\n",
            "Epoch 389/600\n",
            "23/23 [==============================] - 0s 3ms/step - loss: 22.7507 - mae: 22.7507 - mse: 2898.7988 - val_loss: 22.4092 - val_mae: 22.4092 - val_mse: 1589.1903\n",
            "Epoch 390/600\n",
            "23/23 [==============================] - 0s 3ms/step - loss: 22.7503 - mae: 22.7503 - mse: 2898.6243 - val_loss: 22.4084 - val_mae: 22.4084 - val_mse: 1588.9891\n",
            "Epoch 391/600\n",
            "23/23 [==============================] - 0s 3ms/step - loss: 22.7500 - mae: 22.7500 - mse: 2898.3740 - val_loss: 22.4077 - val_mae: 22.4077 - val_mse: 1588.9019\n",
            "Epoch 392/600\n",
            "23/23 [==============================] - 0s 3ms/step - loss: 22.7497 - mae: 22.7497 - mse: 2898.3823 - val_loss: 22.4069 - val_mae: 22.4069 - val_mse: 1588.7520\n",
            "Epoch 393/600\n",
            "23/23 [==============================] - 0s 3ms/step - loss: 22.7493 - mae: 22.7493 - mse: 2897.8982 - val_loss: 22.4063 - val_mae: 22.4063 - val_mse: 1588.6823\n",
            "Epoch 394/600\n",
            "23/23 [==============================] - 0s 4ms/step - loss: 22.7491 - mae: 22.7491 - mse: 2898.1567 - val_loss: 22.4053 - val_mae: 22.4053 - val_mse: 1588.4724\n",
            "Epoch 395/600\n",
            "23/23 [==============================] - 0s 3ms/step - loss: 22.7487 - mae: 22.7487 - mse: 2897.9688 - val_loss: 22.4043 - val_mae: 22.4043 - val_mse: 1588.2380\n",
            "Epoch 396/600\n",
            "23/23 [==============================] - 0s 4ms/step - loss: 22.7485 - mae: 22.7485 - mse: 2897.7832 - val_loss: 22.4035 - val_mae: 22.4035 - val_mse: 1588.1143\n",
            "Epoch 397/600\n",
            "23/23 [==============================] - 0s 3ms/step - loss: 22.7479 - mae: 22.7479 - mse: 2897.2788 - val_loss: 22.4023 - val_mae: 22.4023 - val_mse: 1587.8329\n",
            "Epoch 398/600\n",
            "23/23 [==============================] - 0s 5ms/step - loss: 22.7475 - mae: 22.7475 - mse: 2896.9258 - val_loss: 22.4013 - val_mae: 22.4013 - val_mse: 1587.5886\n",
            "Epoch 399/600\n",
            "23/23 [==============================] - 0s 3ms/step - loss: 22.7472 - mae: 22.7472 - mse: 2896.9519 - val_loss: 22.4003 - val_mae: 22.4003 - val_mse: 1587.3682\n",
            "Epoch 400/600\n",
            "23/23 [==============================] - 0s 4ms/step - loss: 22.7467 - mae: 22.7467 - mse: 2896.5576 - val_loss: 22.3994 - val_mae: 22.3994 - val_mse: 1587.2328\n",
            "Epoch 401/600\n",
            "23/23 [==============================] - 0s 3ms/step - loss: 22.7465 - mae: 22.7465 - mse: 2896.4780 - val_loss: 22.3986 - val_mae: 22.3986 - val_mse: 1587.0430\n",
            "Epoch 402/600\n",
            "23/23 [==============================] - 0s 3ms/step - loss: 22.7460 - mae: 22.7460 - mse: 2896.1167 - val_loss: 22.3975 - val_mae: 22.3975 - val_mse: 1586.8121\n",
            "Epoch 403/600\n",
            "23/23 [==============================] - 0s 3ms/step - loss: 22.7457 - mae: 22.7457 - mse: 2895.8088 - val_loss: 22.3968 - val_mae: 22.3968 - val_mse: 1586.6555\n",
            "Epoch 404/600\n",
            "23/23 [==============================] - 0s 3ms/step - loss: 22.7454 - mae: 22.7454 - mse: 2895.8503 - val_loss: 22.3961 - val_mae: 22.3961 - val_mse: 1586.4786\n",
            "Epoch 405/600\n",
            "23/23 [==============================] - 0s 3ms/step - loss: 22.7450 - mae: 22.7450 - mse: 2895.6658 - val_loss: 22.3950 - val_mae: 22.3950 - val_mse: 1586.1395\n",
            "Epoch 406/600\n",
            "23/23 [==============================] - 0s 3ms/step - loss: 22.7446 - mae: 22.7446 - mse: 2895.1709 - val_loss: 22.3939 - val_mae: 22.3939 - val_mse: 1585.7937\n",
            "Epoch 407/600\n",
            "23/23 [==============================] - 0s 3ms/step - loss: 22.7442 - mae: 22.7442 - mse: 2894.8594 - val_loss: 22.3933 - val_mae: 22.3933 - val_mse: 1585.7496\n",
            "Epoch 408/600\n",
            "23/23 [==============================] - 0s 4ms/step - loss: 22.7439 - mae: 22.7439 - mse: 2894.7573 - val_loss: 22.3925 - val_mae: 22.3925 - val_mse: 1585.5973\n",
            "Epoch 409/600\n",
            "23/23 [==============================] - 0s 3ms/step - loss: 22.7434 - mae: 22.7434 - mse: 2894.7153 - val_loss: 22.3916 - val_mae: 22.3916 - val_mse: 1585.3237\n",
            "Epoch 410/600\n",
            "23/23 [==============================] - 0s 3ms/step - loss: 22.7431 - mae: 22.7431 - mse: 2894.4685 - val_loss: 22.3908 - val_mae: 22.3908 - val_mse: 1585.1792\n",
            "Epoch 411/600\n",
            "23/23 [==============================] - 0s 4ms/step - loss: 22.7428 - mae: 22.7428 - mse: 2894.2742 - val_loss: 22.3901 - val_mae: 22.3901 - val_mse: 1585.0372\n",
            "Epoch 412/600\n",
            "23/23 [==============================] - 0s 4ms/step - loss: 22.7424 - mae: 22.7424 - mse: 2893.9595 - val_loss: 22.3895 - val_mae: 22.3895 - val_mse: 1585.0398\n",
            "Epoch 413/600\n",
            "23/23 [==============================] - 0s 6ms/step - loss: 22.7421 - mae: 22.7421 - mse: 2894.1047 - val_loss: 22.3885 - val_mae: 22.3885 - val_mse: 1584.7645\n",
            "Epoch 414/600\n",
            "23/23 [==============================] - 0s 5ms/step - loss: 22.7416 - mae: 22.7416 - mse: 2893.6292 - val_loss: 22.3877 - val_mae: 22.3877 - val_mse: 1584.5813\n",
            "Epoch 415/600\n",
            "23/23 [==============================] - 0s 3ms/step - loss: 22.7412 - mae: 22.7412 - mse: 2893.5457 - val_loss: 22.3868 - val_mae: 22.3868 - val_mse: 1584.4062\n",
            "Epoch 416/600\n",
            "23/23 [==============================] - 0s 3ms/step - loss: 22.7410 - mae: 22.7410 - mse: 2893.4395 - val_loss: 22.3862 - val_mae: 22.3862 - val_mse: 1584.3068\n",
            "Epoch 417/600\n",
            "23/23 [==============================] - 0s 3ms/step - loss: 22.7405 - mae: 22.7405 - mse: 2893.2656 - val_loss: 22.3855 - val_mae: 22.3855 - val_mse: 1584.1855\n",
            "Epoch 418/600\n",
            "23/23 [==============================] - 0s 4ms/step - loss: 22.7403 - mae: 22.7403 - mse: 2893.3503 - val_loss: 22.3846 - val_mae: 22.3846 - val_mse: 1583.9059\n",
            "Epoch 419/600\n",
            "23/23 [==============================] - 0s 5ms/step - loss: 22.7398 - mae: 22.7398 - mse: 2892.8247 - val_loss: 22.3834 - val_mae: 22.3834 - val_mse: 1583.5708\n",
            "Epoch 420/600\n",
            "23/23 [==============================] - 0s 6ms/step - loss: 22.7394 - mae: 22.7394 - mse: 2892.4912 - val_loss: 22.3827 - val_mae: 22.3827 - val_mse: 1583.4492\n",
            "Epoch 421/600\n",
            "23/23 [==============================] - 0s 5ms/step - loss: 22.7390 - mae: 22.7390 - mse: 2892.3320 - val_loss: 22.3821 - val_mae: 22.3821 - val_mse: 1583.4098\n",
            "Epoch 422/600\n",
            "23/23 [==============================] - 0s 3ms/step - loss: 22.7387 - mae: 22.7387 - mse: 2892.3137 - val_loss: 22.3814 - val_mae: 22.3814 - val_mse: 1583.2828\n",
            "Epoch 423/600\n",
            "23/23 [==============================] - 0s 4ms/step - loss: 22.7384 - mae: 22.7384 - mse: 2892.1565 - val_loss: 22.3806 - val_mae: 22.3806 - val_mse: 1583.0773\n",
            "Epoch 424/600\n",
            "23/23 [==============================] - 0s 4ms/step - loss: 22.7381 - mae: 22.7381 - mse: 2891.9397 - val_loss: 22.3797 - val_mae: 22.3797 - val_mse: 1582.8481\n",
            "Epoch 425/600\n",
            "23/23 [==============================] - 0s 3ms/step - loss: 22.7377 - mae: 22.7377 - mse: 2891.7683 - val_loss: 22.3789 - val_mae: 22.3789 - val_mse: 1582.6431\n",
            "Epoch 426/600\n",
            "23/23 [==============================] - 0s 5ms/step - loss: 22.7373 - mae: 22.7373 - mse: 2891.4978 - val_loss: 22.3782 - val_mae: 22.3782 - val_mse: 1582.4454\n",
            "Epoch 427/600\n",
            "23/23 [==============================] - 0s 2ms/step - loss: 22.7370 - mae: 22.7370 - mse: 2891.2302 - val_loss: 22.3776 - val_mae: 22.3776 - val_mse: 1582.3234\n",
            "Epoch 428/600\n",
            "23/23 [==============================] - 0s 2ms/step - loss: 22.7368 - mae: 22.7368 - mse: 2891.1731 - val_loss: 22.3770 - val_mae: 22.3770 - val_mse: 1582.2476\n",
            "Epoch 429/600\n",
            "23/23 [==============================] - 0s 3ms/step - loss: 22.7364 - mae: 22.7364 - mse: 2891.1460 - val_loss: 22.3762 - val_mae: 22.3762 - val_mse: 1582.0386\n",
            "Epoch 430/600\n",
            "23/23 [==============================] - 0s 2ms/step - loss: 22.7362 - mae: 22.7362 - mse: 2891.0107 - val_loss: 22.3754 - val_mae: 22.3754 - val_mse: 1581.8843\n",
            "Epoch 431/600\n",
            "23/23 [==============================] - 0s 2ms/step - loss: 22.7357 - mae: 22.7357 - mse: 2890.6575 - val_loss: 22.3747 - val_mae: 22.3747 - val_mse: 1581.8096\n",
            "Epoch 432/600\n",
            "23/23 [==============================] - 0s 2ms/step - loss: 22.7355 - mae: 22.7355 - mse: 2890.5859 - val_loss: 22.3743 - val_mae: 22.3743 - val_mse: 1581.7692\n",
            "Epoch 433/600\n",
            "23/23 [==============================] - 0s 3ms/step - loss: 22.7352 - mae: 22.7352 - mse: 2890.6118 - val_loss: 22.3736 - val_mae: 22.3736 - val_mse: 1581.5942\n",
            "Epoch 434/600\n",
            "23/23 [==============================] - 0s 3ms/step - loss: 22.7349 - mae: 22.7349 - mse: 2890.2839 - val_loss: 22.3729 - val_mae: 22.3729 - val_mse: 1581.5408\n",
            "Epoch 435/600\n",
            "23/23 [==============================] - 0s 2ms/step - loss: 22.7347 - mae: 22.7347 - mse: 2890.0198 - val_loss: 22.3723 - val_mae: 22.3723 - val_mse: 1581.4280\n",
            "Epoch 436/600\n",
            "23/23 [==============================] - 0s 2ms/step - loss: 22.7342 - mae: 22.7342 - mse: 2890.0430 - val_loss: 22.3718 - val_mae: 22.3718 - val_mse: 1581.3649\n",
            "Epoch 437/600\n",
            "23/23 [==============================] - 0s 3ms/step - loss: 22.7340 - mae: 22.7340 - mse: 2890.1052 - val_loss: 22.3710 - val_mae: 22.3710 - val_mse: 1581.2064\n",
            "Epoch 438/600\n",
            "23/23 [==============================] - 0s 2ms/step - loss: 22.7336 - mae: 22.7336 - mse: 2889.9253 - val_loss: 22.3703 - val_mae: 22.3703 - val_mse: 1581.0934\n",
            "Epoch 439/600\n",
            "23/23 [==============================] - 0s 2ms/step - loss: 22.7332 - mae: 22.7332 - mse: 2889.6248 - val_loss: 22.3694 - val_mae: 22.3694 - val_mse: 1580.8462\n",
            "Epoch 440/600\n",
            "23/23 [==============================] - 0s 2ms/step - loss: 22.7329 - mae: 22.7329 - mse: 2889.6111 - val_loss: 22.3685 - val_mae: 22.3685 - val_mse: 1580.5945\n",
            "Epoch 441/600\n",
            "23/23 [==============================] - 0s 3ms/step - loss: 22.7325 - mae: 22.7325 - mse: 2889.0442 - val_loss: 22.3678 - val_mae: 22.3678 - val_mse: 1580.4448\n",
            "Epoch 442/600\n",
            "23/23 [==============================] - 0s 3ms/step - loss: 22.7322 - mae: 22.7322 - mse: 2888.9810 - val_loss: 22.3670 - val_mae: 22.3670 - val_mse: 1580.1947\n",
            "Epoch 443/600\n",
            "23/23 [==============================] - 0s 2ms/step - loss: 22.7318 - mae: 22.7318 - mse: 2888.7246 - val_loss: 22.3663 - val_mae: 22.3663 - val_mse: 1580.0032\n",
            "Epoch 444/600\n",
            "23/23 [==============================] - 0s 2ms/step - loss: 22.7315 - mae: 22.7315 - mse: 2888.5549 - val_loss: 22.3656 - val_mae: 22.3656 - val_mse: 1579.7267\n",
            "Epoch 445/600\n",
            "23/23 [==============================] - 0s 3ms/step - loss: 22.7312 - mae: 22.7312 - mse: 2888.2888 - val_loss: 22.3650 - val_mae: 22.3650 - val_mse: 1579.5465\n",
            "Epoch 446/600\n",
            "23/23 [==============================] - 0s 2ms/step - loss: 22.7309 - mae: 22.7309 - mse: 2888.3101 - val_loss: 22.3641 - val_mae: 22.3641 - val_mse: 1579.2186\n",
            "Epoch 447/600\n",
            "23/23 [==============================] - 0s 2ms/step - loss: 22.7305 - mae: 22.7305 - mse: 2887.7310 - val_loss: 22.3634 - val_mae: 22.3634 - val_mse: 1579.0609\n",
            "Epoch 448/600\n",
            "23/23 [==============================] - 0s 2ms/step - loss: 22.7302 - mae: 22.7302 - mse: 2887.7009 - val_loss: 22.3629 - val_mae: 22.3629 - val_mse: 1579.0015\n",
            "Epoch 449/600\n",
            "23/23 [==============================] - 0s 3ms/step - loss: 22.7299 - mae: 22.7299 - mse: 2887.4473 - val_loss: 22.3624 - val_mae: 22.3624 - val_mse: 1578.9648\n",
            "Epoch 450/600\n",
            "23/23 [==============================] - 0s 2ms/step - loss: 22.7297 - mae: 22.7297 - mse: 2887.5645 - val_loss: 22.3617 - val_mae: 22.3617 - val_mse: 1578.7449\n",
            "Epoch 451/600\n",
            "23/23 [==============================] - 0s 3ms/step - loss: 22.7293 - mae: 22.7293 - mse: 2887.1328 - val_loss: 22.3609 - val_mae: 22.3609 - val_mse: 1578.5601\n",
            "Epoch 452/600\n",
            "23/23 [==============================] - 0s 2ms/step - loss: 22.7289 - mae: 22.7289 - mse: 2886.9680 - val_loss: 22.3602 - val_mae: 22.3602 - val_mse: 1578.3202\n",
            "Epoch 453/600\n",
            "23/23 [==============================] - 0s 3ms/step - loss: 22.7285 - mae: 22.7285 - mse: 2886.7124 - val_loss: 22.3595 - val_mae: 22.3595 - val_mse: 1578.1174\n",
            "Epoch 454/600\n",
            "23/23 [==============================] - 0s 3ms/step - loss: 22.7283 - mae: 22.7283 - mse: 2886.4536 - val_loss: 22.3590 - val_mae: 22.3590 - val_mse: 1578.0125\n",
            "Epoch 455/600\n",
            "23/23 [==============================] - 0s 3ms/step - loss: 22.7281 - mae: 22.7281 - mse: 2886.4314 - val_loss: 22.3583 - val_mae: 22.3583 - val_mse: 1577.9142\n",
            "Epoch 456/600\n",
            "23/23 [==============================] - 0s 2ms/step - loss: 22.7277 - mae: 22.7277 - mse: 2886.4336 - val_loss: 22.3577 - val_mae: 22.3577 - val_mse: 1577.7616\n",
            "Epoch 457/600\n",
            "23/23 [==============================] - 0s 3ms/step - loss: 22.7274 - mae: 22.7274 - mse: 2886.0579 - val_loss: 22.3570 - val_mae: 22.3570 - val_mse: 1577.5842\n",
            "Epoch 458/600\n",
            "23/23 [==============================] - 0s 3ms/step - loss: 22.7272 - mae: 22.7272 - mse: 2886.0022 - val_loss: 22.3562 - val_mae: 22.3562 - val_mse: 1577.3654\n",
            "Epoch 459/600\n",
            "23/23 [==============================] - 0s 3ms/step - loss: 22.7267 - mae: 22.7267 - mse: 2885.8154 - val_loss: 22.3555 - val_mae: 22.3555 - val_mse: 1577.2142\n",
            "Epoch 460/600\n",
            "23/23 [==============================] - 0s 3ms/step - loss: 22.7264 - mae: 22.7264 - mse: 2885.5703 - val_loss: 22.3547 - val_mae: 22.3547 - val_mse: 1576.9983\n",
            "Epoch 461/600\n",
            "23/23 [==============================] - 0s 3ms/step - loss: 22.7259 - mae: 22.7259 - mse: 2885.4224 - val_loss: 22.3541 - val_mae: 22.3541 - val_mse: 1576.8761\n",
            "Epoch 462/600\n",
            "23/23 [==============================] - 0s 3ms/step - loss: 22.7257 - mae: 22.7257 - mse: 2885.0955 - val_loss: 22.3537 - val_mae: 22.3537 - val_mse: 1576.8466\n",
            "Epoch 463/600\n",
            "23/23 [==============================] - 0s 3ms/step - loss: 22.7255 - mae: 22.7255 - mse: 2885.2942 - val_loss: 22.3531 - val_mae: 22.3531 - val_mse: 1576.6779\n",
            "Epoch 464/600\n",
            "23/23 [==============================] - 0s 3ms/step - loss: 22.7251 - mae: 22.7251 - mse: 2884.8372 - val_loss: 22.3525 - val_mae: 22.3525 - val_mse: 1576.5255\n",
            "Epoch 465/600\n",
            "23/23 [==============================] - 0s 3ms/step - loss: 22.7249 - mae: 22.7249 - mse: 2884.9246 - val_loss: 22.3519 - val_mae: 22.3519 - val_mse: 1576.3177\n",
            "Epoch 466/600\n",
            "23/23 [==============================] - 0s 3ms/step - loss: 22.7247 - mae: 22.7247 - mse: 2884.4773 - val_loss: 22.3511 - val_mae: 22.3511 - val_mse: 1576.0934\n",
            "Epoch 467/600\n",
            "23/23 [==============================] - 0s 2ms/step - loss: 22.7242 - mae: 22.7242 - mse: 2884.1919 - val_loss: 22.3503 - val_mae: 22.3503 - val_mse: 1575.8794\n",
            "Epoch 468/600\n",
            "23/23 [==============================] - 0s 3ms/step - loss: 22.7238 - mae: 22.7238 - mse: 2884.1658 - val_loss: 22.3498 - val_mae: 22.3498 - val_mse: 1575.8423\n",
            "Epoch 469/600\n",
            "23/23 [==============================] - 0s 2ms/step - loss: 22.7237 - mae: 22.7237 - mse: 2884.0635 - val_loss: 22.3492 - val_mae: 22.3492 - val_mse: 1575.6555\n",
            "Epoch 470/600\n",
            "23/23 [==============================] - 0s 3ms/step - loss: 22.7233 - mae: 22.7233 - mse: 2883.8203 - val_loss: 22.3486 - val_mae: 22.3486 - val_mse: 1575.4855\n",
            "Epoch 471/600\n",
            "23/23 [==============================] - 0s 3ms/step - loss: 22.7231 - mae: 22.7231 - mse: 2883.5588 - val_loss: 22.3480 - val_mae: 22.3480 - val_mse: 1575.3585\n",
            "Epoch 472/600\n",
            "23/23 [==============================] - 0s 3ms/step - loss: 22.7227 - mae: 22.7227 - mse: 2883.6323 - val_loss: 22.3473 - val_mae: 22.3473 - val_mse: 1575.2080\n",
            "Epoch 473/600\n",
            "23/23 [==============================] - 0s 3ms/step - loss: 22.7223 - mae: 22.7223 - mse: 2883.3748 - val_loss: 22.3465 - val_mae: 22.3465 - val_mse: 1574.9583\n",
            "Epoch 474/600\n",
            "23/23 [==============================] - 0s 3ms/step - loss: 22.7219 - mae: 22.7219 - mse: 2882.9314 - val_loss: 22.3460 - val_mae: 22.3460 - val_mse: 1574.8918\n",
            "Epoch 475/600\n",
            "23/23 [==============================] - 0s 2ms/step - loss: 22.7218 - mae: 22.7218 - mse: 2883.0247 - val_loss: 22.3451 - val_mae: 22.3451 - val_mse: 1574.6454\n",
            "Epoch 476/600\n",
            "23/23 [==============================] - 0s 2ms/step - loss: 22.7213 - mae: 22.7213 - mse: 2882.7205 - val_loss: 22.3446 - val_mae: 22.3446 - val_mse: 1574.5978\n",
            "Epoch 477/600\n",
            "23/23 [==============================] - 0s 3ms/step - loss: 22.7212 - mae: 22.7212 - mse: 2882.7527 - val_loss: 22.3440 - val_mae: 22.3440 - val_mse: 1574.5255\n",
            "Epoch 478/600\n",
            "23/23 [==============================] - 0s 2ms/step - loss: 22.7206 - mae: 22.7206 - mse: 2882.6704 - val_loss: 22.3433 - val_mae: 22.3433 - val_mse: 1574.3627\n",
            "Epoch 479/600\n",
            "23/23 [==============================] - 0s 3ms/step - loss: 22.7204 - mae: 22.7204 - mse: 2882.5078 - val_loss: 22.3428 - val_mae: 22.3428 - val_mse: 1574.2472\n",
            "Epoch 480/600\n",
            "23/23 [==============================] - 0s 2ms/step - loss: 22.7202 - mae: 22.7202 - mse: 2882.1797 - val_loss: 22.3419 - val_mae: 22.3419 - val_mse: 1573.9768\n",
            "Epoch 481/600\n",
            "23/23 [==============================] - 0s 3ms/step - loss: 22.7197 - mae: 22.7197 - mse: 2882.1162 - val_loss: 22.3413 - val_mae: 22.3413 - val_mse: 1573.8260\n",
            "Epoch 482/600\n",
            "23/23 [==============================] - 0s 3ms/step - loss: 22.7195 - mae: 22.7195 - mse: 2881.7510 - val_loss: 22.3406 - val_mae: 22.3406 - val_mse: 1573.5480\n",
            "Epoch 483/600\n",
            "23/23 [==============================] - 0s 3ms/step - loss: 22.7191 - mae: 22.7191 - mse: 2881.7278 - val_loss: 22.3400 - val_mae: 22.3400 - val_mse: 1573.4001\n",
            "Epoch 484/600\n",
            "23/23 [==============================] - 0s 3ms/step - loss: 22.7189 - mae: 22.7189 - mse: 2881.5344 - val_loss: 22.3395 - val_mae: 22.3395 - val_mse: 1573.3408\n",
            "Epoch 485/600\n",
            "23/23 [==============================] - 0s 3ms/step - loss: 22.7186 - mae: 22.7186 - mse: 2881.4189 - val_loss: 22.3387 - val_mae: 22.3387 - val_mse: 1573.1558\n",
            "Epoch 486/600\n",
            "23/23 [==============================] - 0s 3ms/step - loss: 22.7181 - mae: 22.7181 - mse: 2880.9966 - val_loss: 22.3381 - val_mae: 22.3381 - val_mse: 1573.0349\n",
            "Epoch 487/600\n",
            "23/23 [==============================] - 0s 2ms/step - loss: 22.7180 - mae: 22.7180 - mse: 2880.9136 - val_loss: 22.3376 - val_mae: 22.3376 - val_mse: 1572.9308\n",
            "Epoch 488/600\n",
            "23/23 [==============================] - 0s 3ms/step - loss: 22.7177 - mae: 22.7177 - mse: 2880.8254 - val_loss: 22.3370 - val_mae: 22.3370 - val_mse: 1572.7776\n",
            "Epoch 489/600\n",
            "23/23 [==============================] - 0s 3ms/step - loss: 22.7174 - mae: 22.7174 - mse: 2880.9917 - val_loss: 22.3361 - val_mae: 22.3361 - val_mse: 1572.4558\n",
            "Epoch 490/600\n",
            "23/23 [==============================] - 0s 3ms/step - loss: 22.7169 - mae: 22.7169 - mse: 2880.2788 - val_loss: 22.3353 - val_mae: 22.3353 - val_mse: 1572.2745\n",
            "Epoch 491/600\n",
            "23/23 [==============================] - 0s 2ms/step - loss: 22.7166 - mae: 22.7166 - mse: 2880.0947 - val_loss: 22.3346 - val_mae: 22.3346 - val_mse: 1572.0729\n",
            "Epoch 492/600\n",
            "23/23 [==============================] - 0s 2ms/step - loss: 22.7161 - mae: 22.7161 - mse: 2880.0112 - val_loss: 22.3338 - val_mae: 22.3338 - val_mse: 1571.8810\n",
            "Epoch 493/600\n",
            "23/23 [==============================] - 0s 3ms/step - loss: 22.7159 - mae: 22.7159 - mse: 2879.9529 - val_loss: 22.3333 - val_mae: 22.3333 - val_mse: 1571.8462\n",
            "Epoch 494/600\n",
            "23/23 [==============================] - 0s 2ms/step - loss: 22.7156 - mae: 22.7156 - mse: 2879.7856 - val_loss: 22.3326 - val_mae: 22.3326 - val_mse: 1571.7124\n",
            "Epoch 495/600\n",
            "23/23 [==============================] - 0s 2ms/step - loss: 22.7151 - mae: 22.7151 - mse: 2879.6104 - val_loss: 22.3318 - val_mae: 22.3318 - val_mse: 1571.5114\n",
            "Epoch 496/600\n",
            "23/23 [==============================] - 0s 2ms/step - loss: 22.7149 - mae: 22.7149 - mse: 2879.3220 - val_loss: 22.3314 - val_mae: 22.3314 - val_mse: 1571.5142\n",
            "Epoch 497/600\n",
            "23/23 [==============================] - 0s 3ms/step - loss: 22.7147 - mae: 22.7147 - mse: 2879.5220 - val_loss: 22.3308 - val_mae: 22.3308 - val_mse: 1571.4189\n",
            "Epoch 498/600\n",
            "23/23 [==============================] - 0s 2ms/step - loss: 22.7143 - mae: 22.7143 - mse: 2879.2058 - val_loss: 22.3301 - val_mae: 22.3301 - val_mse: 1571.2220\n",
            "Epoch 499/600\n",
            "23/23 [==============================] - 0s 2ms/step - loss: 22.7139 - mae: 22.7139 - mse: 2878.9934 - val_loss: 22.3295 - val_mae: 22.3295 - val_mse: 1571.1042\n",
            "Epoch 500/600\n",
            "23/23 [==============================] - 0s 2ms/step - loss: 22.7136 - mae: 22.7136 - mse: 2878.8103 - val_loss: 22.3288 - val_mae: 22.3288 - val_mse: 1570.9111\n",
            "Epoch 501/600\n",
            "23/23 [==============================] - 0s 3ms/step - loss: 22.7133 - mae: 22.7133 - mse: 2878.6807 - val_loss: 22.3279 - val_mae: 22.3279 - val_mse: 1570.5936\n",
            "Epoch 502/600\n",
            "23/23 [==============================] - 0s 2ms/step - loss: 22.7129 - mae: 22.7129 - mse: 2878.3250 - val_loss: 22.3270 - val_mae: 22.3270 - val_mse: 1570.3210\n",
            "Epoch 503/600\n",
            "23/23 [==============================] - 0s 2ms/step - loss: 22.7125 - mae: 22.7125 - mse: 2877.9797 - val_loss: 22.3264 - val_mae: 22.3264 - val_mse: 1570.1492\n",
            "Epoch 504/600\n",
            "23/23 [==============================] - 0s 3ms/step - loss: 22.7123 - mae: 22.7123 - mse: 2877.8157 - val_loss: 22.3256 - val_mae: 22.3256 - val_mse: 1569.8408\n",
            "Epoch 505/600\n",
            "23/23 [==============================] - 0s 2ms/step - loss: 22.7118 - mae: 22.7118 - mse: 2877.4648 - val_loss: 22.3248 - val_mae: 22.3248 - val_mse: 1569.6646\n",
            "Epoch 506/600\n",
            "23/23 [==============================] - 0s 2ms/step - loss: 22.7115 - mae: 22.7115 - mse: 2877.3672 - val_loss: 22.3242 - val_mae: 22.3242 - val_mse: 1569.5413\n",
            "Epoch 507/600\n",
            "23/23 [==============================] - 0s 3ms/step - loss: 22.7111 - mae: 22.7111 - mse: 2877.3276 - val_loss: 22.3237 - val_mae: 22.3237 - val_mse: 1569.4617\n",
            "Epoch 508/600\n",
            "23/23 [==============================] - 0s 3ms/step - loss: 22.7109 - mae: 22.7109 - mse: 2876.9600 - val_loss: 22.3230 - val_mae: 22.3230 - val_mse: 1569.2411\n",
            "Epoch 509/600\n",
            "23/23 [==============================] - 0s 3ms/step - loss: 22.7107 - mae: 22.7107 - mse: 2876.9263 - val_loss: 22.3225 - val_mae: 22.3225 - val_mse: 1569.1185\n",
            "Epoch 510/600\n",
            "23/23 [==============================] - 0s 3ms/step - loss: 22.7104 - mae: 22.7104 - mse: 2876.8069 - val_loss: 22.3218 - val_mae: 22.3218 - val_mse: 1568.9402\n",
            "Epoch 511/600\n",
            "23/23 [==============================] - 0s 2ms/step - loss: 22.7101 - mae: 22.7101 - mse: 2876.5576 - val_loss: 22.3212 - val_mae: 22.3212 - val_mse: 1568.6890\n",
            "Epoch 512/600\n",
            "23/23 [==============================] - 0s 3ms/step - loss: 22.7098 - mae: 22.7098 - mse: 2876.2385 - val_loss: 22.3208 - val_mae: 22.3208 - val_mse: 1568.5653\n",
            "Epoch 513/600\n",
            "23/23 [==============================] - 0s 4ms/step - loss: 22.7096 - mae: 22.7096 - mse: 2876.2209 - val_loss: 22.3205 - val_mae: 22.3205 - val_mse: 1568.5352\n",
            "Epoch 514/600\n",
            "23/23 [==============================] - 0s 2ms/step - loss: 22.7095 - mae: 22.7095 - mse: 2876.2166 - val_loss: 22.3202 - val_mae: 22.3202 - val_mse: 1568.5621\n",
            "Epoch 515/600\n",
            "23/23 [==============================] - 0s 2ms/step - loss: 22.7091 - mae: 22.7091 - mse: 2876.1072 - val_loss: 22.3200 - val_mae: 22.3200 - val_mse: 1568.6605\n",
            "Epoch 516/600\n",
            "23/23 [==============================] - 0s 2ms/step - loss: 22.7090 - mae: 22.7090 - mse: 2876.4084 - val_loss: 22.3197 - val_mae: 22.3197 - val_mse: 1568.5518\n",
            "Epoch 517/600\n",
            "23/23 [==============================] - 0s 2ms/step - loss: 22.7087 - mae: 22.7087 - mse: 2876.0715 - val_loss: 22.3193 - val_mae: 22.3193 - val_mse: 1568.3453\n",
            "Epoch 518/600\n",
            "23/23 [==============================] - 0s 3ms/step - loss: 22.7086 - mae: 22.7086 - mse: 2875.9983 - val_loss: 22.3188 - val_mae: 22.3188 - val_mse: 1568.0892\n",
            "Epoch 519/600\n",
            "23/23 [==============================] - 0s 3ms/step - loss: 22.7083 - mae: 22.7083 - mse: 2875.5969 - val_loss: 22.3185 - val_mae: 22.3185 - val_mse: 1568.0229\n",
            "Epoch 520/600\n",
            "23/23 [==============================] - 0s 3ms/step - loss: 22.7083 - mae: 22.7083 - mse: 2875.7651 - val_loss: 22.3181 - val_mae: 22.3181 - val_mse: 1567.9117\n",
            "Epoch 521/600\n",
            "23/23 [==============================] - 0s 2ms/step - loss: 22.7079 - mae: 22.7079 - mse: 2875.4873 - val_loss: 22.3177 - val_mae: 22.3177 - val_mse: 1567.7911\n",
            "Epoch 522/600\n",
            "23/23 [==============================] - 0s 2ms/step - loss: 22.7076 - mae: 22.7076 - mse: 2875.2617 - val_loss: 22.3173 - val_mae: 22.3173 - val_mse: 1567.6487\n",
            "Epoch 523/600\n",
            "23/23 [==============================] - 0s 4ms/step - loss: 22.7075 - mae: 22.7075 - mse: 2875.2522 - val_loss: 22.3170 - val_mae: 22.3170 - val_mse: 1567.4448\n",
            "Epoch 524/600\n",
            "23/23 [==============================] - 0s 3ms/step - loss: 22.7073 - mae: 22.7073 - mse: 2874.7886 - val_loss: 22.3166 - val_mae: 22.3166 - val_mse: 1567.2632\n",
            "Epoch 525/600\n",
            "23/23 [==============================] - 0s 2ms/step - loss: 22.7070 - mae: 22.7070 - mse: 2874.7217 - val_loss: 22.3162 - val_mae: 22.3162 - val_mse: 1567.2421\n",
            "Epoch 526/600\n",
            "23/23 [==============================] - 0s 2ms/step - loss: 22.7069 - mae: 22.7069 - mse: 2874.5862 - val_loss: 22.3157 - val_mae: 22.3157 - val_mse: 1567.1223\n",
            "Epoch 527/600\n",
            "23/23 [==============================] - 0s 3ms/step - loss: 22.7066 - mae: 22.7066 - mse: 2874.5713 - val_loss: 22.3154 - val_mae: 22.3154 - val_mse: 1567.0602\n",
            "Epoch 528/600\n",
            "23/23 [==============================] - 0s 4ms/step - loss: 22.7063 - mae: 22.7063 - mse: 2874.4934 - val_loss: 22.3150 - val_mae: 22.3150 - val_mse: 1566.9639\n",
            "Epoch 529/600\n",
            "23/23 [==============================] - 0s 2ms/step - loss: 22.7061 - mae: 22.7061 - mse: 2874.3845 - val_loss: 22.3145 - val_mae: 22.3145 - val_mse: 1566.8317\n",
            "Epoch 530/600\n",
            "23/23 [==============================] - 0s 2ms/step - loss: 22.7058 - mae: 22.7058 - mse: 2874.1084 - val_loss: 22.3141 - val_mae: 22.3141 - val_mse: 1566.7074\n",
            "Epoch 531/600\n",
            "23/23 [==============================] - 0s 3ms/step - loss: 22.7055 - mae: 22.7055 - mse: 2874.2224 - val_loss: 22.3137 - val_mae: 22.3137 - val_mse: 1566.6342\n",
            "Epoch 532/600\n",
            "23/23 [==============================] - 0s 3ms/step - loss: 22.7053 - mae: 22.7053 - mse: 2874.1543 - val_loss: 22.3133 - val_mae: 22.3133 - val_mse: 1566.4127\n",
            "Epoch 533/600\n",
            "23/23 [==============================] - 0s 2ms/step - loss: 22.7051 - mae: 22.7051 - mse: 2873.8535 - val_loss: 22.3128 - val_mae: 22.3128 - val_mse: 1566.2732\n",
            "Epoch 534/600\n",
            "23/23 [==============================] - 0s 3ms/step - loss: 22.7048 - mae: 22.7048 - mse: 2873.5591 - val_loss: 22.3125 - val_mae: 22.3125 - val_mse: 1566.1932\n",
            "Epoch 535/600\n",
            "23/23 [==============================] - 0s 2ms/step - loss: 22.7047 - mae: 22.7047 - mse: 2873.6697 - val_loss: 22.3122 - val_mae: 22.3122 - val_mse: 1566.0934\n",
            "Epoch 536/600\n",
            "23/23 [==============================] - 0s 3ms/step - loss: 22.7044 - mae: 22.7044 - mse: 2873.3386 - val_loss: 22.3118 - val_mae: 22.3118 - val_mse: 1566.1155\n",
            "Epoch 537/600\n",
            "23/23 [==============================] - 0s 2ms/step - loss: 22.7042 - mae: 22.7042 - mse: 2873.6746 - val_loss: 22.3114 - val_mae: 22.3114 - val_mse: 1566.0323\n",
            "Epoch 538/600\n",
            "23/23 [==============================] - 0s 3ms/step - loss: 22.7039 - mae: 22.7039 - mse: 2873.4294 - val_loss: 22.3111 - val_mae: 22.3111 - val_mse: 1566.0492\n",
            "Epoch 539/600\n",
            "23/23 [==============================] - 0s 2ms/step - loss: 22.7037 - mae: 22.7037 - mse: 2873.4238 - val_loss: 22.3108 - val_mae: 22.3108 - val_mse: 1566.0725\n",
            "Epoch 540/600\n",
            "23/23 [==============================] - 0s 3ms/step - loss: 22.7034 - mae: 22.7034 - mse: 2873.3699 - val_loss: 22.3104 - val_mae: 22.3104 - val_mse: 1566.0641\n",
            "Epoch 541/600\n",
            "23/23 [==============================] - 0s 3ms/step - loss: 22.7032 - mae: 22.7032 - mse: 2873.3792 - val_loss: 22.3101 - val_mae: 22.3101 - val_mse: 1566.0470\n",
            "Epoch 542/600\n",
            "23/23 [==============================] - 0s 2ms/step - loss: 22.7030 - mae: 22.7030 - mse: 2873.5376 - val_loss: 22.3097 - val_mae: 22.3097 - val_mse: 1565.9270\n",
            "Epoch 543/600\n",
            "23/23 [==============================] - 0s 3ms/step - loss: 22.7028 - mae: 22.7028 - mse: 2873.3550 - val_loss: 22.3093 - val_mae: 22.3093 - val_mse: 1565.7708\n",
            "Epoch 544/600\n",
            "23/23 [==============================] - 0s 2ms/step - loss: 22.7026 - mae: 22.7026 - mse: 2873.3462 - val_loss: 22.3090 - val_mae: 22.3090 - val_mse: 1565.7184\n",
            "Epoch 545/600\n",
            "23/23 [==============================] - 0s 3ms/step - loss: 22.7023 - mae: 22.7023 - mse: 2873.1030 - val_loss: 22.3085 - val_mae: 22.3085 - val_mse: 1565.7032\n",
            "Epoch 546/600\n",
            "23/23 [==============================] - 0s 3ms/step - loss: 22.7022 - mae: 22.7022 - mse: 2872.9973 - val_loss: 22.3082 - val_mae: 22.3082 - val_mse: 1565.7212\n",
            "Epoch 547/600\n",
            "23/23 [==============================] - 0s 2ms/step - loss: 22.7019 - mae: 22.7019 - mse: 2873.0444 - val_loss: 22.3078 - val_mae: 22.3078 - val_mse: 1565.6658\n",
            "Epoch 548/600\n",
            "23/23 [==============================] - 0s 3ms/step - loss: 22.7017 - mae: 22.7017 - mse: 2873.1248 - val_loss: 22.3074 - val_mae: 22.3074 - val_mse: 1565.5670\n",
            "Epoch 549/600\n",
            "23/23 [==============================] - 0s 3ms/step - loss: 22.7015 - mae: 22.7015 - mse: 2872.7524 - val_loss: 22.3071 - val_mae: 22.3071 - val_mse: 1565.5370\n",
            "Epoch 550/600\n",
            "23/23 [==============================] - 0s 2ms/step - loss: 22.7012 - mae: 22.7012 - mse: 2872.8103 - val_loss: 22.3067 - val_mae: 22.3067 - val_mse: 1565.4310\n",
            "Epoch 551/600\n",
            "23/23 [==============================] - 0s 2ms/step - loss: 22.7009 - mae: 22.7009 - mse: 2872.6409 - val_loss: 22.3063 - val_mae: 22.3063 - val_mse: 1565.2012\n",
            "Epoch 552/600\n",
            "23/23 [==============================] - 0s 2ms/step - loss: 22.7008 - mae: 22.7008 - mse: 2872.3391 - val_loss: 22.3060 - val_mae: 22.3060 - val_mse: 1565.1874\n",
            "Epoch 553/600\n",
            "23/23 [==============================] - 0s 3ms/step - loss: 22.7006 - mae: 22.7006 - mse: 2872.3105 - val_loss: 22.3058 - val_mae: 22.3058 - val_mse: 1565.3086\n",
            "Epoch 554/600\n",
            "23/23 [==============================] - 0s 3ms/step - loss: 22.7003 - mae: 22.7003 - mse: 2872.5159 - val_loss: 22.3054 - val_mae: 22.3054 - val_mse: 1565.2242\n",
            "Epoch 555/600\n",
            "23/23 [==============================] - 0s 2ms/step - loss: 22.7001 - mae: 22.7001 - mse: 2872.4712 - val_loss: 22.3050 - val_mae: 22.3050 - val_mse: 1565.0901\n",
            "Epoch 556/600\n",
            "23/23 [==============================] - 0s 2ms/step - loss: 22.6999 - mae: 22.6999 - mse: 2872.5051 - val_loss: 22.3047 - val_mae: 22.3047 - val_mse: 1565.0704\n",
            "Epoch 557/600\n",
            "23/23 [==============================] - 0s 3ms/step - loss: 22.6997 - mae: 22.6997 - mse: 2872.3679 - val_loss: 22.3044 - val_mae: 22.3044 - val_mse: 1564.9496\n",
            "Epoch 558/600\n",
            "23/23 [==============================] - 0s 3ms/step - loss: 22.6995 - mae: 22.6995 - mse: 2872.1021 - val_loss: 22.3041 - val_mae: 22.3041 - val_mse: 1564.8558\n",
            "Epoch 559/600\n",
            "23/23 [==============================] - 0s 3ms/step - loss: 22.6994 - mae: 22.6994 - mse: 2872.0625 - val_loss: 22.3038 - val_mae: 22.3038 - val_mse: 1564.7784\n",
            "Epoch 560/600\n",
            "23/23 [==============================] - 0s 3ms/step - loss: 22.6994 - mae: 22.6994 - mse: 2872.0186 - val_loss: 22.3036 - val_mae: 22.3036 - val_mse: 1564.9050\n",
            "Epoch 561/600\n",
            "23/23 [==============================] - 0s 2ms/step - loss: 22.6991 - mae: 22.6991 - mse: 2872.0156 - val_loss: 22.3033 - val_mae: 22.3033 - val_mse: 1564.8815\n",
            "Epoch 562/600\n",
            "23/23 [==============================] - 0s 3ms/step - loss: 22.6989 - mae: 22.6989 - mse: 2872.0908 - val_loss: 22.3030 - val_mae: 22.3030 - val_mse: 1564.8441\n",
            "Epoch 563/600\n",
            "23/23 [==============================] - 0s 3ms/step - loss: 22.6990 - mae: 22.6990 - mse: 2871.9932 - val_loss: 22.3027 - val_mae: 22.3027 - val_mse: 1564.8337\n",
            "Epoch 564/600\n",
            "23/23 [==============================] - 0s 3ms/step - loss: 22.6986 - mae: 22.6986 - mse: 2872.0271 - val_loss: 22.3024 - val_mae: 22.3024 - val_mse: 1564.8489\n",
            "Epoch 565/600\n",
            "23/23 [==============================] - 0s 3ms/step - loss: 22.6985 - mae: 22.6985 - mse: 2871.9714 - val_loss: 22.3021 - val_mae: 22.3021 - val_mse: 1564.7913\n",
            "Epoch 566/600\n",
            "23/23 [==============================] - 0s 2ms/step - loss: 22.6983 - mae: 22.6983 - mse: 2871.9817 - val_loss: 22.3017 - val_mae: 22.3017 - val_mse: 1564.7379\n",
            "Epoch 567/600\n",
            "23/23 [==============================] - 0s 2ms/step - loss: 22.6980 - mae: 22.6980 - mse: 2871.8735 - val_loss: 22.3015 - val_mae: 22.3015 - val_mse: 1564.7258\n",
            "Epoch 568/600\n",
            "23/23 [==============================] - 0s 3ms/step - loss: 22.6979 - mae: 22.6979 - mse: 2871.8684 - val_loss: 22.3012 - val_mae: 22.3012 - val_mse: 1564.8489\n",
            "Epoch 569/600\n",
            "23/23 [==============================] - 0s 3ms/step - loss: 22.6977 - mae: 22.6977 - mse: 2872.0527 - val_loss: 22.3009 - val_mae: 22.3009 - val_mse: 1564.8571\n",
            "Epoch 570/600\n",
            "23/23 [==============================] - 0s 2ms/step - loss: 22.6975 - mae: 22.6975 - mse: 2871.9304 - val_loss: 22.3005 - val_mae: 22.3005 - val_mse: 1564.8427\n",
            "Epoch 571/600\n",
            "23/23 [==============================] - 0s 3ms/step - loss: 22.6973 - mae: 22.6973 - mse: 2871.9241 - val_loss: 22.3002 - val_mae: 22.3002 - val_mse: 1564.9645\n",
            "Epoch 572/600\n",
            "23/23 [==============================] - 0s 3ms/step - loss: 22.6971 - mae: 22.6971 - mse: 2871.9617 - val_loss: 22.2999 - val_mae: 22.2999 - val_mse: 1564.9399\n",
            "Epoch 573/600\n",
            "23/23 [==============================] - 0s 3ms/step - loss: 22.6969 - mae: 22.6969 - mse: 2872.0806 - val_loss: 22.2995 - val_mae: 22.2995 - val_mse: 1564.8871\n",
            "Epoch 574/600\n",
            "23/23 [==============================] - 0s 2ms/step - loss: 22.6967 - mae: 22.6967 - mse: 2872.1309 - val_loss: 22.2992 - val_mae: 22.2992 - val_mse: 1564.7412\n",
            "Epoch 575/600\n",
            "23/23 [==============================] - 0s 3ms/step - loss: 22.6964 - mae: 22.6964 - mse: 2871.6401 - val_loss: 22.2989 - val_mae: 22.2989 - val_mse: 1564.7002\n",
            "Epoch 576/600\n",
            "23/23 [==============================] - 0s 2ms/step - loss: 22.6964 - mae: 22.6964 - mse: 2871.7202 - val_loss: 22.2986 - val_mae: 22.2986 - val_mse: 1564.5922\n",
            "Epoch 577/600\n",
            "23/23 [==============================] - 0s 3ms/step - loss: 22.6962 - mae: 22.6962 - mse: 2871.5500 - val_loss: 22.2982 - val_mae: 22.2982 - val_mse: 1564.5171\n",
            "Epoch 578/600\n",
            "23/23 [==============================] - 0s 3ms/step - loss: 22.6960 - mae: 22.6960 - mse: 2871.5605 - val_loss: 22.2979 - val_mae: 22.2979 - val_mse: 1564.5360\n",
            "Epoch 579/600\n",
            "23/23 [==============================] - 0s 3ms/step - loss: 22.6958 - mae: 22.6958 - mse: 2871.5696 - val_loss: 22.2976 - val_mae: 22.2976 - val_mse: 1564.5574\n",
            "Epoch 580/600\n",
            "23/23 [==============================] - 0s 2ms/step - loss: 22.6956 - mae: 22.6956 - mse: 2871.5383 - val_loss: 22.2972 - val_mae: 22.2972 - val_mse: 1564.3922\n",
            "Epoch 581/600\n",
            "23/23 [==============================] - 0s 2ms/step - loss: 22.6955 - mae: 22.6955 - mse: 2871.3198 - val_loss: 22.2968 - val_mae: 22.2968 - val_mse: 1564.3074\n",
            "Epoch 582/600\n",
            "23/23 [==============================] - 0s 3ms/step - loss: 22.6952 - mae: 22.6952 - mse: 2871.1506 - val_loss: 22.2964 - val_mae: 22.2964 - val_mse: 1564.2245\n",
            "Epoch 583/600\n",
            "23/23 [==============================] - 0s 2ms/step - loss: 22.6951 - mae: 22.6951 - mse: 2871.0005 - val_loss: 22.2960 - val_mae: 22.2960 - val_mse: 1564.3098\n",
            "Epoch 584/600\n",
            "23/23 [==============================] - 0s 2ms/step - loss: 22.6948 - mae: 22.6948 - mse: 2871.2727 - val_loss: 22.2957 - val_mae: 22.2957 - val_mse: 1564.2343\n",
            "Epoch 585/600\n",
            "23/23 [==============================] - 0s 3ms/step - loss: 22.6946 - mae: 22.6946 - mse: 2871.2180 - val_loss: 22.2953 - val_mae: 22.2953 - val_mse: 1564.1748\n",
            "Epoch 586/600\n",
            "23/23 [==============================] - 0s 3ms/step - loss: 22.6944 - mae: 22.6944 - mse: 2871.0544 - val_loss: 22.2949 - val_mae: 22.2949 - val_mse: 1564.0961\n",
            "Epoch 587/600\n",
            "23/23 [==============================] - 0s 3ms/step - loss: 22.6942 - mae: 22.6942 - mse: 2871.0833 - val_loss: 22.2946 - val_mae: 22.2946 - val_mse: 1564.2272\n",
            "Epoch 588/600\n",
            "23/23 [==============================] - 0s 2ms/step - loss: 22.6939 - mae: 22.6939 - mse: 2871.2683 - val_loss: 22.2943 - val_mae: 22.2943 - val_mse: 1564.2188\n",
            "Epoch 589/600\n",
            "23/23 [==============================] - 0s 3ms/step - loss: 22.6937 - mae: 22.6937 - mse: 2871.1667 - val_loss: 22.2940 - val_mae: 22.2940 - val_mse: 1564.3517\n",
            "Epoch 590/600\n",
            "23/23 [==============================] - 0s 3ms/step - loss: 22.6934 - mae: 22.6934 - mse: 2871.3386 - val_loss: 22.2937 - val_mae: 22.2937 - val_mse: 1564.3901\n",
            "Epoch 591/600\n",
            "23/23 [==============================] - 0s 2ms/step - loss: 22.6932 - mae: 22.6932 - mse: 2871.3433 - val_loss: 22.2934 - val_mae: 22.2934 - val_mse: 1564.2861\n",
            "Epoch 592/600\n",
            "23/23 [==============================] - 0s 3ms/step - loss: 22.6930 - mae: 22.6930 - mse: 2871.1943 - val_loss: 22.2931 - val_mae: 22.2931 - val_mse: 1564.2861\n",
            "Epoch 593/600\n",
            "23/23 [==============================] - 0s 3ms/step - loss: 22.6930 - mae: 22.6930 - mse: 2871.0762 - val_loss: 22.2928 - val_mae: 22.2928 - val_mse: 1564.2720\n",
            "Epoch 594/600\n",
            "23/23 [==============================] - 0s 3ms/step - loss: 22.6928 - mae: 22.6928 - mse: 2871.2087 - val_loss: 22.2925 - val_mae: 22.2925 - val_mse: 1564.2704\n",
            "Epoch 595/600\n",
            "23/23 [==============================] - 0s 2ms/step - loss: 22.6925 - mae: 22.6925 - mse: 2871.2004 - val_loss: 22.2923 - val_mae: 22.2923 - val_mse: 1564.4354\n",
            "Epoch 596/600\n",
            "23/23 [==============================] - 0s 2ms/step - loss: 22.6926 - mae: 22.6926 - mse: 2871.5312 - val_loss: 22.2921 - val_mae: 22.2921 - val_mse: 1564.4454\n",
            "Epoch 597/600\n",
            "23/23 [==============================] - 0s 3ms/step - loss: 22.6922 - mae: 22.6922 - mse: 2871.4033 - val_loss: 22.2918 - val_mae: 22.2918 - val_mse: 1564.5056\n",
            "Epoch 598/600\n",
            "23/23 [==============================] - 0s 3ms/step - loss: 22.6921 - mae: 22.6921 - mse: 2871.4331 - val_loss: 22.2915 - val_mae: 22.2915 - val_mse: 1564.5909\n",
            "Epoch 599/600\n",
            "23/23 [==============================] - 0s 3ms/step - loss: 22.6918 - mae: 22.6918 - mse: 2871.5979 - val_loss: 22.2912 - val_mae: 22.2912 - val_mse: 1564.6074\n",
            "Epoch 600/600\n",
            "23/23 [==============================] - 0s 3ms/step - loss: 22.6916 - mae: 22.6916 - mse: 2871.2795 - val_loss: 22.2909 - val_mae: 22.2909 - val_mse: 1564.6703\n"
          ],
          "name": "stdout"
        }
      ]
    },
    {
      "cell_type": "code",
      "metadata": {
        "colab": {
          "base_uri": "https://localhost:8080/"
        },
        "id": "LHpqjmYHqQrM",
        "outputId": "52fcfd57-86b8-4def-9ad7-dc997a0ea2bd"
      },
      "source": [
        "print(history)"
      ],
      "execution_count": 352,
      "outputs": [
        {
          "output_type": "stream",
          "text": [
            "<tensorflow.python.keras.callbacks.History object at 0x7f9eaab44ed0>\n"
          ],
          "name": "stdout"
        }
      ]
    },
    {
      "cell_type": "code",
      "metadata": {
        "colab": {
          "base_uri": "https://localhost:8080/"
        },
        "id": "h68ztHzQvlaD",
        "outputId": "746c8330-2127-4769-c500-17c0ceac4bea"
      },
      "source": [
        "model.summary()"
      ],
      "execution_count": 353,
      "outputs": [
        {
          "output_type": "stream",
          "text": [
            "Model: \"sequential_4\"\n",
            "_________________________________________________________________\n",
            "Layer (type)                 Output Shape              Param #   \n",
            "=================================================================\n",
            "dense_4 (Dense)              (None, 1)                 2         \n",
            "=================================================================\n",
            "Total params: 2\n",
            "Trainable params: 2\n",
            "Non-trainable params: 0\n",
            "_________________________________________________________________\n"
          ],
          "name": "stdout"
        }
      ]
    },
    {
      "cell_type": "code",
      "metadata": {
        "colab": {
          "base_uri": "https://localhost:8080/",
          "height": 1000
        },
        "id": "7T17dFesvmsN",
        "outputId": "8f38b6b5-a18d-4e12-d67e-d7229cd40270"
      },
      "source": [
        "def curvePlots(tempString):\n",
        "  plt.plot(history.history[tempString])\n",
        "  plt.plot(history.history[f'val_{tempString}'])\n",
        "  plt.xlabel('NumEpochs')\n",
        "  plt.ylabel(tempString)\n",
        "  plt.legend([tempString, f'val_{tempString}'])\n",
        "  plt.show()\n",
        "\n",
        "\n",
        "curvePlots('mse')\n",
        "curvePlots('mae')\n",
        "curvePlots('loss')"
      ],
      "execution_count": 354,
      "outputs": [
        {
          "output_type": "display_data",
          "data": {
            "image/png": "[encoded data removed]",
            "text/plain": [
              "<Figure size 576x396 with 1 Axes>"
            ]
          },
          "metadata": {
            "tags": []
          }
        },
        {
          "output_type": "display_data",
          "data": {
            "image/png": "[encoded data removed]",
            "text/plain": [
              "<Figure size 576x396 with 1 Axes>"
            ]
          },
          "metadata": {
            "tags": []
          }
        },
        {
          "output_type": "display_data",
          "data": {
            "image/png": "[encoded data removed]",
            "text/plain": [
              "<Figure size 576x396 with 1 Axes>"
            ]
          },
          "metadata": {
            "tags": []
          }
        }
      ]
    },
    {
      "cell_type": "code",
      "metadata": {
        "colab": {
          "base_uri": "https://localhost:8080/"
        },
        "id": "IItRJdO0vnAI",
        "outputId": "96c5b53c-2cff-4b9e-ce23-dd9617077c55"
      },
      "source": [
        "model.predict([1])"
      ],
      "execution_count": 355,
      "outputs": [
        {
          "output_type": "execute_result",
          "data": {
            "text/plain": [
              "array([[23.38583]], dtype=float32)"
            ]
          },
          "metadata": {
            "tags": []
          },
          "execution_count": 355
        }
      ]
    },
    {
      "cell_type": "code",
      "metadata": {
        "colab": {
          "base_uri": "https://localhost:8080/"
        },
        "id": "zjFQ0VSNJr1N",
        "outputId": "1f8098d6-9b4c-4cf4-ae25-a3b89f63cc77"
      },
      "source": [
        "\n",
        "print(f'Prediction for input value 1: {model.predict([1])}')\n",
        "tempListforPreds = [1,2,3,4,5]\n",
        "print(f'''\n",
        "\n",
        "input List = {tempListforPreds}\n",
        "\n",
        "\n",
        "List of Predictions:\n",
        "{model.predict(tempListforPreds)}\n",
        "\n",
        "List of Predictions (flattened out):\n",
        "{model.predict(tempListforPreds).flatten()}\n",
        "''')"
      ],
      "execution_count": 356,
      "outputs": [
        {
          "output_type": "stream",
          "text": [
            "Prediction for input value 1: [[23.38583]]\n",
            "\n",
            "\n",
            "input List = [1, 2, 3, 4, 5]\n",
            "\n",
            "\n",
            "List of Predictions:\n",
            "[[23.38583 ]\n",
            " [35.08765 ]\n",
            " [46.789474]\n",
            " [58.491295]\n",
            " [70.193115]]\n",
            "\n",
            "List of Predictions (flattened out):\n",
            "[23.38583  35.08765  46.789474 58.491295 70.193115]\n",
            "\n"
          ],
          "name": "stdout"
        }
      ]
    },
    {
      "cell_type": "code",
      "metadata": {
        "colab": {
          "base_uri": "https://localhost:8080/"
        },
        "id": "t6Z1g8RwJ1eI",
        "outputId": "979c4bb3-b067-464c-9efd-a29664b3c397"
      },
      "source": [
        "print(testFeatures)"
      ],
      "execution_count": 357,
      "outputs": [
        {
          "output_type": "stream",
          "text": [
            "     Survived\n",
            "9           1\n",
            "11          1\n",
            "19          1\n",
            "23          1\n",
            "28          1\n",
            "..        ...\n",
            "858         1\n",
            "865         1\n",
            "867         0\n",
            "871         1\n",
            "874         1\n",
            "\n",
            "[178 rows x 1 columns]\n"
          ],
          "name": "stdout"
        }
      ]
    },
    {
      "cell_type": "code",
      "metadata": {
        "id": "QXsJ53pHJ1qI"
      },
      "source": [
        "testPreds = model.predict(testFeatures).flatten()"
      ],
      "execution_count": 358,
      "outputs": []
    },
    {
      "cell_type": "code",
      "metadata": {
        "colab": {
          "base_uri": "https://localhost:8080/"
        },
        "id": "DZVzMGLcJ1z_",
        "outputId": "8256a464-95a0-49f3-c684-d0cc26db2c19"
      },
      "source": [
        "print(len(testPreds))\n",
        "\n",
        "print(testPreds)"
      ],
      "execution_count": 359,
      "outputs": [
        {
          "output_type": "stream",
          "text": [
            "178\n",
            "[23.38583  23.38583  23.38583  23.38583  23.38583  23.38583  23.38583\n",
            " 11.684008 11.684008 23.38583  23.38583  23.38583  11.684008 23.38583\n",
            " 11.684008 11.684008 11.684008 23.38583  23.38583  11.684008 11.684008\n",
            " 11.684008 11.684008 11.684008 23.38583  11.684008 11.684008 11.684008\n",
            " 23.38583  23.38583  11.684008 11.684008 11.684008 11.684008 11.684008\n",
            " 11.684008 23.38583  11.684008 11.684008 11.684008 11.684008 11.684008\n",
            " 23.38583  23.38583  23.38583  11.684008 11.684008 11.684008 23.38583\n",
            " 23.38583  11.684008 11.684008 23.38583  23.38583  23.38583  11.684008\n",
            " 11.684008 23.38583  11.684008 23.38583  11.684008 11.684008 23.38583\n",
            " 23.38583  23.38583  11.684008 11.684008 23.38583  23.38583  11.684008\n",
            " 11.684008 23.38583  11.684008 23.38583  11.684008 23.38583  23.38583\n",
            " 23.38583  11.684008 11.684008 11.684008 23.38583  23.38583  11.684008\n",
            " 11.684008 11.684008 11.684008 11.684008 11.684008 23.38583  23.38583\n",
            " 11.684008 23.38583  23.38583  11.684008 11.684008 11.684008 23.38583\n",
            " 23.38583  11.684008 23.38583  23.38583  11.684008 23.38583  23.38583\n",
            " 11.684008 23.38583  11.684008 23.38583  11.684008 23.38583  11.684008\n",
            " 11.684008 11.684008 11.684008 23.38583  11.684008 11.684008 11.684008\n",
            " 23.38583  23.38583  11.684008 23.38583  11.684008 11.684008 11.684008\n",
            " 23.38583  11.684008 11.684008 11.684008 11.684008 11.684008 23.38583\n",
            " 11.684008 23.38583  11.684008 23.38583  11.684008 23.38583  11.684008\n",
            " 11.684008 23.38583  23.38583  11.684008 11.684008 11.684008 11.684008\n",
            " 11.684008 23.38583  23.38583  11.684008 23.38583  11.684008 23.38583\n",
            " 11.684008 23.38583  23.38583  11.684008 23.38583  23.38583  23.38583\n",
            " 11.684008 23.38583  23.38583  23.38583  11.684008 11.684008 23.38583\n",
            " 11.684008 11.684008 23.38583  11.684008 11.684008 23.38583  23.38583\n",
            " 11.684008 23.38583  23.38583 ]\n"
          ],
          "name": "stdout"
        }
      ]
    },
    {
      "cell_type": "code",
      "metadata": {
        "colab": {
          "base_uri": "https://localhost:8080/",
          "height": 361
        },
        "id": "Q7_3XxJjJ1-4",
        "outputId": "ad032aef-b99b-42e6-d919-86edfae641c3"
      },
      "source": [
        "def predPlot(labels, predictions):\n",
        "  plt.scatter(labels, predictions)\n",
        "  plt.ylabel('Predictions')\n",
        "  plt.xlabel('True Value or Labels')\n",
        "  plt.axis('equal')\n",
        "  plt.axis('square')\n",
        "  plt.xlim([0, plt.xlim()[1]])\n",
        "  plt.ylim([0, plt.ylim()[1]])\n",
        "  plt.show()\n",
        "\n",
        "predPlot(testLabels, testPreds)"
      ],
      "execution_count": 360,
      "outputs": [
        {
          "output_type": "display_data",
          "data": {
            "image/png": "[encoded data removed]",
            "text/plain": [
              "<Figure size 576x396 with 1 Axes>"
            ]
          },
          "metadata": {
            "tags": []
          }
        }
      ]
    },
    {
      "cell_type": "code",
      "metadata": {
        "colab": {
          "base_uri": "https://localhost:8080/",
          "height": 361
        },
        "id": "NFFbEW0CKJ8W",
        "outputId": "b2aa8818-0789-4063-e649-98af726a496d"
      },
      "source": [
        "def errorPlot(preds, labels, counts):\n",
        "  errors = preds - labels\n",
        "  plt.hist(errors, counts)\n",
        "  plt.xlabel('Error')\n",
        "  plt.ylabel('Counts')\n",
        "  plt.show()\n",
        "\n",
        "errorPlot(testPreds, testLabels, numEpochs)"
      ],
      "execution_count": 361,
      "outputs": [
        {
          "output_type": "display_data",
          "data": {
            "image/png": "[encoded data removed]",
            "text/plain": [
              "<Figure size 576x396 with 1 Axes>"
            ]
          },
          "metadata": {
            "tags": []
          }
        }
      ]
    }
  ]
}