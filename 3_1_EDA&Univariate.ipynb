{
  "nbformat": 4,
  "nbformat_minor": 0,
  "metadata": {
    "colab": {
      "name": "3.1_EDA&Univariate.ipynb",
      "provenance": [],
      "collapsed_sections": [],
      "include_colab_link": true
    },
    "kernelspec": {
      "display_name": "Python 3",
      "name": "python3"
    }
  },
  "cells": [
    {
      "cell_type": "markdown",
      "metadata": {
        "id": "view-in-github",
        "colab_type": "text"
      },
      "source": [
        "<a href=\"https://colab.research.google.com/github/Sakshi1007/MLnow_2.0/blob/main/3_1_EDA%26Univariate.ipynb\" target=\"_parent\"><img src=\"https://colab.research.google.com/assets/colab-badge.svg\" alt=\"Open In Colab\"/></a>"
      ]
    },
    {
      "cell_type": "markdown",
      "metadata": {
        "id": "q_569ugy6lyY"
      },
      "source": [
        "> This notebook was created for code illustration of the `ML.now()` course\n",
        "\n",
        "\n",
        "**`Univariate Linear Regression`**\n",
        "\n",
        "[Link to Download the dataset](https://www.kaggle.com/hesh97/titanicdataset-traincsv)\n",
        "\n",
        "**Date Created**: June 8, 2021\n",
        "\n",
        "**Author**:\n",
        "Sakshi Singh\n",
        "\n",
        "[[Course Repository](https://https://github.com/Sakshi1007/MLnow_2.0)]\n",
        "\n"
      ]
    },
    {
      "cell_type": "markdown",
      "metadata": {
        "id": "KmW9S6zjaauQ"
      },
      "source": [
        "## Setup"
      ]
    },
    {
      "cell_type": "code",
      "metadata": {
        "colab": {
          "base_uri": "https://localhost:8080/"
        },
        "id": "oX_QibhWsnnX",
        "outputId": "e0e0762e-f4da-4589-d862-23f95ae56dc1"
      },
      "source": [
        "from google.colab import drive\n",
        "drive.mount('/content/drive')"
      ],
      "execution_count": 296,
      "outputs": [
        {
          "output_type": "stream",
          "text": [
            "Drive already mounted at /content/drive; to attempt to forcibly remount, call drive.mount(\"/content/drive\", force_remount=True).\n"
          ],
          "name": "stdout"
        }
      ]
    },
    {
      "cell_type": "code",
      "metadata": {
        "colab": {
          "base_uri": "https://localhost:8080/"
        },
        "id": "wYuNn17Isvml",
        "outputId": "27574146-e47a-443e-c279-1fa049fd28f5"
      },
      "source": [
        "cd '/content/drive/MyDrive/ColabNotebooks/MLnow()'"
      ],
      "execution_count": 297,
      "outputs": [
        {
          "output_type": "stream",
          "text": [
            "/content/drive/MyDrive/ColabNotebooks/MLnow()\n"
          ],
          "name": "stdout"
        }
      ]
    },
    {
      "cell_type": "code",
      "metadata": {
        "colab": {
          "base_uri": "https://localhost:8080/"
        },
        "id": "oR69jwALs-uP",
        "outputId": "8bce584d-a799-4f40-d4e7-668e3c31d5d9"
      },
      "source": [
        "ls"
      ],
      "execution_count": 298,
      "outputs": [
        {
          "output_type": "stream",
          "text": [
            "ClaenMathData.csv  cleanedMathData.csv  train.csv  univariate_MathData_2.csv\n"
          ],
          "name": "stdout"
        }
      ]
    },
    {
      "cell_type": "code",
      "metadata": {
        "id": "0rYwvbeMtPJg"
      },
      "source": [
        "import os"
      ],
      "execution_count": 299,
      "outputs": []
    },
    {
      "cell_type": "code",
      "metadata": {
        "id": "cnGQRbmes_tZ"
      },
      "source": [
        "import pandas as pd #working with csv or excel files\n",
        "import numpy as np #working with numbers/ arrays/ tensors\n",
        "import tensorflow as tf #framework\n",
        "from tensorflow import keras #API / library \n",
        "import os #using os commands between the python language"
      ],
      "execution_count": 300,
      "outputs": []
    },
    {
      "cell_type": "code",
      "metadata": {
        "id": "VV-Ps6dJtX6B"
      },
      "source": [
        "mathData = pd.DataFrame(pd.read_csv('train.csv'))"
      ],
      "execution_count": 301,
      "outputs": []
    },
    {
      "cell_type": "code",
      "metadata": {
        "colab": {
          "base_uri": "https://localhost:8080/",
          "height": 359
        },
        "id": "2_KId_bptr05",
        "outputId": "d17221e1-0718-49f8-8dd9-5519f2e7f9b4"
      },
      "source": [
        "mathData.head(10) #print the first ten rows of the dataframe"
      ],
      "execution_count": 302,
      "outputs": [
        {
          "output_type": "execute_result",
          "data": {
            "text/html": [
              "<div>\n",
              "<style scoped>\n",
              "    .dataframe tbody tr th:only-of-type {\n",
              "        vertical-align: middle;\n",
              "    }\n",
              "\n",
              "    .dataframe tbody tr th {\n",
              "        vertical-align: top;\n",
              "    }\n",
              "\n",
              "    .dataframe thead th {\n",
              "        text-align: right;\n",
              "    }\n",
              "</style>\n",
              "<table border=\"1\" class=\"dataframe\">\n",
              "  <thead>\n",
              "    <tr style=\"text-align: right;\">\n",
              "      <th></th>\n",
              "      <th>PassengerId</th>\n",
              "      <th>Survived</th>\n",
              "      <th>Pclass</th>\n",
              "      <th>Name</th>\n",
              "      <th>Sex</th>\n",
              "      <th>Age</th>\n",
              "      <th>SibSp</th>\n",
              "      <th>Parch</th>\n",
              "      <th>Ticket</th>\n",
              "      <th>Fare</th>\n",
              "      <th>Cabin</th>\n",
              "      <th>Embarked</th>\n",
              "    </tr>\n",
              "  </thead>\n",
              "  <tbody>\n",
              "    <tr>\n",
              "      <th>0</th>\n",
              "      <td>1</td>\n",
              "      <td>0</td>\n",
              "      <td>3</td>\n",
              "      <td>Braund, Mr. Owen Harris</td>\n",
              "      <td>male</td>\n",
              "      <td>22.0</td>\n",
              "      <td>1</td>\n",
              "      <td>0</td>\n",
              "      <td>A/5 21171</td>\n",
              "      <td>7.2500</td>\n",
              "      <td>NaN</td>\n",
              "      <td>S</td>\n",
              "    </tr>\n",
              "    <tr>\n",
              "      <th>1</th>\n",
              "      <td>2</td>\n",
              "      <td>1</td>\n",
              "      <td>1</td>\n",
              "      <td>Cumings, Mrs. John Bradley (Florence Briggs Th...</td>\n",
              "      <td>female</td>\n",
              "      <td>38.0</td>\n",
              "      <td>1</td>\n",
              "      <td>0</td>\n",
              "      <td>PC 17599</td>\n",
              "      <td>71.2833</td>\n",
              "      <td>C85</td>\n",
              "      <td>C</td>\n",
              "    </tr>\n",
              "    <tr>\n",
              "      <th>2</th>\n",
              "      <td>3</td>\n",
              "      <td>1</td>\n",
              "      <td>3</td>\n",
              "      <td>Heikkinen, Miss. Laina</td>\n",
              "      <td>female</td>\n",
              "      <td>26.0</td>\n",
              "      <td>0</td>\n",
              "      <td>0</td>\n",
              "      <td>STON/O2. 3101282</td>\n",
              "      <td>7.9250</td>\n",
              "      <td>NaN</td>\n",
              "      <td>S</td>\n",
              "    </tr>\n",
              "    <tr>\n",
              "      <th>3</th>\n",
              "      <td>4</td>\n",
              "      <td>1</td>\n",
              "      <td>1</td>\n",
              "      <td>Futrelle, Mrs. Jacques Heath (Lily May Peel)</td>\n",
              "      <td>female</td>\n",
              "      <td>35.0</td>\n",
              "      <td>1</td>\n",
              "      <td>0</td>\n",
              "      <td>113803</td>\n",
              "      <td>53.1000</td>\n",
              "      <td>C123</td>\n",
              "      <td>S</td>\n",
              "    </tr>\n",
              "    <tr>\n",
              "      <th>4</th>\n",
              "      <td>5</td>\n",
              "      <td>0</td>\n",
              "      <td>3</td>\n",
              "      <td>Allen, Mr. William Henry</td>\n",
              "      <td>male</td>\n",
              "      <td>35.0</td>\n",
              "      <td>0</td>\n",
              "      <td>0</td>\n",
              "      <td>373450</td>\n",
              "      <td>8.0500</td>\n",
              "      <td>NaN</td>\n",
              "      <td>S</td>\n",
              "    </tr>\n",
              "    <tr>\n",
              "      <th>5</th>\n",
              "      <td>6</td>\n",
              "      <td>0</td>\n",
              "      <td>3</td>\n",
              "      <td>Moran, Mr. James</td>\n",
              "      <td>male</td>\n",
              "      <td>NaN</td>\n",
              "      <td>0</td>\n",
              "      <td>0</td>\n",
              "      <td>330877</td>\n",
              "      <td>8.4583</td>\n",
              "      <td>NaN</td>\n",
              "      <td>Q</td>\n",
              "    </tr>\n",
              "    <tr>\n",
              "      <th>6</th>\n",
              "      <td>7</td>\n",
              "      <td>0</td>\n",
              "      <td>1</td>\n",
              "      <td>McCarthy, Mr. Timothy J</td>\n",
              "      <td>male</td>\n",
              "      <td>54.0</td>\n",
              "      <td>0</td>\n",
              "      <td>0</td>\n",
              "      <td>17463</td>\n",
              "      <td>51.8625</td>\n",
              "      <td>E46</td>\n",
              "      <td>S</td>\n",
              "    </tr>\n",
              "    <tr>\n",
              "      <th>7</th>\n",
              "      <td>8</td>\n",
              "      <td>0</td>\n",
              "      <td>3</td>\n",
              "      <td>Palsson, Master. Gosta Leonard</td>\n",
              "      <td>male</td>\n",
              "      <td>2.0</td>\n",
              "      <td>3</td>\n",
              "      <td>1</td>\n",
              "      <td>349909</td>\n",
              "      <td>21.0750</td>\n",
              "      <td>NaN</td>\n",
              "      <td>S</td>\n",
              "    </tr>\n",
              "    <tr>\n",
              "      <th>8</th>\n",
              "      <td>9</td>\n",
              "      <td>1</td>\n",
              "      <td>3</td>\n",
              "      <td>Johnson, Mrs. Oscar W (Elisabeth Vilhelmina Berg)</td>\n",
              "      <td>female</td>\n",
              "      <td>27.0</td>\n",
              "      <td>0</td>\n",
              "      <td>2</td>\n",
              "      <td>347742</td>\n",
              "      <td>11.1333</td>\n",
              "      <td>NaN</td>\n",
              "      <td>S</td>\n",
              "    </tr>\n",
              "    <tr>\n",
              "      <th>9</th>\n",
              "      <td>10</td>\n",
              "      <td>1</td>\n",
              "      <td>2</td>\n",
              "      <td>Nasser, Mrs. Nicholas (Adele Achem)</td>\n",
              "      <td>female</td>\n",
              "      <td>14.0</td>\n",
              "      <td>1</td>\n",
              "      <td>0</td>\n",
              "      <td>237736</td>\n",
              "      <td>30.0708</td>\n",
              "      <td>NaN</td>\n",
              "      <td>C</td>\n",
              "    </tr>\n",
              "  </tbody>\n",
              "</table>\n",
              "</div>"
            ],
            "text/plain": [
              "   PassengerId  Survived  Pclass  ...     Fare Cabin  Embarked\n",
              "0            1         0       3  ...   7.2500   NaN         S\n",
              "1            2         1       1  ...  71.2833   C85         C\n",
              "2            3         1       3  ...   7.9250   NaN         S\n",
              "3            4         1       1  ...  53.1000  C123         S\n",
              "4            5         0       3  ...   8.0500   NaN         S\n",
              "5            6         0       3  ...   8.4583   NaN         Q\n",
              "6            7         0       1  ...  51.8625   E46         S\n",
              "7            8         0       3  ...  21.0750   NaN         S\n",
              "8            9         1       3  ...  11.1333   NaN         S\n",
              "9           10         1       2  ...  30.0708   NaN         C\n",
              "\n",
              "[10 rows x 12 columns]"
            ]
          },
          "metadata": {
            "tags": []
          },
          "execution_count": 302
        }
      ]
    },
    {
      "cell_type": "code",
      "metadata": {
        "colab": {
          "base_uri": "https://localhost:8080/"
        },
        "id": "Uzuy7kS1u6nI",
        "outputId": "0982f9a0-bbcd-4ce1-edc6-8279463917ed"
      },
      "source": [
        "mathData.shape"
      ],
      "execution_count": 303,
      "outputs": [
        {
          "output_type": "execute_result",
          "data": {
            "text/plain": [
              "(891, 12)"
            ]
          },
          "metadata": {
            "tags": []
          },
          "execution_count": 303
        }
      ]
    },
    {
      "cell_type": "code",
      "metadata": {
        "colab": {
          "base_uri": "https://localhost:8080/"
        },
        "id": "Jj7DReukvCp3",
        "outputId": "d14670d9-e37e-4d1a-a552-2a1702ad3e18"
      },
      "source": [
        "mathData.isnull().sum()"
      ],
      "execution_count": 304,
      "outputs": [
        {
          "output_type": "execute_result",
          "data": {
            "text/plain": [
              "PassengerId      0\n",
              "Survived         0\n",
              "Pclass           0\n",
              "Name             0\n",
              "Sex              0\n",
              "Age            177\n",
              "SibSp            0\n",
              "Parch            0\n",
              "Ticket           0\n",
              "Fare             0\n",
              "Cabin          687\n",
              "Embarked         2\n",
              "dtype: int64"
            ]
          },
          "metadata": {
            "tags": []
          },
          "execution_count": 304
        }
      ]
    },
    {
      "cell_type": "markdown",
      "metadata": {
        "id": "bHW7RIq9vPUj"
      },
      "source": [
        "**Drop the column which are not necessary during prediction as well as it have ore than 35% Null values**"
      ]
    },
    {
      "cell_type": "code",
      "metadata": {
        "colab": {
          "base_uri": "https://localhost:8080/"
        },
        "id": "2Y2qJkiuvJ6C",
        "outputId": "811582c5-90c3-4d61-de37-8f013d2a2f89"
      },
      "source": [
        "drop_column=mathData.isnull().sum()[mathData.isnull().sum()>(35/100*mathData.shape[0])]\n",
        "drop_column"
      ],
      "execution_count": 305,
      "outputs": [
        {
          "output_type": "execute_result",
          "data": {
            "text/plain": [
              "Cabin    687\n",
              "dtype: int64"
            ]
          },
          "metadata": {
            "tags": []
          },
          "execution_count": 305
        }
      ]
    },
    {
      "cell_type": "markdown",
      "metadata": {
        "id": "JA-r0RKfv6jy"
      },
      "source": [
        "**Cabin will doesn't matter to know that whether person will survive or not, So we will drop this column**"
      ]
    },
    {
      "cell_type": "code",
      "metadata": {
        "colab": {
          "base_uri": "https://localhost:8080/"
        },
        "id": "cOpT55IcwIjT",
        "outputId": "ee5e6bcd-03a4-4530-c391-bc9e06483400"
      },
      "source": [
        "drop_column.index"
      ],
      "execution_count": 306,
      "outputs": [
        {
          "output_type": "execute_result",
          "data": {
            "text/plain": [
              "Index(['Cabin'], dtype='object')"
            ]
          },
          "metadata": {
            "tags": []
          },
          "execution_count": 306
        }
      ]
    },
    {
      "cell_type": "code",
      "metadata": {
        "colab": {
          "base_uri": "https://localhost:8080/"
        },
        "id": "yWyYNsY0wVji",
        "outputId": "af5f747f-b22b-41ef-8d98-ea31746690b7"
      },
      "source": [
        "mathData.drop(drop_column.index,axis=1,inplace=True)\n",
        "mathData.isnull().sum()"
      ],
      "execution_count": 307,
      "outputs": [
        {
          "output_type": "execute_result",
          "data": {
            "text/plain": [
              "PassengerId      0\n",
              "Survived         0\n",
              "Pclass           0\n",
              "Name             0\n",
              "Sex              0\n",
              "Age            177\n",
              "SibSp            0\n",
              "Parch            0\n",
              "Ticket           0\n",
              "Fare             0\n",
              "Embarked         2\n",
              "dtype: int64"
            ]
          },
          "metadata": {
            "tags": []
          },
          "execution_count": 307
        }
      ]
    },
    {
      "cell_type": "code",
      "metadata": {
        "colab": {
          "base_uri": "https://localhost:8080/"
        },
        "id": "Uz9rjL7dBSGG",
        "outputId": "f06ee8ec-64e7-493e-ccf0-5a89f6ac23ef"
      },
      "source": [
        "mathData.fillna(mathData.mean(),inplace=True)\n",
        "mathData.isnull().sum()"
      ],
      "execution_count": 308,
      "outputs": [
        {
          "output_type": "execute_result",
          "data": {
            "text/plain": [
              "PassengerId    0\n",
              "Survived       0\n",
              "Pclass         0\n",
              "Name           0\n",
              "Sex            0\n",
              "Age            0\n",
              "SibSp          0\n",
              "Parch          0\n",
              "Ticket         0\n",
              "Fare           0\n",
              "Embarked       2\n",
              "dtype: int64"
            ]
          },
          "metadata": {
            "tags": []
          },
          "execution_count": 308
        }
      ]
    },
    {
      "cell_type": "code",
      "metadata": {
        "colab": {
          "base_uri": "https://localhost:8080/"
        },
        "id": "jKC9JUqVBSDF",
        "outputId": "2043ed77-f664-40c4-de79-c5fc7cbb041c"
      },
      "source": [
        "mathData['Embarked'].describe()"
      ],
      "execution_count": 309,
      "outputs": [
        {
          "output_type": "execute_result",
          "data": {
            "text/plain": [
              "count     889\n",
              "unique      3\n",
              "top         S\n",
              "freq      644\n",
              "Name: Embarked, dtype: object"
            ]
          },
          "metadata": {
            "tags": []
          },
          "execution_count": 309
        }
      ]
    },
    {
      "cell_type": "code",
      "metadata": {
        "id": "Ih7Ad-msCATU"
      },
      "source": [
        "mathData['Embarked'].fillna('S',inplace=True)"
      ],
      "execution_count": 310,
      "outputs": []
    },
    {
      "cell_type": "code",
      "metadata": {
        "colab": {
          "base_uri": "https://localhost:8080/"
        },
        "id": "WIt8jj3LCP3s",
        "outputId": "2363e442-7502-4202-c628-84c18d108912"
      },
      "source": [
        "mathData.isnull().sum()"
      ],
      "execution_count": 311,
      "outputs": [
        {
          "output_type": "execute_result",
          "data": {
            "text/plain": [
              "PassengerId    0\n",
              "Survived       0\n",
              "Pclass         0\n",
              "Name           0\n",
              "Sex            0\n",
              "Age            0\n",
              "SibSp          0\n",
              "Parch          0\n",
              "Ticket         0\n",
              "Fare           0\n",
              "Embarked       0\n",
              "dtype: int64"
            ]
          },
          "metadata": {
            "tags": []
          },
          "execution_count": 311
        }
      ]
    },
    {
      "cell_type": "code",
      "metadata": {
        "colab": {
          "base_uri": "https://localhost:8080/"
        },
        "id": "tZAwtLATEI2M",
        "outputId": "6c1c0d1a-92ef-42a2-a154-72702009ac50"
      },
      "source": [
        "#unique classes/categories in every column \n",
        "\n",
        "# variable.column.unique() --> all {column} values from the {variable} dataframe and print out the unique ones. \n",
        "\n",
        "\n",
        "print(f'Survived: {mathData.Survived.unique()}')\n",
        "print(f'SEX: {mathData.Sex.unique()}')\n",
        "print(f'Pclass: {mathData.Pclass.unique()}')\n",
        "print(f'SibSP: {mathData.SibSp.unique()}')\n",
        "print(f'Parch: {mathData.Parch.unique()}')\n",
        "print(f'Embarked: {mathData.Embarked.unique()}')"
      ],
      "execution_count": 312,
      "outputs": [
        {
          "output_type": "stream",
          "text": [
            "Survived: [0 1]\n",
            "SEX: ['male' 'female']\n",
            "Pclass: [3 1 2]\n",
            "SibSP: [1 0 3 4 2 5 8]\n",
            "Parch: [0 1 2 5 3 4 6]\n",
            "Embarked: ['S' 'C' 'Q']\n"
          ],
          "name": "stdout"
        }
      ]
    },
    {
      "cell_type": "code",
      "metadata": {
        "colab": {
          "base_uri": "https://localhost:8080/",
          "height": 266
        },
        "id": "mhJDmq_PCi2u",
        "outputId": "bd348d6a-4546-4368-acf0-f332ceab475e"
      },
      "source": [
        "mathData.corr()"
      ],
      "execution_count": 313,
      "outputs": [
        {
          "output_type": "execute_result",
          "data": {
            "text/html": [
              "<div>\n",
              "<style scoped>\n",
              "    .dataframe tbody tr th:only-of-type {\n",
              "        vertical-align: middle;\n",
              "    }\n",
              "\n",
              "    .dataframe tbody tr th {\n",
              "        vertical-align: top;\n",
              "    }\n",
              "\n",
              "    .dataframe thead th {\n",
              "        text-align: right;\n",
              "    }\n",
              "</style>\n",
              "<table border=\"1\" class=\"dataframe\">\n",
              "  <thead>\n",
              "    <tr style=\"text-align: right;\">\n",
              "      <th></th>\n",
              "      <th>PassengerId</th>\n",
              "      <th>Survived</th>\n",
              "      <th>Pclass</th>\n",
              "      <th>Age</th>\n",
              "      <th>SibSp</th>\n",
              "      <th>Parch</th>\n",
              "      <th>Fare</th>\n",
              "    </tr>\n",
              "  </thead>\n",
              "  <tbody>\n",
              "    <tr>\n",
              "      <th>PassengerId</th>\n",
              "      <td>1.000000</td>\n",
              "      <td>-0.005007</td>\n",
              "      <td>-0.035144</td>\n",
              "      <td>0.033207</td>\n",
              "      <td>-0.057527</td>\n",
              "      <td>-0.001652</td>\n",
              "      <td>0.012658</td>\n",
              "    </tr>\n",
              "    <tr>\n",
              "      <th>Survived</th>\n",
              "      <td>-0.005007</td>\n",
              "      <td>1.000000</td>\n",
              "      <td>-0.338481</td>\n",
              "      <td>-0.069809</td>\n",
              "      <td>-0.035322</td>\n",
              "      <td>0.081629</td>\n",
              "      <td>0.257307</td>\n",
              "    </tr>\n",
              "    <tr>\n",
              "      <th>Pclass</th>\n",
              "      <td>-0.035144</td>\n",
              "      <td>-0.338481</td>\n",
              "      <td>1.000000</td>\n",
              "      <td>-0.331339</td>\n",
              "      <td>0.083081</td>\n",
              "      <td>0.018443</td>\n",
              "      <td>-0.549500</td>\n",
              "    </tr>\n",
              "    <tr>\n",
              "      <th>Age</th>\n",
              "      <td>0.033207</td>\n",
              "      <td>-0.069809</td>\n",
              "      <td>-0.331339</td>\n",
              "      <td>1.000000</td>\n",
              "      <td>-0.232625</td>\n",
              "      <td>-0.179191</td>\n",
              "      <td>0.091566</td>\n",
              "    </tr>\n",
              "    <tr>\n",
              "      <th>SibSp</th>\n",
              "      <td>-0.057527</td>\n",
              "      <td>-0.035322</td>\n",
              "      <td>0.083081</td>\n",
              "      <td>-0.232625</td>\n",
              "      <td>1.000000</td>\n",
              "      <td>0.414838</td>\n",
              "      <td>0.159651</td>\n",
              "    </tr>\n",
              "    <tr>\n",
              "      <th>Parch</th>\n",
              "      <td>-0.001652</td>\n",
              "      <td>0.081629</td>\n",
              "      <td>0.018443</td>\n",
              "      <td>-0.179191</td>\n",
              "      <td>0.414838</td>\n",
              "      <td>1.000000</td>\n",
              "      <td>0.216225</td>\n",
              "    </tr>\n",
              "    <tr>\n",
              "      <th>Fare</th>\n",
              "      <td>0.012658</td>\n",
              "      <td>0.257307</td>\n",
              "      <td>-0.549500</td>\n",
              "      <td>0.091566</td>\n",
              "      <td>0.159651</td>\n",
              "      <td>0.216225</td>\n",
              "      <td>1.000000</td>\n",
              "    </tr>\n",
              "  </tbody>\n",
              "</table>\n",
              "</div>"
            ],
            "text/plain": [
              "             PassengerId  Survived    Pclass  ...     SibSp     Parch      Fare\n",
              "PassengerId     1.000000 -0.005007 -0.035144  ... -0.057527 -0.001652  0.012658\n",
              "Survived       -0.005007  1.000000 -0.338481  ... -0.035322  0.081629  0.257307\n",
              "Pclass         -0.035144 -0.338481  1.000000  ...  0.083081  0.018443 -0.549500\n",
              "Age             0.033207 -0.069809 -0.331339  ... -0.232625 -0.179191  0.091566\n",
              "SibSp          -0.057527 -0.035322  0.083081  ...  1.000000  0.414838  0.159651\n",
              "Parch          -0.001652  0.081629  0.018443  ...  0.414838  1.000000  0.216225\n",
              "Fare            0.012658  0.257307 -0.549500  ...  0.159651  0.216225  1.000000\n",
              "\n",
              "[7 rows x 7 columns]"
            ]
          },
          "metadata": {
            "tags": []
          },
          "execution_count": 313
        }
      ]
    },
    {
      "cell_type": "code",
      "metadata": {
        "colab": {
          "base_uri": "https://localhost:8080/",
          "height": 235
        },
        "id": "fg3auyuUC308",
        "outputId": "2a785873-77f0-48f3-f244-9c63ab5e980b"
      },
      "source": [
        "mathData['FamilySize']=mathData['SibSp']+mathData['Parch']\n",
        "mathData.drop(['SibSp','Parch'],axis=1,inplace=True)\n",
        "mathData.corr()"
      ],
      "execution_count": 314,
      "outputs": [
        {
          "output_type": "execute_result",
          "data": {
            "text/html": [
              "<div>\n",
              "<style scoped>\n",
              "    .dataframe tbody tr th:only-of-type {\n",
              "        vertical-align: middle;\n",
              "    }\n",
              "\n",
              "    .dataframe tbody tr th {\n",
              "        vertical-align: top;\n",
              "    }\n",
              "\n",
              "    .dataframe thead th {\n",
              "        text-align: right;\n",
              "    }\n",
              "</style>\n",
              "<table border=\"1\" class=\"dataframe\">\n",
              "  <thead>\n",
              "    <tr style=\"text-align: right;\">\n",
              "      <th></th>\n",
              "      <th>PassengerId</th>\n",
              "      <th>Survived</th>\n",
              "      <th>Pclass</th>\n",
              "      <th>Age</th>\n",
              "      <th>Fare</th>\n",
              "      <th>FamilySize</th>\n",
              "    </tr>\n",
              "  </thead>\n",
              "  <tbody>\n",
              "    <tr>\n",
              "      <th>PassengerId</th>\n",
              "      <td>1.000000</td>\n",
              "      <td>-0.005007</td>\n",
              "      <td>-0.035144</td>\n",
              "      <td>0.033207</td>\n",
              "      <td>0.012658</td>\n",
              "      <td>-0.040143</td>\n",
              "    </tr>\n",
              "    <tr>\n",
              "      <th>Survived</th>\n",
              "      <td>-0.005007</td>\n",
              "      <td>1.000000</td>\n",
              "      <td>-0.338481</td>\n",
              "      <td>-0.069809</td>\n",
              "      <td>0.257307</td>\n",
              "      <td>0.016639</td>\n",
              "    </tr>\n",
              "    <tr>\n",
              "      <th>Pclass</th>\n",
              "      <td>-0.035144</td>\n",
              "      <td>-0.338481</td>\n",
              "      <td>1.000000</td>\n",
              "      <td>-0.331339</td>\n",
              "      <td>-0.549500</td>\n",
              "      <td>0.065997</td>\n",
              "    </tr>\n",
              "    <tr>\n",
              "      <th>Age</th>\n",
              "      <td>0.033207</td>\n",
              "      <td>-0.069809</td>\n",
              "      <td>-0.331339</td>\n",
              "      <td>1.000000</td>\n",
              "      <td>0.091566</td>\n",
              "      <td>-0.248512</td>\n",
              "    </tr>\n",
              "    <tr>\n",
              "      <th>Fare</th>\n",
              "      <td>0.012658</td>\n",
              "      <td>0.257307</td>\n",
              "      <td>-0.549500</td>\n",
              "      <td>0.091566</td>\n",
              "      <td>1.000000</td>\n",
              "      <td>0.217138</td>\n",
              "    </tr>\n",
              "    <tr>\n",
              "      <th>FamilySize</th>\n",
              "      <td>-0.040143</td>\n",
              "      <td>0.016639</td>\n",
              "      <td>0.065997</td>\n",
              "      <td>-0.248512</td>\n",
              "      <td>0.217138</td>\n",
              "      <td>1.000000</td>\n",
              "    </tr>\n",
              "  </tbody>\n",
              "</table>\n",
              "</div>"
            ],
            "text/plain": [
              "             PassengerId  Survived    Pclass       Age      Fare  FamilySize\n",
              "PassengerId     1.000000 -0.005007 -0.035144  0.033207  0.012658   -0.040143\n",
              "Survived       -0.005007  1.000000 -0.338481 -0.069809  0.257307    0.016639\n",
              "Pclass         -0.035144 -0.338481  1.000000 -0.331339 -0.549500    0.065997\n",
              "Age             0.033207 -0.069809 -0.331339  1.000000  0.091566   -0.248512\n",
              "Fare            0.012658  0.257307 -0.549500  0.091566  1.000000    0.217138\n",
              "FamilySize     -0.040143  0.016639  0.065997 -0.248512  0.217138    1.000000"
            ]
          },
          "metadata": {
            "tags": []
          },
          "execution_count": 314
        }
      ]
    },
    {
      "cell_type": "code",
      "metadata": {
        "colab": {
          "base_uri": "https://localhost:8080/",
          "height": 359
        },
        "id": "7i9zpPSdUWHM",
        "outputId": "19b7a204-01d5-468c-efb7-7e4a668fdd63"
      },
      "source": [
        "mathData['FamilySize'] = mathData['FamilySize'].apply({1:1, 0:0, 4:1, 2:1, 6:1, 5:1, 3:1, 7:1, 10:1}.get)\n",
        "mathData.head(10)"
      ],
      "execution_count": 315,
      "outputs": [
        {
          "output_type": "execute_result",
          "data": {
            "text/html": [
              "<div>\n",
              "<style scoped>\n",
              "    .dataframe tbody tr th:only-of-type {\n",
              "        vertical-align: middle;\n",
              "    }\n",
              "\n",
              "    .dataframe tbody tr th {\n",
              "        vertical-align: top;\n",
              "    }\n",
              "\n",
              "    .dataframe thead th {\n",
              "        text-align: right;\n",
              "    }\n",
              "</style>\n",
              "<table border=\"1\" class=\"dataframe\">\n",
              "  <thead>\n",
              "    <tr style=\"text-align: right;\">\n",
              "      <th></th>\n",
              "      <th>PassengerId</th>\n",
              "      <th>Survived</th>\n",
              "      <th>Pclass</th>\n",
              "      <th>Name</th>\n",
              "      <th>Sex</th>\n",
              "      <th>Age</th>\n",
              "      <th>Ticket</th>\n",
              "      <th>Fare</th>\n",
              "      <th>Embarked</th>\n",
              "      <th>FamilySize</th>\n",
              "    </tr>\n",
              "  </thead>\n",
              "  <tbody>\n",
              "    <tr>\n",
              "      <th>0</th>\n",
              "      <td>1</td>\n",
              "      <td>0</td>\n",
              "      <td>3</td>\n",
              "      <td>Braund, Mr. Owen Harris</td>\n",
              "      <td>male</td>\n",
              "      <td>22.000000</td>\n",
              "      <td>A/5 21171</td>\n",
              "      <td>7.2500</td>\n",
              "      <td>S</td>\n",
              "      <td>1</td>\n",
              "    </tr>\n",
              "    <tr>\n",
              "      <th>1</th>\n",
              "      <td>2</td>\n",
              "      <td>1</td>\n",
              "      <td>1</td>\n",
              "      <td>Cumings, Mrs. John Bradley (Florence Briggs Th...</td>\n",
              "      <td>female</td>\n",
              "      <td>38.000000</td>\n",
              "      <td>PC 17599</td>\n",
              "      <td>71.2833</td>\n",
              "      <td>C</td>\n",
              "      <td>1</td>\n",
              "    </tr>\n",
              "    <tr>\n",
              "      <th>2</th>\n",
              "      <td>3</td>\n",
              "      <td>1</td>\n",
              "      <td>3</td>\n",
              "      <td>Heikkinen, Miss. Laina</td>\n",
              "      <td>female</td>\n",
              "      <td>26.000000</td>\n",
              "      <td>STON/O2. 3101282</td>\n",
              "      <td>7.9250</td>\n",
              "      <td>S</td>\n",
              "      <td>0</td>\n",
              "    </tr>\n",
              "    <tr>\n",
              "      <th>3</th>\n",
              "      <td>4</td>\n",
              "      <td>1</td>\n",
              "      <td>1</td>\n",
              "      <td>Futrelle, Mrs. Jacques Heath (Lily May Peel)</td>\n",
              "      <td>female</td>\n",
              "      <td>35.000000</td>\n",
              "      <td>113803</td>\n",
              "      <td>53.1000</td>\n",
              "      <td>S</td>\n",
              "      <td>1</td>\n",
              "    </tr>\n",
              "    <tr>\n",
              "      <th>4</th>\n",
              "      <td>5</td>\n",
              "      <td>0</td>\n",
              "      <td>3</td>\n",
              "      <td>Allen, Mr. William Henry</td>\n",
              "      <td>male</td>\n",
              "      <td>35.000000</td>\n",
              "      <td>373450</td>\n",
              "      <td>8.0500</td>\n",
              "      <td>S</td>\n",
              "      <td>0</td>\n",
              "    </tr>\n",
              "    <tr>\n",
              "      <th>5</th>\n",
              "      <td>6</td>\n",
              "      <td>0</td>\n",
              "      <td>3</td>\n",
              "      <td>Moran, Mr. James</td>\n",
              "      <td>male</td>\n",
              "      <td>29.699118</td>\n",
              "      <td>330877</td>\n",
              "      <td>8.4583</td>\n",
              "      <td>Q</td>\n",
              "      <td>0</td>\n",
              "    </tr>\n",
              "    <tr>\n",
              "      <th>6</th>\n",
              "      <td>7</td>\n",
              "      <td>0</td>\n",
              "      <td>1</td>\n",
              "      <td>McCarthy, Mr. Timothy J</td>\n",
              "      <td>male</td>\n",
              "      <td>54.000000</td>\n",
              "      <td>17463</td>\n",
              "      <td>51.8625</td>\n",
              "      <td>S</td>\n",
              "      <td>0</td>\n",
              "    </tr>\n",
              "    <tr>\n",
              "      <th>7</th>\n",
              "      <td>8</td>\n",
              "      <td>0</td>\n",
              "      <td>3</td>\n",
              "      <td>Palsson, Master. Gosta Leonard</td>\n",
              "      <td>male</td>\n",
              "      <td>2.000000</td>\n",
              "      <td>349909</td>\n",
              "      <td>21.0750</td>\n",
              "      <td>S</td>\n",
              "      <td>1</td>\n",
              "    </tr>\n",
              "    <tr>\n",
              "      <th>8</th>\n",
              "      <td>9</td>\n",
              "      <td>1</td>\n",
              "      <td>3</td>\n",
              "      <td>Johnson, Mrs. Oscar W (Elisabeth Vilhelmina Berg)</td>\n",
              "      <td>female</td>\n",
              "      <td>27.000000</td>\n",
              "      <td>347742</td>\n",
              "      <td>11.1333</td>\n",
              "      <td>S</td>\n",
              "      <td>1</td>\n",
              "    </tr>\n",
              "    <tr>\n",
              "      <th>9</th>\n",
              "      <td>10</td>\n",
              "      <td>1</td>\n",
              "      <td>2</td>\n",
              "      <td>Nasser, Mrs. Nicholas (Adele Achem)</td>\n",
              "      <td>female</td>\n",
              "      <td>14.000000</td>\n",
              "      <td>237736</td>\n",
              "      <td>30.0708</td>\n",
              "      <td>C</td>\n",
              "      <td>1</td>\n",
              "    </tr>\n",
              "  </tbody>\n",
              "</table>\n",
              "</div>"
            ],
            "text/plain": [
              "   PassengerId  Survived  Pclass  ...     Fare Embarked  FamilySize\n",
              "0            1         0       3  ...   7.2500        S           1\n",
              "1            2         1       1  ...  71.2833        C           1\n",
              "2            3         1       3  ...   7.9250        S           0\n",
              "3            4         1       1  ...  53.1000        S           1\n",
              "4            5         0       3  ...   8.0500        S           0\n",
              "5            6         0       3  ...   8.4583        Q           0\n",
              "6            7         0       1  ...  51.8625        S           0\n",
              "7            8         0       3  ...  21.0750        S           1\n",
              "8            9         1       3  ...  11.1333        S           1\n",
              "9           10         1       2  ...  30.0708        C           1\n",
              "\n",
              "[10 rows x 10 columns]"
            ]
          },
          "metadata": {
            "tags": []
          },
          "execution_count": 315
        }
      ]
    },
    {
      "cell_type": "code",
      "metadata": {
        "colab": {
          "base_uri": "https://localhost:8080/",
          "height": 359
        },
        "id": "IFxN-58tTRwi",
        "outputId": "e3db1b6a-dc00-4e39-a27a-a660184b38f5"
      },
      "source": [
        "mathData['Alone']=[0 if mathData['FamilySize'][i]<=0 else 1 for i in mathData.index]\n",
        "mathData.head(10)\n"
      ],
      "execution_count": 316,
      "outputs": [
        {
          "output_type": "execute_result",
          "data": {
            "text/html": [
              "<div>\n",
              "<style scoped>\n",
              "    .dataframe tbody tr th:only-of-type {\n",
              "        vertical-align: middle;\n",
              "    }\n",
              "\n",
              "    .dataframe tbody tr th {\n",
              "        vertical-align: top;\n",
              "    }\n",
              "\n",
              "    .dataframe thead th {\n",
              "        text-align: right;\n",
              "    }\n",
              "</style>\n",
              "<table border=\"1\" class=\"dataframe\">\n",
              "  <thead>\n",
              "    <tr style=\"text-align: right;\">\n",
              "      <th></th>\n",
              "      <th>PassengerId</th>\n",
              "      <th>Survived</th>\n",
              "      <th>Pclass</th>\n",
              "      <th>Name</th>\n",
              "      <th>Sex</th>\n",
              "      <th>Age</th>\n",
              "      <th>Ticket</th>\n",
              "      <th>Fare</th>\n",
              "      <th>Embarked</th>\n",
              "      <th>FamilySize</th>\n",
              "      <th>Alone</th>\n",
              "    </tr>\n",
              "  </thead>\n",
              "  <tbody>\n",
              "    <tr>\n",
              "      <th>0</th>\n",
              "      <td>1</td>\n",
              "      <td>0</td>\n",
              "      <td>3</td>\n",
              "      <td>Braund, Mr. Owen Harris</td>\n",
              "      <td>male</td>\n",
              "      <td>22.000000</td>\n",
              "      <td>A/5 21171</td>\n",
              "      <td>7.2500</td>\n",
              "      <td>S</td>\n",
              "      <td>1</td>\n",
              "      <td>1</td>\n",
              "    </tr>\n",
              "    <tr>\n",
              "      <th>1</th>\n",
              "      <td>2</td>\n",
              "      <td>1</td>\n",
              "      <td>1</td>\n",
              "      <td>Cumings, Mrs. John Bradley (Florence Briggs Th...</td>\n",
              "      <td>female</td>\n",
              "      <td>38.000000</td>\n",
              "      <td>PC 17599</td>\n",
              "      <td>71.2833</td>\n",
              "      <td>C</td>\n",
              "      <td>1</td>\n",
              "      <td>1</td>\n",
              "    </tr>\n",
              "    <tr>\n",
              "      <th>2</th>\n",
              "      <td>3</td>\n",
              "      <td>1</td>\n",
              "      <td>3</td>\n",
              "      <td>Heikkinen, Miss. Laina</td>\n",
              "      <td>female</td>\n",
              "      <td>26.000000</td>\n",
              "      <td>STON/O2. 3101282</td>\n",
              "      <td>7.9250</td>\n",
              "      <td>S</td>\n",
              "      <td>0</td>\n",
              "      <td>0</td>\n",
              "    </tr>\n",
              "    <tr>\n",
              "      <th>3</th>\n",
              "      <td>4</td>\n",
              "      <td>1</td>\n",
              "      <td>1</td>\n",
              "      <td>Futrelle, Mrs. Jacques Heath (Lily May Peel)</td>\n",
              "      <td>female</td>\n",
              "      <td>35.000000</td>\n",
              "      <td>113803</td>\n",
              "      <td>53.1000</td>\n",
              "      <td>S</td>\n",
              "      <td>1</td>\n",
              "      <td>1</td>\n",
              "    </tr>\n",
              "    <tr>\n",
              "      <th>4</th>\n",
              "      <td>5</td>\n",
              "      <td>0</td>\n",
              "      <td>3</td>\n",
              "      <td>Allen, Mr. William Henry</td>\n",
              "      <td>male</td>\n",
              "      <td>35.000000</td>\n",
              "      <td>373450</td>\n",
              "      <td>8.0500</td>\n",
              "      <td>S</td>\n",
              "      <td>0</td>\n",
              "      <td>0</td>\n",
              "    </tr>\n",
              "    <tr>\n",
              "      <th>5</th>\n",
              "      <td>6</td>\n",
              "      <td>0</td>\n",
              "      <td>3</td>\n",
              "      <td>Moran, Mr. James</td>\n",
              "      <td>male</td>\n",
              "      <td>29.699118</td>\n",
              "      <td>330877</td>\n",
              "      <td>8.4583</td>\n",
              "      <td>Q</td>\n",
              "      <td>0</td>\n",
              "      <td>0</td>\n",
              "    </tr>\n",
              "    <tr>\n",
              "      <th>6</th>\n",
              "      <td>7</td>\n",
              "      <td>0</td>\n",
              "      <td>1</td>\n",
              "      <td>McCarthy, Mr. Timothy J</td>\n",
              "      <td>male</td>\n",
              "      <td>54.000000</td>\n",
              "      <td>17463</td>\n",
              "      <td>51.8625</td>\n",
              "      <td>S</td>\n",
              "      <td>0</td>\n",
              "      <td>0</td>\n",
              "    </tr>\n",
              "    <tr>\n",
              "      <th>7</th>\n",
              "      <td>8</td>\n",
              "      <td>0</td>\n",
              "      <td>3</td>\n",
              "      <td>Palsson, Master. Gosta Leonard</td>\n",
              "      <td>male</td>\n",
              "      <td>2.000000</td>\n",
              "      <td>349909</td>\n",
              "      <td>21.0750</td>\n",
              "      <td>S</td>\n",
              "      <td>1</td>\n",
              "      <td>1</td>\n",
              "    </tr>\n",
              "    <tr>\n",
              "      <th>8</th>\n",
              "      <td>9</td>\n",
              "      <td>1</td>\n",
              "      <td>3</td>\n",
              "      <td>Johnson, Mrs. Oscar W (Elisabeth Vilhelmina Berg)</td>\n",
              "      <td>female</td>\n",
              "      <td>27.000000</td>\n",
              "      <td>347742</td>\n",
              "      <td>11.1333</td>\n",
              "      <td>S</td>\n",
              "      <td>1</td>\n",
              "      <td>1</td>\n",
              "    </tr>\n",
              "    <tr>\n",
              "      <th>9</th>\n",
              "      <td>10</td>\n",
              "      <td>1</td>\n",
              "      <td>2</td>\n",
              "      <td>Nasser, Mrs. Nicholas (Adele Achem)</td>\n",
              "      <td>female</td>\n",
              "      <td>14.000000</td>\n",
              "      <td>237736</td>\n",
              "      <td>30.0708</td>\n",
              "      <td>C</td>\n",
              "      <td>1</td>\n",
              "      <td>1</td>\n",
              "    </tr>\n",
              "  </tbody>\n",
              "</table>\n",
              "</div>"
            ],
            "text/plain": [
              "   PassengerId  Survived  Pclass  ... Embarked FamilySize  Alone\n",
              "0            1         0       3  ...        S          1      1\n",
              "1            2         1       1  ...        C          1      1\n",
              "2            3         1       3  ...        S          0      0\n",
              "3            4         1       1  ...        S          1      1\n",
              "4            5         0       3  ...        S          0      0\n",
              "5            6         0       3  ...        Q          0      0\n",
              "6            7         0       1  ...        S          0      0\n",
              "7            8         0       3  ...        S          1      1\n",
              "8            9         1       3  ...        S          1      1\n",
              "9           10         1       2  ...        C          1      1\n",
              "\n",
              "[10 rows x 11 columns]"
            ]
          },
          "metadata": {
            "tags": []
          },
          "execution_count": 316
        }
      ]
    },
    {
      "cell_type": "code",
      "metadata": {
        "colab": {
          "base_uri": "https://localhost:8080/"
        },
        "id": "MzJRzr1VDZhh",
        "outputId": "6f986a0e-2b21-49d2-91f2-3d0eabce9724"
      },
      "source": [
        "mathData.groupby(['Alone'])['Survived'].mean()"
      ],
      "execution_count": 317,
      "outputs": [
        {
          "output_type": "execute_result",
          "data": {
            "text/plain": [
              "Alone\n",
              "0    0.303538\n",
              "1    0.505650\n",
              "Name: Survived, dtype: float64"
            ]
          },
          "metadata": {
            "tags": []
          },
          "execution_count": 317
        }
      ]
    },
    {
      "cell_type": "code",
      "metadata": {
        "colab": {
          "base_uri": "https://localhost:8080/",
          "height": 111
        },
        "id": "F3OwOChXDc9G",
        "outputId": "84a5fa64-1ca6-43d4-d15d-a8a4a0f9a544"
      },
      "source": [
        "mathData[['Alone','Fare']].corr()"
      ],
      "execution_count": 318,
      "outputs": [
        {
          "output_type": "execute_result",
          "data": {
            "text/html": [
              "<div>\n",
              "<style scoped>\n",
              "    .dataframe tbody tr th:only-of-type {\n",
              "        vertical-align: middle;\n",
              "    }\n",
              "\n",
              "    .dataframe tbody tr th {\n",
              "        vertical-align: top;\n",
              "    }\n",
              "\n",
              "    .dataframe thead th {\n",
              "        text-align: right;\n",
              "    }\n",
              "</style>\n",
              "<table border=\"1\" class=\"dataframe\">\n",
              "  <thead>\n",
              "    <tr style=\"text-align: right;\">\n",
              "      <th></th>\n",
              "      <th>Alone</th>\n",
              "      <th>Fare</th>\n",
              "    </tr>\n",
              "  </thead>\n",
              "  <tbody>\n",
              "    <tr>\n",
              "      <th>Alone</th>\n",
              "      <td>1.000000</td>\n",
              "      <td>0.271832</td>\n",
              "    </tr>\n",
              "    <tr>\n",
              "      <th>Fare</th>\n",
              "      <td>0.271832</td>\n",
              "      <td>1.000000</td>\n",
              "    </tr>\n",
              "  </tbody>\n",
              "</table>\n",
              "</div>"
            ],
            "text/plain": [
              "          Alone      Fare\n",
              "Alone  1.000000  0.271832\n",
              "Fare   0.271832  1.000000"
            ]
          },
          "metadata": {
            "tags": []
          },
          "execution_count": 318
        }
      ]
    },
    {
      "cell_type": "code",
      "metadata": {
        "colab": {
          "base_uri": "https://localhost:8080/",
          "height": 359
        },
        "id": "4eTIkqTzJy3Q",
        "outputId": "cd52c896-e1b2-4354-b538-97f6b970dc19"
      },
      "source": [
        "mathData['Sex'] = mathData['Sex'].apply({'male':1, 'female':0}.get)\n",
        "mathData['Embarked'] = mathData['Embarked'].apply({'S':1, 'C':2, 'Q':3}.get)\n",
        "mathData.head(10)"
      ],
      "execution_count": 319,
      "outputs": [
        {
          "output_type": "execute_result",
          "data": {
            "text/html": [
              "<div>\n",
              "<style scoped>\n",
              "    .dataframe tbody tr th:only-of-type {\n",
              "        vertical-align: middle;\n",
              "    }\n",
              "\n",
              "    .dataframe tbody tr th {\n",
              "        vertical-align: top;\n",
              "    }\n",
              "\n",
              "    .dataframe thead th {\n",
              "        text-align: right;\n",
              "    }\n",
              "</style>\n",
              "<table border=\"1\" class=\"dataframe\">\n",
              "  <thead>\n",
              "    <tr style=\"text-align: right;\">\n",
              "      <th></th>\n",
              "      <th>PassengerId</th>\n",
              "      <th>Survived</th>\n",
              "      <th>Pclass</th>\n",
              "      <th>Name</th>\n",
              "      <th>Sex</th>\n",
              "      <th>Age</th>\n",
              "      <th>Ticket</th>\n",
              "      <th>Fare</th>\n",
              "      <th>Embarked</th>\n",
              "      <th>FamilySize</th>\n",
              "      <th>Alone</th>\n",
              "    </tr>\n",
              "  </thead>\n",
              "  <tbody>\n",
              "    <tr>\n",
              "      <th>0</th>\n",
              "      <td>1</td>\n",
              "      <td>0</td>\n",
              "      <td>3</td>\n",
              "      <td>Braund, Mr. Owen Harris</td>\n",
              "      <td>1</td>\n",
              "      <td>22.000000</td>\n",
              "      <td>A/5 21171</td>\n",
              "      <td>7.2500</td>\n",
              "      <td>1</td>\n",
              "      <td>1</td>\n",
              "      <td>1</td>\n",
              "    </tr>\n",
              "    <tr>\n",
              "      <th>1</th>\n",
              "      <td>2</td>\n",
              "      <td>1</td>\n",
              "      <td>1</td>\n",
              "      <td>Cumings, Mrs. John Bradley (Florence Briggs Th...</td>\n",
              "      <td>0</td>\n",
              "      <td>38.000000</td>\n",
              "      <td>PC 17599</td>\n",
              "      <td>71.2833</td>\n",
              "      <td>2</td>\n",
              "      <td>1</td>\n",
              "      <td>1</td>\n",
              "    </tr>\n",
              "    <tr>\n",
              "      <th>2</th>\n",
              "      <td>3</td>\n",
              "      <td>1</td>\n",
              "      <td>3</td>\n",
              "      <td>Heikkinen, Miss. Laina</td>\n",
              "      <td>0</td>\n",
              "      <td>26.000000</td>\n",
              "      <td>STON/O2. 3101282</td>\n",
              "      <td>7.9250</td>\n",
              "      <td>1</td>\n",
              "      <td>0</td>\n",
              "      <td>0</td>\n",
              "    </tr>\n",
              "    <tr>\n",
              "      <th>3</th>\n",
              "      <td>4</td>\n",
              "      <td>1</td>\n",
              "      <td>1</td>\n",
              "      <td>Futrelle, Mrs. Jacques Heath (Lily May Peel)</td>\n",
              "      <td>0</td>\n",
              "      <td>35.000000</td>\n",
              "      <td>113803</td>\n",
              "      <td>53.1000</td>\n",
              "      <td>1</td>\n",
              "      <td>1</td>\n",
              "      <td>1</td>\n",
              "    </tr>\n",
              "    <tr>\n",
              "      <th>4</th>\n",
              "      <td>5</td>\n",
              "      <td>0</td>\n",
              "      <td>3</td>\n",
              "      <td>Allen, Mr. William Henry</td>\n",
              "      <td>1</td>\n",
              "      <td>35.000000</td>\n",
              "      <td>373450</td>\n",
              "      <td>8.0500</td>\n",
              "      <td>1</td>\n",
              "      <td>0</td>\n",
              "      <td>0</td>\n",
              "    </tr>\n",
              "    <tr>\n",
              "      <th>5</th>\n",
              "      <td>6</td>\n",
              "      <td>0</td>\n",
              "      <td>3</td>\n",
              "      <td>Moran, Mr. James</td>\n",
              "      <td>1</td>\n",
              "      <td>29.699118</td>\n",
              "      <td>330877</td>\n",
              "      <td>8.4583</td>\n",
              "      <td>3</td>\n",
              "      <td>0</td>\n",
              "      <td>0</td>\n",
              "    </tr>\n",
              "    <tr>\n",
              "      <th>6</th>\n",
              "      <td>7</td>\n",
              "      <td>0</td>\n",
              "      <td>1</td>\n",
              "      <td>McCarthy, Mr. Timothy J</td>\n",
              "      <td>1</td>\n",
              "      <td>54.000000</td>\n",
              "      <td>17463</td>\n",
              "      <td>51.8625</td>\n",
              "      <td>1</td>\n",
              "      <td>0</td>\n",
              "      <td>0</td>\n",
              "    </tr>\n",
              "    <tr>\n",
              "      <th>7</th>\n",
              "      <td>8</td>\n",
              "      <td>0</td>\n",
              "      <td>3</td>\n",
              "      <td>Palsson, Master. Gosta Leonard</td>\n",
              "      <td>1</td>\n",
              "      <td>2.000000</td>\n",
              "      <td>349909</td>\n",
              "      <td>21.0750</td>\n",
              "      <td>1</td>\n",
              "      <td>1</td>\n",
              "      <td>1</td>\n",
              "    </tr>\n",
              "    <tr>\n",
              "      <th>8</th>\n",
              "      <td>9</td>\n",
              "      <td>1</td>\n",
              "      <td>3</td>\n",
              "      <td>Johnson, Mrs. Oscar W (Elisabeth Vilhelmina Berg)</td>\n",
              "      <td>0</td>\n",
              "      <td>27.000000</td>\n",
              "      <td>347742</td>\n",
              "      <td>11.1333</td>\n",
              "      <td>1</td>\n",
              "      <td>1</td>\n",
              "      <td>1</td>\n",
              "    </tr>\n",
              "    <tr>\n",
              "      <th>9</th>\n",
              "      <td>10</td>\n",
              "      <td>1</td>\n",
              "      <td>2</td>\n",
              "      <td>Nasser, Mrs. Nicholas (Adele Achem)</td>\n",
              "      <td>0</td>\n",
              "      <td>14.000000</td>\n",
              "      <td>237736</td>\n",
              "      <td>30.0708</td>\n",
              "      <td>2</td>\n",
              "      <td>1</td>\n",
              "      <td>1</td>\n",
              "    </tr>\n",
              "  </tbody>\n",
              "</table>\n",
              "</div>"
            ],
            "text/plain": [
              "   PassengerId  Survived  Pclass  ... Embarked  FamilySize  Alone\n",
              "0            1         0       3  ...        1           1      1\n",
              "1            2         1       1  ...        2           1      1\n",
              "2            3         1       3  ...        1           0      0\n",
              "3            4         1       1  ...        1           1      1\n",
              "4            5         0       3  ...        1           0      0\n",
              "5            6         0       3  ...        3           0      0\n",
              "6            7         0       1  ...        1           0      0\n",
              "7            8         0       3  ...        1           1      1\n",
              "8            9         1       3  ...        1           1      1\n",
              "9           10         1       2  ...        2           1      1\n",
              "\n",
              "[10 rows x 11 columns]"
            ]
          },
          "metadata": {
            "tags": []
          },
          "execution_count": 319
        }
      ]
    },
    {
      "cell_type": "code",
      "metadata": {
        "colab": {
          "base_uri": "https://localhost:8080/"
        },
        "id": "1-FXv97xDtge",
        "outputId": "49dd7dfb-7c18-4b8f-e3bd-f76869c459d6"
      },
      "source": [
        "mathData.groupby(['Sex'])['Survived'].mean()"
      ],
      "execution_count": 320,
      "outputs": [
        {
          "output_type": "execute_result",
          "data": {
            "text/plain": [
              "Sex\n",
              "0    0.742038\n",
              "1    0.188908\n",
              "Name: Survived, dtype: float64"
            ]
          },
          "metadata": {
            "tags": []
          },
          "execution_count": 320
        }
      ]
    },
    {
      "cell_type": "code",
      "metadata": {
        "colab": {
          "base_uri": "https://localhost:8080/"
        },
        "id": "STeUsHahD0in",
        "outputId": "59c9f34a-24f0-4e60-a7a0-f965161ae9ed"
      },
      "source": [
        "mathData.groupby(['Embarked'])['Survived'].mean()"
      ],
      "execution_count": 321,
      "outputs": [
        {
          "output_type": "execute_result",
          "data": {
            "text/plain": [
              "Embarked\n",
              "1    0.339009\n",
              "2    0.553571\n",
              "3    0.389610\n",
              "Name: Survived, dtype: float64"
            ]
          },
          "metadata": {
            "tags": []
          },
          "execution_count": 321
        }
      ]
    },
    {
      "cell_type": "code",
      "metadata": {
        "colab": {
          "base_uri": "https://localhost:8080/",
          "height": 359
        },
        "id": "bVG1B4HmD5zJ",
        "outputId": "80d597cd-876c-4008-9185-e01b6a91b89b"
      },
      "source": [
        "mathData.head(10)"
      ],
      "execution_count": 322,
      "outputs": [
        {
          "output_type": "execute_result",
          "data": {
            "text/html": [
              "<div>\n",
              "<style scoped>\n",
              "    .dataframe tbody tr th:only-of-type {\n",
              "        vertical-align: middle;\n",
              "    }\n",
              "\n",
              "    .dataframe tbody tr th {\n",
              "        vertical-align: top;\n",
              "    }\n",
              "\n",
              "    .dataframe thead th {\n",
              "        text-align: right;\n",
              "    }\n",
              "</style>\n",
              "<table border=\"1\" class=\"dataframe\">\n",
              "  <thead>\n",
              "    <tr style=\"text-align: right;\">\n",
              "      <th></th>\n",
              "      <th>PassengerId</th>\n",
              "      <th>Survived</th>\n",
              "      <th>Pclass</th>\n",
              "      <th>Name</th>\n",
              "      <th>Sex</th>\n",
              "      <th>Age</th>\n",
              "      <th>Ticket</th>\n",
              "      <th>Fare</th>\n",
              "      <th>Embarked</th>\n",
              "      <th>FamilySize</th>\n",
              "      <th>Alone</th>\n",
              "    </tr>\n",
              "  </thead>\n",
              "  <tbody>\n",
              "    <tr>\n",
              "      <th>0</th>\n",
              "      <td>1</td>\n",
              "      <td>0</td>\n",
              "      <td>3</td>\n",
              "      <td>Braund, Mr. Owen Harris</td>\n",
              "      <td>1</td>\n",
              "      <td>22.000000</td>\n",
              "      <td>A/5 21171</td>\n",
              "      <td>7.2500</td>\n",
              "      <td>1</td>\n",
              "      <td>1</td>\n",
              "      <td>1</td>\n",
              "    </tr>\n",
              "    <tr>\n",
              "      <th>1</th>\n",
              "      <td>2</td>\n",
              "      <td>1</td>\n",
              "      <td>1</td>\n",
              "      <td>Cumings, Mrs. John Bradley (Florence Briggs Th...</td>\n",
              "      <td>0</td>\n",
              "      <td>38.000000</td>\n",
              "      <td>PC 17599</td>\n",
              "      <td>71.2833</td>\n",
              "      <td>2</td>\n",
              "      <td>1</td>\n",
              "      <td>1</td>\n",
              "    </tr>\n",
              "    <tr>\n",
              "      <th>2</th>\n",
              "      <td>3</td>\n",
              "      <td>1</td>\n",
              "      <td>3</td>\n",
              "      <td>Heikkinen, Miss. Laina</td>\n",
              "      <td>0</td>\n",
              "      <td>26.000000</td>\n",
              "      <td>STON/O2. 3101282</td>\n",
              "      <td>7.9250</td>\n",
              "      <td>1</td>\n",
              "      <td>0</td>\n",
              "      <td>0</td>\n",
              "    </tr>\n",
              "    <tr>\n",
              "      <th>3</th>\n",
              "      <td>4</td>\n",
              "      <td>1</td>\n",
              "      <td>1</td>\n",
              "      <td>Futrelle, Mrs. Jacques Heath (Lily May Peel)</td>\n",
              "      <td>0</td>\n",
              "      <td>35.000000</td>\n",
              "      <td>113803</td>\n",
              "      <td>53.1000</td>\n",
              "      <td>1</td>\n",
              "      <td>1</td>\n",
              "      <td>1</td>\n",
              "    </tr>\n",
              "    <tr>\n",
              "      <th>4</th>\n",
              "      <td>5</td>\n",
              "      <td>0</td>\n",
              "      <td>3</td>\n",
              "      <td>Allen, Mr. William Henry</td>\n",
              "      <td>1</td>\n",
              "      <td>35.000000</td>\n",
              "      <td>373450</td>\n",
              "      <td>8.0500</td>\n",
              "      <td>1</td>\n",
              "      <td>0</td>\n",
              "      <td>0</td>\n",
              "    </tr>\n",
              "    <tr>\n",
              "      <th>5</th>\n",
              "      <td>6</td>\n",
              "      <td>0</td>\n",
              "      <td>3</td>\n",
              "      <td>Moran, Mr. James</td>\n",
              "      <td>1</td>\n",
              "      <td>29.699118</td>\n",
              "      <td>330877</td>\n",
              "      <td>8.4583</td>\n",
              "      <td>3</td>\n",
              "      <td>0</td>\n",
              "      <td>0</td>\n",
              "    </tr>\n",
              "    <tr>\n",
              "      <th>6</th>\n",
              "      <td>7</td>\n",
              "      <td>0</td>\n",
              "      <td>1</td>\n",
              "      <td>McCarthy, Mr. Timothy J</td>\n",
              "      <td>1</td>\n",
              "      <td>54.000000</td>\n",
              "      <td>17463</td>\n",
              "      <td>51.8625</td>\n",
              "      <td>1</td>\n",
              "      <td>0</td>\n",
              "      <td>0</td>\n",
              "    </tr>\n",
              "    <tr>\n",
              "      <th>7</th>\n",
              "      <td>8</td>\n",
              "      <td>0</td>\n",
              "      <td>3</td>\n",
              "      <td>Palsson, Master. Gosta Leonard</td>\n",
              "      <td>1</td>\n",
              "      <td>2.000000</td>\n",
              "      <td>349909</td>\n",
              "      <td>21.0750</td>\n",
              "      <td>1</td>\n",
              "      <td>1</td>\n",
              "      <td>1</td>\n",
              "    </tr>\n",
              "    <tr>\n",
              "      <th>8</th>\n",
              "      <td>9</td>\n",
              "      <td>1</td>\n",
              "      <td>3</td>\n",
              "      <td>Johnson, Mrs. Oscar W (Elisabeth Vilhelmina Berg)</td>\n",
              "      <td>0</td>\n",
              "      <td>27.000000</td>\n",
              "      <td>347742</td>\n",
              "      <td>11.1333</td>\n",
              "      <td>1</td>\n",
              "      <td>1</td>\n",
              "      <td>1</td>\n",
              "    </tr>\n",
              "    <tr>\n",
              "      <th>9</th>\n",
              "      <td>10</td>\n",
              "      <td>1</td>\n",
              "      <td>2</td>\n",
              "      <td>Nasser, Mrs. Nicholas (Adele Achem)</td>\n",
              "      <td>0</td>\n",
              "      <td>14.000000</td>\n",
              "      <td>237736</td>\n",
              "      <td>30.0708</td>\n",
              "      <td>2</td>\n",
              "      <td>1</td>\n",
              "      <td>1</td>\n",
              "    </tr>\n",
              "  </tbody>\n",
              "</table>\n",
              "</div>"
            ],
            "text/plain": [
              "   PassengerId  Survived  Pclass  ... Embarked  FamilySize  Alone\n",
              "0            1         0       3  ...        1           1      1\n",
              "1            2         1       1  ...        2           1      1\n",
              "2            3         1       3  ...        1           0      0\n",
              "3            4         1       1  ...        1           1      1\n",
              "4            5         0       3  ...        1           0      0\n",
              "5            6         0       3  ...        3           0      0\n",
              "6            7         0       1  ...        1           0      0\n",
              "7            8         0       3  ...        1           1      1\n",
              "8            9         1       3  ...        1           1      1\n",
              "9           10         1       2  ...        2           1      1\n",
              "\n",
              "[10 rows x 11 columns]"
            ]
          },
          "metadata": {
            "tags": []
          },
          "execution_count": 322
        }
      ]
    },
    {
      "cell_type": "code",
      "metadata": {
        "colab": {
          "base_uri": "https://localhost:8080/"
        },
        "id": "g_8U4QXtG2nt",
        "outputId": "384eae3b-6880-41ed-8e8f-150e8d25905c"
      },
      "source": [
        "print(f'Survived: {mathData.Survived.unique()}')\n",
        "print(f'SEX: {mathData.Sex.unique()}')\n",
        "print(f'Pclass: {mathData.Pclass.unique()}')\n",
        "print(f'Alone: {mathData.Alone.unique()}')\n",
        "print(f'FamilySize: {mathData.FamilySize.unique()}')\n",
        "print(f'Embarked: {mathData.Embarked.unique()}')"
      ],
      "execution_count": 323,
      "outputs": [
        {
          "output_type": "stream",
          "text": [
            "Survived: [0 1]\n",
            "SEX: [1 0]\n",
            "Pclass: [3 1 2]\n",
            "Alone: [1 0]\n",
            "FamilySize: [1 0]\n",
            "Embarked: [1 2 3]\n"
          ],
          "name": "stdout"
        }
      ]
    },
    {
      "cell_type": "markdown",
      "metadata": {
        "id": "gAIZTqWPwINV"
      },
      "source": [
        ""
      ]
    },
    {
      "cell_type": "code",
      "metadata": {
        "colab": {
          "base_uri": "https://localhost:8080/",
          "height": 359
        },
        "id": "mW997avtsetr",
        "outputId": "eb6d1d89-5931-4155-b5b2-6817c60cea17"
      },
      "source": [
        "#columns to be considered\n",
        "mathData=mathData[['PassengerId','Survived','Pclass','Name','Sex','Fare','FamilySize','Alone']]\n",
        "mathData.head(10)"
      ],
      "execution_count": 324,
      "outputs": [
        {
          "output_type": "execute_result",
          "data": {
            "text/html": [
              "<div>\n",
              "<style scoped>\n",
              "    .dataframe tbody tr th:only-of-type {\n",
              "        vertical-align: middle;\n",
              "    }\n",
              "\n",
              "    .dataframe tbody tr th {\n",
              "        vertical-align: top;\n",
              "    }\n",
              "\n",
              "    .dataframe thead th {\n",
              "        text-align: right;\n",
              "    }\n",
              "</style>\n",
              "<table border=\"1\" class=\"dataframe\">\n",
              "  <thead>\n",
              "    <tr style=\"text-align: right;\">\n",
              "      <th></th>\n",
              "      <th>PassengerId</th>\n",
              "      <th>Survived</th>\n",
              "      <th>Pclass</th>\n",
              "      <th>Name</th>\n",
              "      <th>Sex</th>\n",
              "      <th>Fare</th>\n",
              "      <th>FamilySize</th>\n",
              "      <th>Alone</th>\n",
              "    </tr>\n",
              "  </thead>\n",
              "  <tbody>\n",
              "    <tr>\n",
              "      <th>0</th>\n",
              "      <td>1</td>\n",
              "      <td>0</td>\n",
              "      <td>3</td>\n",
              "      <td>Braund, Mr. Owen Harris</td>\n",
              "      <td>1</td>\n",
              "      <td>7.2500</td>\n",
              "      <td>1</td>\n",
              "      <td>1</td>\n",
              "    </tr>\n",
              "    <tr>\n",
              "      <th>1</th>\n",
              "      <td>2</td>\n",
              "      <td>1</td>\n",
              "      <td>1</td>\n",
              "      <td>Cumings, Mrs. John Bradley (Florence Briggs Th...</td>\n",
              "      <td>0</td>\n",
              "      <td>71.2833</td>\n",
              "      <td>1</td>\n",
              "      <td>1</td>\n",
              "    </tr>\n",
              "    <tr>\n",
              "      <th>2</th>\n",
              "      <td>3</td>\n",
              "      <td>1</td>\n",
              "      <td>3</td>\n",
              "      <td>Heikkinen, Miss. Laina</td>\n",
              "      <td>0</td>\n",
              "      <td>7.9250</td>\n",
              "      <td>0</td>\n",
              "      <td>0</td>\n",
              "    </tr>\n",
              "    <tr>\n",
              "      <th>3</th>\n",
              "      <td>4</td>\n",
              "      <td>1</td>\n",
              "      <td>1</td>\n",
              "      <td>Futrelle, Mrs. Jacques Heath (Lily May Peel)</td>\n",
              "      <td>0</td>\n",
              "      <td>53.1000</td>\n",
              "      <td>1</td>\n",
              "      <td>1</td>\n",
              "    </tr>\n",
              "    <tr>\n",
              "      <th>4</th>\n",
              "      <td>5</td>\n",
              "      <td>0</td>\n",
              "      <td>3</td>\n",
              "      <td>Allen, Mr. William Henry</td>\n",
              "      <td>1</td>\n",
              "      <td>8.0500</td>\n",
              "      <td>0</td>\n",
              "      <td>0</td>\n",
              "    </tr>\n",
              "    <tr>\n",
              "      <th>5</th>\n",
              "      <td>6</td>\n",
              "      <td>0</td>\n",
              "      <td>3</td>\n",
              "      <td>Moran, Mr. James</td>\n",
              "      <td>1</td>\n",
              "      <td>8.4583</td>\n",
              "      <td>0</td>\n",
              "      <td>0</td>\n",
              "    </tr>\n",
              "    <tr>\n",
              "      <th>6</th>\n",
              "      <td>7</td>\n",
              "      <td>0</td>\n",
              "      <td>1</td>\n",
              "      <td>McCarthy, Mr. Timothy J</td>\n",
              "      <td>1</td>\n",
              "      <td>51.8625</td>\n",
              "      <td>0</td>\n",
              "      <td>0</td>\n",
              "    </tr>\n",
              "    <tr>\n",
              "      <th>7</th>\n",
              "      <td>8</td>\n",
              "      <td>0</td>\n",
              "      <td>3</td>\n",
              "      <td>Palsson, Master. Gosta Leonard</td>\n",
              "      <td>1</td>\n",
              "      <td>21.0750</td>\n",
              "      <td>1</td>\n",
              "      <td>1</td>\n",
              "    </tr>\n",
              "    <tr>\n",
              "      <th>8</th>\n",
              "      <td>9</td>\n",
              "      <td>1</td>\n",
              "      <td>3</td>\n",
              "      <td>Johnson, Mrs. Oscar W (Elisabeth Vilhelmina Berg)</td>\n",
              "      <td>0</td>\n",
              "      <td>11.1333</td>\n",
              "      <td>1</td>\n",
              "      <td>1</td>\n",
              "    </tr>\n",
              "    <tr>\n",
              "      <th>9</th>\n",
              "      <td>10</td>\n",
              "      <td>1</td>\n",
              "      <td>2</td>\n",
              "      <td>Nasser, Mrs. Nicholas (Adele Achem)</td>\n",
              "      <td>0</td>\n",
              "      <td>30.0708</td>\n",
              "      <td>1</td>\n",
              "      <td>1</td>\n",
              "    </tr>\n",
              "  </tbody>\n",
              "</table>\n",
              "</div>"
            ],
            "text/plain": [
              "   PassengerId  Survived  Pclass  ...     Fare  FamilySize  Alone\n",
              "0            1         0       3  ...   7.2500           1      1\n",
              "1            2         1       1  ...  71.2833           1      1\n",
              "2            3         1       3  ...   7.9250           0      0\n",
              "3            4         1       1  ...  53.1000           1      1\n",
              "4            5         0       3  ...   8.0500           0      0\n",
              "5            6         0       3  ...   8.4583           0      0\n",
              "6            7         0       1  ...  51.8625           0      0\n",
              "7            8         0       3  ...  21.0750           1      1\n",
              "8            9         1       3  ...  11.1333           1      1\n",
              "9           10         1       2  ...  30.0708           1      1\n",
              "\n",
              "[10 rows x 8 columns]"
            ]
          },
          "metadata": {
            "tags": []
          },
          "execution_count": 324
        }
      ]
    },
    {
      "cell_type": "code",
      "metadata": {
        "id": "fqYvemxUXEiq"
      },
      "source": [
        "mathData.to_csv('ClaenMathData.csv') #exporting the file"
      ],
      "execution_count": 325,
      "outputs": []
    },
    {
      "cell_type": "code",
      "metadata": {
        "colab": {
          "base_uri": "https://localhost:8080/"
        },
        "id": "_Rv8EuE2XVTU",
        "outputId": "73ab7089-8c28-4de0-9e10-b5235c628fe5"
      },
      "source": [
        "ls"
      ],
      "execution_count": 326,
      "outputs": [
        {
          "output_type": "stream",
          "text": [
            "ClaenMathData.csv  cleanedMathData.csv  train.csv  univariate_MathData_2.csv\n"
          ],
          "name": "stdout"
        }
      ]
    },
    {
      "cell_type": "markdown",
      "metadata": {
        "id": "g9elFaqSXYH3"
      },
      "source": [
        "**VISUALIZATION**"
      ]
    },
    {
      "cell_type": "code",
      "metadata": {
        "colab": {
          "base_uri": "https://localhost:8080/",
          "height": 153
        },
        "id": "eNFZZvHXXVQY",
        "outputId": "b38750b9-ea1e-4c52-ab92-a2f3fabe5b22"
      },
      "source": [
        "import seaborn as sns\n",
        "sns.palplot(sns.color_palette('PuOr')) #Purple to Orange colors\n",
        "pal = sns.color_palette('PuOr', 6) #print 6 color shades from Purple to Orange\n",
        "pal.as_hex() #set hex code values for colors\n",
        "\n",
        "import matplotlib.pyplot as plt\n",
        "plt.style.use(['seaborn'])\n",
        "sns_colors = ['#c6690c', '#664697'] #orange Purple hex codes\n",
        "sns.set_palette(sns_colors) #set the palette as sns_colors \n",
        "sns.palplot(sns.color_palette(sns_colors)) #plot the color codes"
      ],
      "execution_count": 327,
      "outputs": [
        {
          "output_type": "display_data",
          "data": {
            "image/png": "[encoded data removed]",
            "text/plain": [
              "<Figure size 432x72 with 1 Axes>"
            ]
          },
          "metadata": {
            "tags": []
          }
        },
        {
          "output_type": "display_data",
          "data": {
            "image/png": "[encoded data removed]",
            "text/plain": [
              "<Figure size 144x72 with 1 Axes>"
            ]
          },
          "metadata": {
            "tags": []
          }
        }
      ]
    },
    {
      "cell_type": "code",
      "metadata": {
        "colab": {
          "base_uri": "https://localhost:8080/"
        },
        "id": "kW8slP-9Xxh9",
        "outputId": "b4c6fd34-e33c-4c27-b8a6-6804306f1b3b"
      },
      "source": [
        "print(f'''There are {len(mathData.columns)} columns in the dataframe mathData namely,\n",
        "\n",
        "{mathData.columns}''') #columns in the dataframe"
      ],
      "execution_count": 328,
      "outputs": [
        {
          "output_type": "stream",
          "text": [
            "There are 8 columns in the dataframe mathData namely,\n",
            "\n",
            "Index(['PassengerId', 'Survived', 'Pclass', 'Name', 'Sex', 'Fare',\n",
            "       'FamilySize', 'Alone'],\n",
            "      dtype='object')\n"
          ],
          "name": "stdout"
        }
      ]
    },
    {
      "cell_type": "markdown",
      "metadata": {
        "id": "r2ZxB4rBYCpf"
      },
      "source": [
        "A pairplot is a plot where the `x` axis and `y` axis will have all the columns you specify it with"
      ]
    },
    {
      "cell_type": "code",
      "metadata": {
        "colab": {
          "base_uri": "https://localhost:8080/",
          "height": 567
        },
        "id": "eCKtPd1GaRfo",
        "outputId": "7b6361f3-1c9e-4df1-b25a-6b9fdd03cfaa"
      },
      "source": [
        "sns.pairplot(mathData,\n",
        "             x_vars = [ 'Sex','Alone','Fare', 'Pclass' ],\n",
        "             y_vars = [ 'Survived','Sex','Alone'],\n",
        "       diag_kind='kde', hue='Survived'\n",
        "             )"
      ],
      "execution_count": 329,
      "outputs": [
        {
          "output_type": "execute_result",
          "data": {
            "text/plain": [
              "<seaborn.axisgrid.PairGrid at 0x7f464058b6d0>"
            ]
          },
          "metadata": {
            "tags": []
          },
          "execution_count": 329
        },
        {
          "output_type": "display_data",
          "data": {
            "image/png": "[encoded data removed]",
            "text/plain": [
              "<Figure size 766.75x540 with 14 Axes>"
            ]
          },
          "metadata": {
            "tags": []
          }
        }
      ]
    },
    {
      "cell_type": "code",
      "metadata": {
        "colab": {
          "base_uri": "https://localhost:8080/",
          "height": 988
        },
        "id": "oSUcHtQNXxup",
        "outputId": "8ed5b65b-2b78-481c-9c24-a99b3a4cc06a"
      },
      "source": [
        "sns.pairplot(mathData,\n",
        "             x_vars = [ 'Survived','Sex','Alone','Fare', 'Pclass' ],\n",
        "             y_vars = [ 'Survived','Sex','Alone','Fare', 'Pclass'],\n",
        "       diag_kind='kde', hue='Survived'\n",
        "             )"
      ],
      "execution_count": 330,
      "outputs": [
        {
          "output_type": "stream",
          "text": [
            "/usr/local/lib/python3.7/dist-packages/seaborn/distributions.py:306: UserWarning: Dataset has 0 variance; skipping density estimate.\n",
            "  warnings.warn(msg, UserWarning)\n",
            "/usr/local/lib/python3.7/dist-packages/seaborn/distributions.py:306: UserWarning: Dataset has 0 variance; skipping density estimate.\n",
            "  warnings.warn(msg, UserWarning)\n"
          ],
          "name": "stderr"
        },
        {
          "output_type": "execute_result",
          "data": {
            "text/plain": [
              "<seaborn.axisgrid.PairGrid at 0x7f46400a5390>"
            ]
          },
          "metadata": {
            "tags": []
          },
          "execution_count": 330
        },
        {
          "output_type": "display_data",
          "data": {
            "image/png": "[encoded data removed]",
            "text/plain": [
              "<Figure size 946.75x900 with 30 Axes>"
            ]
          },
          "metadata": {
            "tags": []
          }
        }
      ]
    },
    {
      "cell_type": "code",
      "metadata": {
        "colab": {
          "base_uri": "https://localhost:8080/",
          "height": 378
        },
        "id": "5L_UwtnbYDV9",
        "outputId": "07de1aad-f7bf-47d3-fbed-646432fc3967"
      },
      "source": [
        "sns.stripplot(y='Fare', x='Survived', data=mathData)"
      ],
      "execution_count": 331,
      "outputs": [
        {
          "output_type": "execute_result",
          "data": {
            "text/plain": [
              "<matplotlib.axes._subplots.AxesSubplot at 0x7f4641c71410>"
            ]
          },
          "metadata": {
            "tags": []
          },
          "execution_count": 331
        },
        {
          "output_type": "display_data",
          "data": {
            "image/png": "[encoded data removed]",
            "text/plain": [
              "<Figure size 576x396 with 1 Axes>"
            ]
          },
          "metadata": {
            "tags": []
          }
        }
      ]
    },
    {
      "cell_type": "code",
      "metadata": {
        "colab": {
          "base_uri": "https://localhost:8080/",
          "height": 1000
        },
        "id": "Ek88ETGiXx0o",
        "outputId": "bcc0b7f5-da5f-4dc2-e6ba-270c00e5ec90"
      },
      "source": [
        "fig, axarr = plt.subplots(2,2, figsize=(20,20))\n",
        "\n",
        "#three rows and 2 columns all starting from (0,0)\n",
        "\n",
        "sns.stripplot(y='Fare', x='Survived', data=mathData, hue=None, ax=axarr[0][0])\n",
        "sns.stripplot(y='Sex', x='Survived', data=mathData, hue=None, ax=axarr[1][0])\n",
        "sns.stripplot(y='Alone', x='Survived', data=mathData, hue=None, ax=axarr[0][1])"
      ],
      "execution_count": 332,
      "outputs": [
        {
          "output_type": "execute_result",
          "data": {
            "text/plain": [
              "<matplotlib.axes._subplots.AxesSubplot at 0x7f463fbbaa90>"
            ]
          },
          "metadata": {
            "tags": []
          },
          "execution_count": 332
        },
        {
          "output_type": "display_data",
          "data": {
            "image/png": "[encoded data removed]",
            "text/plain": [
              "<Figure size 1440x1440 with 4 Axes>"
            ]
          },
          "metadata": {
            "tags": []
          }
        }
      ]
    },
    {
      "cell_type": "code",
      "metadata": {
        "colab": {
          "base_uri": "https://localhost:8080/",
          "height": 204
        },
        "id": "x_EGw1qxDOpS",
        "outputId": "b97d5b22-0386-4780-fb9b-8ac1c231f6b1"
      },
      "source": [
        "uniMathData = mathData[['Fare', 'Survived']]\n",
        "\n",
        "uniMathData.head(5)\n"
      ],
      "execution_count": 333,
      "outputs": [
        {
          "output_type": "execute_result",
          "data": {
            "text/html": [
              "<div>\n",
              "<style scoped>\n",
              "    .dataframe tbody tr th:only-of-type {\n",
              "        vertical-align: middle;\n",
              "    }\n",
              "\n",
              "    .dataframe tbody tr th {\n",
              "        vertical-align: top;\n",
              "    }\n",
              "\n",
              "    .dataframe thead th {\n",
              "        text-align: right;\n",
              "    }\n",
              "</style>\n",
              "<table border=\"1\" class=\"dataframe\">\n",
              "  <thead>\n",
              "    <tr style=\"text-align: right;\">\n",
              "      <th></th>\n",
              "      <th>Fare</th>\n",
              "      <th>Survived</th>\n",
              "    </tr>\n",
              "  </thead>\n",
              "  <tbody>\n",
              "    <tr>\n",
              "      <th>0</th>\n",
              "      <td>7.2500</td>\n",
              "      <td>0</td>\n",
              "    </tr>\n",
              "    <tr>\n",
              "      <th>1</th>\n",
              "      <td>71.2833</td>\n",
              "      <td>1</td>\n",
              "    </tr>\n",
              "    <tr>\n",
              "      <th>2</th>\n",
              "      <td>7.9250</td>\n",
              "      <td>1</td>\n",
              "    </tr>\n",
              "    <tr>\n",
              "      <th>3</th>\n",
              "      <td>53.1000</td>\n",
              "      <td>1</td>\n",
              "    </tr>\n",
              "    <tr>\n",
              "      <th>4</th>\n",
              "      <td>8.0500</td>\n",
              "      <td>0</td>\n",
              "    </tr>\n",
              "  </tbody>\n",
              "</table>\n",
              "</div>"
            ],
            "text/plain": [
              "      Fare  Survived\n",
              "0   7.2500         0\n",
              "1  71.2833         1\n",
              "2   7.9250         1\n",
              "3  53.1000         1\n",
              "4   8.0500         0"
            ]
          },
          "metadata": {
            "tags": []
          },
          "execution_count": 333
        }
      ]
    },
    {
      "cell_type": "code",
      "metadata": {
        "colab": {
          "base_uri": "https://localhost:8080/",
          "height": 391
        },
        "id": "gcfCSInuDViP",
        "outputId": "4bad8eba-e9ed-4021-d074-d33527b025c0"
      },
      "source": [
        "sns.pairplot(uniMathData,\n",
        "             x_vars = ['Fare', 'Survived'],\n",
        "             y_vars =  ['Fare', 'Survived'],\n",
        "             \n",
        "       diag_kind='kde'\n",
        "             )"
      ],
      "execution_count": 334,
      "outputs": [
        {
          "output_type": "execute_result",
          "data": {
            "text/plain": [
              "<seaborn.axisgrid.PairGrid at 0x7f463f98cf50>"
            ]
          },
          "metadata": {
            "tags": []
          },
          "execution_count": 334
        },
        {
          "output_type": "display_data",
          "data": {
            "image/png": "[encoded data removed]",
            "text/plain": [
              "<Figure size 360x360 with 6 Axes>"
            ]
          },
          "metadata": {
            "tags": []
          }
        }
      ]
    },
    {
      "cell_type": "code",
      "metadata": {
        "id": "mFSxVaeJDVdM"
      },
      "source": [
        "uniMathData.to_csv('univariate_MathData_2.csv')"
      ],
      "execution_count": 335,
      "outputs": []
    },
    {
      "cell_type": "code",
      "metadata": {
        "colab": {
          "base_uri": "https://localhost:8080/"
        },
        "id": "WixTa--pEBNo",
        "outputId": "5e36f61d-22b4-48ea-f389-96420f2513a6"
      },
      "source": [
        "ls"
      ],
      "execution_count": 336,
      "outputs": [
        {
          "output_type": "stream",
          "text": [
            "ClaenMathData.csv  cleanedMathData.csv  train.csv  univariate_MathData_2.csv\n"
          ],
          "name": "stdout"
        }
      ]
    },
    {
      "cell_type": "markdown",
      "metadata": {
        "id": "Bi2I84b9Xx4H"
      },
      "source": [
        "**DATA SPLIT**\n"
      ]
    },
    {
      "cell_type": "code",
      "metadata": {
        "colab": {
          "base_uri": "https://localhost:8080/"
        },
        "id": "an0q1DK2XVKi",
        "outputId": "f57b3c3b-52fc-4573-af80-8bcb56d8f9d3"
      },
      "source": [
        "trainDataset = uniMathData.sample(frac=0.8, random_state=0) \n",
        "testDataset = uniMathData.drop(trainDataset.index)\n",
        "\n",
        "print(trainDataset.head())\n",
        "print(testDataset.head())"
      ],
      "execution_count": 337,
      "outputs": [
        {
          "output_type": "stream",
          "text": [
            "         Fare  Survived\n",
            "495   14.4583         0\n",
            "648    7.5500         0\n",
            "278   29.1250         0\n",
            "31   146.5208         1\n",
            "255   15.2458         1\n",
            "       Fare  Survived\n",
            "9   30.0708         1\n",
            "11  26.5500         1\n",
            "19   7.2250         1\n",
            "23  35.5000         1\n",
            "28   7.8792         1\n"
          ],
          "name": "stdout"
        }
      ]
    },
    {
      "cell_type": "code",
      "metadata": {
        "colab": {
          "base_uri": "https://localhost:8080/"
        },
        "id": "BZ-Kj5tHpFJs",
        "outputId": "63f2ee80-9749-418c-9e55-4940275431f7"
      },
      "source": [
        "print(trainDataset.shape)\n",
        "print(testDataset.shape)"
      ],
      "execution_count": 338,
      "outputs": [
        {
          "output_type": "stream",
          "text": [
            "(713, 2)\n",
            "(178, 2)\n"
          ],
          "name": "stdout"
        }
      ]
    },
    {
      "cell_type": "code",
      "metadata": {
        "colab": {
          "base_uri": "https://localhost:8080/"
        },
        "id": "tvAD3_q7pFUJ",
        "outputId": "ccb2f5f6-f049-40aa-920c-2e6e0070de00"
      },
      "source": [
        "trainFeatures = trainDataset.copy()\n",
        "testFeatures = testDataset.copy()\n",
        "\n",
        "print(trainFeatures.head())\n",
        "print(testFeatures.head())"
      ],
      "execution_count": 339,
      "outputs": [
        {
          "output_type": "stream",
          "text": [
            "         Fare  Survived\n",
            "495   14.4583         0\n",
            "648    7.5500         0\n",
            "278   29.1250         0\n",
            "31   146.5208         1\n",
            "255   15.2458         1\n",
            "       Fare  Survived\n",
            "9   30.0708         1\n",
            "11  26.5500         1\n",
            "19   7.2250         1\n",
            "23  35.5000         1\n",
            "28   7.8792         1\n"
          ],
          "name": "stdout"
        }
      ]
    },
    {
      "cell_type": "code",
      "metadata": {
        "colab": {
          "base_uri": "https://localhost:8080/"
        },
        "id": "81EyMI6kpFYi",
        "outputId": "83ed65af-6de1-4ac2-d133-482d26a665d3"
      },
      "source": [
        "\n",
        "trainLabels = trainFeatures.pop('Survived')\n",
        "testLabels = testFeatures.pop('Survived')\n",
        "\n",
        "print(trainLabels.head())\n",
        "print(testLabels.head())"
      ],
      "execution_count": 340,
      "outputs": [
        {
          "output_type": "stream",
          "text": [
            "495    0\n",
            "648    0\n",
            "278    0\n",
            "31     1\n",
            "255    1\n",
            "Name: Survived, dtype: int64\n",
            "9     1\n",
            "11    1\n",
            "19    1\n",
            "23    1\n",
            "28    1\n",
            "Name: Survived, dtype: int64\n"
          ],
          "name": "stdout"
        }
      ]
    },
    {
      "cell_type": "code",
      "metadata": {
        "colab": {
          "base_uri": "https://localhost:8080/"
        },
        "id": "2NerNgOkpFcY",
        "outputId": "66f8eca5-eb2e-4273-e365-13c21bc5efb8"
      },
      "source": [
        "print(trainFeatures.head())\n",
        "print(testFeatures.head())"
      ],
      "execution_count": 341,
      "outputs": [
        {
          "output_type": "stream",
          "text": [
            "         Fare\n",
            "495   14.4583\n",
            "648    7.5500\n",
            "278   29.1250\n",
            "31   146.5208\n",
            "255   15.2458\n",
            "       Fare\n",
            "9   30.0708\n",
            "11  26.5500\n",
            "19   7.2250\n",
            "23  35.5000\n",
            "28   7.8792\n"
          ],
          "name": "stdout"
        }
      ]
    },
    {
      "cell_type": "code",
      "metadata": {
        "colab": {
          "base_uri": "https://localhost:8080/"
        },
        "id": "xO8EkHCzpp45",
        "outputId": "ba54e786-d6b8-428c-bcef-9b0d4cea7711"
      },
      "source": [
        "print(testFeatures.shape)"
      ],
      "execution_count": 342,
      "outputs": [
        {
          "output_type": "stream",
          "text": [
            "(178, 1)\n"
          ],
          "name": "stdout"
        }
      ]
    },
    {
      "cell_type": "markdown",
      "metadata": {
        "id": "A-VqpaSobTVT"
      },
      "source": [
        ""
      ]
    },
    {
      "cell_type": "code",
      "metadata": {
        "colab": {
          "base_uri": "https://localhost:8080/"
        },
        "id": "UGPyjgz5pq8m",
        "outputId": "1bf879e1-1060-4091-a9fc-257d542d7de5"
      },
      "source": [
        "uniMathData.columns"
      ],
      "execution_count": 343,
      "outputs": [
        {
          "output_type": "execute_result",
          "data": {
            "text/plain": [
              "Index(['Fare', 'Survived'], dtype='object')"
            ]
          },
          "metadata": {
            "tags": []
          },
          "execution_count": 343
        }
      ]
    },
    {
      "cell_type": "code",
      "metadata": {
        "id": "ysx02DxXqPes"
      },
      "source": [
        "model = tf.keras.Sequential([tf.keras.layers.Dense(1)])"
      ],
      "execution_count": 344,
      "outputs": []
    },
    {
      "cell_type": "code",
      "metadata": {
        "id": "0tEd9s0qqP0n"
      },
      "source": [
        "model.compile(\n",
        "    loss='mean_absolute_error',\n",
        "    optimizer= tf.keras.optimizers.SGD(learning_rate=0.0001,momentum=0.1,nesterov=False,name=\"SGD\"),\n",
        "    metrics=['mae','mse']\n",
        ")"
      ],
      "execution_count": 345,
      "outputs": []
    },
    {
      "cell_type": "code",
      "metadata": {
        "colab": {
          "base_uri": "https://localhost:8080/"
        },
        "id": "3LSqh-O5HANO",
        "outputId": "34ad5be1-95b7-4ae9-8f92-1a605f77d910"
      },
      "source": [
        "uniMathData.shape"
      ],
      "execution_count": 346,
      "outputs": [
        {
          "output_type": "execute_result",
          "data": {
            "text/plain": [
              "(891, 2)"
            ]
          },
          "metadata": {
            "tags": []
          },
          "execution_count": 346
        }
      ]
    },
    {
      "cell_type": "code",
      "metadata": {
        "colab": {
          "base_uri": "https://localhost:8080/"
        },
        "id": "p_wWlx-dqQIP",
        "outputId": "e007897a-679c-4f4b-dd74-badc80145035"
      },
      "source": [
        "numEpochs = 600\n",
        "history = model.fit(x = trainFeatures, y = trainLabels, validation_data = (testFeatures, testLabels), epochs = numEpochs)"
      ],
      "execution_count": 347,
      "outputs": [
        {
          "output_type": "stream",
          "text": [
            "Epoch 1/600\n",
            "23/23 [==============================] - 1s 9ms/step - loss: 12.3200 - mae: 12.3200 - mse: 524.3610 - val_loss: 11.0421 - val_mae: 11.0421 - val_mse: 275.1291\n",
            "Epoch 2/600\n",
            "23/23 [==============================] - 0s 2ms/step - loss: 9.6371 - mae: 9.6371 - mse: 329.7049 - val_loss: 8.3570 - val_mae: 8.3570 - val_mse: 155.9474\n",
            "Epoch 3/600\n",
            "23/23 [==============================] - 0s 2ms/step - loss: 6.9785 - mae: 6.9785 - mse: 170.5953 - val_loss: 5.6974 - val_mae: 5.6974 - val_mse: 71.0751\n",
            "Epoch 4/600\n",
            "23/23 [==============================] - 0s 4ms/step - loss: 4.3454 - mae: 4.3454 - mse: 64.2431 - val_loss: 3.0621 - val_mae: 3.0621 - val_mse: 19.5425\n",
            "Epoch 5/600\n",
            "23/23 [==============================] - 0s 3ms/step - loss: 1.7368 - mae: 1.7368 - mse: 11.1352 - val_loss: 0.4492 - val_mae: 0.4492 - val_mse: 0.4067\n",
            "Epoch 6/600\n",
            "23/23 [==============================] - 0s 3ms/step - loss: 0.3636 - mae: 0.3636 - mse: 0.2935 - val_loss: 0.4655 - val_mae: 0.4655 - val_mse: 0.4655\n",
            "Epoch 7/600\n",
            "23/23 [==============================] - 0s 2ms/step - loss: 0.3645 - mae: 0.3645 - mse: 0.3135 - val_loss: 0.4457 - val_mae: 0.4457 - val_mse: 0.3914\n",
            "Epoch 8/600\n",
            "23/23 [==============================] - 0s 2ms/step - loss: 0.3643 - mae: 0.3643 - mse: 0.2858 - val_loss: 0.4544 - val_mae: 0.4544 - val_mse: 0.4369\n",
            "Epoch 9/600\n",
            "23/23 [==============================] - 0s 3ms/step - loss: 0.3626 - mae: 0.3626 - mse: 0.2927 - val_loss: 0.4558 - val_mae: 0.4558 - val_mse: 0.4458\n",
            "Epoch 10/600\n",
            "23/23 [==============================] - 0s 3ms/step - loss: 0.3677 - mae: 0.3677 - mse: 0.3166 - val_loss: 0.4311 - val_mae: 0.4311 - val_mse: 0.3376\n",
            "Epoch 11/600\n",
            "23/23 [==============================] - 0s 3ms/step - loss: 0.3647 - mae: 0.3647 - mse: 0.2991 - val_loss: 0.4285 - val_mae: 0.4285 - val_mse: 0.3307\n",
            "Epoch 12/600\n",
            "23/23 [==============================] - 0s 2ms/step - loss: 0.3619 - mae: 0.3619 - mse: 0.2890 - val_loss: 0.4274 - val_mae: 0.4274 - val_mse: 0.3285\n",
            "Epoch 13/600\n",
            "23/23 [==============================] - 0s 2ms/step - loss: 0.3633 - mae: 0.3633 - mse: 0.2944 - val_loss: 0.4288 - val_mae: 0.4288 - val_mse: 0.3329\n",
            "Epoch 14/600\n",
            "23/23 [==============================] - 0s 2ms/step - loss: 0.3619 - mae: 0.3619 - mse: 0.2833 - val_loss: 0.4608 - val_mae: 0.4608 - val_mse: 0.4608\n",
            "Epoch 15/600\n",
            "23/23 [==============================] - 0s 3ms/step - loss: 0.3670 - mae: 0.3670 - mse: 0.3077 - val_loss: 0.4181 - val_mae: 0.4181 - val_mse: 0.3049\n",
            "Epoch 16/600\n",
            "23/23 [==============================] - 0s 3ms/step - loss: 0.3611 - mae: 0.3611 - mse: 0.2901 - val_loss: 0.4457 - val_mae: 0.4457 - val_mse: 0.3988\n",
            "Epoch 17/600\n",
            "23/23 [==============================] - 0s 2ms/step - loss: 0.3643 - mae: 0.3643 - mse: 0.3055 - val_loss: 0.4551 - val_mae: 0.4551 - val_mse: 0.4499\n",
            "Epoch 18/600\n",
            "23/23 [==============================] - 0s 2ms/step - loss: 0.3606 - mae: 0.3606 - mse: 0.2973 - val_loss: 0.4356 - val_mae: 0.4356 - val_mse: 0.3582\n",
            "Epoch 19/600\n",
            "23/23 [==============================] - 0s 3ms/step - loss: 0.3612 - mae: 0.3612 - mse: 0.2945 - val_loss: 0.4223 - val_mae: 0.4223 - val_mse: 0.3180\n",
            "Epoch 20/600\n",
            "23/23 [==============================] - 0s 2ms/step - loss: 0.3630 - mae: 0.3630 - mse: 0.2875 - val_loss: 0.4298 - val_mae: 0.4298 - val_mse: 0.3402\n",
            "Epoch 21/600\n",
            "23/23 [==============================] - 0s 3ms/step - loss: 0.3532 - mae: 0.3532 - mse: 0.2904 - val_loss: 0.4384 - val_mae: 0.4384 - val_mse: 0.3710\n",
            "Epoch 22/600\n",
            "23/23 [==============================] - 0s 3ms/step - loss: 0.3597 - mae: 0.3597 - mse: 0.2927 - val_loss: 0.4199 - val_mae: 0.4199 - val_mse: 0.3128\n",
            "Epoch 23/600\n",
            "23/23 [==============================] - 0s 3ms/step - loss: 0.3594 - mae: 0.3594 - mse: 0.3101 - val_loss: 0.4278 - val_mae: 0.4278 - val_mse: 0.3361\n",
            "Epoch 24/600\n",
            "23/23 [==============================] - 0s 2ms/step - loss: 0.3575 - mae: 0.3575 - mse: 0.2962 - val_loss: 0.4493 - val_mae: 0.4493 - val_mse: 0.4240\n",
            "Epoch 25/600\n",
            "23/23 [==============================] - 0s 3ms/step - loss: 0.3605 - mae: 0.3605 - mse: 0.3150 - val_loss: 0.4265 - val_mae: 0.4265 - val_mse: 0.3334\n",
            "Epoch 26/600\n",
            "23/23 [==============================] - 0s 3ms/step - loss: 0.3621 - mae: 0.3621 - mse: 0.2948 - val_loss: 0.4514 - val_mae: 0.4514 - val_mse: 0.4364\n",
            "Epoch 27/600\n",
            "23/23 [==============================] - 0s 3ms/step - loss: 0.3602 - mae: 0.3602 - mse: 0.2983 - val_loss: 0.4285 - val_mae: 0.4285 - val_mse: 0.3401\n",
            "Epoch 28/600\n",
            "23/23 [==============================] - 0s 3ms/step - loss: 0.3573 - mae: 0.3573 - mse: 0.2888 - val_loss: 0.4295 - val_mae: 0.4295 - val_mse: 0.3436\n",
            "Epoch 29/600\n",
            "23/23 [==============================] - 0s 3ms/step - loss: 0.3602 - mae: 0.3602 - mse: 0.2953 - val_loss: 0.4273 - val_mae: 0.4273 - val_mse: 0.3376\n",
            "Epoch 30/600\n",
            "23/23 [==============================] - 0s 2ms/step - loss: 0.3627 - mae: 0.3627 - mse: 0.3116 - val_loss: 0.4379 - val_mae: 0.4379 - val_mse: 0.3746\n",
            "Epoch 31/600\n",
            "23/23 [==============================] - 0s 3ms/step - loss: 0.3602 - mae: 0.3602 - mse: 0.3049 - val_loss: 0.4297 - val_mae: 0.4297 - val_mse: 0.3458\n",
            "Epoch 32/600\n",
            "23/23 [==============================] - 0s 2ms/step - loss: 0.3611 - mae: 0.3611 - mse: 0.3001 - val_loss: 0.4228 - val_mae: 0.4228 - val_mse: 0.3267\n",
            "Epoch 33/600\n",
            "23/23 [==============================] - 0s 3ms/step - loss: 0.3611 - mae: 0.3611 - mse: 0.2966 - val_loss: 0.4284 - val_mae: 0.4284 - val_mse: 0.3428\n",
            "Epoch 34/600\n",
            "23/23 [==============================] - 0s 4ms/step - loss: 0.3618 - mae: 0.3618 - mse: 0.3012 - val_loss: 0.4223 - val_mae: 0.4223 - val_mse: 0.3260\n",
            "Epoch 35/600\n",
            "23/23 [==============================] - 0s 3ms/step - loss: 0.3588 - mae: 0.3588 - mse: 0.2975 - val_loss: 0.4407 - val_mae: 0.4407 - val_mse: 0.3894\n",
            "Epoch 36/600\n",
            "23/23 [==============================] - 0s 2ms/step - loss: 0.3582 - mae: 0.3582 - mse: 0.3016 - val_loss: 0.4412 - val_mae: 0.4412 - val_mse: 0.3922\n",
            "Epoch 37/600\n",
            "23/23 [==============================] - 0s 2ms/step - loss: 0.3582 - mae: 0.3582 - mse: 0.3163 - val_loss: 0.4423 - val_mae: 0.4423 - val_mse: 0.3974\n",
            "Epoch 38/600\n",
            "23/23 [==============================] - 0s 2ms/step - loss: 0.3620 - mae: 0.3620 - mse: 0.3072 - val_loss: 0.5172 - val_mae: 0.5172 - val_mse: 0.5352\n",
            "Epoch 39/600\n",
            "23/23 [==============================] - 0s 3ms/step - loss: 0.3647 - mae: 0.3647 - mse: 0.3186 - val_loss: 0.4471 - val_mae: 0.4471 - val_mse: 0.4216\n",
            "Epoch 40/600\n",
            "23/23 [==============================] - 0s 2ms/step - loss: 0.3612 - mae: 0.3612 - mse: 0.3039 - val_loss: 0.4174 - val_mae: 0.4174 - val_mse: 0.3134\n",
            "Epoch 41/600\n",
            "23/23 [==============================] - 0s 2ms/step - loss: 0.3614 - mae: 0.3614 - mse: 0.3088 - val_loss: 0.4207 - val_mae: 0.4207 - val_mse: 0.3232\n",
            "Epoch 42/600\n",
            "23/23 [==============================] - 0s 3ms/step - loss: 0.3556 - mae: 0.3556 - mse: 0.2941 - val_loss: 0.4243 - val_mae: 0.4243 - val_mse: 0.3347\n",
            "Epoch 43/600\n",
            "23/23 [==============================] - 0s 2ms/step - loss: 0.3604 - mae: 0.3604 - mse: 0.3013 - val_loss: 0.4447 - val_mae: 0.4447 - val_mse: 0.4118\n",
            "Epoch 44/600\n",
            "23/23 [==============================] - 0s 2ms/step - loss: 0.3543 - mae: 0.3543 - mse: 0.2989 - val_loss: 0.4324 - val_mae: 0.4324 - val_mse: 0.3600\n",
            "Epoch 45/600\n",
            "23/23 [==============================] - 0s 3ms/step - loss: 0.3586 - mae: 0.3586 - mse: 0.3032 - val_loss: 0.4191 - val_mae: 0.4191 - val_mse: 0.3195\n",
            "Epoch 46/600\n",
            "23/23 [==============================] - 0s 2ms/step - loss: 0.3598 - mae: 0.3598 - mse: 0.3022 - val_loss: 0.4303 - val_mae: 0.4303 - val_mse: 0.3539\n",
            "Epoch 47/600\n",
            "23/23 [==============================] - 0s 3ms/step - loss: 0.3586 - mae: 0.3586 - mse: 0.3002 - val_loss: 0.4417 - val_mae: 0.4417 - val_mse: 0.3992\n",
            "Epoch 48/600\n",
            "23/23 [==============================] - 0s 3ms/step - loss: 0.3581 - mae: 0.3581 - mse: 0.3025 - val_loss: 0.4123 - val_mae: 0.4123 - val_mse: 0.3056\n",
            "Epoch 49/600\n",
            "23/23 [==============================] - 0s 3ms/step - loss: 0.3632 - mae: 0.3632 - mse: 0.3155 - val_loss: 0.4375 - val_mae: 0.4375 - val_mse: 0.3822\n",
            "Epoch 50/600\n",
            "23/23 [==============================] - 0s 3ms/step - loss: 0.3576 - mae: 0.3576 - mse: 0.3066 - val_loss: 0.4419 - val_mae: 0.4419 - val_mse: 0.4017\n",
            "Epoch 51/600\n",
            "23/23 [==============================] - 0s 2ms/step - loss: 0.3591 - mae: 0.3591 - mse: 0.3041 - val_loss: 0.4305 - val_mae: 0.4305 - val_mse: 0.3564\n",
            "Epoch 52/600\n",
            "23/23 [==============================] - 0s 2ms/step - loss: 0.3581 - mae: 0.3581 - mse: 0.3046 - val_loss: 0.4122 - val_mae: 0.4122 - val_mse: 0.3054\n",
            "Epoch 53/600\n",
            "23/23 [==============================] - 0s 3ms/step - loss: 0.3620 - mae: 0.3620 - mse: 0.3101 - val_loss: 0.4206 - val_mae: 0.4206 - val_mse: 0.3271\n",
            "Epoch 54/600\n",
            "23/23 [==============================] - 0s 2ms/step - loss: 0.3601 - mae: 0.3601 - mse: 0.3073 - val_loss: 0.5123 - val_mae: 0.5123 - val_mse: 0.5252\n",
            "Epoch 55/600\n",
            "23/23 [==============================] - 0s 3ms/step - loss: 0.3625 - mae: 0.3625 - mse: 0.3151 - val_loss: 0.4276 - val_mae: 0.4276 - val_mse: 0.3484\n",
            "Epoch 56/600\n",
            "23/23 [==============================] - 0s 2ms/step - loss: 0.3612 - mae: 0.3612 - mse: 0.3046 - val_loss: 0.4336 - val_mae: 0.4336 - val_mse: 0.3693\n",
            "Epoch 57/600\n",
            "23/23 [==============================] - 0s 2ms/step - loss: 0.3570 - mae: 0.3570 - mse: 0.3042 - val_loss: 0.4249 - val_mae: 0.4249 - val_mse: 0.3411\n",
            "Epoch 58/600\n",
            "23/23 [==============================] - 0s 2ms/step - loss: 0.3582 - mae: 0.3582 - mse: 0.2975 - val_loss: 0.4372 - val_mae: 0.4372 - val_mse: 0.3845\n",
            "Epoch 59/600\n",
            "23/23 [==============================] - 0s 2ms/step - loss: 0.3543 - mae: 0.3543 - mse: 0.3017 - val_loss: 0.4182 - val_mae: 0.4182 - val_mse: 0.3211\n",
            "Epoch 60/600\n",
            "23/23 [==============================] - 0s 2ms/step - loss: 0.3562 - mae: 0.3562 - mse: 0.2997 - val_loss: 0.4196 - val_mae: 0.4196 - val_mse: 0.3256\n",
            "Epoch 61/600\n",
            "23/23 [==============================] - 0s 3ms/step - loss: 0.3564 - mae: 0.3564 - mse: 0.2997 - val_loss: 0.4338 - val_mae: 0.4338 - val_mse: 0.3713\n",
            "Epoch 62/600\n",
            "23/23 [==============================] - 0s 2ms/step - loss: 0.3572 - mae: 0.3572 - mse: 0.3010 - val_loss: 0.4201 - val_mae: 0.4201 - val_mse: 0.3276\n",
            "Epoch 63/600\n",
            "23/23 [==============================] - 0s 2ms/step - loss: 0.3583 - mae: 0.3583 - mse: 0.3041 - val_loss: 0.4377 - val_mae: 0.4377 - val_mse: 0.3878\n",
            "Epoch 64/600\n",
            "23/23 [==============================] - 0s 2ms/step - loss: 0.3544 - mae: 0.3544 - mse: 0.3003 - val_loss: 0.4335 - val_mae: 0.4335 - val_mse: 0.3712\n",
            "Epoch 65/600\n",
            "23/23 [==============================] - 0s 3ms/step - loss: 0.3582 - mae: 0.3582 - mse: 0.3069 - val_loss: 0.4198 - val_mae: 0.4198 - val_mse: 0.3277\n",
            "Epoch 66/600\n",
            "23/23 [==============================] - 0s 2ms/step - loss: 0.3578 - mae: 0.3578 - mse: 0.2993 - val_loss: 0.4283 - val_mae: 0.4283 - val_mse: 0.3536\n",
            "Epoch 67/600\n",
            "23/23 [==============================] - 0s 2ms/step - loss: 0.3543 - mae: 0.3543 - mse: 0.2996 - val_loss: 0.4166 - val_mae: 0.4166 - val_mse: 0.3189\n",
            "Epoch 68/600\n",
            "23/23 [==============================] - 0s 2ms/step - loss: 0.3574 - mae: 0.3574 - mse: 0.2937 - val_loss: 0.4207 - val_mae: 0.4207 - val_mse: 0.3317\n",
            "Epoch 69/600\n",
            "23/23 [==============================] - 0s 3ms/step - loss: 0.3550 - mae: 0.3550 - mse: 0.3022 - val_loss: 0.4290 - val_mae: 0.4290 - val_mse: 0.3568\n",
            "Epoch 70/600\n",
            "23/23 [==============================] - 0s 2ms/step - loss: 0.3578 - mae: 0.3578 - mse: 0.3039 - val_loss: 0.4204 - val_mae: 0.4204 - val_mse: 0.3308\n",
            "Epoch 71/600\n",
            "23/23 [==============================] - 0s 2ms/step - loss: 0.3542 - mae: 0.3542 - mse: 0.2873 - val_loss: 0.4248 - val_mae: 0.4248 - val_mse: 0.3444\n",
            "Epoch 72/600\n",
            "23/23 [==============================] - 0s 3ms/step - loss: 0.3532 - mae: 0.3532 - mse: 0.2909 - val_loss: 0.4346 - val_mae: 0.4346 - val_mse: 0.3779\n",
            "Epoch 73/600\n",
            "23/23 [==============================] - 0s 2ms/step - loss: 0.3580 - mae: 0.3580 - mse: 0.3046 - val_loss: 0.4292 - val_mae: 0.4292 - val_mse: 0.3586\n",
            "Epoch 74/600\n",
            "23/23 [==============================] - 0s 2ms/step - loss: 0.3571 - mae: 0.3571 - mse: 0.3039 - val_loss: 0.4389 - val_mae: 0.4389 - val_mse: 0.3915\n",
            "Epoch 75/600\n",
            "23/23 [==============================] - 0s 3ms/step - loss: 0.3555 - mae: 0.3555 - mse: 0.3031 - val_loss: 0.4229 - val_mae: 0.4229 - val_mse: 0.3399\n",
            "Epoch 76/600\n",
            "23/23 [==============================] - 0s 3ms/step - loss: 0.3544 - mae: 0.3544 - mse: 0.3016 - val_loss: 0.4323 - val_mae: 0.4323 - val_mse: 0.3701\n",
            "Epoch 77/600\n",
            "23/23 [==============================] - 0s 3ms/step - loss: 0.3560 - mae: 0.3560 - mse: 0.3062 - val_loss: 0.4597 - val_mae: 0.4597 - val_mse: 0.4482\n",
            "Epoch 78/600\n",
            "23/23 [==============================] - 0s 3ms/step - loss: 0.3562 - mae: 0.3562 - mse: 0.3016 - val_loss: 0.4264 - val_mae: 0.4264 - val_mse: 0.3507\n",
            "Epoch 79/600\n",
            "23/23 [==============================] - 0s 2ms/step - loss: 0.3536 - mae: 0.3536 - mse: 0.2921 - val_loss: 0.4341 - val_mae: 0.4341 - val_mse: 0.3771\n",
            "Epoch 80/600\n",
            "23/23 [==============================] - 0s 2ms/step - loss: 0.3540 - mae: 0.3540 - mse: 0.2980 - val_loss: 0.4251 - val_mae: 0.4251 - val_mse: 0.3472\n",
            "Epoch 81/600\n",
            "23/23 [==============================] - 0s 3ms/step - loss: 0.3554 - mae: 0.3554 - mse: 0.3025 - val_loss: 0.4353 - val_mae: 0.4353 - val_mse: 0.3813\n",
            "Epoch 82/600\n",
            "23/23 [==============================] - 0s 2ms/step - loss: 0.3562 - mae: 0.3562 - mse: 0.3027 - val_loss: 0.4206 - val_mae: 0.4206 - val_mse: 0.3344\n",
            "Epoch 83/600\n",
            "23/23 [==============================] - 0s 3ms/step - loss: 0.3548 - mae: 0.3548 - mse: 0.2936 - val_loss: 0.4523 - val_mae: 0.4523 - val_mse: 0.4274\n",
            "Epoch 84/600\n",
            "23/23 [==============================] - 0s 3ms/step - loss: 0.3561 - mae: 0.3561 - mse: 0.3075 - val_loss: 0.4261 - val_mae: 0.4261 - val_mse: 0.3507\n",
            "Epoch 85/600\n",
            "23/23 [==============================] - 0s 3ms/step - loss: 0.3541 - mae: 0.3541 - mse: 0.2996 - val_loss: 0.4384 - val_mae: 0.4384 - val_mse: 0.3893\n",
            "Epoch 86/600\n",
            "23/23 [==============================] - 0s 3ms/step - loss: 0.3535 - mae: 0.3535 - mse: 0.2931 - val_loss: 0.4368 - val_mae: 0.4368 - val_mse: 0.3850\n",
            "Epoch 87/600\n",
            "23/23 [==============================] - 0s 3ms/step - loss: 0.3598 - mae: 0.3598 - mse: 0.3037 - val_loss: 0.4132 - val_mae: 0.4132 - val_mse: 0.3149\n",
            "Epoch 88/600\n",
            "23/23 [==============================] - 0s 2ms/step - loss: 0.3596 - mae: 0.3596 - mse: 0.3046 - val_loss: 0.4173 - val_mae: 0.4173 - val_mse: 0.3244\n",
            "Epoch 89/600\n",
            "23/23 [==============================] - 0s 3ms/step - loss: 0.3550 - mae: 0.3550 - mse: 0.2949 - val_loss: 0.4434 - val_mae: 0.4434 - val_mse: 0.4020\n",
            "Epoch 90/600\n",
            "23/23 [==============================] - 0s 2ms/step - loss: 0.3547 - mae: 0.3547 - mse: 0.3014 - val_loss: 0.4219 - val_mae: 0.4219 - val_mse: 0.3399\n",
            "Epoch 91/600\n",
            "23/23 [==============================] - 0s 2ms/step - loss: 0.3570 - mae: 0.3570 - mse: 0.3079 - val_loss: 0.4341 - val_mae: 0.4341 - val_mse: 0.3777\n",
            "Epoch 92/600\n",
            "23/23 [==============================] - 0s 3ms/step - loss: 0.3568 - mae: 0.3568 - mse: 0.2993 - val_loss: 0.5440 - val_mae: 0.5440 - val_mse: 0.5685\n",
            "Epoch 93/600\n",
            "23/23 [==============================] - 0s 3ms/step - loss: 0.3627 - mae: 0.3627 - mse: 0.3164 - val_loss: 0.4242 - val_mae: 0.4242 - val_mse: 0.3465\n",
            "Epoch 94/600\n",
            "23/23 [==============================] - 0s 2ms/step - loss: 0.3561 - mae: 0.3561 - mse: 0.3027 - val_loss: 0.4185 - val_mae: 0.4185 - val_mse: 0.3288\n",
            "Epoch 95/600\n",
            "23/23 [==============================] - 0s 3ms/step - loss: 0.3575 - mae: 0.3575 - mse: 0.3087 - val_loss: 0.4630 - val_mae: 0.4630 - val_mse: 0.4523\n",
            "Epoch 96/600\n",
            "23/23 [==============================] - 0s 3ms/step - loss: 0.3549 - mae: 0.3549 - mse: 0.2987 - val_loss: 0.4289 - val_mae: 0.4289 - val_mse: 0.3612\n",
            "Epoch 97/600\n",
            "23/23 [==============================] - 0s 3ms/step - loss: 0.3553 - mae: 0.3553 - mse: 0.3038 - val_loss: 0.4113 - val_mae: 0.4113 - val_mse: 0.3115\n",
            "Epoch 98/600\n",
            "23/23 [==============================] - 0s 3ms/step - loss: 0.3591 - mae: 0.3591 - mse: 0.3106 - val_loss: 0.4271 - val_mae: 0.4271 - val_mse: 0.3558\n",
            "Epoch 99/600\n",
            "23/23 [==============================] - 0s 3ms/step - loss: 0.3544 - mae: 0.3544 - mse: 0.3106 - val_loss: 0.4180 - val_mae: 0.4180 - val_mse: 0.3273\n",
            "Epoch 100/600\n",
            "23/23 [==============================] - 0s 3ms/step - loss: 0.3553 - mae: 0.3553 - mse: 0.2978 - val_loss: 0.4272 - val_mae: 0.4272 - val_mse: 0.3559\n",
            "Epoch 101/600\n",
            "23/23 [==============================] - 0s 3ms/step - loss: 0.3537 - mae: 0.3537 - mse: 0.2984 - val_loss: 0.4435 - val_mae: 0.4435 - val_mse: 0.4017\n",
            "Epoch 102/600\n",
            "23/23 [==============================] - 0s 2ms/step - loss: 0.3584 - mae: 0.3584 - mse: 0.3067 - val_loss: 0.4379 - val_mae: 0.4379 - val_mse: 0.3869\n",
            "Epoch 103/600\n",
            "23/23 [==============================] - 0s 3ms/step - loss: 0.3545 - mae: 0.3545 - mse: 0.2956 - val_loss: 0.4444 - val_mae: 0.4444 - val_mse: 0.4041\n",
            "Epoch 104/600\n",
            "23/23 [==============================] - 0s 3ms/step - loss: 0.3556 - mae: 0.3556 - mse: 0.3041 - val_loss: 0.4286 - val_mae: 0.4286 - val_mse: 0.3610\n",
            "Epoch 105/600\n",
            "23/23 [==============================] - 0s 3ms/step - loss: 0.3553 - mae: 0.3553 - mse: 0.2962 - val_loss: 0.4233 - val_mae: 0.4233 - val_mse: 0.3450\n",
            "Epoch 106/600\n",
            "23/23 [==============================] - 0s 2ms/step - loss: 0.3550 - mae: 0.3550 - mse: 0.2988 - val_loss: 0.4462 - val_mae: 0.4462 - val_mse: 0.4088\n",
            "Epoch 107/600\n",
            "23/23 [==============================] - 0s 3ms/step - loss: 0.3542 - mae: 0.3542 - mse: 0.3036 - val_loss: 0.4167 - val_mae: 0.4167 - val_mse: 0.3243\n",
            "Epoch 108/600\n",
            "23/23 [==============================] - 0s 3ms/step - loss: 0.3541 - mae: 0.3541 - mse: 0.2999 - val_loss: 0.4186 - val_mae: 0.4186 - val_mse: 0.3301\n",
            "Epoch 109/600\n",
            "23/23 [==============================] - 0s 3ms/step - loss: 0.3533 - mae: 0.3533 - mse: 0.2956 - val_loss: 0.4318 - val_mae: 0.4318 - val_mse: 0.3716\n",
            "Epoch 110/600\n",
            "23/23 [==============================] - 0s 4ms/step - loss: 0.3559 - mae: 0.3559 - mse: 0.2987 - val_loss: 0.4110 - val_mae: 0.4110 - val_mse: 0.3117\n",
            "Epoch 111/600\n",
            "23/23 [==============================] - 0s 3ms/step - loss: 0.3538 - mae: 0.3538 - mse: 0.2914 - val_loss: 0.4476 - val_mae: 0.4476 - val_mse: 0.4123\n",
            "Epoch 112/600\n",
            "23/23 [==============================] - 0s 2ms/step - loss: 0.3587 - mae: 0.3587 - mse: 0.3113 - val_loss: 0.4251 - val_mae: 0.4251 - val_mse: 0.3506\n",
            "Epoch 113/600\n",
            "23/23 [==============================] - 0s 2ms/step - loss: 0.3538 - mae: 0.3538 - mse: 0.2990 - val_loss: 0.4253 - val_mae: 0.4253 - val_mse: 0.3512\n",
            "Epoch 114/600\n",
            "23/23 [==============================] - 0s 3ms/step - loss: 0.3555 - mae: 0.3555 - mse: 0.3117 - val_loss: 0.4194 - val_mae: 0.4194 - val_mse: 0.3330\n",
            "Epoch 115/600\n",
            "23/23 [==============================] - 0s 3ms/step - loss: 0.3555 - mae: 0.3555 - mse: 0.3064 - val_loss: 0.4768 - val_mae: 0.4768 - val_mse: 0.4741\n",
            "Epoch 116/600\n",
            "23/23 [==============================] - 0s 2ms/step - loss: 0.3584 - mae: 0.3584 - mse: 0.3079 - val_loss: 0.4246 - val_mae: 0.4246 - val_mse: 0.3490\n",
            "Epoch 117/600\n",
            "23/23 [==============================] - 0s 3ms/step - loss: 0.3547 - mae: 0.3547 - mse: 0.3003 - val_loss: 0.4301 - val_mae: 0.4301 - val_mse: 0.3665\n",
            "Epoch 118/600\n",
            "23/23 [==============================] - 0s 3ms/step - loss: 0.3543 - mae: 0.3543 - mse: 0.2991 - val_loss: 0.4447 - val_mae: 0.4447 - val_mse: 0.4044\n",
            "Epoch 119/600\n",
            "23/23 [==============================] - 0s 2ms/step - loss: 0.3605 - mae: 0.3605 - mse: 0.3065 - val_loss: 0.4261 - val_mae: 0.4261 - val_mse: 0.3538\n",
            "Epoch 120/600\n",
            "23/23 [==============================] - 0s 3ms/step - loss: 0.3567 - mae: 0.3567 - mse: 0.3043 - val_loss: 0.4315 - val_mae: 0.4315 - val_mse: 0.3708\n",
            "Epoch 121/600\n",
            "23/23 [==============================] - 0s 3ms/step - loss: 0.3575 - mae: 0.3575 - mse: 0.3008 - val_loss: 0.4392 - val_mae: 0.4392 - val_mse: 0.3898\n",
            "Epoch 122/600\n",
            "23/23 [==============================] - 0s 2ms/step - loss: 0.3534 - mae: 0.3534 - mse: 0.2964 - val_loss: 0.4107 - val_mae: 0.4107 - val_mse: 0.3115\n",
            "Epoch 123/600\n",
            "23/23 [==============================] - 0s 2ms/step - loss: 0.3571 - mae: 0.3571 - mse: 0.3059 - val_loss: 0.4111 - val_mae: 0.4111 - val_mse: 0.3106\n",
            "Epoch 124/600\n",
            "23/23 [==============================] - 0s 3ms/step - loss: 0.3600 - mae: 0.3600 - mse: 0.3077 - val_loss: 0.4392 - val_mae: 0.4392 - val_mse: 0.3895\n",
            "Epoch 125/600\n",
            "23/23 [==============================] - 0s 2ms/step - loss: 0.3546 - mae: 0.3546 - mse: 0.2982 - val_loss: 0.4262 - val_mae: 0.4262 - val_mse: 0.3547\n",
            "Epoch 126/600\n",
            "23/23 [==============================] - 0s 3ms/step - loss: 0.3560 - mae: 0.3560 - mse: 0.2962 - val_loss: 0.4332 - val_mae: 0.4332 - val_mse: 0.3746\n",
            "Epoch 127/600\n",
            "23/23 [==============================] - 0s 4ms/step - loss: 0.3558 - mae: 0.3558 - mse: 0.2952 - val_loss: 0.4156 - val_mae: 0.4156 - val_mse: 0.3226\n",
            "Epoch 128/600\n",
            "23/23 [==============================] - 0s 3ms/step - loss: 0.3568 - mae: 0.3568 - mse: 0.2977 - val_loss: 0.4121 - val_mae: 0.4121 - val_mse: 0.3149\n",
            "Epoch 129/600\n",
            "23/23 [==============================] - 0s 2ms/step - loss: 0.3577 - mae: 0.3577 - mse: 0.3125 - val_loss: 0.4138 - val_mae: 0.4138 - val_mse: 0.3186\n",
            "Epoch 130/600\n",
            "23/23 [==============================] - 0s 3ms/step - loss: 0.3585 - mae: 0.3585 - mse: 0.2991 - val_loss: 0.4498 - val_mae: 0.4498 - val_mse: 0.4170\n",
            "Epoch 131/600\n",
            "23/23 [==============================] - 0s 3ms/step - loss: 0.3572 - mae: 0.3572 - mse: 0.3044 - val_loss: 0.4117 - val_mae: 0.4117 - val_mse: 0.3141\n",
            "Epoch 132/600\n",
            "23/23 [==============================] - 0s 2ms/step - loss: 0.3573 - mae: 0.3573 - mse: 0.3003 - val_loss: 0.4252 - val_mae: 0.4252 - val_mse: 0.3524\n",
            "Epoch 133/600\n",
            "23/23 [==============================] - 0s 3ms/step - loss: 0.3520 - mae: 0.3520 - mse: 0.2962 - val_loss: 0.4283 - val_mae: 0.4283 - val_mse: 0.3619\n",
            "Epoch 134/600\n",
            "23/23 [==============================] - 0s 3ms/step - loss: 0.3558 - mae: 0.3558 - mse: 0.2987 - val_loss: 0.4247 - val_mae: 0.4247 - val_mse: 0.3512\n",
            "Epoch 135/600\n",
            "23/23 [==============================] - 0s 3ms/step - loss: 0.3549 - mae: 0.3549 - mse: 0.2982 - val_loss: 0.4269 - val_mae: 0.4269 - val_mse: 0.3581\n",
            "Epoch 136/600\n",
            "23/23 [==============================] - 0s 3ms/step - loss: 0.3560 - mae: 0.3560 - mse: 0.3030 - val_loss: 0.4158 - val_mae: 0.4158 - val_mse: 0.3241\n",
            "Epoch 137/600\n",
            "23/23 [==============================] - 0s 2ms/step - loss: 0.3529 - mae: 0.3529 - mse: 0.3032 - val_loss: 0.4276 - val_mae: 0.4276 - val_mse: 0.3600\n",
            "Epoch 138/600\n",
            "23/23 [==============================] - 0s 3ms/step - loss: 0.3542 - mae: 0.3542 - mse: 0.2951 - val_loss: 0.4124 - val_mae: 0.4124 - val_mse: 0.3164\n",
            "Epoch 139/600\n",
            "23/23 [==============================] - 0s 3ms/step - loss: 0.3548 - mae: 0.3548 - mse: 0.2963 - val_loss: 0.4203 - val_mae: 0.4203 - val_mse: 0.3385\n",
            "Epoch 140/600\n",
            "23/23 [==============================] - 0s 3ms/step - loss: 0.3557 - mae: 0.3557 - mse: 0.2999 - val_loss: 0.4201 - val_mae: 0.4201 - val_mse: 0.3378\n",
            "Epoch 141/600\n",
            "23/23 [==============================] - 0s 3ms/step - loss: 0.3558 - mae: 0.3558 - mse: 0.3045 - val_loss: 0.4177 - val_mae: 0.4177 - val_mse: 0.3293\n",
            "Epoch 142/600\n",
            "23/23 [==============================] - 0s 3ms/step - loss: 0.3554 - mae: 0.3554 - mse: 0.2968 - val_loss: 0.4224 - val_mae: 0.4224 - val_mse: 0.3447\n",
            "Epoch 143/600\n",
            "23/23 [==============================] - 0s 2ms/step - loss: 0.3506 - mae: 0.3506 - mse: 0.2955 - val_loss: 0.4380 - val_mae: 0.4380 - val_mse: 0.3858\n",
            "Epoch 144/600\n",
            "23/23 [==============================] - 0s 2ms/step - loss: 0.3581 - mae: 0.3581 - mse: 0.3021 - val_loss: 0.4281 - val_mae: 0.4281 - val_mse: 0.3616\n",
            "Epoch 145/600\n",
            "23/23 [==============================] - 0s 3ms/step - loss: 0.3593 - mae: 0.3593 - mse: 0.3119 - val_loss: 0.4248 - val_mae: 0.4248 - val_mse: 0.3516\n",
            "Epoch 146/600\n",
            "23/23 [==============================] - 0s 3ms/step - loss: 0.3560 - mae: 0.3560 - mse: 0.3081 - val_loss: 0.4324 - val_mae: 0.4324 - val_mse: 0.3724\n",
            "Epoch 147/600\n",
            "23/23 [==============================] - 0s 2ms/step - loss: 0.3537 - mae: 0.3537 - mse: 0.3004 - val_loss: 0.4296 - val_mae: 0.4296 - val_mse: 0.3658\n",
            "Epoch 148/600\n",
            "23/23 [==============================] - 0s 3ms/step - loss: 0.3555 - mae: 0.3555 - mse: 0.3045 - val_loss: 0.4370 - val_mae: 0.4370 - val_mse: 0.3835\n",
            "Epoch 149/600\n",
            "23/23 [==============================] - 0s 3ms/step - loss: 0.3540 - mae: 0.3540 - mse: 0.3061 - val_loss: 0.4220 - val_mae: 0.4220 - val_mse: 0.3433\n",
            "Epoch 150/600\n",
            "23/23 [==============================] - 0s 3ms/step - loss: 0.3548 - mae: 0.3548 - mse: 0.3026 - val_loss: 0.4422 - val_mae: 0.4422 - val_mse: 0.3969\n",
            "Epoch 151/600\n",
            "23/23 [==============================] - 0s 3ms/step - loss: 0.3556 - mae: 0.3556 - mse: 0.2984 - val_loss: 0.4581 - val_mae: 0.4581 - val_mse: 0.4392\n",
            "Epoch 152/600\n",
            "23/23 [==============================] - 0s 3ms/step - loss: 0.3585 - mae: 0.3585 - mse: 0.3086 - val_loss: 0.4496 - val_mae: 0.4496 - val_mse: 0.4161\n",
            "Epoch 153/600\n",
            "23/23 [==============================] - 0s 3ms/step - loss: 0.3568 - mae: 0.3568 - mse: 0.3071 - val_loss: 0.4151 - val_mae: 0.4151 - val_mse: 0.3218\n",
            "Epoch 154/600\n",
            "23/23 [==============================] - 0s 3ms/step - loss: 0.3576 - mae: 0.3576 - mse: 0.3047 - val_loss: 0.4267 - val_mae: 0.4267 - val_mse: 0.3570\n",
            "Epoch 155/600\n",
            "23/23 [==============================] - 0s 2ms/step - loss: 0.3528 - mae: 0.3528 - mse: 0.3013 - val_loss: 0.4417 - val_mae: 0.4417 - val_mse: 0.3954\n",
            "Epoch 156/600\n",
            "23/23 [==============================] - 0s 4ms/step - loss: 0.3531 - mae: 0.3531 - mse: 0.2950 - val_loss: 0.4111 - val_mae: 0.4111 - val_mse: 0.3113\n",
            "Epoch 157/600\n",
            "23/23 [==============================] - 0s 3ms/step - loss: 0.3622 - mae: 0.3622 - mse: 0.3167 - val_loss: 0.4137 - val_mae: 0.4137 - val_mse: 0.3188\n",
            "Epoch 158/600\n",
            "23/23 [==============================] - 0s 2ms/step - loss: 0.3501 - mae: 0.3501 - mse: 0.2928 - val_loss: 0.4108 - val_mae: 0.4108 - val_mse: 0.3111\n",
            "Epoch 159/600\n",
            "23/23 [==============================] - 0s 2ms/step - loss: 0.3584 - mae: 0.3584 - mse: 0.3013 - val_loss: 0.4180 - val_mae: 0.4180 - val_mse: 0.3300\n",
            "Epoch 160/600\n",
            "23/23 [==============================] - 0s 3ms/step - loss: 0.3536 - mae: 0.3536 - mse: 0.3006 - val_loss: 0.4348 - val_mae: 0.4348 - val_mse: 0.3783\n",
            "Epoch 161/600\n",
            "23/23 [==============================] - 0s 3ms/step - loss: 0.3573 - mae: 0.3573 - mse: 0.3034 - val_loss: 0.4239 - val_mae: 0.4239 - val_mse: 0.3483\n",
            "Epoch 162/600\n",
            "23/23 [==============================] - 0s 3ms/step - loss: 0.3533 - mae: 0.3533 - mse: 0.3010 - val_loss: 0.4515 - val_mae: 0.4515 - val_mse: 0.4217\n",
            "Epoch 163/600\n",
            "23/23 [==============================] - 0s 2ms/step - loss: 0.3541 - mae: 0.3541 - mse: 0.3045 - val_loss: 0.4292 - val_mae: 0.4292 - val_mse: 0.3643\n",
            "Epoch 164/600\n",
            "23/23 [==============================] - 0s 3ms/step - loss: 0.3596 - mae: 0.3596 - mse: 0.3034 - val_loss: 0.4153 - val_mae: 0.4153 - val_mse: 0.3220\n",
            "Epoch 165/600\n",
            "23/23 [==============================] - 0s 3ms/step - loss: 0.3537 - mae: 0.3537 - mse: 0.3001 - val_loss: 0.4219 - val_mae: 0.4219 - val_mse: 0.3427\n",
            "Epoch 166/600\n",
            "23/23 [==============================] - 0s 2ms/step - loss: 0.3572 - mae: 0.3572 - mse: 0.3059 - val_loss: 0.4403 - val_mae: 0.4403 - val_mse: 0.3923\n",
            "Epoch 167/600\n",
            "23/23 [==============================] - 0s 3ms/step - loss: 0.3582 - mae: 0.3582 - mse: 0.3026 - val_loss: 0.4401 - val_mae: 0.4401 - val_mse: 0.3917\n",
            "Epoch 168/600\n",
            "23/23 [==============================] - 0s 3ms/step - loss: 0.3520 - mae: 0.3520 - mse: 0.2885 - val_loss: 0.4359 - val_mae: 0.4359 - val_mse: 0.3811\n",
            "Epoch 169/600\n",
            "23/23 [==============================] - 0s 2ms/step - loss: 0.3565 - mae: 0.3565 - mse: 0.3068 - val_loss: 0.4178 - val_mae: 0.4178 - val_mse: 0.3290\n",
            "Epoch 170/600\n",
            "23/23 [==============================] - 0s 2ms/step - loss: 0.3541 - mae: 0.3541 - mse: 0.3027 - val_loss: 0.4467 - val_mae: 0.4467 - val_mse: 0.4091\n",
            "Epoch 171/600\n",
            "23/23 [==============================] - 0s 3ms/step - loss: 0.3554 - mae: 0.3554 - mse: 0.3005 - val_loss: 0.4120 - val_mae: 0.4120 - val_mse: 0.3147\n",
            "Epoch 172/600\n",
            "23/23 [==============================] - 0s 3ms/step - loss: 0.3600 - mae: 0.3600 - mse: 0.3042 - val_loss: 0.4754 - val_mae: 0.4754 - val_mse: 0.4717\n",
            "Epoch 173/600\n",
            "23/23 [==============================] - 0s 4ms/step - loss: 0.3611 - mae: 0.3611 - mse: 0.3025 - val_loss: 0.4966 - val_mae: 0.4966 - val_mse: 0.4990\n",
            "Epoch 174/600\n",
            "23/23 [==============================] - 0s 2ms/step - loss: 0.3556 - mae: 0.3556 - mse: 0.3059 - val_loss: 0.4466 - val_mae: 0.4466 - val_mse: 0.4087\n",
            "Epoch 175/600\n",
            "23/23 [==============================] - 0s 3ms/step - loss: 0.3587 - mae: 0.3587 - mse: 0.3129 - val_loss: 0.4166 - val_mae: 0.4166 - val_mse: 0.3253\n",
            "Epoch 176/600\n",
            "23/23 [==============================] - 0s 3ms/step - loss: 0.3535 - mae: 0.3535 - mse: 0.2994 - val_loss: 0.4218 - val_mae: 0.4218 - val_mse: 0.3421\n",
            "Epoch 177/600\n",
            "23/23 [==============================] - 0s 2ms/step - loss: 0.3540 - mae: 0.3540 - mse: 0.2975 - val_loss: 0.4524 - val_mae: 0.4524 - val_mse: 0.4242\n",
            "Epoch 178/600\n",
            "23/23 [==============================] - 0s 2ms/step - loss: 0.3574 - mae: 0.3574 - mse: 0.3059 - val_loss: 0.4204 - val_mae: 0.4204 - val_mse: 0.3375\n",
            "Epoch 179/600\n",
            "23/23 [==============================] - 0s 2ms/step - loss: 0.3542 - mae: 0.3542 - mse: 0.2915 - val_loss: 0.4397 - val_mae: 0.4397 - val_mse: 0.3908\n",
            "Epoch 180/600\n",
            "23/23 [==============================] - 0s 2ms/step - loss: 0.3562 - mae: 0.3562 - mse: 0.3064 - val_loss: 0.4436 - val_mae: 0.4436 - val_mse: 0.4011\n",
            "Epoch 181/600\n",
            "23/23 [==============================] - 0s 3ms/step - loss: 0.3544 - mae: 0.3544 - mse: 0.3035 - val_loss: 0.4324 - val_mae: 0.4324 - val_mse: 0.3729\n",
            "Epoch 182/600\n",
            "23/23 [==============================] - 0s 3ms/step - loss: 0.3518 - mae: 0.3518 - mse: 0.2952 - val_loss: 0.4132 - val_mae: 0.4132 - val_mse: 0.3172\n",
            "Epoch 183/600\n",
            "23/23 [==============================] - 0s 2ms/step - loss: 0.3553 - mae: 0.3553 - mse: 0.2993 - val_loss: 0.4134 - val_mae: 0.4134 - val_mse: 0.3132\n",
            "Epoch 184/600\n",
            "23/23 [==============================] - 0s 3ms/step - loss: 0.3600 - mae: 0.3600 - mse: 0.3106 - val_loss: 0.4497 - val_mae: 0.4497 - val_mse: 0.4167\n",
            "Epoch 185/600\n",
            "23/23 [==============================] - 0s 2ms/step - loss: 0.3539 - mae: 0.3539 - mse: 0.3005 - val_loss: 0.4488 - val_mae: 0.4488 - val_mse: 0.4146\n",
            "Epoch 186/600\n",
            "23/23 [==============================] - 0s 3ms/step - loss: 0.3556 - mae: 0.3556 - mse: 0.3002 - val_loss: 0.4122 - val_mae: 0.4122 - val_mse: 0.3152\n",
            "Epoch 187/600\n",
            "23/23 [==============================] - 0s 2ms/step - loss: 0.3555 - mae: 0.3555 - mse: 0.2992 - val_loss: 0.4262 - val_mae: 0.4262 - val_mse: 0.3551\n",
            "Epoch 188/600\n",
            "23/23 [==============================] - 0s 2ms/step - loss: 0.3528 - mae: 0.3528 - mse: 0.2952 - val_loss: 0.4293 - val_mae: 0.4293 - val_mse: 0.3648\n",
            "Epoch 189/600\n",
            "23/23 [==============================] - 0s 4ms/step - loss: 0.3564 - mae: 0.3564 - mse: 0.3027 - val_loss: 0.4329 - val_mae: 0.4329 - val_mse: 0.3738\n",
            "Epoch 190/600\n",
            "23/23 [==============================] - 0s 2ms/step - loss: 0.3561 - mae: 0.3561 - mse: 0.3056 - val_loss: 0.4301 - val_mae: 0.4301 - val_mse: 0.3670\n",
            "Epoch 191/600\n",
            "23/23 [==============================] - 0s 3ms/step - loss: 0.3528 - mae: 0.3528 - mse: 0.2979 - val_loss: 0.4229 - val_mae: 0.4229 - val_mse: 0.3454\n",
            "Epoch 192/600\n",
            "23/23 [==============================] - 0s 2ms/step - loss: 0.3567 - mae: 0.3567 - mse: 0.3044 - val_loss: 0.4360 - val_mae: 0.4360 - val_mse: 0.3813\n",
            "Epoch 193/600\n",
            "23/23 [==============================] - 0s 2ms/step - loss: 0.3568 - mae: 0.3568 - mse: 0.3028 - val_loss: 0.4109 - val_mae: 0.4109 - val_mse: 0.3110\n",
            "Epoch 194/600\n",
            "23/23 [==============================] - 0s 3ms/step - loss: 0.3577 - mae: 0.3577 - mse: 0.3011 - val_loss: 0.4294 - val_mae: 0.4294 - val_mse: 0.3652\n",
            "Epoch 195/600\n",
            "23/23 [==============================] - 0s 3ms/step - loss: 0.3584 - mae: 0.3584 - mse: 0.3094 - val_loss: 0.4180 - val_mae: 0.4180 - val_mse: 0.3299\n",
            "Epoch 196/600\n",
            "23/23 [==============================] - 0s 3ms/step - loss: 0.3584 - mae: 0.3584 - mse: 0.3019 - val_loss: 0.4124 - val_mae: 0.4124 - val_mse: 0.3160\n",
            "Epoch 197/600\n",
            "23/23 [==============================] - 0s 3ms/step - loss: 0.3538 - mae: 0.3538 - mse: 0.2985 - val_loss: 0.4335 - val_mae: 0.4335 - val_mse: 0.3753\n",
            "Epoch 198/600\n",
            "23/23 [==============================] - 0s 3ms/step - loss: 0.3540 - mae: 0.3540 - mse: 0.2977 - val_loss: 0.4242 - val_mae: 0.4242 - val_mse: 0.3496\n",
            "Epoch 199/600\n",
            "23/23 [==============================] - 0s 3ms/step - loss: 0.3522 - mae: 0.3522 - mse: 0.2990 - val_loss: 0.4249 - val_mae: 0.4249 - val_mse: 0.3518\n",
            "Epoch 200/600\n",
            "23/23 [==============================] - 0s 3ms/step - loss: 0.3566 - mae: 0.3566 - mse: 0.3052 - val_loss: 0.4285 - val_mae: 0.4285 - val_mse: 0.3625\n",
            "Epoch 201/600\n",
            "23/23 [==============================] - 0s 2ms/step - loss: 0.3565 - mae: 0.3565 - mse: 0.3061 - val_loss: 0.4258 - val_mae: 0.4258 - val_mse: 0.3545\n",
            "Epoch 202/600\n",
            "23/23 [==============================] - 0s 2ms/step - loss: 0.3535 - mae: 0.3535 - mse: 0.2952 - val_loss: 0.4164 - val_mae: 0.4164 - val_mse: 0.3257\n",
            "Epoch 203/600\n",
            "23/23 [==============================] - 0s 2ms/step - loss: 0.3544 - mae: 0.3544 - mse: 0.2940 - val_loss: 0.5746 - val_mae: 0.5746 - val_mse: 0.6161\n",
            "Epoch 204/600\n",
            "23/23 [==============================] - 0s 3ms/step - loss: 0.3643 - mae: 0.3643 - mse: 0.3250 - val_loss: 0.6555 - val_mae: 0.6555 - val_mse: 0.7679\n",
            "Epoch 205/600\n",
            "23/23 [==============================] - 0s 3ms/step - loss: 0.3682 - mae: 0.3682 - mse: 0.3250 - val_loss: 0.4195 - val_mae: 0.4195 - val_mse: 0.3354\n",
            "Epoch 206/600\n",
            "23/23 [==============================] - 0s 2ms/step - loss: 0.3567 - mae: 0.3567 - mse: 0.3039 - val_loss: 0.4146 - val_mae: 0.4146 - val_mse: 0.3210\n",
            "Epoch 207/600\n",
            "23/23 [==============================] - 0s 2ms/step - loss: 0.3554 - mae: 0.3554 - mse: 0.2954 - val_loss: 0.4106 - val_mae: 0.4106 - val_mse: 0.3117\n",
            "Epoch 208/600\n",
            "23/23 [==============================] - 0s 3ms/step - loss: 0.3623 - mae: 0.3623 - mse: 0.3151 - val_loss: 0.4260 - val_mae: 0.4260 - val_mse: 0.3553\n",
            "Epoch 209/600\n",
            "23/23 [==============================] - 0s 3ms/step - loss: 0.3527 - mae: 0.3527 - mse: 0.3015 - val_loss: 0.4219 - val_mae: 0.4219 - val_mse: 0.3433\n",
            "Epoch 210/600\n",
            "23/23 [==============================] - 0s 2ms/step - loss: 0.3577 - mae: 0.3577 - mse: 0.3039 - val_loss: 0.4349 - val_mae: 0.4349 - val_mse: 0.3785\n",
            "Epoch 211/600\n",
            "23/23 [==============================] - 0s 3ms/step - loss: 0.3593 - mae: 0.3593 - mse: 0.3078 - val_loss: 0.4210 - val_mae: 0.4210 - val_mse: 0.3407\n",
            "Epoch 212/600\n",
            "23/23 [==============================] - 0s 3ms/step - loss: 0.3538 - mae: 0.3538 - mse: 0.2980 - val_loss: 0.4492 - val_mae: 0.4492 - val_mse: 0.4151\n",
            "Epoch 213/600\n",
            "23/23 [==============================] - 0s 3ms/step - loss: 0.3539 - mae: 0.3539 - mse: 0.2937 - val_loss: 0.4324 - val_mae: 0.4324 - val_mse: 0.3724\n",
            "Epoch 214/600\n",
            "23/23 [==============================] - 0s 2ms/step - loss: 0.3530 - mae: 0.3530 - mse: 0.3029 - val_loss: 0.4377 - val_mae: 0.4377 - val_mse: 0.3851\n",
            "Epoch 215/600\n",
            "23/23 [==============================] - 0s 2ms/step - loss: 0.3495 - mae: 0.3495 - mse: 0.2876 - val_loss: 0.4176 - val_mae: 0.4176 - val_mse: 0.3290\n",
            "Epoch 216/600\n",
            "23/23 [==============================] - 0s 3ms/step - loss: 0.3512 - mae: 0.3512 - mse: 0.2943 - val_loss: 0.4478 - val_mae: 0.4478 - val_mse: 0.4113\n",
            "Epoch 217/600\n",
            "23/23 [==============================] - 0s 3ms/step - loss: 0.3559 - mae: 0.3559 - mse: 0.3051 - val_loss: 0.4258 - val_mae: 0.4258 - val_mse: 0.3546\n",
            "Epoch 218/600\n",
            "23/23 [==============================] - 0s 3ms/step - loss: 0.3541 - mae: 0.3541 - mse: 0.3026 - val_loss: 0.4235 - val_mae: 0.4235 - val_mse: 0.3476\n",
            "Epoch 219/600\n",
            "23/23 [==============================] - 0s 3ms/step - loss: 0.3563 - mae: 0.3563 - mse: 0.3067 - val_loss: 0.4381 - val_mae: 0.4381 - val_mse: 0.3864\n",
            "Epoch 220/600\n",
            "23/23 [==============================] - 0s 3ms/step - loss: 0.3571 - mae: 0.3571 - mse: 0.3028 - val_loss: 0.4591 - val_mae: 0.4591 - val_mse: 0.4417\n",
            "Epoch 221/600\n",
            "23/23 [==============================] - 0s 2ms/step - loss: 0.3567 - mae: 0.3567 - mse: 0.3041 - val_loss: 0.4518 - val_mae: 0.4518 - val_mse: 0.4222\n",
            "Epoch 222/600\n",
            "23/23 [==============================] - 0s 2ms/step - loss: 0.3549 - mae: 0.3549 - mse: 0.3046 - val_loss: 0.4480 - val_mae: 0.4480 - val_mse: 0.4122\n",
            "Epoch 223/600\n",
            "23/23 [==============================] - 0s 3ms/step - loss: 0.3516 - mae: 0.3516 - mse: 0.3035 - val_loss: 0.4239 - val_mae: 0.4239 - val_mse: 0.3482\n",
            "Epoch 224/600\n",
            "23/23 [==============================] - 0s 3ms/step - loss: 0.3559 - mae: 0.3559 - mse: 0.3007 - val_loss: 0.4347 - val_mae: 0.4347 - val_mse: 0.3781\n",
            "Epoch 225/600\n",
            "23/23 [==============================] - 0s 3ms/step - loss: 0.3528 - mae: 0.3528 - mse: 0.2962 - val_loss: 0.5667 - val_mae: 0.5667 - val_mse: 0.6034\n",
            "Epoch 226/600\n",
            "23/23 [==============================] - 0s 3ms/step - loss: 0.3629 - mae: 0.3629 - mse: 0.3154 - val_loss: 0.4205 - val_mae: 0.4205 - val_mse: 0.3384\n",
            "Epoch 227/600\n",
            "23/23 [==============================] - 0s 2ms/step - loss: 0.3538 - mae: 0.3538 - mse: 0.2982 - val_loss: 0.4274 - val_mae: 0.4274 - val_mse: 0.3585\n",
            "Epoch 228/600\n",
            "23/23 [==============================] - 0s 3ms/step - loss: 0.3546 - mae: 0.3546 - mse: 0.2987 - val_loss: 0.4201 - val_mae: 0.4201 - val_mse: 0.3367\n",
            "Epoch 229/600\n",
            "23/23 [==============================] - 0s 3ms/step - loss: 0.3518 - mae: 0.3518 - mse: 0.2915 - val_loss: 0.4456 - val_mae: 0.4456 - val_mse: 0.4063\n",
            "Epoch 230/600\n",
            "23/23 [==============================] - 0s 3ms/step - loss: 0.3572 - mae: 0.3572 - mse: 0.3116 - val_loss: 0.4257 - val_mae: 0.4257 - val_mse: 0.3531\n",
            "Epoch 231/600\n",
            "23/23 [==============================] - 0s 3ms/step - loss: 0.3544 - mae: 0.3544 - mse: 0.2976 - val_loss: 0.4521 - val_mae: 0.4521 - val_mse: 0.4235\n",
            "Epoch 232/600\n",
            "23/23 [==============================] - 0s 3ms/step - loss: 0.3538 - mae: 0.3538 - mse: 0.2969 - val_loss: 0.4392 - val_mae: 0.4392 - val_mse: 0.3895\n",
            "Epoch 233/600\n",
            "23/23 [==============================] - 0s 3ms/step - loss: 0.3530 - mae: 0.3530 - mse: 0.2992 - val_loss: 0.4199 - val_mae: 0.4199 - val_mse: 0.3358\n",
            "Epoch 234/600\n",
            "23/23 [==============================] - 0s 2ms/step - loss: 0.3540 - mae: 0.3540 - mse: 0.2942 - val_loss: 0.4273 - val_mae: 0.4273 - val_mse: 0.3584\n",
            "Epoch 235/600\n",
            "23/23 [==============================] - 0s 3ms/step - loss: 0.3548 - mae: 0.3548 - mse: 0.3059 - val_loss: 0.4109 - val_mae: 0.4109 - val_mse: 0.3108\n",
            "Epoch 236/600\n",
            "23/23 [==============================] - 0s 3ms/step - loss: 0.3596 - mae: 0.3596 - mse: 0.2980 - val_loss: 0.4296 - val_mae: 0.4296 - val_mse: 0.3656\n",
            "Epoch 237/600\n",
            "23/23 [==============================] - 0s 3ms/step - loss: 0.3546 - mae: 0.3546 - mse: 0.3012 - val_loss: 0.4414 - val_mae: 0.4414 - val_mse: 0.3949\n",
            "Epoch 238/600\n",
            "23/23 [==============================] - 0s 2ms/step - loss: 0.3559 - mae: 0.3559 - mse: 0.3005 - val_loss: 0.4382 - val_mae: 0.4382 - val_mse: 0.3867\n",
            "Epoch 239/600\n",
            "23/23 [==============================] - 0s 2ms/step - loss: 0.3580 - mae: 0.3580 - mse: 0.3013 - val_loss: 0.4133 - val_mae: 0.4133 - val_mse: 0.3178\n",
            "Epoch 240/600\n",
            "23/23 [==============================] - 0s 3ms/step - loss: 0.3564 - mae: 0.3564 - mse: 0.2972 - val_loss: 0.4419 - val_mae: 0.4419 - val_mse: 0.3962\n",
            "Epoch 241/600\n",
            "23/23 [==============================] - 0s 3ms/step - loss: 0.3533 - mae: 0.3533 - mse: 0.2983 - val_loss: 0.4148 - val_mae: 0.4148 - val_mse: 0.3210\n",
            "Epoch 242/600\n",
            "23/23 [==============================] - 0s 4ms/step - loss: 0.3549 - mae: 0.3549 - mse: 0.2918 - val_loss: 0.5670 - val_mae: 0.5670 - val_mse: 0.6039\n",
            "Epoch 243/600\n",
            "23/23 [==============================] - 0s 3ms/step - loss: 0.3574 - mae: 0.3574 - mse: 0.3073 - val_loss: 0.4320 - val_mae: 0.4320 - val_mse: 0.3719\n",
            "Epoch 244/600\n",
            "23/23 [==============================] - 0s 3ms/step - loss: 0.3561 - mae: 0.3561 - mse: 0.3035 - val_loss: 0.4151 - val_mae: 0.4151 - val_mse: 0.3216\n",
            "Epoch 245/600\n",
            "23/23 [==============================] - 0s 3ms/step - loss: 0.3549 - mae: 0.3549 - mse: 0.3009 - val_loss: 0.4276 - val_mae: 0.4276 - val_mse: 0.3594\n",
            "Epoch 246/600\n",
            "23/23 [==============================] - 0s 3ms/step - loss: 0.3555 - mae: 0.3555 - mse: 0.3004 - val_loss: 0.5806 - val_mae: 0.5806 - val_mse: 0.6268\n",
            "Epoch 247/600\n",
            "23/23 [==============================] - 0s 2ms/step - loss: 0.3626 - mae: 0.3626 - mse: 0.3215 - val_loss: 0.4137 - val_mae: 0.4137 - val_mse: 0.3183\n",
            "Epoch 248/600\n",
            "23/23 [==============================] - 0s 3ms/step - loss: 0.3621 - mae: 0.3621 - mse: 0.3058 - val_loss: 0.4434 - val_mae: 0.4434 - val_mse: 0.4001\n",
            "Epoch 249/600\n",
            "23/23 [==============================] - 0s 3ms/step - loss: 0.3518 - mae: 0.3518 - mse: 0.2973 - val_loss: 0.4537 - val_mae: 0.4537 - val_mse: 0.4275\n",
            "Epoch 250/600\n",
            "23/23 [==============================] - 0s 3ms/step - loss: 0.3584 - mae: 0.3584 - mse: 0.3090 - val_loss: 0.4200 - val_mae: 0.4200 - val_mse: 0.3364\n",
            "Epoch 251/600\n",
            "23/23 [==============================] - 0s 3ms/step - loss: 0.3556 - mae: 0.3556 - mse: 0.3020 - val_loss: 0.4238 - val_mae: 0.4238 - val_mse: 0.3478\n",
            "Epoch 252/600\n",
            "23/23 [==============================] - 0s 2ms/step - loss: 0.3552 - mae: 0.3552 - mse: 0.2989 - val_loss: 0.4146 - val_mae: 0.4146 - val_mse: 0.3202\n",
            "Epoch 253/600\n",
            "23/23 [==============================] - 0s 3ms/step - loss: 0.3586 - mae: 0.3586 - mse: 0.2984 - val_loss: 0.4301 - val_mae: 0.4301 - val_mse: 0.3669\n",
            "Epoch 254/600\n",
            "23/23 [==============================] - 0s 3ms/step - loss: 0.3557 - mae: 0.3557 - mse: 0.3029 - val_loss: 0.4717 - val_mae: 0.4717 - val_mse: 0.4662\n",
            "Epoch 255/600\n",
            "23/23 [==============================] - 0s 3ms/step - loss: 0.3557 - mae: 0.3557 - mse: 0.3048 - val_loss: 0.4286 - val_mae: 0.4286 - val_mse: 0.3623\n",
            "Epoch 256/600\n",
            "23/23 [==============================] - 0s 3ms/step - loss: 0.3568 - mae: 0.3568 - mse: 0.3091 - val_loss: 0.4417 - val_mae: 0.4417 - val_mse: 0.3959\n",
            "Epoch 257/600\n",
            "23/23 [==============================] - 0s 3ms/step - loss: 0.3520 - mae: 0.3520 - mse: 0.2875 - val_loss: 0.4199 - val_mae: 0.4199 - val_mse: 0.3358\n",
            "Epoch 258/600\n",
            "23/23 [==============================] - 0s 2ms/step - loss: 0.3534 - mae: 0.3534 - mse: 0.2971 - val_loss: 0.4433 - val_mae: 0.4433 - val_mse: 0.4001\n",
            "Epoch 259/600\n",
            "23/23 [==============================] - 0s 3ms/step - loss: 0.3547 - mae: 0.3547 - mse: 0.3075 - val_loss: 0.4568 - val_mae: 0.4568 - val_mse: 0.4364\n",
            "Epoch 260/600\n",
            "23/23 [==============================] - 0s 3ms/step - loss: 0.3571 - mae: 0.3571 - mse: 0.3078 - val_loss: 0.4123 - val_mae: 0.4123 - val_mse: 0.3148\n",
            "Epoch 261/600\n",
            "23/23 [==============================] - 0s 3ms/step - loss: 0.3568 - mae: 0.3568 - mse: 0.2989 - val_loss: 0.4335 - val_mae: 0.4335 - val_mse: 0.3755\n",
            "Epoch 262/600\n",
            "23/23 [==============================] - 0s 3ms/step - loss: 0.3526 - mae: 0.3526 - mse: 0.3005 - val_loss: 0.4149 - val_mae: 0.4149 - val_mse: 0.3208\n",
            "Epoch 263/600\n",
            "23/23 [==============================] - 0s 3ms/step - loss: 0.3588 - mae: 0.3588 - mse: 0.3147 - val_loss: 0.4134 - val_mae: 0.4134 - val_mse: 0.3174\n",
            "Epoch 264/600\n",
            "23/23 [==============================] - 0s 3ms/step - loss: 0.3550 - mae: 0.3550 - mse: 0.2919 - val_loss: 0.4366 - val_mae: 0.4366 - val_mse: 0.3830\n",
            "Epoch 265/600\n",
            "23/23 [==============================] - 0s 3ms/step - loss: 0.3559 - mae: 0.3559 - mse: 0.3035 - val_loss: 0.4209 - val_mae: 0.4209 - val_mse: 0.3394\n",
            "Epoch 266/600\n",
            "23/23 [==============================] - 0s 3ms/step - loss: 0.3574 - mae: 0.3574 - mse: 0.3042 - val_loss: 0.4186 - val_mae: 0.4186 - val_mse: 0.3311\n",
            "Epoch 267/600\n",
            "23/23 [==============================] - 0s 3ms/step - loss: 0.3524 - mae: 0.3524 - mse: 0.2920 - val_loss: 0.4307 - val_mae: 0.4307 - val_mse: 0.3686\n",
            "Epoch 268/600\n",
            "23/23 [==============================] - 0s 3ms/step - loss: 0.3534 - mae: 0.3534 - mse: 0.3008 - val_loss: 0.4124 - val_mae: 0.4124 - val_mse: 0.3152\n",
            "Epoch 269/600\n",
            "23/23 [==============================] - 0s 3ms/step - loss: 0.3541 - mae: 0.3541 - mse: 0.2938 - val_loss: 0.4459 - val_mae: 0.4459 - val_mse: 0.4073\n",
            "Epoch 270/600\n",
            "23/23 [==============================] - 0s 3ms/step - loss: 0.3538 - mae: 0.3538 - mse: 0.3047 - val_loss: 0.4250 - val_mae: 0.4250 - val_mse: 0.3508\n",
            "Epoch 271/600\n",
            "23/23 [==============================] - 0s 3ms/step - loss: 0.3537 - mae: 0.3537 - mse: 0.2988 - val_loss: 0.4198 - val_mae: 0.4198 - val_mse: 0.3353\n",
            "Epoch 272/600\n",
            "23/23 [==============================] - 0s 3ms/step - loss: 0.3582 - mae: 0.3582 - mse: 0.3015 - val_loss: 0.4376 - val_mae: 0.4376 - val_mse: 0.3855\n",
            "Epoch 273/600\n",
            "23/23 [==============================] - 0s 2ms/step - loss: 0.3533 - mae: 0.3533 - mse: 0.3024 - val_loss: 0.4178 - val_mae: 0.4178 - val_mse: 0.3287\n",
            "Epoch 274/600\n",
            "23/23 [==============================] - 0s 2ms/step - loss: 0.3527 - mae: 0.3527 - mse: 0.2931 - val_loss: 0.4219 - val_mae: 0.4219 - val_mse: 0.3422\n",
            "Epoch 275/600\n",
            "23/23 [==============================] - 0s 2ms/step - loss: 0.3589 - mae: 0.3589 - mse: 0.3087 - val_loss: 0.4210 - val_mae: 0.4210 - val_mse: 0.3398\n",
            "Epoch 276/600\n",
            "23/23 [==============================] - 0s 3ms/step - loss: 0.3539 - mae: 0.3539 - mse: 0.3014 - val_loss: 0.4275 - val_mae: 0.4275 - val_mse: 0.3588\n",
            "Epoch 277/600\n",
            "23/23 [==============================] - 0s 4ms/step - loss: 0.3548 - mae: 0.3548 - mse: 0.2988 - val_loss: 0.4185 - val_mae: 0.4185 - val_mse: 0.3311\n",
            "Epoch 278/600\n",
            "23/23 [==============================] - 0s 2ms/step - loss: 0.3591 - mae: 0.3591 - mse: 0.3038 - val_loss: 0.4112 - val_mae: 0.4112 - val_mse: 0.3128\n",
            "Epoch 279/600\n",
            "23/23 [==============================] - 0s 2ms/step - loss: 0.3552 - mae: 0.3552 - mse: 0.2936 - val_loss: 0.4676 - val_mae: 0.4676 - val_mse: 0.4590\n",
            "Epoch 280/600\n",
            "23/23 [==============================] - 0s 3ms/step - loss: 0.3517 - mae: 0.3517 - mse: 0.3024 - val_loss: 0.4185 - val_mae: 0.4185 - val_mse: 0.3309\n",
            "Epoch 281/600\n",
            "23/23 [==============================] - 0s 3ms/step - loss: 0.3538 - mae: 0.3538 - mse: 0.2991 - val_loss: 0.4373 - val_mae: 0.4373 - val_mse: 0.3847\n",
            "Epoch 282/600\n",
            "23/23 [==============================] - 0s 3ms/step - loss: 0.3544 - mae: 0.3544 - mse: 0.3007 - val_loss: 0.4315 - val_mae: 0.4315 - val_mse: 0.3706\n",
            "Epoch 283/600\n",
            "23/23 [==============================] - 0s 3ms/step - loss: 0.3544 - mae: 0.3544 - mse: 0.2988 - val_loss: 0.4152 - val_mae: 0.4152 - val_mse: 0.3216\n",
            "Epoch 284/600\n",
            "23/23 [==============================] - 0s 3ms/step - loss: 0.3570 - mae: 0.3570 - mse: 0.3006 - val_loss: 0.4248 - val_mae: 0.4248 - val_mse: 0.3507\n",
            "Epoch 285/600\n",
            "23/23 [==============================] - 0s 2ms/step - loss: 0.3569 - mae: 0.3569 - mse: 0.3053 - val_loss: 0.4374 - val_mae: 0.4374 - val_mse: 0.3849\n",
            "Epoch 286/600\n",
            "23/23 [==============================] - 0s 3ms/step - loss: 0.3550 - mae: 0.3550 - mse: 0.3044 - val_loss: 0.4129 - val_mae: 0.4129 - val_mse: 0.3126\n",
            "Epoch 287/600\n",
            "23/23 [==============================] - 0s 3ms/step - loss: 0.3654 - mae: 0.3654 - mse: 0.3075 - val_loss: 0.4425 - val_mae: 0.4425 - val_mse: 0.3979\n",
            "Epoch 288/600\n",
            "23/23 [==============================] - 0s 2ms/step - loss: 0.3554 - mae: 0.3554 - mse: 0.3065 - val_loss: 0.4201 - val_mae: 0.4201 - val_mse: 0.3367\n",
            "Epoch 289/600\n",
            "23/23 [==============================] - 0s 3ms/step - loss: 0.3530 - mae: 0.3530 - mse: 0.2942 - val_loss: 0.4382 - val_mae: 0.4382 - val_mse: 0.3869\n",
            "Epoch 290/600\n",
            "23/23 [==============================] - 0s 3ms/step - loss: 0.3549 - mae: 0.3549 - mse: 0.3020 - val_loss: 0.4163 - val_mae: 0.4163 - val_mse: 0.3244\n",
            "Epoch 291/600\n",
            "23/23 [==============================] - 0s 3ms/step - loss: 0.3544 - mae: 0.3544 - mse: 0.2996 - val_loss: 0.4204 - val_mae: 0.4204 - val_mse: 0.3379\n",
            "Epoch 292/600\n",
            "23/23 [==============================] - 0s 3ms/step - loss: 0.3518 - mae: 0.3518 - mse: 0.3001 - val_loss: 0.4166 - val_mae: 0.4166 - val_mse: 0.3254\n",
            "Epoch 293/600\n",
            "23/23 [==============================] - 0s 4ms/step - loss: 0.3545 - mae: 0.3545 - mse: 0.2981 - val_loss: 0.4327 - val_mae: 0.4327 - val_mse: 0.3734\n",
            "Epoch 294/600\n",
            "23/23 [==============================] - 0s 3ms/step - loss: 0.3590 - mae: 0.3590 - mse: 0.3089 - val_loss: 0.4107 - val_mae: 0.4107 - val_mse: 0.3112\n",
            "Epoch 295/600\n",
            "23/23 [==============================] - 0s 3ms/step - loss: 0.3570 - mae: 0.3570 - mse: 0.3045 - val_loss: 0.4161 - val_mae: 0.4161 - val_mse: 0.3238\n",
            "Epoch 296/600\n",
            "23/23 [==============================] - 0s 2ms/step - loss: 0.3547 - mae: 0.3547 - mse: 0.3047 - val_loss: 0.4214 - val_mae: 0.4214 - val_mse: 0.3411\n",
            "Epoch 297/600\n",
            "23/23 [==============================] - 0s 3ms/step - loss: 0.3581 - mae: 0.3581 - mse: 0.3094 - val_loss: 0.4200 - val_mae: 0.4200 - val_mse: 0.3364\n",
            "Epoch 298/600\n",
            "23/23 [==============================] - 0s 3ms/step - loss: 0.3532 - mae: 0.3532 - mse: 0.2973 - val_loss: 0.4107 - val_mae: 0.4107 - val_mse: 0.3113\n",
            "Epoch 299/600\n",
            "23/23 [==============================] - 0s 3ms/step - loss: 0.3591 - mae: 0.3591 - mse: 0.2931 - val_loss: 0.4359 - val_mae: 0.4359 - val_mse: 0.3809\n",
            "Epoch 300/600\n",
            "23/23 [==============================] - 0s 3ms/step - loss: 0.3530 - mae: 0.3530 - mse: 0.2901 - val_loss: 0.4130 - val_mae: 0.4130 - val_mse: 0.3176\n",
            "Epoch 301/600\n",
            "23/23 [==============================] - 0s 3ms/step - loss: 0.3589 - mae: 0.3589 - mse: 0.3089 - val_loss: 0.4144 - val_mae: 0.4144 - val_mse: 0.3205\n",
            "Epoch 302/600\n",
            "23/23 [==============================] - 0s 3ms/step - loss: 0.3554 - mae: 0.3554 - mse: 0.2985 - val_loss: 0.4425 - val_mae: 0.4425 - val_mse: 0.3973\n",
            "Epoch 303/600\n",
            "23/23 [==============================] - 0s 2ms/step - loss: 0.3568 - mae: 0.3568 - mse: 0.3079 - val_loss: 0.4454 - val_mae: 0.4454 - val_mse: 0.4052\n",
            "Epoch 304/600\n",
            "23/23 [==============================] - 0s 2ms/step - loss: 0.3524 - mae: 0.3524 - mse: 0.2959 - val_loss: 0.4158 - val_mae: 0.4158 - val_mse: 0.3238\n",
            "Epoch 305/600\n",
            "23/23 [==============================] - 0s 2ms/step - loss: 0.3599 - mae: 0.3599 - mse: 0.3067 - val_loss: 0.4145 - val_mae: 0.4145 - val_mse: 0.3146\n",
            "Epoch 306/600\n",
            "23/23 [==============================] - 0s 3ms/step - loss: 0.3615 - mae: 0.3615 - mse: 0.3082 - val_loss: 0.4128 - val_mae: 0.4128 - val_mse: 0.3173\n",
            "Epoch 307/600\n",
            "23/23 [==============================] - 0s 3ms/step - loss: 0.3537 - mae: 0.3537 - mse: 0.2921 - val_loss: 0.4306 - val_mae: 0.4306 - val_mse: 0.3683\n",
            "Epoch 308/600\n",
            "23/23 [==============================] - 0s 2ms/step - loss: 0.3567 - mae: 0.3567 - mse: 0.2997 - val_loss: 0.4176 - val_mae: 0.4176 - val_mse: 0.3293\n",
            "Epoch 309/600\n",
            "23/23 [==============================] - 0s 3ms/step - loss: 0.3551 - mae: 0.3551 - mse: 0.2978 - val_loss: 0.4318 - val_mae: 0.4318 - val_mse: 0.3711\n",
            "Epoch 310/600\n",
            "23/23 [==============================] - 0s 3ms/step - loss: 0.3549 - mae: 0.3549 - mse: 0.3044 - val_loss: 0.5518 - val_mae: 0.5518 - val_mse: 0.5788\n",
            "Epoch 311/600\n",
            "23/23 [==============================] - 0s 3ms/step - loss: 0.3620 - mae: 0.3620 - mse: 0.3098 - val_loss: 0.4207 - val_mae: 0.4207 - val_mse: 0.3404\n",
            "Epoch 312/600\n",
            "23/23 [==============================] - 0s 2ms/step - loss: 0.3529 - mae: 0.3529 - mse: 0.2972 - val_loss: 0.4408 - val_mae: 0.4408 - val_mse: 0.3929\n",
            "Epoch 313/600\n",
            "23/23 [==============================] - 0s 3ms/step - loss: 0.3608 - mae: 0.3608 - mse: 0.3140 - val_loss: 0.4174 - val_mae: 0.4174 - val_mse: 0.3288\n",
            "Epoch 314/600\n",
            "23/23 [==============================] - 0s 3ms/step - loss: 0.3593 - mae: 0.3593 - mse: 0.3042 - val_loss: 0.4258 - val_mae: 0.4258 - val_mse: 0.3550\n",
            "Epoch 315/600\n",
            "23/23 [==============================] - 0s 3ms/step - loss: 0.3544 - mae: 0.3544 - mse: 0.3005 - val_loss: 0.4204 - val_mae: 0.4204 - val_mse: 0.3394\n",
            "Epoch 316/600\n",
            "23/23 [==============================] - 0s 2ms/step - loss: 0.3538 - mae: 0.3538 - mse: 0.2980 - val_loss: 0.4109 - val_mae: 0.4109 - val_mse: 0.3136\n",
            "Epoch 317/600\n",
            "23/23 [==============================] - 0s 3ms/step - loss: 0.3509 - mae: 0.3509 - mse: 0.2887 - val_loss: 0.4183 - val_mae: 0.4183 - val_mse: 0.3323\n",
            "Epoch 318/600\n",
            "23/23 [==============================] - 0s 3ms/step - loss: 0.3577 - mae: 0.3577 - mse: 0.2966 - val_loss: 0.4872 - val_mae: 0.4872 - val_mse: 0.4862\n",
            "Epoch 319/600\n",
            "23/23 [==============================] - 0s 3ms/step - loss: 0.3578 - mae: 0.3578 - mse: 0.3056 - val_loss: 0.4179 - val_mae: 0.4179 - val_mse: 0.3309\n",
            "Epoch 320/600\n",
            "23/23 [==============================] - 0s 3ms/step - loss: 0.3573 - mae: 0.3573 - mse: 0.3003 - val_loss: 0.4235 - val_mae: 0.4235 - val_mse: 0.3487\n",
            "Epoch 321/600\n",
            "23/23 [==============================] - 0s 3ms/step - loss: 0.3547 - mae: 0.3547 - mse: 0.3024 - val_loss: 0.4560 - val_mae: 0.4560 - val_mse: 0.4324\n",
            "Epoch 322/600\n",
            "23/23 [==============================] - 0s 2ms/step - loss: 0.3576 - mae: 0.3576 - mse: 0.3038 - val_loss: 0.4326 - val_mae: 0.4326 - val_mse: 0.3727\n",
            "Epoch 323/600\n",
            "23/23 [==============================] - 0s 3ms/step - loss: 0.3529 - mae: 0.3529 - mse: 0.2989 - val_loss: 0.4236 - val_mae: 0.4236 - val_mse: 0.3486\n",
            "Epoch 324/600\n",
            "23/23 [==============================] - 0s 3ms/step - loss: 0.3556 - mae: 0.3556 - mse: 0.3052 - val_loss: 0.4258 - val_mae: 0.4258 - val_mse: 0.3549\n",
            "Epoch 325/600\n",
            "23/23 [==============================] - 0s 3ms/step - loss: 0.3549 - mae: 0.3549 - mse: 0.3033 - val_loss: 0.4215 - val_mae: 0.4215 - val_mse: 0.3426\n",
            "Epoch 326/600\n",
            "23/23 [==============================] - 0s 3ms/step - loss: 0.3568 - mae: 0.3568 - mse: 0.3034 - val_loss: 0.4230 - val_mae: 0.4230 - val_mse: 0.3466\n",
            "Epoch 327/600\n",
            "23/23 [==============================] - 0s 3ms/step - loss: 0.3569 - mae: 0.3569 - mse: 0.3082 - val_loss: 0.4406 - val_mae: 0.4406 - val_mse: 0.3924\n",
            "Epoch 328/600\n",
            "23/23 [==============================] - 0s 3ms/step - loss: 0.3518 - mae: 0.3518 - mse: 0.3001 - val_loss: 0.4435 - val_mae: 0.4435 - val_mse: 0.4000\n",
            "Epoch 329/600\n",
            "23/23 [==============================] - 0s 2ms/step - loss: 0.3586 - mae: 0.3586 - mse: 0.3110 - val_loss: 0.4397 - val_mae: 0.4397 - val_mse: 0.3903\n",
            "Epoch 330/600\n",
            "23/23 [==============================] - 0s 3ms/step - loss: 0.3603 - mae: 0.3603 - mse: 0.3079 - val_loss: 0.4222 - val_mae: 0.4222 - val_mse: 0.3441\n",
            "Epoch 331/600\n",
            "23/23 [==============================] - 0s 2ms/step - loss: 0.3544 - mae: 0.3544 - mse: 0.2995 - val_loss: 0.4147 - val_mae: 0.4147 - val_mse: 0.3211\n",
            "Epoch 332/600\n",
            "23/23 [==============================] - 0s 3ms/step - loss: 0.3561 - mae: 0.3561 - mse: 0.3075 - val_loss: 0.4212 - val_mae: 0.4212 - val_mse: 0.3414\n",
            "Epoch 333/600\n",
            "23/23 [==============================] - 0s 3ms/step - loss: 0.3540 - mae: 0.3540 - mse: 0.3042 - val_loss: 0.4275 - val_mae: 0.4275 - val_mse: 0.3594\n",
            "Epoch 334/600\n",
            "23/23 [==============================] - 0s 2ms/step - loss: 0.3558 - mae: 0.3558 - mse: 0.3047 - val_loss: 0.4151 - val_mae: 0.4151 - val_mse: 0.3218\n",
            "Epoch 335/600\n",
            "23/23 [==============================] - 0s 3ms/step - loss: 0.3551 - mae: 0.3551 - mse: 0.2996 - val_loss: 0.4181 - val_mae: 0.4181 - val_mse: 0.3304\n",
            "Epoch 336/600\n",
            "23/23 [==============================] - 0s 3ms/step - loss: 0.3561 - mae: 0.3561 - mse: 0.2953 - val_loss: 0.4506 - val_mae: 0.4506 - val_mse: 0.4189\n",
            "Epoch 337/600\n",
            "23/23 [==============================] - 0s 3ms/step - loss: 0.3563 - mae: 0.3563 - mse: 0.3062 - val_loss: 0.4130 - val_mae: 0.4130 - val_mse: 0.3173\n",
            "Epoch 338/600\n",
            "23/23 [==============================] - 0s 3ms/step - loss: 0.3573 - mae: 0.3573 - mse: 0.3036 - val_loss: 0.4343 - val_mae: 0.4343 - val_mse: 0.3771\n",
            "Epoch 339/600\n",
            "23/23 [==============================] - 0s 3ms/step - loss: 0.3550 - mae: 0.3550 - mse: 0.3044 - val_loss: 0.4270 - val_mae: 0.4270 - val_mse: 0.3581\n",
            "Epoch 340/600\n",
            "23/23 [==============================] - 0s 3ms/step - loss: 0.3537 - mae: 0.3537 - mse: 0.2957 - val_loss: 0.4137 - val_mae: 0.4137 - val_mse: 0.3188\n",
            "Epoch 341/600\n",
            "23/23 [==============================] - 0s 3ms/step - loss: 0.3590 - mae: 0.3590 - mse: 0.3040 - val_loss: 0.4257 - val_mae: 0.4257 - val_mse: 0.3542\n",
            "Epoch 342/600\n",
            "23/23 [==============================] - 0s 3ms/step - loss: 0.3570 - mae: 0.3570 - mse: 0.3069 - val_loss: 0.4290 - val_mae: 0.4290 - val_mse: 0.3642\n",
            "Epoch 343/600\n",
            "23/23 [==============================] - 0s 3ms/step - loss: 0.3604 - mae: 0.3604 - mse: 0.3160 - val_loss: 0.4815 - val_mae: 0.4815 - val_mse: 0.4794\n",
            "Epoch 344/600\n",
            "23/23 [==============================] - 0s 2ms/step - loss: 0.3562 - mae: 0.3562 - mse: 0.3053 - val_loss: 0.4311 - val_mae: 0.4311 - val_mse: 0.3696\n",
            "Epoch 345/600\n",
            "23/23 [==============================] - 0s 3ms/step - loss: 0.3567 - mae: 0.3567 - mse: 0.2976 - val_loss: 0.4289 - val_mae: 0.4289 - val_mse: 0.3636\n",
            "Epoch 346/600\n",
            "23/23 [==============================] - 0s 3ms/step - loss: 0.3527 - mae: 0.3527 - mse: 0.2935 - val_loss: 0.4505 - val_mae: 0.4505 - val_mse: 0.4185\n",
            "Epoch 347/600\n",
            "23/23 [==============================] - 0s 3ms/step - loss: 0.3587 - mae: 0.3587 - mse: 0.3087 - val_loss: 0.4246 - val_mae: 0.4246 - val_mse: 0.3506\n",
            "Epoch 348/600\n",
            "23/23 [==============================] - 0s 3ms/step - loss: 0.3524 - mae: 0.3524 - mse: 0.2981 - val_loss: 0.4433 - val_mae: 0.4433 - val_mse: 0.3998\n",
            "Epoch 349/600\n",
            "23/23 [==============================] - 0s 3ms/step - loss: 0.3548 - mae: 0.3548 - mse: 0.3043 - val_loss: 0.4193 - val_mae: 0.4193 - val_mse: 0.3340\n",
            "Epoch 350/600\n",
            "23/23 [==============================] - 0s 2ms/step - loss: 0.3546 - mae: 0.3546 - mse: 0.2966 - val_loss: 0.4253 - val_mae: 0.4253 - val_mse: 0.3527\n",
            "Epoch 351/600\n",
            "23/23 [==============================] - 0s 3ms/step - loss: 0.3508 - mae: 0.3508 - mse: 0.2995 - val_loss: 0.4129 - val_mae: 0.4129 - val_mse: 0.3169\n",
            "Epoch 352/600\n",
            "23/23 [==============================] - 0s 3ms/step - loss: 0.3573 - mae: 0.3573 - mse: 0.2976 - val_loss: 0.4382 - val_mae: 0.4382 - val_mse: 0.3866\n",
            "Epoch 353/600\n",
            "23/23 [==============================] - 0s 3ms/step - loss: 0.3523 - mae: 0.3523 - mse: 0.2993 - val_loss: 0.4165 - val_mae: 0.4165 - val_mse: 0.3253\n",
            "Epoch 354/600\n",
            "23/23 [==============================] - 0s 3ms/step - loss: 0.3535 - mae: 0.3535 - mse: 0.2948 - val_loss: 0.4349 - val_mae: 0.4349 - val_mse: 0.3785\n",
            "Epoch 355/600\n",
            "23/23 [==============================] - 0s 2ms/step - loss: 0.3563 - mae: 0.3563 - mse: 0.3072 - val_loss: 0.4155 - val_mae: 0.4155 - val_mse: 0.3227\n",
            "Epoch 356/600\n",
            "23/23 [==============================] - 0s 3ms/step - loss: 0.3572 - mae: 0.3572 - mse: 0.3025 - val_loss: 0.4349 - val_mae: 0.4349 - val_mse: 0.3787\n",
            "Epoch 357/600\n",
            "23/23 [==============================] - 0s 3ms/step - loss: 0.3539 - mae: 0.3539 - mse: 0.3008 - val_loss: 0.4129 - val_mae: 0.4129 - val_mse: 0.3168\n",
            "Epoch 358/600\n",
            "23/23 [==============================] - 0s 2ms/step - loss: 0.3563 - mae: 0.3563 - mse: 0.2950 - val_loss: 0.4799 - val_mae: 0.4799 - val_mse: 0.4775\n",
            "Epoch 359/600\n",
            "23/23 [==============================] - 0s 3ms/step - loss: 0.3578 - mae: 0.3578 - mse: 0.3096 - val_loss: 0.4269 - val_mae: 0.4269 - val_mse: 0.3571\n",
            "Epoch 360/600\n",
            "23/23 [==============================] - 0s 3ms/step - loss: 0.3573 - mae: 0.3573 - mse: 0.3053 - val_loss: 0.4232 - val_mae: 0.4232 - val_mse: 0.3460\n",
            "Epoch 361/600\n",
            "23/23 [==============================] - 0s 3ms/step - loss: 0.3551 - mae: 0.3551 - mse: 0.3005 - val_loss: 0.4216 - val_mae: 0.4216 - val_mse: 0.3419\n",
            "Epoch 362/600\n",
            "23/23 [==============================] - 0s 2ms/step - loss: 0.3554 - mae: 0.3554 - mse: 0.3010 - val_loss: 0.4113 - val_mae: 0.4113 - val_mse: 0.3113\n",
            "Epoch 363/600\n",
            "23/23 [==============================] - 0s 3ms/step - loss: 0.3647 - mae: 0.3647 - mse: 0.3175 - val_loss: 0.4107 - val_mae: 0.4107 - val_mse: 0.3123\n",
            "Epoch 364/600\n",
            "23/23 [==============================] - 0s 3ms/step - loss: 0.3582 - mae: 0.3582 - mse: 0.2991 - val_loss: 0.4259 - val_mae: 0.4259 - val_mse: 0.3546\n",
            "Epoch 365/600\n",
            "23/23 [==============================] - 0s 3ms/step - loss: 0.3518 - mae: 0.3518 - mse: 0.2930 - val_loss: 0.4110 - val_mae: 0.4110 - val_mse: 0.3131\n",
            "Epoch 366/600\n",
            "23/23 [==============================] - 0s 3ms/step - loss: 0.3557 - mae: 0.3557 - mse: 0.3026 - val_loss: 0.5198 - val_mae: 0.5198 - val_mse: 0.5308\n",
            "Epoch 367/600\n",
            "23/23 [==============================] - 0s 3ms/step - loss: 0.3597 - mae: 0.3597 - mse: 0.3070 - val_loss: 0.4454 - val_mae: 0.4454 - val_mse: 0.4052\n",
            "Epoch 368/600\n",
            "23/23 [==============================] - 0s 4ms/step - loss: 0.3584 - mae: 0.3584 - mse: 0.3039 - val_loss: 0.4161 - val_mae: 0.4161 - val_mse: 0.3245\n",
            "Epoch 369/600\n",
            "23/23 [==============================] - 0s 3ms/step - loss: 0.3531 - mae: 0.3531 - mse: 0.2933 - val_loss: 0.4180 - val_mae: 0.4180 - val_mse: 0.3305\n",
            "Epoch 370/600\n",
            "23/23 [==============================] - 0s 3ms/step - loss: 0.3564 - mae: 0.3564 - mse: 0.3030 - val_loss: 0.4603 - val_mae: 0.4603 - val_mse: 0.4441\n",
            "Epoch 371/600\n",
            "23/23 [==============================] - 0s 3ms/step - loss: 0.3596 - mae: 0.3596 - mse: 0.3129 - val_loss: 0.4368 - val_mae: 0.4368 - val_mse: 0.3830\n",
            "Epoch 372/600\n",
            "23/23 [==============================] - 0s 3ms/step - loss: 0.3532 - mae: 0.3532 - mse: 0.3014 - val_loss: 0.4304 - val_mae: 0.4304 - val_mse: 0.3678\n",
            "Epoch 373/600\n",
            "23/23 [==============================] - 0s 3ms/step - loss: 0.3549 - mae: 0.3549 - mse: 0.3015 - val_loss: 0.4141 - val_mae: 0.4141 - val_mse: 0.3197\n",
            "Epoch 374/600\n",
            "23/23 [==============================] - 0s 2ms/step - loss: 0.3539 - mae: 0.3539 - mse: 0.2976 - val_loss: 0.4112 - val_mae: 0.4112 - val_mse: 0.3135\n",
            "Epoch 375/600\n",
            "23/23 [==============================] - 0s 3ms/step - loss: 0.3577 - mae: 0.3577 - mse: 0.3076 - val_loss: 0.4263 - val_mae: 0.4263 - val_mse: 0.3560\n",
            "Epoch 376/600\n",
            "23/23 [==============================] - 0s 2ms/step - loss: 0.3568 - mae: 0.3568 - mse: 0.3051 - val_loss: 0.4595 - val_mae: 0.4595 - val_mse: 0.4426\n",
            "Epoch 377/600\n",
            "23/23 [==============================] - 0s 2ms/step - loss: 0.3547 - mae: 0.3547 - mse: 0.3039 - val_loss: 0.4411 - val_mae: 0.4411 - val_mse: 0.3940\n",
            "Epoch 378/600\n",
            "23/23 [==============================] - 0s 3ms/step - loss: 0.3577 - mae: 0.3577 - mse: 0.3072 - val_loss: 0.4268 - val_mae: 0.4268 - val_mse: 0.3570\n",
            "Epoch 379/600\n",
            "23/23 [==============================] - 0s 3ms/step - loss: 0.3545 - mae: 0.3545 - mse: 0.3002 - val_loss: 0.4384 - val_mae: 0.4384 - val_mse: 0.3872\n",
            "Epoch 380/600\n",
            "23/23 [==============================] - 0s 3ms/step - loss: 0.3572 - mae: 0.3572 - mse: 0.3067 - val_loss: 0.4725 - val_mae: 0.4725 - val_mse: 0.4672\n",
            "Epoch 381/600\n",
            "23/23 [==============================] - 0s 3ms/step - loss: 0.3558 - mae: 0.3558 - mse: 0.2961 - val_loss: 0.4324 - val_mae: 0.4324 - val_mse: 0.3725\n",
            "Epoch 382/600\n",
            "23/23 [==============================] - 0s 3ms/step - loss: 0.3543 - mae: 0.3543 - mse: 0.3040 - val_loss: 0.4173 - val_mae: 0.4173 - val_mse: 0.3278\n",
            "Epoch 383/600\n",
            "23/23 [==============================] - 0s 3ms/step - loss: 0.3548 - mae: 0.3548 - mse: 0.2958 - val_loss: 0.4268 - val_mae: 0.4268 - val_mse: 0.3576\n",
            "Epoch 384/600\n",
            "23/23 [==============================] - 0s 3ms/step - loss: 0.3547 - mae: 0.3547 - mse: 0.3012 - val_loss: 0.4283 - val_mae: 0.4283 - val_mse: 0.3620\n",
            "Epoch 385/600\n",
            "23/23 [==============================] - 0s 3ms/step - loss: 0.3561 - mae: 0.3561 - mse: 0.2947 - val_loss: 0.5380 - val_mae: 0.5380 - val_mse: 0.5575\n",
            "Epoch 386/600\n",
            "23/23 [==============================] - 0s 3ms/step - loss: 0.3572 - mae: 0.3572 - mse: 0.2980 - val_loss: 0.4219 - val_mae: 0.4219 - val_mse: 0.3435\n",
            "Epoch 387/600\n",
            "23/23 [==============================] - 0s 3ms/step - loss: 0.3542 - mae: 0.3542 - mse: 0.3020 - val_loss: 0.4277 - val_mae: 0.4277 - val_mse: 0.3605\n",
            "Epoch 388/600\n",
            "23/23 [==============================] - 0s 3ms/step - loss: 0.3536 - mae: 0.3536 - mse: 0.2991 - val_loss: 0.4315 - val_mae: 0.4315 - val_mse: 0.3705\n",
            "Epoch 389/600\n",
            "23/23 [==============================] - 0s 3ms/step - loss: 0.3560 - mae: 0.3560 - mse: 0.3035 - val_loss: 0.4123 - val_mae: 0.4123 - val_mse: 0.3160\n",
            "Epoch 390/600\n",
            "23/23 [==============================] - 0s 3ms/step - loss: 0.3554 - mae: 0.3554 - mse: 0.2996 - val_loss: 0.4459 - val_mae: 0.4459 - val_mse: 0.4066\n",
            "Epoch 391/600\n",
            "23/23 [==============================] - 0s 3ms/step - loss: 0.3546 - mae: 0.3546 - mse: 0.3002 - val_loss: 0.4195 - val_mae: 0.4195 - val_mse: 0.3355\n",
            "Epoch 392/600\n",
            "23/23 [==============================] - 0s 3ms/step - loss: 0.3583 - mae: 0.3583 - mse: 0.3049 - val_loss: 0.4220 - val_mae: 0.4220 - val_mse: 0.3436\n",
            "Epoch 393/600\n",
            "23/23 [==============================] - 0s 3ms/step - loss: 0.3577 - mae: 0.3577 - mse: 0.3027 - val_loss: 0.4109 - val_mae: 0.4109 - val_mse: 0.3114\n",
            "Epoch 394/600\n",
            "23/23 [==============================] - 0s 3ms/step - loss: 0.3616 - mae: 0.3616 - mse: 0.3049 - val_loss: 0.4236 - val_mae: 0.4236 - val_mse: 0.3484\n",
            "Epoch 395/600\n",
            "23/23 [==============================] - 0s 2ms/step - loss: 0.3521 - mae: 0.3521 - mse: 0.2942 - val_loss: 0.4193 - val_mae: 0.4193 - val_mse: 0.3354\n",
            "Epoch 396/600\n",
            "23/23 [==============================] - 0s 2ms/step - loss: 0.3594 - mae: 0.3594 - mse: 0.3019 - val_loss: 0.4150 - val_mae: 0.4150 - val_mse: 0.3224\n",
            "Epoch 397/600\n",
            "23/23 [==============================] - 0s 4ms/step - loss: 0.3534 - mae: 0.3534 - mse: 0.3067 - val_loss: 0.4167 - val_mae: 0.4167 - val_mse: 0.3266\n",
            "Epoch 398/600\n",
            "23/23 [==============================] - 0s 3ms/step - loss: 0.3585 - mae: 0.3585 - mse: 0.3034 - val_loss: 0.4597 - val_mae: 0.4597 - val_mse: 0.4423\n",
            "Epoch 399/600\n",
            "23/23 [==============================] - 0s 3ms/step - loss: 0.3567 - mae: 0.3567 - mse: 0.3016 - val_loss: 0.4204 - val_mae: 0.4204 - val_mse: 0.3396\n",
            "Epoch 400/600\n",
            "23/23 [==============================] - 0s 3ms/step - loss: 0.3531 - mae: 0.3531 - mse: 0.2993 - val_loss: 0.4199 - val_mae: 0.4199 - val_mse: 0.3376\n",
            "Epoch 401/600\n",
            "23/23 [==============================] - 0s 3ms/step - loss: 0.3550 - mae: 0.3550 - mse: 0.3007 - val_loss: 0.4196 - val_mae: 0.4196 - val_mse: 0.3365\n",
            "Epoch 402/600\n",
            "23/23 [==============================] - 0s 3ms/step - loss: 0.3550 - mae: 0.3550 - mse: 0.3003 - val_loss: 0.4435 - val_mae: 0.4435 - val_mse: 0.3997\n",
            "Epoch 403/600\n",
            "23/23 [==============================] - 0s 2ms/step - loss: 0.3569 - mae: 0.3569 - mse: 0.3033 - val_loss: 0.4612 - val_mae: 0.4612 - val_mse: 0.4459\n",
            "Epoch 404/600\n",
            "23/23 [==============================] - 0s 3ms/step - loss: 0.3587 - mae: 0.3587 - mse: 0.3110 - val_loss: 0.4649 - val_mae: 0.4649 - val_mse: 0.4531\n",
            "Epoch 405/600\n",
            "23/23 [==============================] - 0s 3ms/step - loss: 0.3532 - mae: 0.3532 - mse: 0.3019 - val_loss: 0.4206 - val_mae: 0.4206 - val_mse: 0.3398\n",
            "Epoch 406/600\n",
            "23/23 [==============================] - 0s 3ms/step - loss: 0.3543 - mae: 0.3543 - mse: 0.2970 - val_loss: 0.4369 - val_mae: 0.4369 - val_mse: 0.3831\n",
            "Epoch 407/600\n",
            "23/23 [==============================] - 0s 3ms/step - loss: 0.3562 - mae: 0.3562 - mse: 0.3107 - val_loss: 0.4117 - val_mae: 0.4117 - val_mse: 0.3145\n",
            "Epoch 408/600\n",
            "23/23 [==============================] - 0s 3ms/step - loss: 0.3546 - mae: 0.3546 - mse: 0.2921 - val_loss: 0.4336 - val_mae: 0.4336 - val_mse: 0.3753\n",
            "Epoch 409/600\n",
            "23/23 [==============================] - 0s 3ms/step - loss: 0.3501 - mae: 0.3501 - mse: 0.2927 - val_loss: 0.4136 - val_mae: 0.4136 - val_mse: 0.3190\n",
            "Epoch 410/600\n",
            "23/23 [==============================] - 0s 2ms/step - loss: 0.3548 - mae: 0.3548 - mse: 0.2953 - val_loss: 0.4328 - val_mae: 0.4328 - val_mse: 0.3732\n",
            "Epoch 411/600\n",
            "23/23 [==============================] - 0s 3ms/step - loss: 0.3556 - mae: 0.3556 - mse: 0.3023 - val_loss: 0.4171 - val_mae: 0.4171 - val_mse: 0.3281\n",
            "Epoch 412/600\n",
            "23/23 [==============================] - 0s 3ms/step - loss: 0.3580 - mae: 0.3580 - mse: 0.3054 - val_loss: 0.4294 - val_mae: 0.4294 - val_mse: 0.3653\n",
            "Epoch 413/600\n",
            "23/23 [==============================] - 0s 4ms/step - loss: 0.3579 - mae: 0.3579 - mse: 0.3010 - val_loss: 0.4261 - val_mae: 0.4261 - val_mse: 0.3559\n",
            "Epoch 414/600\n",
            "23/23 [==============================] - 0s 3ms/step - loss: 0.3544 - mae: 0.3544 - mse: 0.2967 - val_loss: 0.4111 - val_mae: 0.4111 - val_mse: 0.3139\n",
            "Epoch 415/600\n",
            "23/23 [==============================] - 0s 3ms/step - loss: 0.3549 - mae: 0.3549 - mse: 0.2959 - val_loss: 0.4107 - val_mae: 0.4107 - val_mse: 0.3116\n",
            "Epoch 416/600\n",
            "23/23 [==============================] - 0s 3ms/step - loss: 0.3610 - mae: 0.3610 - mse: 0.3150 - val_loss: 0.4383 - val_mae: 0.4383 - val_mse: 0.3864\n",
            "Epoch 417/600\n",
            "23/23 [==============================] - 0s 2ms/step - loss: 0.3517 - mae: 0.3517 - mse: 0.3000 - val_loss: 0.4158 - val_mae: 0.4158 - val_mse: 0.3243\n",
            "Epoch 418/600\n",
            "23/23 [==============================] - 0s 3ms/step - loss: 0.3534 - mae: 0.3534 - mse: 0.2966 - val_loss: 0.4321 - val_mae: 0.4321 - val_mse: 0.3716\n",
            "Epoch 419/600\n",
            "23/23 [==============================] - 0s 3ms/step - loss: 0.3538 - mae: 0.3538 - mse: 0.3013 - val_loss: 0.4329 - val_mae: 0.4329 - val_mse: 0.3734\n",
            "Epoch 420/600\n",
            "23/23 [==============================] - 0s 3ms/step - loss: 0.3539 - mae: 0.3539 - mse: 0.2965 - val_loss: 0.4574 - val_mae: 0.4574 - val_mse: 0.4366\n",
            "Epoch 421/600\n",
            "23/23 [==============================] - 0s 3ms/step - loss: 0.3586 - mae: 0.3586 - mse: 0.3114 - val_loss: 0.4270 - val_mae: 0.4270 - val_mse: 0.3587\n",
            "Epoch 422/600\n",
            "23/23 [==============================] - 0s 3ms/step - loss: 0.3562 - mae: 0.3562 - mse: 0.3076 - val_loss: 0.4106 - val_mae: 0.4106 - val_mse: 0.3118\n",
            "Epoch 423/600\n",
            "23/23 [==============================] - 0s 3ms/step - loss: 0.3591 - mae: 0.3591 - mse: 0.3117 - val_loss: 0.4233 - val_mae: 0.4233 - val_mse: 0.3477\n",
            "Epoch 424/600\n",
            "23/23 [==============================] - 0s 3ms/step - loss: 0.3575 - mae: 0.3575 - mse: 0.3061 - val_loss: 0.4105 - val_mae: 0.4105 - val_mse: 0.3124\n",
            "Epoch 425/600\n",
            "23/23 [==============================] - 0s 2ms/step - loss: 0.3601 - mae: 0.3601 - mse: 0.3060 - val_loss: 0.4291 - val_mae: 0.4291 - val_mse: 0.3647\n",
            "Epoch 426/600\n",
            "23/23 [==============================] - 0s 2ms/step - loss: 0.3564 - mae: 0.3564 - mse: 0.3025 - val_loss: 0.4321 - val_mae: 0.4321 - val_mse: 0.3716\n",
            "Epoch 427/600\n",
            "23/23 [==============================] - 0s 3ms/step - loss: 0.3571 - mae: 0.3571 - mse: 0.3038 - val_loss: 0.4167 - val_mae: 0.4167 - val_mse: 0.3271\n",
            "Epoch 428/600\n",
            "23/23 [==============================] - 0s 3ms/step - loss: 0.3525 - mae: 0.3525 - mse: 0.2959 - val_loss: 0.4196 - val_mae: 0.4196 - val_mse: 0.3362\n",
            "Epoch 429/600\n",
            "23/23 [==============================] - 0s 3ms/step - loss: 0.3557 - mae: 0.3557 - mse: 0.2997 - val_loss: 0.4176 - val_mae: 0.4176 - val_mse: 0.3295\n",
            "Epoch 430/600\n",
            "23/23 [==============================] - 0s 3ms/step - loss: 0.3549 - mae: 0.3549 - mse: 0.2944 - val_loss: 0.4374 - val_mae: 0.4374 - val_mse: 0.3840\n",
            "Epoch 431/600\n",
            "23/23 [==============================] - 0s 3ms/step - loss: 0.3568 - mae: 0.3568 - mse: 0.3053 - val_loss: 0.4405 - val_mae: 0.4405 - val_mse: 0.3921\n",
            "Epoch 432/600\n",
            "23/23 [==============================] - 0s 3ms/step - loss: 0.3558 - mae: 0.3558 - mse: 0.3073 - val_loss: 0.4181 - val_mae: 0.4181 - val_mse: 0.3309\n",
            "Epoch 433/600\n",
            "23/23 [==============================] - 0s 3ms/step - loss: 0.3560 - mae: 0.3560 - mse: 0.3015 - val_loss: 0.4283 - val_mae: 0.4283 - val_mse: 0.3623\n",
            "Epoch 434/600\n",
            "23/23 [==============================] - 0s 3ms/step - loss: 0.3566 - mae: 0.3566 - mse: 0.3040 - val_loss: 0.4170 - val_mae: 0.4170 - val_mse: 0.3274\n",
            "Epoch 435/600\n",
            "23/23 [==============================] - 0s 3ms/step - loss: 0.3570 - mae: 0.3570 - mse: 0.3026 - val_loss: 0.4166 - val_mae: 0.4166 - val_mse: 0.3264\n",
            "Epoch 436/600\n",
            "23/23 [==============================] - 0s 3ms/step - loss: 0.3552 - mae: 0.3552 - mse: 0.2994 - val_loss: 0.4152 - val_mae: 0.4152 - val_mse: 0.3226\n",
            "Epoch 437/600\n",
            "23/23 [==============================] - 0s 3ms/step - loss: 0.3542 - mae: 0.3542 - mse: 0.3063 - val_loss: 0.6652 - val_mae: 0.6652 - val_mse: 0.7881\n",
            "Epoch 438/600\n",
            "23/23 [==============================] - 0s 4ms/step - loss: 0.3748 - mae: 0.3748 - mse: 0.3583 - val_loss: 0.4206 - val_mae: 0.4206 - val_mse: 0.3398\n",
            "Epoch 439/600\n",
            "23/23 [==============================] - 0s 2ms/step - loss: 0.3553 - mae: 0.3553 - mse: 0.3080 - val_loss: 0.4422 - val_mae: 0.4422 - val_mse: 0.3967\n",
            "Epoch 440/600\n",
            "23/23 [==============================] - 0s 3ms/step - loss: 0.3555 - mae: 0.3555 - mse: 0.3007 - val_loss: 0.4140 - val_mae: 0.4140 - val_mse: 0.3194\n",
            "Epoch 441/600\n",
            "23/23 [==============================] - 0s 3ms/step - loss: 0.3548 - mae: 0.3548 - mse: 0.3000 - val_loss: 0.5434 - val_mae: 0.5434 - val_mse: 0.5661\n",
            "Epoch 442/600\n",
            "23/23 [==============================] - 0s 3ms/step - loss: 0.3616 - mae: 0.3616 - mse: 0.3170 - val_loss: 0.4555 - val_mae: 0.4555 - val_mse: 0.4328\n",
            "Epoch 443/600\n",
            "23/23 [==============================] - 0s 3ms/step - loss: 0.3593 - mae: 0.3593 - mse: 0.3104 - val_loss: 0.4386 - val_mae: 0.4386 - val_mse: 0.3879\n",
            "Epoch 444/600\n",
            "23/23 [==============================] - 0s 3ms/step - loss: 0.3522 - mae: 0.3522 - mse: 0.3032 - val_loss: 0.4381 - val_mae: 0.4381 - val_mse: 0.3866\n",
            "Epoch 445/600\n",
            "23/23 [==============================] - 0s 3ms/step - loss: 0.3562 - mae: 0.3562 - mse: 0.3077 - val_loss: 0.4479 - val_mae: 0.4479 - val_mse: 0.4126\n",
            "Epoch 446/600\n",
            "23/23 [==============================] - 0s 3ms/step - loss: 0.3536 - mae: 0.3536 - mse: 0.3003 - val_loss: 0.4255 - val_mae: 0.4255 - val_mse: 0.3524\n",
            "Epoch 447/600\n",
            "23/23 [==============================] - 0s 3ms/step - loss: 0.3552 - mae: 0.3552 - mse: 0.3039 - val_loss: 0.4297 - val_mae: 0.4297 - val_mse: 0.3657\n",
            "Epoch 448/600\n",
            "23/23 [==============================] - 0s 3ms/step - loss: 0.3559 - mae: 0.3559 - mse: 0.3050 - val_loss: 0.4349 - val_mae: 0.4349 - val_mse: 0.3788\n",
            "Epoch 449/600\n",
            "23/23 [==============================] - 0s 3ms/step - loss: 0.3571 - mae: 0.3571 - mse: 0.3054 - val_loss: 0.4172 - val_mae: 0.4172 - val_mse: 0.3268\n",
            "Epoch 450/600\n",
            "23/23 [==============================] - 0s 3ms/step - loss: 0.3575 - mae: 0.3575 - mse: 0.3006 - val_loss: 0.4441 - val_mae: 0.4441 - val_mse: 0.4023\n",
            "Epoch 451/600\n",
            "23/23 [==============================] - 0s 3ms/step - loss: 0.3536 - mae: 0.3536 - mse: 0.2959 - val_loss: 0.4126 - val_mae: 0.4126 - val_mse: 0.3163\n",
            "Epoch 452/600\n",
            "23/23 [==============================] - 0s 3ms/step - loss: 0.3575 - mae: 0.3575 - mse: 0.2973 - val_loss: 0.4574 - val_mae: 0.4574 - val_mse: 0.4376\n",
            "Epoch 453/600\n",
            "23/23 [==============================] - 0s 3ms/step - loss: 0.3561 - mae: 0.3561 - mse: 0.3029 - val_loss: 0.4177 - val_mae: 0.4177 - val_mse: 0.3288\n",
            "Epoch 454/600\n",
            "23/23 [==============================] - 0s 3ms/step - loss: 0.3548 - mae: 0.3548 - mse: 0.3020 - val_loss: 0.4320 - val_mae: 0.4320 - val_mse: 0.3717\n",
            "Epoch 455/600\n",
            "23/23 [==============================] - 0s 3ms/step - loss: 0.3547 - mae: 0.3547 - mse: 0.3013 - val_loss: 0.4184 - val_mae: 0.4184 - val_mse: 0.3308\n",
            "Epoch 456/600\n",
            "23/23 [==============================] - 0s 3ms/step - loss: 0.3542 - mae: 0.3542 - mse: 0.2992 - val_loss: 0.4208 - val_mae: 0.4208 - val_mse: 0.3398\n",
            "Epoch 457/600\n",
            "23/23 [==============================] - 0s 3ms/step - loss: 0.3559 - mae: 0.3559 - mse: 0.3030 - val_loss: 0.4284 - val_mae: 0.4284 - val_mse: 0.3622\n",
            "Epoch 458/600\n",
            "23/23 [==============================] - 0s 3ms/step - loss: 0.3594 - mae: 0.3594 - mse: 0.3030 - val_loss: 0.4260 - val_mae: 0.4260 - val_mse: 0.3546\n",
            "Epoch 459/600\n",
            "23/23 [==============================] - 0s 3ms/step - loss: 0.3629 - mae: 0.3629 - mse: 0.3088 - val_loss: 0.4203 - val_mae: 0.4203 - val_mse: 0.3376\n",
            "Epoch 460/600\n",
            "23/23 [==============================] - 0s 3ms/step - loss: 0.3553 - mae: 0.3553 - mse: 0.2948 - val_loss: 0.4511 - val_mae: 0.4511 - val_mse: 0.4205\n",
            "Epoch 461/600\n",
            "23/23 [==============================] - 0s 4ms/step - loss: 0.3544 - mae: 0.3544 - mse: 0.3019 - val_loss: 0.4249 - val_mae: 0.4249 - val_mse: 0.3513\n",
            "Epoch 462/600\n",
            "23/23 [==============================] - 0s 3ms/step - loss: 0.3600 - mae: 0.3600 - mse: 0.3102 - val_loss: 0.4281 - val_mae: 0.4281 - val_mse: 0.3611\n",
            "Epoch 463/600\n",
            "23/23 [==============================] - 0s 3ms/step - loss: 0.3566 - mae: 0.3566 - mse: 0.3008 - val_loss: 0.4203 - val_mae: 0.4203 - val_mse: 0.3380\n",
            "Epoch 464/600\n",
            "23/23 [==============================] - 0s 3ms/step - loss: 0.3516 - mae: 0.3516 - mse: 0.2992 - val_loss: 0.4170 - val_mae: 0.4170 - val_mse: 0.3268\n",
            "Epoch 465/600\n",
            "23/23 [==============================] - 0s 3ms/step - loss: 0.3547 - mae: 0.3547 - mse: 0.3002 - val_loss: 0.4203 - val_mae: 0.4203 - val_mse: 0.3381\n",
            "Epoch 466/600\n",
            "23/23 [==============================] - 0s 3ms/step - loss: 0.3550 - mae: 0.3550 - mse: 0.2949 - val_loss: 0.4499 - val_mae: 0.4499 - val_mse: 0.4173\n",
            "Epoch 467/600\n",
            "23/23 [==============================] - 0s 3ms/step - loss: 0.3550 - mae: 0.3550 - mse: 0.3071 - val_loss: 0.4233 - val_mae: 0.4233 - val_mse: 0.3464\n",
            "Epoch 468/600\n",
            "23/23 [==============================] - 0s 3ms/step - loss: 0.3552 - mae: 0.3552 - mse: 0.3018 - val_loss: 0.4189 - val_mae: 0.4189 - val_mse: 0.3324\n",
            "Epoch 469/600\n",
            "23/23 [==============================] - 0s 3ms/step - loss: 0.3564 - mae: 0.3564 - mse: 0.3014 - val_loss: 0.4272 - val_mae: 0.4272 - val_mse: 0.3585\n",
            "Epoch 470/600\n",
            "23/23 [==============================] - 0s 3ms/step - loss: 0.3568 - mae: 0.3568 - mse: 0.3041 - val_loss: 0.4443 - val_mae: 0.4443 - val_mse: 0.4025\n",
            "Epoch 471/600\n",
            "23/23 [==============================] - 0s 3ms/step - loss: 0.3569 - mae: 0.3569 - mse: 0.3062 - val_loss: 0.4333 - val_mae: 0.4333 - val_mse: 0.3749\n",
            "Epoch 472/600\n",
            "23/23 [==============================] - 0s 3ms/step - loss: 0.3510 - mae: 0.3510 - mse: 0.2963 - val_loss: 0.4250 - val_mae: 0.4250 - val_mse: 0.3517\n",
            "Epoch 473/600\n",
            "23/23 [==============================] - 0s 3ms/step - loss: 0.3560 - mae: 0.3560 - mse: 0.3003 - val_loss: 0.4624 - val_mae: 0.4624 - val_mse: 0.4489\n",
            "Epoch 474/600\n",
            "23/23 [==============================] - 0s 3ms/step - loss: 0.3565 - mae: 0.3565 - mse: 0.3051 - val_loss: 0.4127 - val_mae: 0.4127 - val_mse: 0.3167\n",
            "Epoch 475/600\n",
            "23/23 [==============================] - 0s 4ms/step - loss: 0.3560 - mae: 0.3560 - mse: 0.3078 - val_loss: 0.4120 - val_mae: 0.4120 - val_mse: 0.3148\n",
            "Epoch 476/600\n",
            "23/23 [==============================] - 0s 3ms/step - loss: 0.3580 - mae: 0.3580 - mse: 0.2997 - val_loss: 0.4252 - val_mae: 0.4252 - val_mse: 0.3520\n",
            "Epoch 477/600\n",
            "23/23 [==============================] - 0s 2ms/step - loss: 0.3558 - mae: 0.3558 - mse: 0.2967 - val_loss: 0.4184 - val_mae: 0.4184 - val_mse: 0.3310\n",
            "Epoch 478/600\n",
            "23/23 [==============================] - 0s 3ms/step - loss: 0.3534 - mae: 0.3534 - mse: 0.2941 - val_loss: 0.4275 - val_mae: 0.4275 - val_mse: 0.3595\n",
            "Epoch 479/600\n",
            "23/23 [==============================] - 0s 2ms/step - loss: 0.3575 - mae: 0.3575 - mse: 0.3064 - val_loss: 0.4269 - val_mae: 0.4269 - val_mse: 0.3575\n",
            "Epoch 480/600\n",
            "23/23 [==============================] - 0s 3ms/step - loss: 0.3539 - mae: 0.3539 - mse: 0.2973 - val_loss: 0.4113 - val_mae: 0.4113 - val_mse: 0.3135\n",
            "Epoch 481/600\n",
            "23/23 [==============================] - 0s 3ms/step - loss: 0.3529 - mae: 0.3529 - mse: 0.2940 - val_loss: 0.4214 - val_mae: 0.4214 - val_mse: 0.3419\n",
            "Epoch 482/600\n",
            "23/23 [==============================] - 0s 3ms/step - loss: 0.3514 - mae: 0.3514 - mse: 0.2957 - val_loss: 0.4392 - val_mae: 0.4392 - val_mse: 0.3891\n",
            "Epoch 483/600\n",
            "23/23 [==============================] - 0s 3ms/step - loss: 0.3558 - mae: 0.3558 - mse: 0.3029 - val_loss: 0.4461 - val_mae: 0.4461 - val_mse: 0.4071\n",
            "Epoch 484/600\n",
            "23/23 [==============================] - 0s 3ms/step - loss: 0.3547 - mae: 0.3547 - mse: 0.3043 - val_loss: 0.4293 - val_mae: 0.4293 - val_mse: 0.3650\n",
            "Epoch 485/600\n",
            "23/23 [==============================] - 0s 3ms/step - loss: 0.3540 - mae: 0.3540 - mse: 0.2999 - val_loss: 0.4309 - val_mae: 0.4309 - val_mse: 0.3690\n",
            "Epoch 486/600\n",
            "23/23 [==============================] - 0s 3ms/step - loss: 0.3555 - mae: 0.3555 - mse: 0.3052 - val_loss: 0.4118 - val_mae: 0.4118 - val_mse: 0.3146\n",
            "Epoch 487/600\n",
            "23/23 [==============================] - 0s 3ms/step - loss: 0.3532 - mae: 0.3532 - mse: 0.2979 - val_loss: 0.4318 - val_mae: 0.4318 - val_mse: 0.3712\n",
            "Epoch 488/600\n",
            "23/23 [==============================] - 0s 3ms/step - loss: 0.3532 - mae: 0.3532 - mse: 0.2983 - val_loss: 0.4329 - val_mae: 0.4329 - val_mse: 0.3737\n",
            "Epoch 489/600\n",
            "23/23 [==============================] - 0s 3ms/step - loss: 0.3565 - mae: 0.3565 - mse: 0.3003 - val_loss: 0.4192 - val_mae: 0.4192 - val_mse: 0.3345\n",
            "Epoch 490/600\n",
            "23/23 [==============================] - 0s 3ms/step - loss: 0.3552 - mae: 0.3552 - mse: 0.2980 - val_loss: 0.4396 - val_mae: 0.4396 - val_mse: 0.3901\n",
            "Epoch 491/600\n",
            "23/23 [==============================] - 0s 3ms/step - loss: 0.3544 - mae: 0.3544 - mse: 0.3009 - val_loss: 0.4285 - val_mae: 0.4285 - val_mse: 0.3627\n",
            "Epoch 492/600\n",
            "23/23 [==============================] - 0s 3ms/step - loss: 0.3528 - mae: 0.3528 - mse: 0.2966 - val_loss: 0.4147 - val_mae: 0.4147 - val_mse: 0.3211\n",
            "Epoch 493/600\n",
            "23/23 [==============================] - 0s 3ms/step - loss: 0.3569 - mae: 0.3569 - mse: 0.3068 - val_loss: 0.4425 - val_mae: 0.4425 - val_mse: 0.3976\n",
            "Epoch 494/600\n",
            "23/23 [==============================] - 0s 3ms/step - loss: 0.3559 - mae: 0.3559 - mse: 0.3040 - val_loss: 0.4287 - val_mae: 0.4287 - val_mse: 0.3630\n",
            "Epoch 495/600\n",
            "23/23 [==============================] - 0s 3ms/step - loss: 0.3565 - mae: 0.3565 - mse: 0.3001 - val_loss: 0.4485 - val_mae: 0.4485 - val_mse: 0.4136\n",
            "Epoch 496/600\n",
            "23/23 [==============================] - 0s 3ms/step - loss: 0.3579 - mae: 0.3579 - mse: 0.3095 - val_loss: 0.4109 - val_mae: 0.4109 - val_mse: 0.3126\n",
            "Epoch 497/600\n",
            "23/23 [==============================] - 0s 3ms/step - loss: 0.3597 - mae: 0.3597 - mse: 0.3084 - val_loss: 0.4308 - val_mae: 0.4308 - val_mse: 0.3688\n",
            "Epoch 498/600\n",
            "23/23 [==============================] - 0s 3ms/step - loss: 0.3542 - mae: 0.3542 - mse: 0.2974 - val_loss: 0.4259 - val_mae: 0.4259 - val_mse: 0.3543\n",
            "Epoch 499/600\n",
            "23/23 [==============================] - 0s 3ms/step - loss: 0.3559 - mae: 0.3559 - mse: 0.3006 - val_loss: 0.4113 - val_mae: 0.4113 - val_mse: 0.3134\n",
            "Epoch 500/600\n",
            "23/23 [==============================] - 0s 3ms/step - loss: 0.3622 - mae: 0.3622 - mse: 0.3091 - val_loss: 0.4120 - val_mae: 0.4120 - val_mse: 0.3151\n",
            "Epoch 501/600\n",
            "23/23 [==============================] - 0s 3ms/step - loss: 0.3556 - mae: 0.3556 - mse: 0.2968 - val_loss: 0.4200 - val_mae: 0.4200 - val_mse: 0.3373\n",
            "Epoch 502/600\n",
            "23/23 [==============================] - 0s 3ms/step - loss: 0.3543 - mae: 0.3543 - mse: 0.2934 - val_loss: 0.4602 - val_mae: 0.4602 - val_mse: 0.4441\n",
            "Epoch 503/600\n",
            "23/23 [==============================] - 0s 3ms/step - loss: 0.3623 - mae: 0.3623 - mse: 0.3018 - val_loss: 0.4338 - val_mae: 0.4338 - val_mse: 0.3757\n",
            "Epoch 504/600\n",
            "23/23 [==============================] - 0s 3ms/step - loss: 0.3558 - mae: 0.3558 - mse: 0.3009 - val_loss: 0.4427 - val_mae: 0.4427 - val_mse: 0.3980\n",
            "Epoch 505/600\n",
            "23/23 [==============================] - 0s 3ms/step - loss: 0.3546 - mae: 0.3546 - mse: 0.2983 - val_loss: 0.4514 - val_mae: 0.4514 - val_mse: 0.4208\n",
            "Epoch 506/600\n",
            "23/23 [==============================] - 0s 3ms/step - loss: 0.3531 - mae: 0.3531 - mse: 0.3031 - val_loss: 0.4178 - val_mae: 0.4178 - val_mse: 0.3296\n",
            "Epoch 507/600\n",
            "23/23 [==============================] - 0s 3ms/step - loss: 0.3576 - mae: 0.3576 - mse: 0.2995 - val_loss: 0.4182 - val_mae: 0.4182 - val_mse: 0.3313\n",
            "Epoch 508/600\n",
            "23/23 [==============================] - 0s 3ms/step - loss: 0.3555 - mae: 0.3555 - mse: 0.3072 - val_loss: 0.4136 - val_mae: 0.4136 - val_mse: 0.3189\n",
            "Epoch 509/600\n",
            "23/23 [==============================] - 0s 3ms/step - loss: 0.3578 - mae: 0.3578 - mse: 0.3067 - val_loss: 0.4176 - val_mae: 0.4176 - val_mse: 0.3292\n",
            "Epoch 510/600\n",
            "23/23 [==============================] - 0s 3ms/step - loss: 0.3568 - mae: 0.3568 - mse: 0.3009 - val_loss: 0.4289 - val_mae: 0.4289 - val_mse: 0.3640\n",
            "Epoch 511/600\n",
            "23/23 [==============================] - 0s 3ms/step - loss: 0.3576 - mae: 0.3576 - mse: 0.3047 - val_loss: 0.4264 - val_mae: 0.4264 - val_mse: 0.3566\n",
            "Epoch 512/600\n",
            "23/23 [==============================] - 0s 3ms/step - loss: 0.3558 - mae: 0.3558 - mse: 0.2936 - val_loss: 0.5839 - val_mae: 0.5839 - val_mse: 0.6319\n",
            "Epoch 513/600\n",
            "23/23 [==============================] - 0s 3ms/step - loss: 0.3642 - mae: 0.3642 - mse: 0.3173 - val_loss: 0.4301 - val_mae: 0.4301 - val_mse: 0.3673\n",
            "Epoch 514/600\n",
            "23/23 [==============================] - 0s 3ms/step - loss: 0.3513 - mae: 0.3513 - mse: 0.2939 - val_loss: 0.4136 - val_mae: 0.4136 - val_mse: 0.3188\n",
            "Epoch 515/600\n",
            "23/23 [==============================] - 0s 3ms/step - loss: 0.3551 - mae: 0.3551 - mse: 0.3022 - val_loss: 0.4205 - val_mae: 0.4205 - val_mse: 0.3387\n",
            "Epoch 516/600\n",
            "23/23 [==============================] - 0s 3ms/step - loss: 0.3589 - mae: 0.3589 - mse: 0.3068 - val_loss: 0.4285 - val_mae: 0.4285 - val_mse: 0.3627\n",
            "Epoch 517/600\n",
            "23/23 [==============================] - 0s 4ms/step - loss: 0.3574 - mae: 0.3574 - mse: 0.3046 - val_loss: 0.4282 - val_mae: 0.4282 - val_mse: 0.3616\n",
            "Epoch 518/600\n",
            "23/23 [==============================] - 0s 3ms/step - loss: 0.3540 - mae: 0.3540 - mse: 0.2981 - val_loss: 0.4353 - val_mae: 0.4353 - val_mse: 0.3793\n",
            "Epoch 519/600\n",
            "23/23 [==============================] - 0s 3ms/step - loss: 0.3580 - mae: 0.3580 - mse: 0.3092 - val_loss: 0.4175 - val_mae: 0.4175 - val_mse: 0.3285\n",
            "Epoch 520/600\n",
            "23/23 [==============================] - 0s 2ms/step - loss: 0.3553 - mae: 0.3553 - mse: 0.3055 - val_loss: 0.4529 - val_mae: 0.4529 - val_mse: 0.4252\n",
            "Epoch 521/600\n",
            "23/23 [==============================] - 0s 3ms/step - loss: 0.3564 - mae: 0.3564 - mse: 0.3038 - val_loss: 0.4367 - val_mae: 0.4367 - val_mse: 0.3829\n",
            "Epoch 522/600\n",
            "23/23 [==============================] - 0s 3ms/step - loss: 0.3576 - mae: 0.3576 - mse: 0.3113 - val_loss: 0.4342 - val_mae: 0.4342 - val_mse: 0.3770\n",
            "Epoch 523/600\n",
            "23/23 [==============================] - 0s 3ms/step - loss: 0.3570 - mae: 0.3570 - mse: 0.2992 - val_loss: 0.4152 - val_mae: 0.4152 - val_mse: 0.3219\n",
            "Epoch 524/600\n",
            "23/23 [==============================] - 0s 3ms/step - loss: 0.3579 - mae: 0.3579 - mse: 0.3002 - val_loss: 0.4358 - val_mae: 0.4358 - val_mse: 0.3807\n",
            "Epoch 525/600\n",
            "23/23 [==============================] - 0s 3ms/step - loss: 0.3576 - mae: 0.3576 - mse: 0.3065 - val_loss: 0.4246 - val_mae: 0.4246 - val_mse: 0.3504\n",
            "Epoch 526/600\n",
            "23/23 [==============================] - 0s 2ms/step - loss: 0.3536 - mae: 0.3536 - mse: 0.2944 - val_loss: 0.4214 - val_mae: 0.4214 - val_mse: 0.3415\n",
            "Epoch 527/600\n",
            "23/23 [==============================] - 0s 3ms/step - loss: 0.3566 - mae: 0.3566 - mse: 0.2980 - val_loss: 0.5127 - val_mae: 0.5127 - val_mse: 0.5209\n",
            "Epoch 528/600\n",
            "23/23 [==============================] - 0s 3ms/step - loss: 0.3572 - mae: 0.3572 - mse: 0.3069 - val_loss: 0.4120 - val_mae: 0.4120 - val_mse: 0.3149\n",
            "Epoch 529/600\n",
            "23/23 [==============================] - 0s 3ms/step - loss: 0.3579 - mae: 0.3579 - mse: 0.2991 - val_loss: 0.4216 - val_mae: 0.4216 - val_mse: 0.3422\n",
            "Epoch 530/600\n",
            "23/23 [==============================] - 0s 4ms/step - loss: 0.3519 - mae: 0.3519 - mse: 0.2962 - val_loss: 0.4201 - val_mae: 0.4201 - val_mse: 0.3377\n",
            "Epoch 531/600\n",
            "23/23 [==============================] - 0s 3ms/step - loss: 0.3542 - mae: 0.3542 - mse: 0.3001 - val_loss: 0.4415 - val_mae: 0.4415 - val_mse: 0.3951\n",
            "Epoch 532/600\n",
            "23/23 [==============================] - 0s 3ms/step - loss: 0.3568 - mae: 0.3568 - mse: 0.3054 - val_loss: 0.4451 - val_mae: 0.4451 - val_mse: 0.4046\n",
            "Epoch 533/600\n",
            "23/23 [==============================] - 0s 3ms/step - loss: 0.3618 - mae: 0.3618 - mse: 0.3133 - val_loss: 0.4177 - val_mae: 0.4177 - val_mse: 0.3290\n",
            "Epoch 534/600\n",
            "23/23 [==============================] - 0s 3ms/step - loss: 0.3556 - mae: 0.3556 - mse: 0.3025 - val_loss: 0.4191 - val_mae: 0.4191 - val_mse: 0.3336\n",
            "Epoch 535/600\n",
            "23/23 [==============================] - 0s 3ms/step - loss: 0.3555 - mae: 0.3555 - mse: 0.2991 - val_loss: 0.4334 - val_mae: 0.4334 - val_mse: 0.3751\n",
            "Epoch 536/600\n",
            "23/23 [==============================] - 0s 3ms/step - loss: 0.3552 - mae: 0.3552 - mse: 0.3013 - val_loss: 0.4280 - val_mae: 0.4280 - val_mse: 0.3609\n",
            "Epoch 537/600\n",
            "23/23 [==============================] - 0s 3ms/step - loss: 0.3529 - mae: 0.3529 - mse: 0.2982 - val_loss: 0.4698 - val_mae: 0.4698 - val_mse: 0.4627\n",
            "Epoch 538/600\n",
            "23/23 [==============================] - 0s 3ms/step - loss: 0.3582 - mae: 0.3582 - mse: 0.3087 - val_loss: 0.4170 - val_mae: 0.4170 - val_mse: 0.3268\n",
            "Epoch 539/600\n",
            "23/23 [==============================] - 0s 3ms/step - loss: 0.3588 - mae: 0.3588 - mse: 0.3062 - val_loss: 0.4249 - val_mae: 0.4249 - val_mse: 0.3512\n",
            "Epoch 540/600\n",
            "23/23 [==============================] - 0s 3ms/step - loss: 0.3557 - mae: 0.3557 - mse: 0.2974 - val_loss: 0.4366 - val_mae: 0.4366 - val_mse: 0.3826\n",
            "Epoch 541/600\n",
            "23/23 [==============================] - 0s 4ms/step - loss: 0.3546 - mae: 0.3546 - mse: 0.3018 - val_loss: 0.4220 - val_mae: 0.4220 - val_mse: 0.3433\n",
            "Epoch 542/600\n",
            "23/23 [==============================] - 0s 3ms/step - loss: 0.3560 - mae: 0.3560 - mse: 0.3037 - val_loss: 0.4229 - val_mae: 0.4229 - val_mse: 0.3456\n",
            "Epoch 543/600\n",
            "23/23 [==============================] - 0s 3ms/step - loss: 0.3544 - mae: 0.3544 - mse: 0.2998 - val_loss: 0.4591 - val_mae: 0.4591 - val_mse: 0.4420\n",
            "Epoch 544/600\n",
            "23/23 [==============================] - 0s 3ms/step - loss: 0.3544 - mae: 0.3544 - mse: 0.2995 - val_loss: 0.4155 - val_mae: 0.4155 - val_mse: 0.3227\n",
            "Epoch 545/600\n",
            "23/23 [==============================] - 0s 3ms/step - loss: 0.3566 - mae: 0.3566 - mse: 0.2997 - val_loss: 0.4316 - val_mae: 0.4316 - val_mse: 0.3707\n",
            "Epoch 546/600\n",
            "23/23 [==============================] - 0s 4ms/step - loss: 0.3523 - mae: 0.3523 - mse: 0.2970 - val_loss: 0.4181 - val_mae: 0.4181 - val_mse: 0.3302\n",
            "Epoch 547/600\n",
            "23/23 [==============================] - 0s 3ms/step - loss: 0.3571 - mae: 0.3571 - mse: 0.2958 - val_loss: 0.4322 - val_mae: 0.4322 - val_mse: 0.3721\n",
            "Epoch 548/600\n",
            "23/23 [==============================] - 0s 3ms/step - loss: 0.3573 - mae: 0.3573 - mse: 0.3012 - val_loss: 0.4257 - val_mae: 0.4257 - val_mse: 0.3543\n",
            "Epoch 549/600\n",
            "23/23 [==============================] - 0s 3ms/step - loss: 0.3546 - mae: 0.3546 - mse: 0.2956 - val_loss: 0.4436 - val_mae: 0.4436 - val_mse: 0.4002\n",
            "Epoch 550/600\n",
            "23/23 [==============================] - 0s 3ms/step - loss: 0.3552 - mae: 0.3552 - mse: 0.3074 - val_loss: 0.4416 - val_mae: 0.4416 - val_mse: 0.3951\n",
            "Epoch 551/600\n",
            "23/23 [==============================] - 0s 4ms/step - loss: 0.3581 - mae: 0.3581 - mse: 0.3025 - val_loss: 0.4311 - val_mae: 0.4311 - val_mse: 0.3695\n",
            "Epoch 552/600\n",
            "23/23 [==============================] - 0s 3ms/step - loss: 0.3515 - mae: 0.3515 - mse: 0.2881 - val_loss: 0.4359 - val_mae: 0.4359 - val_mse: 0.3806\n",
            "Epoch 553/600\n",
            "23/23 [==============================] - 0s 3ms/step - loss: 0.3530 - mae: 0.3530 - mse: 0.2937 - val_loss: 0.4436 - val_mae: 0.4436 - val_mse: 0.4003\n",
            "Epoch 554/600\n",
            "23/23 [==============================] - 0s 4ms/step - loss: 0.3529 - mae: 0.3529 - mse: 0.3020 - val_loss: 0.4208 - val_mae: 0.4208 - val_mse: 0.3402\n",
            "Epoch 555/600\n",
            "23/23 [==============================] - 0s 3ms/step - loss: 0.3521 - mae: 0.3521 - mse: 0.2974 - val_loss: 0.4217 - val_mae: 0.4217 - val_mse: 0.3426\n",
            "Epoch 556/600\n",
            "23/23 [==============================] - 0s 3ms/step - loss: 0.3564 - mae: 0.3564 - mse: 0.3048 - val_loss: 0.4307 - val_mae: 0.4307 - val_mse: 0.3687\n",
            "Epoch 557/600\n",
            "23/23 [==============================] - 0s 3ms/step - loss: 0.3544 - mae: 0.3544 - mse: 0.3041 - val_loss: 0.4371 - val_mae: 0.4371 - val_mse: 0.3838\n",
            "Epoch 558/600\n",
            "23/23 [==============================] - 0s 2ms/step - loss: 0.3508 - mae: 0.3508 - mse: 0.2991 - val_loss: 0.5270 - val_mae: 0.5270 - val_mse: 0.5412\n",
            "Epoch 559/600\n",
            "23/23 [==============================] - 0s 3ms/step - loss: 0.3572 - mae: 0.3572 - mse: 0.3086 - val_loss: 0.4300 - val_mae: 0.4300 - val_mse: 0.3669\n",
            "Epoch 560/600\n",
            "23/23 [==============================] - 0s 3ms/step - loss: 0.3580 - mae: 0.3580 - mse: 0.3074 - val_loss: 0.4436 - val_mae: 0.4436 - val_mse: 0.4006\n",
            "Epoch 561/600\n",
            "23/23 [==============================] - 0s 3ms/step - loss: 0.3532 - mae: 0.3532 - mse: 0.3014 - val_loss: 0.4226 - val_mae: 0.4226 - val_mse: 0.3448\n",
            "Epoch 562/600\n",
            "23/23 [==============================] - 0s 3ms/step - loss: 0.3539 - mae: 0.3539 - mse: 0.2943 - val_loss: 0.4301 - val_mae: 0.4301 - val_mse: 0.3671\n",
            "Epoch 563/600\n",
            "23/23 [==============================] - 0s 3ms/step - loss: 0.3557 - mae: 0.3557 - mse: 0.2994 - val_loss: 0.4242 - val_mae: 0.4242 - val_mse: 0.3494\n",
            "Epoch 564/600\n",
            "23/23 [==============================] - 0s 3ms/step - loss: 0.3584 - mae: 0.3584 - mse: 0.3050 - val_loss: 0.4295 - val_mae: 0.4295 - val_mse: 0.3652\n",
            "Epoch 565/600\n",
            "23/23 [==============================] - 0s 3ms/step - loss: 0.3540 - mae: 0.3540 - mse: 0.2996 - val_loss: 0.4474 - val_mae: 0.4474 - val_mse: 0.4106\n",
            "Epoch 566/600\n",
            "23/23 [==============================] - 0s 3ms/step - loss: 0.3572 - mae: 0.3572 - mse: 0.3112 - val_loss: 0.4339 - val_mae: 0.4339 - val_mse: 0.3763\n",
            "Epoch 567/600\n",
            "23/23 [==============================] - 0s 3ms/step - loss: 0.3505 - mae: 0.3505 - mse: 0.2911 - val_loss: 0.4241 - val_mae: 0.4241 - val_mse: 0.3492\n",
            "Epoch 568/600\n",
            "23/23 [==============================] - 0s 3ms/step - loss: 0.3510 - mae: 0.3510 - mse: 0.2967 - val_loss: 0.4485 - val_mae: 0.4485 - val_mse: 0.4137\n",
            "Epoch 569/600\n",
            "23/23 [==============================] - 0s 3ms/step - loss: 0.3571 - mae: 0.3571 - mse: 0.3089 - val_loss: 0.4114 - val_mae: 0.4114 - val_mse: 0.3132\n",
            "Epoch 570/600\n",
            "23/23 [==============================] - 0s 3ms/step - loss: 0.3570 - mae: 0.3570 - mse: 0.3091 - val_loss: 0.4653 - val_mae: 0.4653 - val_mse: 0.4546\n",
            "Epoch 571/600\n",
            "23/23 [==============================] - 0s 3ms/step - loss: 0.3550 - mae: 0.3550 - mse: 0.3037 - val_loss: 0.4370 - val_mae: 0.4370 - val_mse: 0.3840\n",
            "Epoch 572/600\n",
            "23/23 [==============================] - 0s 3ms/step - loss: 0.3575 - mae: 0.3575 - mse: 0.3068 - val_loss: 0.4284 - val_mae: 0.4284 - val_mse: 0.3616\n",
            "Epoch 573/600\n",
            "23/23 [==============================] - 0s 3ms/step - loss: 0.3591 - mae: 0.3591 - mse: 0.3084 - val_loss: 0.4277 - val_mae: 0.4277 - val_mse: 0.3596\n",
            "Epoch 574/600\n",
            "23/23 [==============================] - 0s 3ms/step - loss: 0.3591 - mae: 0.3591 - mse: 0.3098 - val_loss: 0.4135 - val_mae: 0.4135 - val_mse: 0.3179\n",
            "Epoch 575/600\n",
            "23/23 [==============================] - 0s 3ms/step - loss: 0.3557 - mae: 0.3557 - mse: 0.2987 - val_loss: 0.4562 - val_mae: 0.4562 - val_mse: 0.4345\n",
            "Epoch 576/600\n",
            "23/23 [==============================] - 0s 4ms/step - loss: 0.3550 - mae: 0.3550 - mse: 0.3065 - val_loss: 0.4534 - val_mae: 0.4534 - val_mse: 0.4269\n",
            "Epoch 577/600\n",
            "23/23 [==============================] - 0s 3ms/step - loss: 0.3540 - mae: 0.3540 - mse: 0.3061 - val_loss: 0.4296 - val_mae: 0.4296 - val_mse: 0.3652\n",
            "Epoch 578/600\n",
            "23/23 [==============================] - 0s 3ms/step - loss: 0.3563 - mae: 0.3563 - mse: 0.2996 - val_loss: 0.4596 - val_mae: 0.4596 - val_mse: 0.4437\n",
            "Epoch 579/600\n",
            "23/23 [==============================] - 0s 3ms/step - loss: 0.3551 - mae: 0.3551 - mse: 0.3039 - val_loss: 0.4885 - val_mae: 0.4885 - val_mse: 0.4886\n",
            "Epoch 580/600\n",
            "23/23 [==============================] - 0s 3ms/step - loss: 0.3607 - mae: 0.3607 - mse: 0.3097 - val_loss: 0.4935 - val_mae: 0.4935 - val_mse: 0.4951\n",
            "Epoch 581/600\n",
            "23/23 [==============================] - 0s 3ms/step - loss: 0.3535 - mae: 0.3535 - mse: 0.2999 - val_loss: 0.4385 - val_mae: 0.4385 - val_mse: 0.3877\n",
            "Epoch 582/600\n",
            "23/23 [==============================] - 0s 3ms/step - loss: 0.3540 - mae: 0.3540 - mse: 0.2997 - val_loss: 0.4378 - val_mae: 0.4378 - val_mse: 0.3858\n",
            "Epoch 583/600\n",
            "23/23 [==============================] - 0s 3ms/step - loss: 0.3564 - mae: 0.3564 - mse: 0.3068 - val_loss: 0.4275 - val_mae: 0.4275 - val_mse: 0.3587\n",
            "Epoch 584/600\n",
            "23/23 [==============================] - 0s 3ms/step - loss: 0.3555 - mae: 0.3555 - mse: 0.3039 - val_loss: 0.4398 - val_mae: 0.4398 - val_mse: 0.3909\n",
            "Epoch 585/600\n",
            "23/23 [==============================] - 0s 3ms/step - loss: 0.3562 - mae: 0.3562 - mse: 0.3141 - val_loss: 0.4478 - val_mae: 0.4478 - val_mse: 0.4124\n",
            "Epoch 586/600\n",
            "23/23 [==============================] - 0s 2ms/step - loss: 0.3557 - mae: 0.3557 - mse: 0.3044 - val_loss: 0.4213 - val_mae: 0.4213 - val_mse: 0.3406\n",
            "Epoch 587/600\n",
            "23/23 [==============================] - 0s 3ms/step - loss: 0.3570 - mae: 0.3570 - mse: 0.3072 - val_loss: 0.4362 - val_mae: 0.4362 - val_mse: 0.3821\n",
            "Epoch 588/600\n",
            "23/23 [==============================] - 0s 3ms/step - loss: 0.3524 - mae: 0.3524 - mse: 0.2997 - val_loss: 0.4241 - val_mae: 0.4241 - val_mse: 0.3481\n",
            "Epoch 589/600\n",
            "23/23 [==============================] - 0s 3ms/step - loss: 0.3553 - mae: 0.3553 - mse: 0.2966 - val_loss: 0.4436 - val_mae: 0.4436 - val_mse: 0.4011\n",
            "Epoch 590/600\n",
            "23/23 [==============================] - 0s 3ms/step - loss: 0.3551 - mae: 0.3551 - mse: 0.3026 - val_loss: 0.4329 - val_mae: 0.4329 - val_mse: 0.3742\n",
            "Epoch 591/600\n",
            "23/23 [==============================] - 0s 4ms/step - loss: 0.3588 - mae: 0.3588 - mse: 0.3090 - val_loss: 0.4248 - val_mae: 0.4248 - val_mse: 0.3502\n",
            "Epoch 592/600\n",
            "23/23 [==============================] - 0s 3ms/step - loss: 0.3583 - mae: 0.3583 - mse: 0.3039 - val_loss: 0.4227 - val_mae: 0.4227 - val_mse: 0.3441\n",
            "Epoch 593/600\n",
            "23/23 [==============================] - 0s 3ms/step - loss: 0.3535 - mae: 0.3535 - mse: 0.3013 - val_loss: 0.4197 - val_mae: 0.4197 - val_mse: 0.3345\n",
            "Epoch 594/600\n",
            "23/23 [==============================] - 0s 3ms/step - loss: 0.3542 - mae: 0.3542 - mse: 0.2980 - val_loss: 0.4444 - val_mae: 0.4444 - val_mse: 0.4033\n",
            "Epoch 595/600\n",
            "23/23 [==============================] - 0s 3ms/step - loss: 0.3541 - mae: 0.3541 - mse: 0.2970 - val_loss: 0.4169 - val_mae: 0.4169 - val_mse: 0.3257\n",
            "Epoch 596/600\n",
            "23/23 [==============================] - 0s 3ms/step - loss: 0.3582 - mae: 0.3582 - mse: 0.3072 - val_loss: 0.4347 - val_mae: 0.4347 - val_mse: 0.3783\n",
            "Epoch 597/600\n",
            "23/23 [==============================] - 0s 3ms/step - loss: 0.3562 - mae: 0.3562 - mse: 0.2981 - val_loss: 0.4360 - val_mae: 0.4360 - val_mse: 0.3815\n",
            "Epoch 598/600\n",
            "23/23 [==============================] - 0s 3ms/step - loss: 0.3575 - mae: 0.3575 - mse: 0.2986 - val_loss: 0.4465 - val_mae: 0.4465 - val_mse: 0.4088\n",
            "Epoch 599/600\n",
            "23/23 [==============================] - 0s 3ms/step - loss: 0.3558 - mae: 0.3558 - mse: 0.3056 - val_loss: 0.4163 - val_mae: 0.4163 - val_mse: 0.3242\n",
            "Epoch 600/600\n",
            "23/23 [==============================] - 0s 3ms/step - loss: 0.3597 - mae: 0.3597 - mse: 0.3074 - val_loss: 0.4133 - val_mae: 0.4133 - val_mse: 0.3174\n"
          ],
          "name": "stdout"
        }
      ]
    },
    {
      "cell_type": "code",
      "metadata": {
        "colab": {
          "base_uri": "https://localhost:8080/"
        },
        "id": "LHpqjmYHqQrM",
        "outputId": "12986b8b-2251-495f-bbec-4a5645884437"
      },
      "source": [
        "print(history)"
      ],
      "execution_count": 348,
      "outputs": [
        {
          "output_type": "stream",
          "text": [
            "<tensorflow.python.keras.callbacks.History object at 0x7f463f3ebd50>\n"
          ],
          "name": "stdout"
        }
      ]
    },
    {
      "cell_type": "code",
      "metadata": {
        "colab": {
          "base_uri": "https://localhost:8080/"
        },
        "id": "h68ztHzQvlaD",
        "outputId": "07faa6d0-0fb6-4ec5-fd3d-50014f9c116b"
      },
      "source": [
        "model.summary()"
      ],
      "execution_count": 349,
      "outputs": [
        {
          "output_type": "stream",
          "text": [
            "Model: \"sequential_3\"\n",
            "_________________________________________________________________\n",
            "Layer (type)                 Output Shape              Param #   \n",
            "=================================================================\n",
            "dense_3 (Dense)              (None, 1)                 2         \n",
            "=================================================================\n",
            "Total params: 2\n",
            "Trainable params: 2\n",
            "Non-trainable params: 0\n",
            "_________________________________________________________________\n"
          ],
          "name": "stdout"
        }
      ]
    },
    {
      "cell_type": "code",
      "metadata": {
        "colab": {
          "base_uri": "https://localhost:8080/",
          "height": 1000
        },
        "id": "7T17dFesvmsN",
        "outputId": "feade924-322c-40e2-d516-49034e57f096"
      },
      "source": [
        "def curvePlots(tempString):\n",
        "  plt.plot(history.history[tempString])\n",
        "  plt.plot(history.history[f'val_{tempString}'])\n",
        "  plt.xlabel('NumEpochs')\n",
        "  plt.ylabel(tempString)\n",
        "  plt.legend([tempString, f'val_{tempString}'])\n",
        "  plt.show()\n",
        "\n",
        "\n",
        "curvePlots('mse')\n",
        "curvePlots('mae')\n",
        "curvePlots('loss')"
      ],
      "execution_count": 350,
      "outputs": [
        {
          "output_type": "display_data",
          "data": {
            "image/png": "[encoded data removed]",
            "text/plain": [
              "<Figure size 576x396 with 1 Axes>"
            ]
          },
          "metadata": {
            "tags": []
          }
        },
        {
          "output_type": "display_data",
          "data": {
            "image/png": "[encoded data removed]",
            "text/plain": [
              "<Figure size 576x396 with 1 Axes>"
            ]
          },
          "metadata": {
            "tags": []
          }
        },
        {
          "output_type": "display_data",
          "data": {
            "image/png": "[encoded data removed]",
            "text/plain": [
              "<Figure size 576x396 with 1 Axes>"
            ]
          },
          "metadata": {
            "tags": []
          }
        }
      ]
    },
    {
      "cell_type": "code",
      "metadata": {
        "colab": {
          "base_uri": "https://localhost:8080/"
        },
        "id": "IItRJdO0vnAI",
        "outputId": "901d034a-3498-462c-8486-6006298df5dd"
      },
      "source": [
        "model.predict([1])"
      ],
      "execution_count": 351,
      "outputs": [
        {
          "output_type": "execute_result",
          "data": {
            "text/plain": [
              "array([[-0.02015884]], dtype=float32)"
            ]
          },
          "metadata": {
            "tags": []
          },
          "execution_count": 351
        }
      ]
    },
    {
      "cell_type": "code",
      "metadata": {
        "colab": {
          "base_uri": "https://localhost:8080/"
        },
        "id": "zjFQ0VSNJr1N",
        "outputId": "9a9c2774-feb7-4360-8915-1d4a8843404b"
      },
      "source": [
        "\n",
        "print(f'Prediction for input value 1: {model.predict([1])}')\n",
        "tempListforPreds = [1,2,3,4,5]\n",
        "print(f'''\n",
        "\n",
        "input List = {tempListforPreds}\n",
        "\n",
        "\n",
        "List of Predictions:\n",
        "{model.predict(tempListforPreds)}\n",
        "\n",
        "List of Predictions (flattened out):\n",
        "{model.predict(tempListforPreds).flatten()}\n",
        "''')"
      ],
      "execution_count": 352,
      "outputs": [
        {
          "output_type": "stream",
          "text": [
            "Prediction for input value 1: [[-0.02015884]]\n",
            "\n",
            "\n",
            "input List = [1, 2, 3, 4, 5]\n",
            "\n",
            "\n",
            "List of Predictions:\n",
            "[[-0.02015884]\n",
            " [-0.01349745]\n",
            " [-0.00683606]\n",
            " [-0.00017466]\n",
            " [ 0.00648673]]\n",
            "\n",
            "List of Predictions (flattened out):\n",
            "[-0.02015884 -0.01349745 -0.00683606 -0.00017466  0.00648673]\n",
            "\n"
          ],
          "name": "stdout"
        }
      ]
    },
    {
      "cell_type": "code",
      "metadata": {
        "colab": {
          "base_uri": "https://localhost:8080/"
        },
        "id": "t6Z1g8RwJ1eI",
        "outputId": "55e16aa9-e0f8-4b87-b07c-61e375bd3e8f"
      },
      "source": [
        "print(testFeatures)"
      ],
      "execution_count": 353,
      "outputs": [
        {
          "output_type": "stream",
          "text": [
            "        Fare\n",
            "9    30.0708\n",
            "11   26.5500\n",
            "19    7.2250\n",
            "23   35.5000\n",
            "28    7.8792\n",
            "..       ...\n",
            "858  19.2583\n",
            "865  13.0000\n",
            "867  50.4958\n",
            "871  52.5542\n",
            "874  24.0000\n",
            "\n",
            "[178 rows x 1 columns]\n"
          ],
          "name": "stdout"
        }
      ]
    },
    {
      "cell_type": "code",
      "metadata": {
        "id": "QXsJ53pHJ1qI"
      },
      "source": [
        "testPreds = model.predict(testFeatures).flatten()"
      ],
      "execution_count": 354,
      "outputs": []
    },
    {
      "cell_type": "code",
      "metadata": {
        "colab": {
          "base_uri": "https://localhost:8080/"
        },
        "id": "DZVzMGLcJ1z_",
        "outputId": "a3e233b8-70ff-4c76-fe5f-93db849bcdab"
      },
      "source": [
        "print(len(testPreds))\n",
        "\n",
        "print(testPreds)"
      ],
      "execution_count": 355,
      "outputs": [
        {
          "output_type": "stream",
          "text": [
            "178\n",
            "[ 0.17349316  0.15003972  0.02130833  0.20965919  0.02566621  0.02480556\n",
            "  0.0213363   0.113069    0.02577679  0.2501551   0.02480556  0.14637595\n",
            "  0.0213363   0.1580334   0.04312438  0.46279207  0.0331323   0.02505536\n",
            "  0.04312438  0.20216511  0.02680397  0.02549967  0.02147486  0.02680397\n",
            "  0.12639178  0.14637595  0.0259713   0.1815148   0.05977786  0.12211716\n",
            "  0.02577679  0.02014258  0.500762    0.01814416  0.20216511  0.14637595\n",
            "  0.41682845  0.34952042  0.17765653  0.16444498  0.43647957  0.18226421\n",
            "  0.23297407  0.11989692  0.02549967  0.02916344  0.43647957  0.02130833\n",
            "  0.17968293  0.04312438  0.02147486  0.02130833  0.32326388  0.500762\n",
            "  0.54939014  0.02480556  0.04312438  0.87668633  0.17102312  0.49249053\n",
            " -0.02682023  0.02480556  0.03646299  0.05977786  0.579894    0.05894519\n",
            "  0.0213363   0.98271376  0.69860536  0.14804131  0.02577679  0.16636014\n",
            "  0.43647957  0.10990484  0.02577679  0.02566621  0.02480556  0.34249863\n",
            "  0.01645084  0.87668633  1.3820642   0.31957212  0.05977786  0.024667\n",
            "  0.02549967  0.04312438  0.02577679  0.01886559  0.06910381  0.15003972\n",
            "  0.08042818  0.02497209  0.02722031  0.10146686  0.1580334   0.02480556\n",
            "  0.02680397  0.1580334   0.57270503  0.02680397  0.02480556  0.14829111\n",
            "  0.19980566  0.6821184   0.14637595  0.6821184   0.71181685  0.14637595\n",
            "  0.02497209  0.15003972  0.08908798  0.02480556  0.06310856  0.13405238\n",
            "  0.02680397  0.71181685  0.02680397  0.14637595  0.02130833  0.35240746\n",
            "  0.15303735  0.02577679  0.17635222  0.1815148   0.02014258  0.08042818\n",
            "  0.32326388  0.02469431 -0.02682023  0.14804131  0.08042818  0.72774893\n",
            "  0.8634747   0.02497209  0.03873919  0.23297407  0.35287908  0.02680397\n",
            "  0.02469431  0.02413942  0.14637595  0.14829111  0.07473801  0.05977786\n",
            "  0.02497209  0.05977786  0.05977786  0.02577679  0.40617022  0.06976995\n",
            "  0.02511065  0.77254677  0.02130833  0.12639178  0.02480556  0.05628063\n",
            "  1.3809817   0.14637595  0.03102263  0.77254677  0.01964298  0.34952042\n",
            "  0.5060911   0.06946486  0.52712977  0.03088408  0.0259713   0.17968293\n",
            "  0.02347328  0.02577679  0.5667378   0.1815148   0.14637595  0.10146686\n",
            "  0.05977786  0.30955207  0.32326388  0.13305317]\n"
          ],
          "name": "stdout"
        }
      ]
    },
    {
      "cell_type": "code",
      "metadata": {
        "colab": {
          "base_uri": "https://localhost:8080/",
          "height": 361
        },
        "id": "Q7_3XxJjJ1-4",
        "outputId": "955566e4-fdad-4644-d3c1-781374701f06"
      },
      "source": [
        "def predPlot(labels, predictions):\n",
        "  plt.scatter(labels, predictions)\n",
        "  plt.ylabel('Predictions')\n",
        "  plt.xlabel('True Value or Labels')\n",
        "  plt.axis('equal')\n",
        "  plt.axis('square')\n",
        "  plt.xlim([0, plt.xlim()[1]])\n",
        "  plt.ylim([0, plt.ylim()[1]])\n",
        "  plt.show()\n",
        "\n",
        "predPlot(testLabels, testPreds)"
      ],
      "execution_count": 356,
      "outputs": [
        {
          "output_type": "display_data",
          "data": {
            "image/png": "[encoded data removed]",
            "text/plain": [
              "<Figure size 576x396 with 1 Axes>"
            ]
          },
          "metadata": {
            "tags": []
          }
        }
      ]
    },
    {
      "cell_type": "code",
      "metadata": {
        "colab": {
          "base_uri": "https://localhost:8080/",
          "height": 361
        },
        "id": "NFFbEW0CKJ8W",
        "outputId": "1065c14c-33d8-41a6-9f0f-2007b8b0d201"
      },
      "source": [
        "def errorPlot(preds, labels, counts):\n",
        "  errors = preds - labels\n",
        "  plt.hist(errors, counts)\n",
        "  plt.xlabel('Error')\n",
        "  plt.ylabel('Counts')\n",
        "  plt.show()\n",
        "\n",
        "errorPlot(testPreds, testLabels, numEpochs)"
      ],
      "execution_count": 357,
      "outputs": [
        {
          "output_type": "display_data",
          "data": {
            "image/png": "[encoded data removed]",
            "text/plain": [
              "<Figure size 576x396 with 1 Axes>"
            ]
          },
          "metadata": {
            "tags": []
          }
        }
      ]
    }
  ]
}